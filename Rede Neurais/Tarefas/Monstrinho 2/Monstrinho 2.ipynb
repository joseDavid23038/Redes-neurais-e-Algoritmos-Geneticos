{
 "cells": [
  {
   "cell_type": "markdown",
   "metadata": {},
   "source": [
    "<h2><b><p align = 'center'>Monstrinho 2</p></h2>\n",
    "\n",
    "<h4>\n",
    "<b>Doscente:</b> Daniel Cassar<br>\n",
    "<b>Disciplina:</b> Redes Neurais e Algoritmos Genéticos<br>\n",
    "<b>Discentes:</b> Diogo Pereira, José David e Mayllon Emmanoel</h4>\n"
   ]
  },
  {
   "cell_type": "markdown",
   "metadata": {},
   "source": [
    "A princípio, crio a classe átomo, a qual tem como atributos o nome, o número, seu simbolo e sua massa atômica. Para além disso, é feito usa do método dunder __repr__ para exibir uma mensagem sobre o objeto."
   ]
  },
  {
   "cell_type": "code",
   "execution_count": 84,
   "metadata": {},
   "outputs": [],
   "source": [
    "class Atomo:\n",
    "    def __init__(self,nome,numero,simbolo,massa_atomica):\n",
    "        self.nome = nome\n",
    "        self.numero = numero\n",
    "        self.simbolo = simbolo\n",
    "        self.massa_atomica = massa_atomica\n",
    "        \n",
    "    def __repr__(self):\n",
    "        return(f'O átomo de {self.nome}, de simbolo {self.simbolo} e de número {self.numero} tem {self.massa_atomica} de massa atômica')"
   ]
  },
  {
   "cell_type": "markdown",
   "metadata": {},
   "source": [
    "<p align = 'justify'>Em seguida, crio a classe Molecula, a qual para ser iniciada precisa receber um dicionario com os elementos e as quantidades. O atributo atomos são pegos com a chave \"Átomos\", enquanto as quantidades são pegas com a chave \"Quantidades\".\n",
    "Essa classe possue 2 métodos: o método peso e o método formula. O primeiro apenas faz um loop for para cada valor em um range da contagem de átomos e definida a massa como sendo ela mesma mais a massa atômica multiplicada. \n",
    "O método fórmula apenas cria uma fórmula química como string e a partir da manipulação dessa e das funções translate de maketrans, os números são transcritos para um subescrito<sup>[3]</sup>.<p>"
   ]
  },
  {
   "cell_type": "code",
   "execution_count": 85,
   "metadata": {},
   "outputs": [],
   "source": [
    "class Molecula:\n",
    "    def __init__(self,dicionario_elementos):\n",
    "        self.atomos = dicionario_elementos[\"Atomos\"]\n",
    "        self.quantidades = dicionario_elementos[\"Quantidades\"]\n",
    "        \n",
    "    def peso(self):\n",
    "        massa = 0\n",
    "        for i in range(len(self.atomos)):\n",
    "            massa = massa + (self.atomos[i].massa_atomica)*self.quantidades[i]\n",
    "        return massa\n",
    "    \n",
    "    def formula(self):\n",
    "        formula_quimica = \"\"\n",
    "        for i in range(len(self.atomos)):\n",
    "            formula_quimica = formula_quimica + (f'{self.atomos[i].simbolo}') \n",
    "            if self.quantidades[i] > 1:\n",
    "                formula_quimica = formula_quimica + f'{self.quantidades[i]}'\n",
    "        return formula_quimica.translate(str.maketrans(\"0123456789\", \"₀₁₂₃₄₅₆₇₈₉\"))"
   ]
  },
  {
   "cell_type": "markdown",
   "metadata": {},
   "source": [
    "Para criar os átomos, eu faço uso da classe e vou preechendo suas propriedades considerando a tabela periódica da referência 1<sup>[1]<sup>"
   ]
  },
  {
   "cell_type": "code",
   "execution_count": 86,
   "metadata": {},
   "outputs": [],
   "source": [
    "Hidrogenio = Atomo(\"Hidrogênio\",1,\"H\",1.008)\n",
    "Oxigenio = Atomo(\"Oxigênio\",8,\"O\",15.999)\n",
    "Carbono = Atomo(\"Carbono\",6,\"C\",12.011)"
   ]
  },
  {
   "cell_type": "code",
   "execution_count": 87,
   "metadata": {},
   "outputs": [
    {
     "name": "stdout",
     "output_type": "stream",
     "text": [
      "O átomo de Carbono, de simbolo C e de número 6 tem 12.011 de massa atômica\n"
     ]
    }
   ],
   "source": [
    "print(Carbono)"
   ]
  },
  {
   "cell_type": "markdown",
   "metadata": {},
   "source": [
    "Crio dois dicionarios que serão aplicados na classe molecula. Essas moléculas são a de etanol <sup>[2]</sup> e a de água, que possue fórmula conhecida."
   ]
  },
  {
   "cell_type": "code",
   "execution_count": 88,
   "metadata": {},
   "outputs": [],
   "source": [
    "etanol = {\n",
    "    \"Atomos\":[Carbono, Hidrogenio,Oxigenio],\n",
    "    \"Quantidades\": [2,6,1]\n",
    "}\n",
    "\n",
    "\n",
    "agua = {\n",
    "    \"Atomos\":[Hidrogenio,Oxigenio],\n",
    "    \"Quantidades\": [2,1]\n",
    "}"
   ]
  },
  {
   "cell_type": "markdown",
   "metadata": {},
   "source": [
    "A molécula de água é criada de sua fórmula é exibida pela metodo formula."
   ]
  },
  {
   "cell_type": "code",
   "execution_count": 89,
   "metadata": {},
   "outputs": [
    {
     "data": {
      "text/plain": [
       "'H₂O'"
      ]
     },
     "execution_count": 89,
     "metadata": {},
     "output_type": "execute_result"
    }
   ],
   "source": [
    "molecula_de_agua = Molecula(agua)\n",
    "\n",
    "molecula_de_agua.formula()"
   ]
  },
  {
   "cell_type": "markdown",
   "metadata": {},
   "source": [
    "e seu peso é exido pelo metodo "
   ]
  },
  {
   "cell_type": "code",
   "execution_count": 90,
   "metadata": {},
   "outputs": [
    {
     "data": {
      "text/plain": [
       "18.015"
      ]
     },
     "execution_count": 90,
     "metadata": {},
     "output_type": "execute_result"
    }
   ],
   "source": [
    "molecula_de_agua.peso()"
   ]
  },
  {
   "cell_type": "markdown",
   "metadata": {},
   "source": [
    "Os mesmos processos são feitos com a molécula de alcool etílico(etanol)."
   ]
  },
  {
   "cell_type": "code",
   "execution_count": 91,
   "metadata": {},
   "outputs": [
    {
     "data": {
      "text/plain": [
       "'C₂H₆O'"
      ]
     },
     "execution_count": 91,
     "metadata": {},
     "output_type": "execute_result"
    }
   ],
   "source": [
    "alcool = Molecula(etanol)\n",
    "\n",
    "alcool.formula()"
   ]
  },
  {
   "cell_type": "code",
   "execution_count": 92,
   "metadata": {},
   "outputs": [
    {
     "data": {
      "text/plain": [
       "46.069"
      ]
     },
     "execution_count": 92,
     "metadata": {},
     "output_type": "execute_result"
    }
   ],
   "source": [
    "alcool.peso()"
   ]
  },
  {
   "cell_type": "markdown",
   "metadata": {},
   "source": [
    "<h3>Referências:</h3>\n",
    "\n",
    "[1] Tabela Periódica - Ptable [Internet]. ptable.com. Available from: https://ptable.com/?lang=pt#Propriedades <br>\n",
    "\n",
    "[2] Etanol [Internet]. Wikipedia. 2021. Available from: https://pt.wikipedia.org/wiki/Etanol <br>\n",
    "\n",
    "‌[3] Printing subscript in python. (2014). Stack Overflow. Retrieved March, 2024, from https://stackoverflow.com/questions/24391892/printing-subscript-in-python."
   ]
  }
 ],
 "metadata": {
  "kernelspec": {
   "display_name": "Python 3.10.8 64-bit",
   "language": "python",
   "name": "python3"
  },
  "language_info": {
   "codemirror_mode": {
    "name": "ipython",
    "version": 3
   },
   "file_extension": ".py",
   "mimetype": "text/x-python",
   "name": "python",
   "nbconvert_exporter": "python",
   "pygments_lexer": "ipython3",
   "version": "3.10.8"
  },
  "orig_nbformat": 4,
  "vscode": {
   "interpreter": {
    "hash": "26de051ba29f2982a8de78e945f0abaf191376122a1563185a90213a26c5da77"
   }
  }
 },
 "nbformat": 4,
 "nbformat_minor": 2
}
