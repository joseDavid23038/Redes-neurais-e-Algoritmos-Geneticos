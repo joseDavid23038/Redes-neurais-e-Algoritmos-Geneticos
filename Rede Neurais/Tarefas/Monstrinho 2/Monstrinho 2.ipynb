{
 "cells": [
  {
   "cell_type": "markdown",
   "metadata": {},
   "source": [
    "<h2><b><p align = 'center'>Monstrinho 2</p></h2>\n",
    "\n",
    "<h4>\n",
    "<b>Doscente:</b> Daniel Cassar<br>\n",
    "<b>Disciplina:</b> Redes Neurais e Algoritmos Genéticos<br>\n",
    "<b>Discentes:</b> Diogo Pereira, José David e Mayllon Emmanoel</h4>\n"
   ]
  },
  {
   "cell_type": "code",
   "execution_count": 160,
   "metadata": {},
   "outputs": [],
   "source": [
    "class Atomo:\n",
    "    def __init__(self,numero,simbolo,massa_atomica,nox):\n",
    "        self.numero = numero\n",
    "        self.simbolo = simbolo\n",
    "        self.massa_atomica = massa_atomica\n",
    "        self.nox = nox "
   ]
  },
  {
   "cell_type": "code",
   "execution_count": 161,
   "metadata": {},
   "outputs": [],
   "source": [
    "class Molecula:\n",
    "    def __init__(self,elementos):\n",
    "        self.elementos = elementos\n",
    "        self.atomos = elementos[\"Atomos\"]\n",
    "        self.quantidades = elementos[\"Quantidades\"]\n",
    "        \n",
    "    def peso(self):\n",
    "        massa = 0\n",
    "        for i in range(len(self.atomos)):\n",
    "            massa = massa + (self.atomos[i].massa_atomica)*self.quantidades[i]\n",
    "        return massa\n",
    "    \n",
    "    def formula(self):\n",
    "        formula_quimica = \"\"\n",
    "        for i in range(len(self.atomos)):\n",
    "            formula_quimica = formula_quimica + (f'{self.atomos[i].simbolo}') \n",
    "            if self.quantidades[i] > 1:\n",
    "                formula_quimica = formula_quimica + f'{self.quantidades[i]}'\n",
    "        return formula_quimica"
   ]
  },
  {
   "cell_type": "code",
   "execution_count": 162,
   "metadata": {},
   "outputs": [],
   "source": [
    "Hidrogenio = Atomo(1,\"H\",1,1)\n",
    "Oxigenio = Atomo(8,\"O\",16,-2)\n",
    "Carbono = Atomo(6,\"C\",12,[4,-4])"
   ]
  },
  {
   "cell_type": "code",
   "execution_count": 163,
   "metadata": {},
   "outputs": [],
   "source": [
    "etanol = {\n",
    "    \"Atomos\":[Carbono, Hidrogenio,Oxigenio],\n",
    "    \"Quantidades\": [2,6,1]\n",
    "}\n",
    "\n",
    "\n",
    "agua = {\n",
    "    \"Atomos\":[Hidrogenio,Oxigenio],\n",
    "    \"Quantidades\": [2,1]\n",
    "}"
   ]
  },
  {
   "cell_type": "code",
   "execution_count": 164,
   "metadata": {},
   "outputs": [
    {
     "data": {
      "text/plain": [
       "'H2O'"
      ]
     },
     "execution_count": 164,
     "metadata": {},
     "output_type": "execute_result"
    }
   ],
   "source": [
    "molecula_de_agua = Molecula(agua)\n",
    "\n",
    "molecula_de_agua.formula()"
   ]
  },
  {
   "cell_type": "code",
   "execution_count": 165,
   "metadata": {},
   "outputs": [
    {
     "data": {
      "text/plain": [
       "18"
      ]
     },
     "execution_count": 165,
     "metadata": {},
     "output_type": "execute_result"
    }
   ],
   "source": [
    "molecula_de_agua.peso()"
   ]
  },
  {
   "cell_type": "code",
   "execution_count": 166,
   "metadata": {},
   "outputs": [
    {
     "data": {
      "text/plain": [
       "'C2H6O'"
      ]
     },
     "execution_count": 166,
     "metadata": {},
     "output_type": "execute_result"
    }
   ],
   "source": [
    "alcool = Molecula(etanol)\n",
    "\n",
    "alcool.formula()"
   ]
  },
  {
   "cell_type": "markdown",
   "metadata": {},
   "source": [
    "<h3>Referências:</h3>"
   ]
  }
 ],
 "metadata": {
  "kernelspec": {
   "display_name": "Python 3.10.8 64-bit",
   "language": "python",
   "name": "python3"
  },
  "language_info": {
   "codemirror_mode": {
    "name": "ipython",
    "version": 3
   },
   "file_extension": ".py",
   "mimetype": "text/x-python",
   "name": "python",
   "nbconvert_exporter": "python",
   "pygments_lexer": "ipython3",
   "version": "3.10.8"
  },
  "orig_nbformat": 4,
  "vscode": {
   "interpreter": {
    "hash": "26de051ba29f2982a8de78e945f0abaf191376122a1563185a90213a26c5da77"
   }
  }
 },
 "nbformat": 4,
 "nbformat_minor": 2
}
