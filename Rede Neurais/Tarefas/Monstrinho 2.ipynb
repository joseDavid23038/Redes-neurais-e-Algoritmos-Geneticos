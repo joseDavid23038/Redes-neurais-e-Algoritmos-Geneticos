{
 "cells": [
  {
   "cell_type": "markdown",
   "metadata": {},
   "source": [
    "<h2><b><p align = 'center'>Monstrinho 2</p></h2>\n",
    "\n",
    "<h4>\n",
    "<b>Doscente:</b> Daniel Cassar<br>\n",
    "<b>Disciplina:</b> Redes Neurais e Algoritmos Genéticos<br>\n",
    "<b>Discentes:</b> Diogo Pereira, José David e Mayllon Emmanoel</h4>\n"
   ]
  },
  {
   "cell_type": "code",
   "execution_count": 16,
   "metadata": {},
   "outputs": [],
   "source": [
    "class Atomo:\n",
    "    def __init__(self,numero,simbolo,massa_atomica,nox):\n",
    "        self.numero = numero\n",
    "        self.simbolo = simbolo\n",
    "        self.massa_atomica = massa_atomica\n",
    "        self.nox = nox "
   ]
  },
  {
   "cell_type": "code",
   "execution_count": 17,
   "metadata": {},
   "outputs": [],
   "source": [
    "class Molecula:\n",
    "    def __init__(self,elementos):\n",
    "        self.elementos = list(elementos)\n",
    "        \n",
    "    def peso(self):\n",
    "        massa = 0\n",
    "        for i in self.elementos:\n",
    "            massa = massa + i.massa_atomica\n",
    "        return massa"
   ]
  },
  {
   "cell_type": "code",
   "execution_count": 18,
   "metadata": {},
   "outputs": [
    {
     "data": {
      "text/plain": [
       "'H'"
      ]
     },
     "execution_count": 18,
     "metadata": {},
     "output_type": "execute_result"
    }
   ],
   "source": [
    "Hidrogenio = Atomo(1,\"H\",1,1)\n",
    "Hidrogenio.simbolo"
   ]
  },
  {
   "cell_type": "code",
   "execution_count": 19,
   "metadata": {},
   "outputs": [
    {
     "data": {
      "text/plain": [
       "2"
      ]
     },
     "execution_count": 19,
     "metadata": {},
     "output_type": "execute_result"
    }
   ],
   "source": [
    "a = Molecula([Hidrogenio,Hidrogenio])\n",
    "\n",
    "a.peso()"
   ]
  },
  {
   "cell_type": "markdown",
   "metadata": {},
   "source": [
    "<h3>Referências:</h3>"
   ]
  }
 ],
 "metadata": {
  "kernelspec": {
   "display_name": "Python 3.10.8 64-bit",
   "language": "python",
   "name": "python3"
  },
  "language_info": {
   "codemirror_mode": {
    "name": "ipython",
    "version": 3
   },
   "file_extension": ".py",
   "mimetype": "text/x-python",
   "name": "python",
   "nbconvert_exporter": "python",
   "pygments_lexer": "ipython3",
   "version": "3.10.8"
  },
  "orig_nbformat": 4,
  "vscode": {
   "interpreter": {
    "hash": "26de051ba29f2982a8de78e945f0abaf191376122a1563185a90213a26c5da77"
   }
  }
 },
 "nbformat": 4,
 "nbformat_minor": 2
}
