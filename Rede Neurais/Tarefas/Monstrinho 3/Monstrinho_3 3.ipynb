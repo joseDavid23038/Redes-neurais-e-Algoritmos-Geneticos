{
 "cells": [
  {
   "cell_type": "markdown",
   "id": "761f3e91-db73-4ad7-977a-87d9cb3c47ea",
   "metadata": {},
   "source": [
    "## Redes Neurais e Algoritmos Genéticos\n",
    "### Atividade: Monstrinho 3\n",
    "### Trio: Diogo Carvalho, José David e Mayllon Emmanoel"
   ]
  },
  {
   "cell_type": "markdown",
   "id": "df8f7b2f-cb6b-4b45-a781-4610c644a539",
   "metadata": {},
   "source": [
    "### Uso de herança em contexto biológico"
   ]
  },
  {
   "cell_type": "code",
   "execution_count": 44,
   "id": "476a5138-2fa0-4946-96ae-775ebdacdd9f",
   "metadata": {},
   "outputs": [],
   "source": [
    "class Virus():\n",
    "    \"\"\"Classe própria para qualquer tipo de vírus\"\"\"\n",
    "    def __init__(self, nome, envelope_proteico, genoma_viral, n_milhoes):\n",
    "        self.nome = nome\n",
    "        self.env_pro = envelope_proteico\n",
    "        self.genoma_viral = genoma_viral\n",
    "        self.n_milhoes = n_milhoes\n",
    "    \n",
    "    def __repr__(self):\n",
    "        return (f\"Virus de nome {self.nome} com proteína principal do envelope {self.env_pro} e material do genoma {self.genoma_viral} e quantidade de {self.n_milhoes} milhões de copias/mL\")\n",
    "    \n",
    "    def replicar(self, n_replicacoes): #adiciona novas quantidades\n",
    "        self.n_milhoes = self.n_milhoes * 2** (n_replicacoes)\n",
    "        \n",
    "    def mata(self, qtd_nova): #diminui quantidades\n",
    "        self.n_milhoes = self.n_milhoes - qtd_nova\n",
    "        "
   ]
  },
  {
   "cell_type": "code",
   "execution_count": 45,
   "id": "ee7f65cc-9f3c-441e-bd35-98d548278a10",
   "metadata": {},
   "outputs": [],
   "source": [
    "class Phage(Virus): \n",
    "    \"\"\"Classe para vírus que infectam bactérias\"\"\"\n",
    "    \n",
    "    def __init__(self, nome, envelope_proteico, genoma_viral, n_milhoes, especie_bacteriana):\n",
    "        super().__init__(nome, envelope_proteico, genoma_viral, n_milhoes) \n",
    "        self.esp_bac = especie_bacteriana\n",
    "    \n",
    "    def __repr__(self):\n",
    "        return (f\"Virus de nome {self.nome} com proteína principal do envelope {self.env_pro} e material do genoma {self.genoma_viral}, quantidade de {self.n_milhoes} milhões de cópias/mL e cepa bacteriana infectada do tipo {self.esp_bac}\")\n",
    "    \n",
    "    def alterar_cepa(self, nome_bacteria): #altera a bacteria alvo\n",
    "        self.esp_bac = nome_bacteria"
   ]
  },
  {
   "cell_type": "code",
   "execution_count": 46,
   "id": "731189c0-42ec-4627-a469-54b71933c6e5",
   "metadata": {},
   "outputs": [
    {
     "name": "stdout",
     "output_type": "stream",
     "text": [
      "Virus de nome Covid-19 com proteína principal do envelope Spike e material do genoma RNA e quantidade de 2 milhões de copias/mL\n",
      "Virus de nome Covid-19 com proteína principal do envelope Spike e material do genoma RNA e quantidade de 8 milhões de copias/mL\n"
     ]
    }
   ],
   "source": [
    "Covid_19 = Virus(\"Covid-19\", \"Spike\", \"RNA\", 2) # Fonte via [1]\n",
    "\n",
    "print(Covid_19)\n",
    "\n",
    "Covid_19.replicar(2)\n",
    "\n",
    "print(Covid_19)"
   ]
  },
  {
   "cell_type": "code",
   "execution_count": 47,
   "id": "4ebfb542-e7f5-471a-98f2-5bc379acae60",
   "metadata": {},
   "outputs": [
    {
     "name": "stdout",
     "output_type": "stream",
     "text": [
      "Virus de nome Phagot7 com proteína principal do envelope Redox Protein e material do genoma DNA, quantidade de 3 milhões de cópias/mL e cepa bacteriana infectada do tipo Escheria Coli\n"
     ]
    }
   ],
   "source": [
    "Phago_1 = Phage(\"Phagot7\", \"Redox Protein\", \"DNA\", 3, \"Escheria Coli\") # Fonte via [2]\n",
    "\n",
    "print(Phago_1)"
   ]
  },
  {
   "cell_type": "code",
   "execution_count": 51,
   "id": "c1ada2d3-a90d-4be9-a512-92b3619d468e",
   "metadata": {},
   "outputs": [
    {
     "name": "stdout",
     "output_type": "stream",
     "text": [
      "Virus de nome Phagot7 com proteína principal do envelope Redox Protein e material do genoma DNA, quantidade de 30.112698372208094 milhões de cópias/mL e cepa bacteriana infectada do tipo ST5\n"
     ]
    }
   ],
   "source": [
    "Phago_1.alterar_cepa(\"ST5\")\n",
    "Phago_1.replicar(1)\n",
    "Phago_1.mata(1)\n",
    "\n",
    "print(Phago_1)"
   ]
  },
  {
   "cell_type": "code",
   "execution_count": 52,
   "id": "d6882d22-4a09-4461-b8c9-1e83dcf5b9bd",
   "metadata": {},
   "outputs": [],
   "source": [
    "Phago_1.replicar(0.5)"
   ]
  },
  {
   "cell_type": "code",
   "execution_count": 53,
   "id": "da66de25-5946-4e0d-a112-daf8fda1a56d",
   "metadata": {},
   "outputs": [
    {
     "name": "stdout",
     "output_type": "stream",
     "text": [
      "Virus de nome Phagot7 com proteína principal do envelope Redox Protein e material do genoma DNA, quantidade de 42.585786437626915 milhões de cópias/mL e cepa bacteriana infectada do tipo ST5\n"
     ]
    }
   ],
   "source": [
    "print(Phago_1)"
   ]
  },
  {
   "cell_type": "markdown",
   "id": "a335fb53-2453-4ece-9776-5257ed02ee93",
   "metadata": {},
   "source": [
    "### Justificativa"
   ]
  },
  {
   "cell_type": "markdown",
   "id": "23935b22-be82-44ed-93c9-d39bcdafc5fd",
   "metadata": {},
   "source": [
    "<p style=\"text-align: justify;\"> Bacteriófagos, mais conhecidos apenas como \"Phagos\", é uma classe de vírus que infecta e replica seu material com bactérias. Esses vírus são cruciais no microbioma humano e importantes para a mobilidade do material genético. A jusificativa de ter-se usado os conceitos de vírus e bacteriófagos na atividade acima, advem de sua própria definição, que os classificam como uma subclasse de vírus e também por conta da capacidade única de infectar bactérias. Esses tipos específicos de vírus são os únicos capazes de infectar esse tipo de organismos, desse modo, tornando válida a hipóstese de ter-se uma classe no código específica para esses vírus, contendo atributos únicos, a citar por exemplo: A cepa bacteriana infectada pelo vírus, atributo esse que faz sentido apenas para esse tipo de vírus."
   ]
  },
  {
   "cell_type": "markdown",
   "id": "57964b64-6cf7-4921-86a4-555864b7210a",
   "metadata": {},
   "source": [
    "### Referências"
   ]
  },
  {
   "cell_type": "markdown",
   "id": "55b6e1ff-7a0a-46ee-bac2-275fad65b1c9",
   "metadata": {},
   "source": [
    "[1] Wikipedia contributors. (2024, March 9). COVID-19. In Wikipedia, The Free Encyclopedia. Retrieved March, 2024, from https://en.wikipedia.org/w/index.php?title=COVID-19&oldid=1212666982.\n",
    "\n",
    "[2] Wikipedia contributors. (2023, September 2). T7 phage. In Wikipedia, The Free Encyclopedia. Retrieved March, 2024, from https://en.wikipedia.org/w/index.php?title=T7_phage&oldid=1173449365."
   ]
  }
 ],
 "metadata": {
  "kernelspec": {
   "display_name": "Python 3.10.8 64-bit",
   "language": "python",
   "name": "python3"
  },
  "language_info": {
   "codemirror_mode": {
    "name": "ipython",
    "version": 3
   },
   "file_extension": ".py",
   "mimetype": "text/x-python",
   "name": "python",
   "nbconvert_exporter": "python",
   "pygments_lexer": "ipython3",
   "version": "3.10.8"
  },
  "vscode": {
   "interpreter": {
    "hash": "26de051ba29f2982a8de78e945f0abaf191376122a1563185a90213a26c5da77"
   }
  }
 },
 "nbformat": 4,
 "nbformat_minor": 5
}
