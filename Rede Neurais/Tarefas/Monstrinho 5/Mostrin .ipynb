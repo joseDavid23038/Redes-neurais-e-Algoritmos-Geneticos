{
 "cells": [
  {
   "cell_type": "code",
   "execution_count": 1286,
   "id": "6d9729db-b25d-4e54-8f02-f8be7d7c4cec",
   "metadata": {},
   "outputs": [],
   "source": [
    "import math\n",
    "\n",
    "class Valor:\n",
    "    def __init__(self, data, progenitor=(), operador_mae=\"\", rotulo=\"\"):\n",
    "        self.data = data\n",
    "        self.progenitor = progenitor\n",
    "        self.operador_mae = operador_mae\n",
    "        self.rotulo = rotulo\n",
    "        self.grad = 0\n",
    "\n",
    "    def __repr__(self):\n",
    "        return f\"Valor(data={self.data})\"\n",
    "    \n",
    "    def __add__(self, outro_valor):\n",
    "        \"\"\"Realiza a operação: self + outro_valor.\"\"\"\n",
    "        \n",
    "        if not isinstance(outro_valor, Valor):\n",
    "            outro_valor = Valor(outro_valor)\n",
    "            \n",
    "        progenitor = (self, outro_valor)\n",
    "        data = self.data + outro_valor.data\n",
    "        operador_mae = \"+\"\n",
    "        resultado = Valor(data, progenitor, operador_mae)\n",
    "        \n",
    "        def propagar_adicao():\n",
    "            self.grad += resultado.grad\n",
    "            outro_valor.grad += resultado.grad\n",
    "            \n",
    "        resultado.propagar = propagar_adicao\n",
    "        \n",
    "        return resultado\n",
    "    \n",
    "    def __mul__(self, outro_valor):\n",
    "        \"\"\"Realiza a operação: self * outro_valor.\"\"\"\n",
    "        \n",
    "        if not isinstance(outro_valor, Valor):\n",
    "            outro_valor = Valor(outro_valor)\n",
    "            \n",
    "        progenitor = (self, outro_valor)\n",
    "        data = self.data * outro_valor.data\n",
    "        operador_mae = \"*\"\n",
    "        resultado = Valor(data, progenitor, operador_mae)\n",
    "        \n",
    "        def propagar_multiplicacao():\n",
    "            self.grad += resultado.grad * outro_valor.data # grad_filho * derivada filho em relação a mãe\n",
    "            outro_valor.grad += resultado.grad * self.data\n",
    "            \n",
    "        resultado.propagar = propagar_multiplicacao\n",
    "        \n",
    "        return resultado\n",
    "    \n",
    "    def exp(self):\n",
    "        \"\"\"Realiza a operação: exp(self)\"\"\"\n",
    "        progenitor = (self, )\n",
    "        data = math.exp(self.data)\n",
    "        operador_mae = \"exp\"\n",
    "        resultado = Valor(data, progenitor, operador_mae)\n",
    "        \n",
    "        def propagar_exp():\n",
    "            self.grad += resultado.grad * data \n",
    "        \n",
    "        resultado.propagar = propagar_exp\n",
    "        \n",
    "        return resultado\n",
    "    \n",
    "    def __pow__(self, expoente):\n",
    "        \"\"\"Realiza a operação: self ** expoente\"\"\"\n",
    "        assert isinstance(expoente, (int, float))\n",
    "        progenitor = (self, )\n",
    "        data = self.data ** expoente\n",
    "        operador_mae = f\"**{expoente}\"\n",
    "        resultado = Valor(data, progenitor, operador_mae)\n",
    "        \n",
    "        def propagar_pow():\n",
    "            self.grad += resultado.grad * (expoente * self.data ** (expoente - 1))\n",
    "        \n",
    "        resultado.propagar = propagar_pow\n",
    "        \n",
    "        return resultado\n",
    "    \n",
    "    def __truediv__(self, outro_valor):\n",
    "        \"\"\"Realiza a operação: self / outro_valor\"\"\"\n",
    "        return self * outro_valor ** (-1)\n",
    "    \n",
    "    def __neg__(self):\n",
    "        \"\"\"Realiza a operação: -self\"\"\"\n",
    "        return self * -1\n",
    "    \n",
    "    def __sub__(self, outro_valor):\n",
    "        \"\"\"Realiza a operação: self - outro_valor\"\"\"\n",
    "        return self + (-outro_valor)\n",
    "    \n",
    "    def __radd__(self, outro_valor):\n",
    "        \"\"\"Realiza a operação: outro_valor + self\"\"\"\n",
    "        return self + outro_valor\n",
    "    \n",
    "    def __rmul__(self, outro_valor):\n",
    "        \"\"\"Realiza a operação: outro_valor * self\"\"\"\n",
    "        return self * outro_valor\n",
    "    \n",
    "    def sig(self):\n",
    "        \"\"\"Realiza a operação: exp(self) / (exp(self) + 1)\"\"\"\n",
    "        return self.exp() / (self.exp() + 1)\n",
    "    \n",
    "    def propagar(self):\n",
    "        pass\n",
    "    \n",
    "    def propagar_tudo(self):\n",
    "        \n",
    "        self.grad = 1\n",
    "        \n",
    "        ordem_topologica = []\n",
    "        \n",
    "        visitados = set()\n",
    "\n",
    "        def constroi_ordem_topologica(v):\n",
    "            if v not in visitados:\n",
    "                visitados.add(v)\n",
    "                for progenitor in v.progenitor:\n",
    "                    constroi_ordem_topologica(progenitor)\n",
    "                ordem_topologica.append(v)\n",
    "\n",
    "        constroi_ordem_topologica(self)\n",
    "        \n",
    "        for vertice in reversed(ordem_topologica):\n",
    "            vertice.propagar()"
   ]
  },
  {
   "cell_type": "markdown",
   "id": "273b0d85-c7cf-4db1-ac8e-f2db471c4cef",
   "metadata": {},
   "source": [
    "$$\n",
    "S(x) = \\frac{e^x}{e^x + 1}\n",
    "$$"
   ]
  },
  {
   "cell_type": "markdown",
   "id": "c069665d-d724-446e-97a0-78436e43749d",
   "metadata": {},
   "source": [
    "# Construindo e treinando uma rede neural"
   ]
  },
  {
   "cell_type": "code",
   "execution_count": 1287,
   "id": "7b3e3984-f4e9-41c1-8a69-ac0426f0ccd9",
   "metadata": {},
   "outputs": [],
   "source": [
    "import random\n",
    "\n",
    "class Neuronio:\n",
    "    def __init__(self, num_dados_entrada,ativacao = 1):\n",
    "        self.vies = Valor(random.uniform(-1, 1))\n",
    "        self.ativacao = ativacao\n",
    "        self.pesos = []\n",
    "        for i in range(num_dados_entrada):\n",
    "            self.pesos.append(Valor(random.uniform(-1, 1)))\n",
    "            \n",
    "    def __call__(self, x):\n",
    "        \n",
    "        assert len(x) == len(self.pesos)\n",
    "        \n",
    "        soma = 0\n",
    "        for info_entrada, peso_interno in zip(x, self.pesos):\n",
    "            soma += info_entrada * peso_interno\n",
    "            \n",
    "        soma += self.vies  \n",
    "        dado_de_saida = soma.sig()\n",
    "        \n",
    "        return dado_de_saida*self.ativacao       \n",
    "    \n",
    "    def parametros(self):\n",
    "        return self.pesos + [self.vies]"
   ]
  },
  {
   "cell_type": "code",
   "execution_count": 1288,
   "id": "f36c2e2f-c004-41df-bb6c-4d97acd76c60",
   "metadata": {},
   "outputs": [],
   "source": [
    "class Camada:\n",
    "    def __init__(self, num_neuronios, num_dados_entrada):\n",
    "        neuronios = []\n",
    "        \n",
    "        for _ in range(num_neuronios):\n",
    "            neuronio = Neuronio(num_dados_entrada)\n",
    "            neuronios.append(neuronio)\n",
    "            \n",
    "        self.neuronios = neuronios     \n",
    "        \n",
    "    def __call__(self, x):\n",
    "        dados_de_saida = []\n",
    "        \n",
    "        for neuronio in self.neuronios:\n",
    "            informacao = neuronio(x)\n",
    "            dados_de_saida.append(informacao)\n",
    "            \n",
    "        if len(dados_de_saida) == 1:\n",
    "            return dados_de_saida[0]\n",
    "        else:        \n",
    "            return dados_de_saida  \n",
    "    \n",
    "    def parametros(self):\n",
    "        params = []\n",
    "        \n",
    "        for neuronio in self.neuronios:\n",
    "            params_neuronio = neuronio.parametros()\n",
    "            params.extend(params_neuronio)\n",
    "        \n",
    "        return params"
   ]
  },
  {
   "cell_type": "code",
   "execution_count": 1289,
   "id": "fd5d7e7f-351e-4101-9dc1-f6d5dc440dc6",
   "metadata": {},
   "outputs": [],
   "source": [
    "class MLP:\n",
    "    def __init__(self, num_dados_entrada, num_neuronios_por_camada):\n",
    "        \n",
    "        percurso = [num_dados_entrada] + num_neuronios_por_camada\n",
    "        \n",
    "        camadas = []\n",
    "        \n",
    "        for i in range(len(num_neuronios_por_camada)):\n",
    "            camada = Camada(num_neuronios_por_camada[i], percurso[i])\n",
    "            camadas.append(camada)\n",
    "            \n",
    "        self.camadas = camadas\n",
    "        \n",
    "    def __call__(self, x):\n",
    "        for camada in self.camadas:\n",
    "            x = camada(x)\n",
    "        return x\n",
    "    \n",
    "    def parametros(self):\n",
    "        params = []\n",
    "        \n",
    "        for camada in self.camadas:\n",
    "            parametros_camada = camada.parametros()\n",
    "            params.extend(parametros_camada)\n",
    "            \n",
    "        return params"
   ]
  },
  {
   "cell_type": "code",
   "execution_count": 1290,
   "id": "e75b8d68",
   "metadata": {},
   "outputs": [],
   "source": [
    "from numpy import e"
   ]
  },
  {
   "cell_type": "code",
   "execution_count": 1291,
   "id": "1915505d",
   "metadata": {},
   "outputs": [
    {
     "data": {
      "text/plain": [
       "8.218407461554662e+307"
      ]
     },
     "execution_count": 1291,
     "metadata": {},
     "output_type": "execute_result"
    }
   ],
   "source": [
    "e**(709)"
   ]
  },
  {
   "cell_type": "code",
   "execution_count": 1292,
   "id": "b1fbe6b7",
   "metadata": {},
   "outputs": [],
   "source": [
    "import seaborn as sns\n",
    "df = sns.load_dataset('diamonds')\n",
    "df= df.reindex(columns=['carat','price','depth','x'\t,'y','z'])\n",
    "df = df.dropna()\n",
    "df = df.reset_index()\n",
    "df = df.head(100)\n",
    "x = []\n",
    "y_true = []\n",
    "for i in range(len(df['carat'])):\n",
    "    \n",
    "    xn =[float(df['x'][i]),float(df['y'][i]),float(df['z'][i])]\n",
    "    yn =float(df['price'][i])\n",
    "    xn = x.append(xn)\n",
    "    yn = y_true.append(yn)"
   ]
  },
  {
   "cell_type": "code",
   "execution_count": 1293,
   "id": "83512a6a",
   "metadata": {},
   "outputs": [],
   "source": [
    "x = [\n",
    "  [2.0, 3.0, -1.0],\n",
    "  [3.0, -1.0, 0.5],\n",
    "  [0.5, 1.0, 1.0],\n",
    "  [1.0, 1.0, -1.0],\n",
    "  [4.0, 1.0, -1.0],\n",
    "  [2.0, 1.5, -1.0],\n",
    "  [1.0, 1.5, -1.0],\n",
    "  [3.0, 1.5, -1.0],\n",
    "]\n",
    "\n",
    "y_true = [1, 0, 0.2, 0.5,3,2,1.4,2]"
   ]
  },
  {
   "cell_type": "code",
   "execution_count": 1294,
   "id": "da1760f2-67af-40b3-a4de-3e5c59e89dd4",
   "metadata": {},
   "outputs": [],
   "source": [
    "NUM_DADOS_DE_ENTRADA = len(x[0])  \n",
    "NUM_DADOS_DE_SAIDA = 1    \n",
    "CAMADAS_OCULTAS = [100, 2]  \n",
    "\n",
    "arquitetura_da_rede = CAMADAS_OCULTAS + [NUM_DADOS_DE_SAIDA]\n",
    "\n",
    "minha_mlp = MLP(NUM_DADOS_DE_ENTRADA, arquitetura_da_rede)"
   ]
  },
  {
   "cell_type": "code",
   "execution_count": 1295,
   "id": "b528fd3b-04f8-4f47-90f5-3de248f4e1ac",
   "metadata": {},
   "outputs": [],
   "source": [
    "def rede_neural(rede,num_epocas, taxa_de_aprendizado,\n",
    "                x, y_true, neuronios, drop_out = False,taxa_drop = 0.5):\n",
    "    dropados = 0\n",
    "\n",
    "    numero_de_neuronios = 102\n",
    "\n",
    "    n_dropas = int(numero_de_neuronios*taxa_drop)\n",
    "    n_mantem = numero_de_neuronios*(num_epocas)-n_dropas\n",
    "    lista_drops = [0]*n_dropas\n",
    "    lista_mantem = [1]*n_mantem\n",
    "    lista_drop = []  \n",
    "    lista_drop.extend(lista_mantem)\n",
    "    lista_drop.extend(lista_drops)                  \n",
    "    random.shuffle(lista_drop)\n",
    "    n = int(0)\n",
    "    count = 0\n",
    "    \n",
    "                    \n",
    "    for epoca in range(num_epocas):\n",
    "        print(n)\n",
    "        if drop_out:\n",
    "            drop = taxa_drop/num_epocas\n",
    "            if epoca+1 == num_epocas:\n",
    "                for i in range(len(rede.camadas)):\n",
    "                    for j in range(len(rede.camadas[i].neuronios)):\n",
    "                        if rede.camadas[i].neuronios[j].ativacao == 0:\n",
    "                            rede.camadas[i].neuronios[j].ativacao = 1\n",
    "            if epoca+1 != num_epocas:\n",
    "                for i in range(len(rede.camadas)):\n",
    "                    for j in range(len(rede.camadas[i].neuronios)):\n",
    "                        if rede.camadas[i].neuronios[j].ativacao == 1:\n",
    "                            atv = int(lista_drop[n])\n",
    "                            \n",
    "                        \n",
    "                            #atv = random.choices([1,0],[1-drop,drop])[0]\n",
    "                            rede.camadas[i].neuronios[j].ativacao = atv\n",
    "                            \n",
    "                            if atv == 0:\n",
    "                                dropados+=1\n",
    "                        n+=1 \n",
    "                        count+=1               \n",
    "        y_pred = []\n",
    "        for exemplo in x:\n",
    "            previsao = rede(exemplo)\n",
    "            y_pred.append(previsao)\n",
    "\n",
    "        # loss\n",
    "        erros = []\n",
    "        for yt, yp in zip(y_true, y_pred):\n",
    "            residuo = yp - yt\n",
    "            erro_quadratico = residuo ** 2\n",
    "            erros.append(erro_quadratico)        \n",
    "        loss = sum(erros)\n",
    "\n",
    "        # zero grad\n",
    "        for p in rede.parametros():\n",
    "            p.grad = 0\n",
    "\n",
    "        # backpropagation\n",
    "        loss.propagar_tudo()\n",
    "\n",
    "        # atualiza parâmetros\n",
    "        for p in rede.parametros():\n",
    "            p.data = p.data - p.grad * taxa_de_aprendizado\n",
    "\n",
    "        # mostra resultado (opcional)\n",
    "        #print(\"                                                          \",end='\\r')\n",
    "        print(epoca,len(lista_drop),n_mantem, numero_de_neuronios,n_dropas,\" \", loss.data,f'dropados = {dropados} , {count}')\n",
    "        rede_treinada = rede\n",
    "        \n",
    "    return y_pred,rede_treinada,lista_drop"
   ]
  },
  {
   "cell_type": "code",
   "execution_count": 1296,
   "id": "68656ad9-08db-4a28-bd6a-9c8b3443af4f",
   "metadata": {},
   "outputs": [],
   "source": [
    "#y_true,y_pred"
   ]
  },
  {
   "cell_type": "code",
   "execution_count": 1297,
   "id": "76153d0d-b50d-4aad-8abf-3c74d393fe02",
   "metadata": {},
   "outputs": [
    {
     "name": "stdout",
     "output_type": "stream",
     "text": [
      "0\n",
      "0 510 459 102 51   12.493271208982456 dropados = 7 , 103\n",
      "103\n",
      "1 510 459 102 51   8.388292144697985 dropados = 15 , 206\n",
      "206\n",
      "2 510 459 102 51   8.319364543341663 dropados = 30 , 309\n",
      "309\n",
      "3 510 459 102 51   20.25 dropados = 36 , 412\n",
      "412\n",
      "4 510 459 102 51   8.25004787256775 dropados = 36 , 412\n"
     ]
    }
   ],
   "source": [
    "y_pred,rede, lista = rede_neural(minha_mlp,5,0.8,x,y_true,CAMADAS_OCULTAS,drop_out=True,)\n",
    "vals_y = []\n",
    "for i in y_pred:\n",
    "    vals_y.append(i.data)"
   ]
  },
  {
   "cell_type": "code",
   "execution_count": 1298,
   "id": "2e6b8121",
   "metadata": {},
   "outputs": [
    {
     "data": {
      "text/plain": [
       "int"
      ]
     },
     "execution_count": 1298,
     "metadata": {},
     "output_type": "execute_result"
    }
   ],
   "source": [
    "type(103+1)"
   ]
  },
  {
   "cell_type": "code",
   "execution_count": 1299,
   "id": "98b42572",
   "metadata": {},
   "outputs": [
    {
     "data": {
      "text/plain": [
       "510"
      ]
     },
     "execution_count": 1299,
     "metadata": {},
     "output_type": "execute_result"
    }
   ],
   "source": [
    "len(lista)"
   ]
  },
  {
   "cell_type": "code",
   "execution_count": 1300,
   "id": "a2138970",
   "metadata": {},
   "outputs": [
    {
     "data": {
      "image/png": "[encoded data removed]",
      "text/plain": [
       "<Figure size 640x480 with 1 Axes>"
      ]
     },
     "metadata": {},
     "output_type": "display_data"
    }
   ],
   "source": [
    "import matplotlib.pyplot as plt\n",
    "\n",
    "plt.scatter(y_true,vals_y)\n",
    "_ = plt.plot([min(y_true), max(y_true)],[min(y_true), max(y_true)],color = 'red',linestyle = '--')\n"
   ]
  }
 ],
 "metadata": {
  "kernelspec": {
   "display_name": "Python 3.10.8 64-bit",
   "language": "python",
   "name": "python3"
  },
  "language_info": {
   "codemirror_mode": {
    "name": "ipython",
    "version": 3
   },
   "file_extension": ".py",
   "mimetype": "text/x-python",
   "name": "python",
   "nbconvert_exporter": "python",
   "pygments_lexer": "ipython3",
   "version": "3.10.8"
  },
  "vscode": {
   "interpreter": {
    "hash": "26de051ba29f2982a8de78e945f0abaf191376122a1563185a90213a26c5da77"
   }
  }
 },
 "nbformat": 4,
 "nbformat_minor": 5
}
