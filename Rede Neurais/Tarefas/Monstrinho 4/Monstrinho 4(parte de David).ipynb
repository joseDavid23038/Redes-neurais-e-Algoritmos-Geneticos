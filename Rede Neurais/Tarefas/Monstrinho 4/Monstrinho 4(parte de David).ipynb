{
 "cells": [
  {
   "cell_type": "markdown",
   "metadata": {},
   "source": [
    "<h2><b><p align = 'center'>Monstrinho 4</p></h2>\n",
    "\n",
    "<h4>\n",
    "<b>Doscente:</b> Daniel Cassar<br>\n",
    "<b>Disciplina:</b> Redes Neurais e Algoritmos Genéticos<br>\n",
    "<b>Discentes:</b> Diogo Pereira, José David e Mayllon Emmanoel</h4>\n"
   ]
  },
  {
   "cell_type": "markdown",
   "metadata": {},
   "source": [
    "### Método dunder: Call"
   ]
  },
  {
   "cell_type": "markdown",
   "metadata": {},
   "source": [
    "<p align = 'justify'>\n",
    "Permite que as instâncias de uma classe se comportem como uma função e possam ser chamadas diretamente como uma, evitando a declaração de algum método específico.<sup>[1]</sup> <br>Imaginando a programação de um jogo de RPG, por exemplo, a maioria dos itens são objetos, mas podem ser tratados diretamente como funções em muitos casos. Na célula abaixo, crio uma classe de objeto chamada varinha, a qual possui 4 atributos, um método de dunder de representação e um para aumentar um atributo. Para além desses, a classe também possui o método dunder __call__, que permite que as instancias dessa classe possam atuar como função, cálculando um dano de ataque feito. </p>"
   ]
  },
  {
   "cell_type": "code",
   "execution_count": 8,
   "metadata": {},
   "outputs": [],
   "source": [
    "import numpy as np \n",
    "\n",
    "class Varinha:\n",
    "    \n",
    "    def __init__(self,nucleo,comprimento,nível_varinha):\n",
    "        self.nucleo = nucleo\n",
    "        self.comprimento = comprimento\n",
    "        self.nível_varinha = nível_varinha\n",
    "        self.sorte_da_varinha = np.random.randint(1,10)\n",
    "        \n",
    "    def __repr__(self):\n",
    "        mensagem = f'varinha de nível {self.nível_varinha}, a qual possui núcleo de {self.nucleo}, {self.comprimento} cm de comprimento e fator {self.sorte_da_varinha} de sorte'\n",
    "        return mensagem\n",
    "        \n",
    "    def __call__(self, dano_do_feitiço):\n",
    "        sorte_do_momento = np.random.normal(loc=self.sorte_da_varinha, scale=1, size=1)[0]\n",
    "        dano_do_ataque = sorte_do_momento*(1+(self.nível_varinha-1)/5)*dano_do_feitiço\n",
    "        return dano_do_ataque\n",
    "    \n",
    "    def aumentar_nivel(self):\n",
    "        self.nível_varinha +=1"
   ]
  },
  {
   "cell_type": "code",
   "execution_count": 9,
   "metadata": {},
   "outputs": [
    {
     "name": "stdout",
     "output_type": "stream",
     "text": [
      "varinha de nível 1, a qual possui núcleo de Pena de Fênix, 30 cm de comprimento e fator 2 de sorte\n"
     ]
    }
   ],
   "source": [
    "varinha1 = Varinha(\"Pena de Fênix\",30,1)\n",
    "print(varinha1)"
   ]
  },
  {
   "cell_type": "markdown",
   "metadata": {},
   "source": [
    "Na célula abaixo, crio a classe Bruxo, que possui por atributo um objeto da classe varinha, a qual é utilizada diretamente como uma função no método lançar feitiço."
   ]
  },
  {
   "cell_type": "code",
   "execution_count": 10,
   "metadata": {},
   "outputs": [],
   "source": [
    "class Bruxo:\n",
    "    \n",
    "    def __init__(self,nome,vida,mana, nivel,magias_conhecidas, varinha = None):\n",
    "        self.nome = nome\n",
    "        self.nivel = nivel\n",
    "        self.varinha = varinha\n",
    "        self.vida = vida\n",
    "        self.mana = mana\n",
    "        self.magias_conhecidas = magias_conhecidas\n",
    "         \n",
    "    def __repr__(self):\n",
    "        return f'Bruxo {self.nome} de nível {self.nivel}, {self.vida} pontos de vida, {self.mana} pontos de mana e armado com {self.varinha}'\n",
    "        \n",
    "    def lancar_magia(self,magia):\n",
    "        dano = self.magias_conhecidas[magia][0]\n",
    "        mana_gasta = self.magias_conhecidas[magia][1]\n",
    "        if self.mana < mana_gasta:\n",
    "            return 0\n",
    "        else:\n",
    "            if self.varinha == None:\n",
    "                return dano*self.nivel/100 \n",
    "            else:\n",
    "                return self.varinha(dano)    #aqui é onde o objeto é usado como uma função\n",
    "        \n",
    "    def mudar_varinha(self,nova_varinha):\n",
    "        self.varinha = nova_varinha\n",
    "        \n",
    "    def toma_dano(self,dano):\n",
    "        self.vida -= dano"
   ]
  },
  {
   "cell_type": "code",
   "execution_count": 11,
   "metadata": {},
   "outputs": [],
   "source": [
    "magias = {\n",
    "    'Avada Kedavra': [1000,10],\n",
    "    'Bombarda': [100,2],\n",
    "    'Cruciatus': [120,3],\n",
    "    'Diffindo':[30,1]\n",
    "}"
   ]
  },
  {
   "cell_type": "code",
   "execution_count": 12,
   "metadata": {},
   "outputs": [
    {
     "name": "stdout",
     "output_type": "stream",
     "text": [
      "Bruxo Robert Caçador de nível 100, 100 pontos de vida, 100 pontos de mana e armado com varinha de nível 1, a qual possui núcleo de Pena de Fênix, 30 cm de comprimento e fator 2 de sorte\n"
     ]
    }
   ],
   "source": [
    "bruxo1 = Bruxo('Robert Caçador', 100,100,100,magias,varinha1)\n",
    "print(bruxo1)"
   ]
  },
  {
   "cell_type": "code",
   "execution_count": 45,
   "metadata": {},
   "outputs": [
    {
     "name": "stdout",
     "output_type": "stream",
     "text": [
      "Robert Caçador lançou Avada Kedavra e causou 1156.2655052825978 de dano\n"
     ]
    }
   ],
   "source": [
    "magia_lancada = 'Avada Kedavra'\n",
    "dano_causado = bruxo1.lancar_magia(magia_lancada)\n",
    "print(f'{bruxo1.nome} lançou {magia_lancada} e causou {dano_causado} de dano')"
   ]
  },
  {
   "cell_type": "markdown",
   "metadata": {},
   "source": [
    "<p align = 'justify '> <h3>Referências:</h3>\n",
    "\n",
    "[1] __call __ in Python. Disponível em: <https://www.geeksforgeeks.org/__call__-in-python/>. Acesso em: 16 mar. 2024.</p>\n",
    "\n",
    "‌"
   ]
  }
 ],
 "metadata": {
  "kernelspec": {
   "display_name": "Python 3.10.8 64-bit",
   "language": "python",
   "name": "python3"
  },
  "language_info": {
   "codemirror_mode": {
    "name": "ipython",
    "version": 3
   },
   "file_extension": ".py",
   "mimetype": "text/x-python",
   "name": "python",
   "nbconvert_exporter": "python",
   "pygments_lexer": "ipython3",
   "version": "3.10.8"
  },
  "orig_nbformat": 4,
  "vscode": {
   "interpreter": {
    "hash": "26de051ba29f2982a8de78e945f0abaf191376122a1563185a90213a26c5da77"
   }
  }
 },
 "nbformat": 4,
 "nbformat_minor": 2
}
