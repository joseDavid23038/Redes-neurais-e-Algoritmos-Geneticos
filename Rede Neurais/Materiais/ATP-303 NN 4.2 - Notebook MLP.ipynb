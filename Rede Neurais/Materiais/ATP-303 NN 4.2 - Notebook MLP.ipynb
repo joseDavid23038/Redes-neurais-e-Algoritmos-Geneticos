{
 "cells": [
  {
   "cell_type": "markdown",
   "id": "ae495dd1-ddfe-4df2-8cc6-0332c4226c9e",
   "metadata": {},
   "source": [
    "# Redes neurais artificiais do zero em Python"
   ]
  },
  {
   "cell_type": "markdown",
   "id": "f22146a7-7fa3-47db-9549-bf9ebb79986f",
   "metadata": {},
   "source": [
    "Referência: Andrej Karpathy. The spelled-out intro to neural networks and backpropagation: building micrograd (2022). https://www.youtube.com/watch?v=VMj-3S1tku0"
   ]
  },
  {
   "cell_type": "markdown",
   "id": "afb07870-b07e-481b-b351-7a2f1ef77551",
   "metadata": {
    "tags": []
   },
   "source": [
    "## Construindo um grafo computacional automaticamente"
   ]
  },
  {
   "cell_type": "code",
   "execution_count": 1,
   "id": "20ab4c0d-c9ea-4c91-ba0b-87d0eee0c0ba",
   "metadata": {},
   "outputs": [],
   "source": [
    "from graphviz import Digraph\n",
    "\n",
    "\n",
    "def _tracar(folha):\n",
    "    \"\"\"Função modificada da criada por Andrej Karpathy para construção de grafo.\n",
    "\n",
    "    Referência: https://github.com/karpathy/micrograd\n",
    "\n",
    "    \"\"\"\n",
    "    vertices = set()\n",
    "    arestas = set()\n",
    "\n",
    "    def construir(v):\n",
    "        \"\"\"Função recursiva para traçar o grafo.\"\"\"\n",
    "        if v not in vertices:\n",
    "            vertices.add(v)\n",
    "            for progenitor in v.progenitor:\n",
    "                arestas.add((progenitor, v))\n",
    "                construir(progenitor)\n",
    "\n",
    "    construir(folha)\n",
    "\n",
    "    return vertices, arestas\n",
    "\n",
    "\n",
    "def plota_grafo(folha):\n",
    "    \"\"\"Função modificada da criada por Andrej Karpathy para construção de grafo.\n",
    "\n",
    "    Referência: https://github.com/karpathy/micrograd\n",
    "\n",
    "    \"\"\"\n",
    "    grafo = Digraph(format=\"svg\", graph_attr={\"rankdir\": \"LR\"})\n",
    "    vertices, arestas = _tracar(folha)\n",
    "\n",
    "    for v in vertices:\n",
    "        id_vertice = str(id(v))\n",
    "\n",
    "        if hasattr(v, \"rotulo\") and (hasattr(v, \"grad\")):\n",
    "            texto = \"{ \" + f\"{v.rotulo} | data {v.data:.3f} | grad {v.grad:.3f}\" + \" }\"\n",
    "\n",
    "        elif hasattr(v, \"rotulo\"):\n",
    "            texto = \"{ \" + f\"{v.rotulo} | data {v.data:.3f}\" + \" }\"\n",
    "\n",
    "        else:\n",
    "            texto = \"{ \" + f\"data {v.data:.3f}\" + \" }\"\n",
    "\n",
    "        grafo.node(name=id_vertice, label=texto, shape=\"record\")\n",
    "\n",
    "        if v.operador_mae:\n",
    "            grafo.node(name=id_vertice + v.operador_mae, label=v.operador_mae)\n",
    "            grafo.edge(id_vertice + v.operador_mae, id_vertice)\n",
    "\n",
    "    for vertice1, vertice2 in arestas:\n",
    "        grafo.edge(str(id(vertice1)), str(id(vertice2)) + vertice2.operador_mae)\n",
    "\n",
    "    return grafo"
   ]
  },
  {
   "cell_type": "code",
   "execution_count": 2,
   "id": "6d9729db-b25d-4e54-8f02-f8be7d7c4cec",
   "metadata": {},
   "outputs": [],
   "source": [
    "import math\n",
    "\n",
    "class Valor:\n",
    "    def __init__(self, data, progenitor=(), operador_mae=\"\", rotulo=\"\"):\n",
    "        self.data = data\n",
    "        self.progenitor = progenitor\n",
    "        self.operador_mae = operador_mae\n",
    "        self.rotulo = rotulo\n",
    "        self.grad = 0\n",
    "\n",
    "    def __repr__(self):\n",
    "        return f\"Valor(data={self.data})\"\n",
    "    \n",
    "    def __add__(self, outro_valor):\n",
    "        \"\"\"Realiza a operação: self + outro_valor.\"\"\"\n",
    "        \n",
    "        if not isinstance(outro_valor, Valor):\n",
    "            outro_valor = Valor(outro_valor)\n",
    "            \n",
    "        progenitor = (self, outro_valor)\n",
    "        data = self.data + outro_valor.data\n",
    "        operador_mae = \"+\"\n",
    "        resultado = Valor(data, progenitor, operador_mae)\n",
    "        \n",
    "        def propagar_adicao():\n",
    "            self.grad += resultado.grad\n",
    "            outro_valor.grad += resultado.grad\n",
    "            \n",
    "        resultado.propagar = propagar_adicao\n",
    "        \n",
    "        return resultado\n",
    "    \n",
    "    def __mul__(self, outro_valor):\n",
    "        \"\"\"Realiza a operação: self * outro_valor.\"\"\"\n",
    "        \n",
    "        if not isinstance(outro_valor, Valor):\n",
    "            outro_valor = Valor(outro_valor)\n",
    "            \n",
    "        progenitor = (self, outro_valor)\n",
    "        data = self.data * outro_valor.data\n",
    "        operador_mae = \"*\"\n",
    "        resultado = Valor(data, progenitor, operador_mae)\n",
    "        \n",
    "        def propagar_multiplicacao():\n",
    "            self.grad += resultado.grad * outro_valor.data # grad_filho * derivada filho em relação a mãe\n",
    "            outro_valor.grad += resultado.grad * self.data\n",
    "            \n",
    "        resultado.propagar = propagar_multiplicacao\n",
    "        \n",
    "        return resultado\n",
    "    \n",
    "    def exp(self):\n",
    "        \"\"\"Realiza a operação: exp(self)\"\"\"\n",
    "        progenitor = (self, )\n",
    "        data = math.exp(self.data)\n",
    "        operador_mae = \"exp\"\n",
    "        resultado = Valor(data, progenitor, operador_mae)\n",
    "        \n",
    "        def propagar_exp():\n",
    "            self.grad += resultado.grad * data \n",
    "        \n",
    "        resultado.propagar = propagar_exp\n",
    "        \n",
    "        return resultado\n",
    "    \n",
    "    def __pow__(self, expoente):\n",
    "        \"\"\"Realiza a operação: self ** expoente\"\"\"\n",
    "        assert isinstance(expoente, (int, float))\n",
    "        progenitor = (self, )\n",
    "        data = self.data ** expoente\n",
    "        operador_mae = f\"**{expoente}\"\n",
    "        resultado = Valor(data, progenitor, operador_mae)\n",
    "        \n",
    "        def propagar_pow():\n",
    "            self.grad += resultado.grad * (expoente * self.data ** (expoente - 1))\n",
    "        \n",
    "        resultado.propagar = propagar_pow\n",
    "        \n",
    "        return resultado\n",
    "    \n",
    "    def __truediv__(self, outro_valor):\n",
    "        \"\"\"Realiza a operação: self / outro_valor\"\"\"\n",
    "        return self * outro_valor ** (-1)\n",
    "    \n",
    "    def __neg__(self):\n",
    "        \"\"\"Realiza a operação: -self\"\"\"\n",
    "        return self * -1\n",
    "    \n",
    "    def __sub__(self, outro_valor):\n",
    "        \"\"\"Realiza a operação: self - outro_valor\"\"\"\n",
    "        return self + (-outro_valor)\n",
    "    \n",
    "    def __radd__(self, outro_valor):\n",
    "        \"\"\"Realiza a operação: outro_valor + self\"\"\"\n",
    "        return self + outro_valor\n",
    "    \n",
    "    def __rmul__(self, outro_valor):\n",
    "        \"\"\"Realiza a operação: outro_valor * self\"\"\"\n",
    "        return self * outro_valor\n",
    "    \n",
    "    def sig(self):\n",
    "        \"\"\"Realiza a operação: exp(self) / (exp(self) + 1)\"\"\"\n",
    "        return self.exp() / (self.exp() + 1)\n",
    "    \n",
    "    def propagar(self):\n",
    "        pass\n",
    "    \n",
    "    def propagar_tudo(self):\n",
    "        \n",
    "        self.grad = 1\n",
    "        \n",
    "        ordem_topologica = []\n",
    "        \n",
    "        visitados = set()\n",
    "\n",
    "        def constroi_ordem_topologica(v):\n",
    "            if v not in visitados:\n",
    "                visitados.add(v)\n",
    "                for progenitor in v.progenitor:\n",
    "                    constroi_ordem_topologica(progenitor)\n",
    "                ordem_topologica.append(v)\n",
    "\n",
    "        constroi_ordem_topologica(self)\n",
    "        \n",
    "        for vertice in reversed(ordem_topologica):\n",
    "            vertice.propagar()"
   ]
  },
  {
   "cell_type": "code",
   "execution_count": 23,
   "id": "539030d8-5a54-4871-99ff-cbe016a8fe62",
   "metadata": {},
   "outputs": [
    {
     "name": "stdout",
     "output_type": "stream",
     "text": [
      "Valor(data=10)\n"
     ]
    }
   ],
   "source": [
    "a = Valor(10)\n",
    "print(a)"
   ]
  },
  {
   "cell_type": "code",
   "execution_count": 24,
   "id": "fd18af5a-ec98-4302-9d3a-9691afa11f71",
   "metadata": {},
   "outputs": [
    {
     "name": "stdout",
     "output_type": "stream",
     "text": [
      "Valor(data=5)\n"
     ]
    }
   ],
   "source": [
    "b = Valor(5)\n",
    "print(b)"
   ]
  },
  {
   "cell_type": "code",
   "execution_count": 25,
   "id": "82841bf3-9691-4a29-9b50-3e74014605c6",
   "metadata": {},
   "outputs": [],
   "source": [
    "c = a + b"
   ]
  },
  {
   "cell_type": "code",
   "execution_count": 26,
   "id": "7304a97e-591a-47dd-9d3c-d9015cfff0fa",
   "metadata": {},
   "outputs": [
    {
     "name": "stdout",
     "output_type": "stream",
     "text": [
      "Valor(data=15)\n"
     ]
    }
   ],
   "source": [
    "print(c)"
   ]
  },
  {
   "cell_type": "code",
   "execution_count": 27,
   "id": "2890493e-68d1-4b1b-8ada-11e89f0c293a",
   "metadata": {},
   "outputs": [
    {
     "data": {
      "text/plain": [
       "(Valor(data=10), Valor(data=5))"
      ]
     },
     "execution_count": 27,
     "metadata": {},
     "output_type": "execute_result"
    }
   ],
   "source": [
    "c.progenitor"
   ]
  },
  {
   "cell_type": "code",
   "execution_count": 28,
   "id": "f97034a6-4cd9-449d-8266-3227768085c5",
   "metadata": {},
   "outputs": [
    {
     "data": {
      "text/plain": [
       "'+'"
      ]
     },
     "execution_count": 28,
     "metadata": {},
     "output_type": "execute_result"
    }
   ],
   "source": [
    "c.operador_mae"
   ]
  },
  {
   "cell_type": "code",
   "execution_count": 29,
   "id": "e2d1a895-ab6b-4a74-8726-c2da69312038",
   "metadata": {},
   "outputs": [],
   "source": [
    "d = a * b"
   ]
  },
  {
   "cell_type": "code",
   "execution_count": 30,
   "id": "0541dc35-37fd-4ab8-80c9-1e2ac8bc34f4",
   "metadata": {},
   "outputs": [
    {
     "name": "stdout",
     "output_type": "stream",
     "text": [
      "Valor(data=50)\n"
     ]
    }
   ],
   "source": [
    "print(d)"
   ]
  },
  {
   "cell_type": "code",
   "execution_count": 31,
   "id": "bcd56e6b-8e08-4d8c-8f3b-2f7d34db050c",
   "metadata": {},
   "outputs": [
    {
     "data": {
      "text/plain": [
       "(Valor(data=10), Valor(data=5))"
      ]
     },
     "execution_count": 31,
     "metadata": {},
     "output_type": "execute_result"
    }
   ],
   "source": [
    "d.progenitor"
   ]
  },
  {
   "cell_type": "code",
   "execution_count": 33,
   "id": "700ea793-4b5a-4199-b031-516d280eabd8",
   "metadata": {},
   "outputs": [
    {
     "data": {
      "text/plain": [
       "'*'"
      ]
     },
     "execution_count": 33,
     "metadata": {},
     "output_type": "execute_result"
    }
   ],
   "source": [
    "d.operador_mae"
   ]
  },
  {
   "cell_type": "code",
   "execution_count": 32,
   "id": "2a15d742-4301-4a01-915a-be297d06fbd7",
   "metadata": {},
   "outputs": [
    {
     "data": {
      "text/plain": [
       "()"
      ]
     },
     "execution_count": 32,
     "metadata": {},
     "output_type": "execute_result"
    }
   ],
   "source": [
    "b.progenitor"
   ]
  },
  {
   "cell_type": "code",
   "execution_count": 42,
   "id": "5941dde9-8658-4a46-8224-a2d1ad1bfd57",
   "metadata": {},
   "outputs": [
    {
     "data": {
      "image/svg+xml": [
       "<?xml version=\"1.0\" encoding=\"UTF-8\" standalone=\"no\"?>\n",
       "<!DOCTYPE svg PUBLIC \"-//W3C//DTD SVG 1.1//EN\"\n",
       " \"http://www.w3.org/Graphics/SVG/1.1/DTD/svg11.dtd\">\n",
       "<!-- Generated by graphviz version 2.43.0 (0)\n",
       " -->\n",
       "<!-- Title: %3 Pages: 1 -->\n",
       "<svg width=\"913pt\" height=\"128pt\"\n",
       " viewBox=\"0.00 0.00 913.00 128.00\" xmlns=\"http://www.w3.org/2000/svg\" xmlns:xlink=\"http://www.w3.org/1999/xlink\">\n",
       "<g id=\"graph0\" class=\"graph\" transform=\"scale(1 1) rotate(0) translate(4 124)\">\n",
       "<title>%3</title>\n",
       "<polygon fill=\"white\" stroke=\"transparent\" points=\"-4,4 -4,-124 909,-124 909,4 -4,4\"/>\n",
       "<!-- 139950104455168 -->\n",
       "<g id=\"node1\" class=\"node\">\n",
       "<title>139950104455168</title>\n",
       "<polygon fill=\"none\" stroke=\"black\" points=\"1,-83.5 1,-119.5 218,-119.5 218,-83.5 1,-83.5\"/>\n",
       "<text text-anchor=\"middle\" x=\"13.5\" y=\"-97.8\" font-family=\"Times,serif\" font-size=\"14.00\">a</text>\n",
       "<polyline fill=\"none\" stroke=\"black\" points=\"26,-83.5 26,-119.5 \"/>\n",
       "<text text-anchor=\"middle\" x=\"72.5\" y=\"-97.8\" font-family=\"Times,serif\" font-size=\"14.00\">data 2.000</text>\n",
       "<polyline fill=\"none\" stroke=\"black\" points=\"119,-83.5 119,-119.5 \"/>\n",
       "<text text-anchor=\"middle\" x=\"168.5\" y=\"-97.8\" font-family=\"Times,serif\" font-size=\"14.00\">grad &#45;3.000</text>\n",
       "</g>\n",
       "<!-- 139950104452768* -->\n",
       "<g id=\"node5\" class=\"node\">\n",
       "<title>139950104452768*</title>\n",
       "<ellipse fill=\"none\" stroke=\"black\" cx=\"282\" cy=\"-73.5\" rx=\"27\" ry=\"18\"/>\n",
       "<text text-anchor=\"middle\" x=\"282\" y=\"-69.8\" font-family=\"Times,serif\" font-size=\"14.00\">*</text>\n",
       "</g>\n",
       "<!-- 139950104455168&#45;&gt;139950104452768* -->\n",
       "<g id=\"edge6\" class=\"edge\">\n",
       "<title>139950104455168&#45;&gt;139950104452768*</title>\n",
       "<path fill=\"none\" stroke=\"black\" d=\"M218.48,-83.77C228.15,-82.18 237.39,-80.66 245.67,-79.3\"/>\n",
       "<polygon fill=\"black\" stroke=\"black\" points=\"246.29,-82.75 255.59,-77.67 245.15,-75.84 246.29,-82.75\"/>\n",
       "</g>\n",
       "<!-- 139950104454160 -->\n",
       "<g id=\"node2\" class=\"node\">\n",
       "<title>139950104454160</title>\n",
       "<polygon fill=\"none\" stroke=\"black\" points=\"345,-0.5 345,-36.5 566,-36.5 566,-0.5 345,-0.5\"/>\n",
       "<text text-anchor=\"middle\" x=\"357\" y=\"-14.8\" font-family=\"Times,serif\" font-size=\"14.00\">c</text>\n",
       "<polyline fill=\"none\" stroke=\"black\" points=\"369,-0.5 369,-36.5 \"/>\n",
       "<text text-anchor=\"middle\" x=\"420\" y=\"-14.8\" font-family=\"Times,serif\" font-size=\"14.00\">data 10.000</text>\n",
       "<polyline fill=\"none\" stroke=\"black\" points=\"471,-0.5 471,-36.5 \"/>\n",
       "<text text-anchor=\"middle\" x=\"518.5\" y=\"-14.8\" font-family=\"Times,serif\" font-size=\"14.00\">grad 1.000</text>\n",
       "</g>\n",
       "<!-- 139950104446912+ -->\n",
       "<g id=\"node7\" class=\"node\">\n",
       "<title>139950104446912+</title>\n",
       "<ellipse fill=\"none\" stroke=\"black\" cx=\"629\" cy=\"-45.5\" rx=\"27\" ry=\"18\"/>\n",
       "<text text-anchor=\"middle\" x=\"629\" y=\"-41.8\" font-family=\"Times,serif\" font-size=\"14.00\">+</text>\n",
       "</g>\n",
       "<!-- 139950104454160&#45;&gt;139950104446912+ -->\n",
       "<g id=\"edge3\" class=\"edge\">\n",
       "<title>139950104454160&#45;&gt;139950104446912+</title>\n",
       "<path fill=\"none\" stroke=\"black\" d=\"M566.08,-35.75C575.49,-37.23 584.48,-38.65 592.54,-39.92\"/>\n",
       "<polygon fill=\"black\" stroke=\"black\" points=\"592.16,-43.4 602.58,-41.5 593.25,-36.49 592.16,-43.4\"/>\n",
       "</g>\n",
       "<!-- 139950104447632 -->\n",
       "<g id=\"node3\" class=\"node\">\n",
       "<title>139950104447632</title>\n",
       "<polygon fill=\"none\" stroke=\"black\" points=\"0,-28.5 0,-64.5 219,-64.5 219,-28.5 0,-28.5\"/>\n",
       "<text text-anchor=\"middle\" x=\"13\" y=\"-42.8\" font-family=\"Times,serif\" font-size=\"14.00\">b</text>\n",
       "<polyline fill=\"none\" stroke=\"black\" points=\"26,-28.5 26,-64.5 \"/>\n",
       "<text text-anchor=\"middle\" x=\"75\" y=\"-42.8\" font-family=\"Times,serif\" font-size=\"14.00\">data &#45;3.000</text>\n",
       "<polyline fill=\"none\" stroke=\"black\" points=\"124,-28.5 124,-64.5 \"/>\n",
       "<text text-anchor=\"middle\" x=\"171.5\" y=\"-42.8\" font-family=\"Times,serif\" font-size=\"14.00\">grad 2.000</text>\n",
       "</g>\n",
       "<!-- 139950104447632&#45;&gt;139950104452768* -->\n",
       "<g id=\"edge4\" class=\"edge\">\n",
       "<title>139950104447632&#45;&gt;139950104452768*</title>\n",
       "<path fill=\"none\" stroke=\"black\" d=\"M219.45,-63.75C228.7,-65.22 237.56,-66.62 245.52,-67.88\"/>\n",
       "<polygon fill=\"black\" stroke=\"black\" points=\"245,-71.34 255.43,-69.45 246.1,-64.43 245,-71.34\"/>\n",
       "</g>\n",
       "<!-- 139950104452768 -->\n",
       "<g id=\"node4\" class=\"node\">\n",
       "<title>139950104452768</title>\n",
       "<polygon fill=\"none\" stroke=\"black\" points=\"346,-55.5 346,-91.5 565,-91.5 565,-55.5 346,-55.5\"/>\n",
       "<text text-anchor=\"middle\" x=\"359\" y=\"-69.8\" font-family=\"Times,serif\" font-size=\"14.00\">d</text>\n",
       "<polyline fill=\"none\" stroke=\"black\" points=\"372,-55.5 372,-91.5 \"/>\n",
       "<text text-anchor=\"middle\" x=\"421\" y=\"-69.8\" font-family=\"Times,serif\" font-size=\"14.00\">data &#45;6.000</text>\n",
       "<polyline fill=\"none\" stroke=\"black\" points=\"470,-55.5 470,-91.5 \"/>\n",
       "<text text-anchor=\"middle\" x=\"517.5\" y=\"-69.8\" font-family=\"Times,serif\" font-size=\"14.00\">grad 1.000</text>\n",
       "</g>\n",
       "<!-- 139950104452768&#45;&gt;139950104446912+ -->\n",
       "<g id=\"edge5\" class=\"edge\">\n",
       "<title>139950104452768&#45;&gt;139950104446912+</title>\n",
       "<path fill=\"none\" stroke=\"black\" d=\"M565.11,-55.77C574.84,-54.18 584.13,-52.66 592.46,-51.3\"/>\n",
       "<polygon fill=\"black\" stroke=\"black\" points=\"593.14,-54.74 602.44,-49.67 592.01,-47.83 593.14,-54.74\"/>\n",
       "</g>\n",
       "<!-- 139950104452768*&#45;&gt;139950104452768 -->\n",
       "<g id=\"edge1\" class=\"edge\">\n",
       "<title>139950104452768*&#45;&gt;139950104452768</title>\n",
       "<path fill=\"none\" stroke=\"black\" d=\"M309.05,-73.5C316.77,-73.5 325.77,-73.5 335.44,-73.5\"/>\n",
       "<polygon fill=\"black\" stroke=\"black\" points=\"335.73,-77 345.73,-73.5 335.73,-70 335.73,-77\"/>\n",
       "</g>\n",
       "<!-- 139950104446912 -->\n",
       "<g id=\"node6\" class=\"node\">\n",
       "<title>139950104446912</title>\n",
       "<polygon fill=\"none\" stroke=\"black\" points=\"692,-27.5 692,-63.5 905,-63.5 905,-27.5 692,-27.5\"/>\n",
       "<text text-anchor=\"middle\" x=\"704.5\" y=\"-41.8\" font-family=\"Times,serif\" font-size=\"14.00\">e</text>\n",
       "<polyline fill=\"none\" stroke=\"black\" points=\"717,-27.5 717,-63.5 \"/>\n",
       "<text text-anchor=\"middle\" x=\"763.5\" y=\"-41.8\" font-family=\"Times,serif\" font-size=\"14.00\">data 4.000</text>\n",
       "<polyline fill=\"none\" stroke=\"black\" points=\"810,-27.5 810,-63.5 \"/>\n",
       "<text text-anchor=\"middle\" x=\"857.5\" y=\"-41.8\" font-family=\"Times,serif\" font-size=\"14.00\">grad 1.000</text>\n",
       "</g>\n",
       "<!-- 139950104446912+&#45;&gt;139950104446912 -->\n",
       "<g id=\"edge2\" class=\"edge\">\n",
       "<title>139950104446912+&#45;&gt;139950104446912</title>\n",
       "<path fill=\"none\" stroke=\"black\" d=\"M656.17,-45.5C663.6,-45.5 672.21,-45.5 681.43,-45.5\"/>\n",
       "<polygon fill=\"black\" stroke=\"black\" points=\"681.66,-49 691.66,-45.5 681.66,-42 681.66,-49\"/>\n",
       "</g>\n",
       "</g>\n",
       "</svg>\n"
      ],
      "text/plain": [
       "<graphviz.graphs.Digraph at 0x7f48ac4322c0>"
      ]
     },
     "execution_count": 42,
     "metadata": {},
     "output_type": "execute_result"
    }
   ],
   "source": [
    "a = Valor(2, rotulo=\"a\")\n",
    "b = Valor(-3, rotulo=\"b\")\n",
    "c = Valor(10, rotulo=\"c\")\n",
    "\n",
    "d = a * b\n",
    "d.rotulo = \"d\"\n",
    "e = d + c\n",
    "e.rotulo = \"e\"\n",
    "\n",
    "e.grad = 1  # de/de\n",
    "c.grad = 1  # de/dc   e = d + c\n",
    "d.grad = 1  # de/dd\n",
    "\n",
    "a.grad = -3  # de/da = 1 * -3   d = a * b\n",
    "b.grad = 2  # de/db = 1 * 2\n",
    "\n",
    "plota_grafo(e)"
   ]
  },
  {
   "cell_type": "code",
   "execution_count": 56,
   "id": "af133157-a03c-4efd-96e9-b419d8f1ed57",
   "metadata": {},
   "outputs": [
    {
     "data": {
      "image/svg+xml": [
       "<?xml version=\"1.0\" encoding=\"UTF-8\" standalone=\"no\"?>\n",
       "<!DOCTYPE svg PUBLIC \"-//W3C//DTD SVG 1.1//EN\"\n",
       " \"http://www.w3.org/Graphics/SVG/1.1/DTD/svg11.dtd\">\n",
       "<!-- Generated by graphviz version 2.43.0 (0)\n",
       " -->\n",
       "<!-- Title: %3 Pages: 1 -->\n",
       "<svg width=\"913pt\" height=\"128pt\"\n",
       " viewBox=\"0.00 0.00 913.00 128.00\" xmlns=\"http://www.w3.org/2000/svg\" xmlns:xlink=\"http://www.w3.org/1999/xlink\">\n",
       "<g id=\"graph0\" class=\"graph\" transform=\"scale(1 1) rotate(0) translate(4 124)\">\n",
       "<title>%3</title>\n",
       "<polygon fill=\"white\" stroke=\"transparent\" points=\"-4,4 -4,-124 909,-124 909,4 -4,4\"/>\n",
       "<!-- 139950102944288 -->\n",
       "<g id=\"node1\" class=\"node\">\n",
       "<title>139950102944288</title>\n",
       "<polygon fill=\"none\" stroke=\"black\" points=\"0,-83.5 0,-119.5 219,-119.5 219,-83.5 0,-83.5\"/>\n",
       "<text text-anchor=\"middle\" x=\"13\" y=\"-97.8\" font-family=\"Times,serif\" font-size=\"14.00\">b</text>\n",
       "<polyline fill=\"none\" stroke=\"black\" points=\"26,-83.5 26,-119.5 \"/>\n",
       "<text text-anchor=\"middle\" x=\"75\" y=\"-97.8\" font-family=\"Times,serif\" font-size=\"14.00\">data &#45;3.000</text>\n",
       "<polyline fill=\"none\" stroke=\"black\" points=\"124,-83.5 124,-119.5 \"/>\n",
       "<text text-anchor=\"middle\" x=\"171.5\" y=\"-97.8\" font-family=\"Times,serif\" font-size=\"14.00\">grad 2.000</text>\n",
       "</g>\n",
       "<!-- 139950104398624* -->\n",
       "<g id=\"node5\" class=\"node\">\n",
       "<title>139950104398624*</title>\n",
       "<ellipse fill=\"none\" stroke=\"black\" cx=\"282\" cy=\"-73.5\" rx=\"27\" ry=\"18\"/>\n",
       "<text text-anchor=\"middle\" x=\"282\" y=\"-69.8\" font-family=\"Times,serif\" font-size=\"14.00\">*</text>\n",
       "</g>\n",
       "<!-- 139950102944288&#45;&gt;139950104398624* -->\n",
       "<g id=\"edge3\" class=\"edge\">\n",
       "<title>139950102944288&#45;&gt;139950104398624*</title>\n",
       "<path fill=\"none\" stroke=\"black\" d=\"M219.45,-83.61C228.79,-82.07 237.73,-80.61 245.75,-79.29\"/>\n",
       "<polygon fill=\"black\" stroke=\"black\" points=\"246.43,-82.72 255.73,-77.65 245.29,-75.82 246.43,-82.72\"/>\n",
       "</g>\n",
       "<!-- 139950102947408 -->\n",
       "<g id=\"node2\" class=\"node\">\n",
       "<title>139950102947408</title>\n",
       "<polygon fill=\"none\" stroke=\"black\" points=\"1,-28.5 1,-64.5 218,-64.5 218,-28.5 1,-28.5\"/>\n",
       "<text text-anchor=\"middle\" x=\"13.5\" y=\"-42.8\" font-family=\"Times,serif\" font-size=\"14.00\">a</text>\n",
       "<polyline fill=\"none\" stroke=\"black\" points=\"26,-28.5 26,-64.5 \"/>\n",
       "<text text-anchor=\"middle\" x=\"72.5\" y=\"-42.8\" font-family=\"Times,serif\" font-size=\"14.00\">data 2.000</text>\n",
       "<polyline fill=\"none\" stroke=\"black\" points=\"119,-28.5 119,-64.5 \"/>\n",
       "<text text-anchor=\"middle\" x=\"168.5\" y=\"-42.8\" font-family=\"Times,serif\" font-size=\"14.00\">grad &#45;3.000</text>\n",
       "</g>\n",
       "<!-- 139950102947408&#45;&gt;139950104398624* -->\n",
       "<g id=\"edge6\" class=\"edge\">\n",
       "<title>139950102947408&#45;&gt;139950104398624*</title>\n",
       "<path fill=\"none\" stroke=\"black\" d=\"M218.48,-63.6C228.15,-65.13 237.39,-66.59 245.67,-67.9\"/>\n",
       "<polygon fill=\"black\" stroke=\"black\" points=\"245.17,-71.37 255.59,-69.48 246.26,-64.45 245.17,-71.37\"/>\n",
       "</g>\n",
       "<!-- 139950102939296 -->\n",
       "<g id=\"node3\" class=\"node\">\n",
       "<title>139950102939296</title>\n",
       "<polygon fill=\"none\" stroke=\"black\" points=\"345,-0.5 345,-36.5 566,-36.5 566,-0.5 345,-0.5\"/>\n",
       "<text text-anchor=\"middle\" x=\"357\" y=\"-14.8\" font-family=\"Times,serif\" font-size=\"14.00\">c</text>\n",
       "<polyline fill=\"none\" stroke=\"black\" points=\"369,-0.5 369,-36.5 \"/>\n",
       "<text text-anchor=\"middle\" x=\"420\" y=\"-14.8\" font-family=\"Times,serif\" font-size=\"14.00\">data 10.000</text>\n",
       "<polyline fill=\"none\" stroke=\"black\" points=\"471,-0.5 471,-36.5 \"/>\n",
       "<text text-anchor=\"middle\" x=\"518.5\" y=\"-14.8\" font-family=\"Times,serif\" font-size=\"14.00\">grad 1.000</text>\n",
       "</g>\n",
       "<!-- 139950104398192+ -->\n",
       "<g id=\"node7\" class=\"node\">\n",
       "<title>139950104398192+</title>\n",
       "<ellipse fill=\"none\" stroke=\"black\" cx=\"629\" cy=\"-45.5\" rx=\"27\" ry=\"18\"/>\n",
       "<text text-anchor=\"middle\" x=\"629\" y=\"-41.8\" font-family=\"Times,serif\" font-size=\"14.00\">+</text>\n",
       "</g>\n",
       "<!-- 139950102939296&#45;&gt;139950104398192+ -->\n",
       "<g id=\"edge4\" class=\"edge\">\n",
       "<title>139950102939296&#45;&gt;139950104398192+</title>\n",
       "<path fill=\"none\" stroke=\"black\" d=\"M566.08,-35.75C575.49,-37.23 584.48,-38.65 592.54,-39.92\"/>\n",
       "<polygon fill=\"black\" stroke=\"black\" points=\"592.16,-43.4 602.58,-41.5 593.25,-36.49 592.16,-43.4\"/>\n",
       "</g>\n",
       "<!-- 139950104398624 -->\n",
       "<g id=\"node4\" class=\"node\">\n",
       "<title>139950104398624</title>\n",
       "<polygon fill=\"none\" stroke=\"black\" points=\"346,-55.5 346,-91.5 565,-91.5 565,-55.5 346,-55.5\"/>\n",
       "<text text-anchor=\"middle\" x=\"359\" y=\"-69.8\" font-family=\"Times,serif\" font-size=\"14.00\">d</text>\n",
       "<polyline fill=\"none\" stroke=\"black\" points=\"372,-55.5 372,-91.5 \"/>\n",
       "<text text-anchor=\"middle\" x=\"421\" y=\"-69.8\" font-family=\"Times,serif\" font-size=\"14.00\">data &#45;6.000</text>\n",
       "<polyline fill=\"none\" stroke=\"black\" points=\"470,-55.5 470,-91.5 \"/>\n",
       "<text text-anchor=\"middle\" x=\"517.5\" y=\"-69.8\" font-family=\"Times,serif\" font-size=\"14.00\">grad 1.000</text>\n",
       "</g>\n",
       "<!-- 139950104398624&#45;&gt;139950104398192+ -->\n",
       "<g id=\"edge5\" class=\"edge\">\n",
       "<title>139950104398624&#45;&gt;139950104398192+</title>\n",
       "<path fill=\"none\" stroke=\"black\" d=\"M565.11,-55.77C574.84,-54.18 584.13,-52.66 592.46,-51.3\"/>\n",
       "<polygon fill=\"black\" stroke=\"black\" points=\"593.14,-54.74 602.44,-49.67 592.01,-47.83 593.14,-54.74\"/>\n",
       "</g>\n",
       "<!-- 139950104398624*&#45;&gt;139950104398624 -->\n",
       "<g id=\"edge1\" class=\"edge\">\n",
       "<title>139950104398624*&#45;&gt;139950104398624</title>\n",
       "<path fill=\"none\" stroke=\"black\" d=\"M309.05,-73.5C316.77,-73.5 325.77,-73.5 335.44,-73.5\"/>\n",
       "<polygon fill=\"black\" stroke=\"black\" points=\"335.73,-77 345.73,-73.5 335.73,-70 335.73,-77\"/>\n",
       "</g>\n",
       "<!-- 139950104398192 -->\n",
       "<g id=\"node6\" class=\"node\">\n",
       "<title>139950104398192</title>\n",
       "<polygon fill=\"none\" stroke=\"black\" points=\"692,-27.5 692,-63.5 905,-63.5 905,-27.5 692,-27.5\"/>\n",
       "<text text-anchor=\"middle\" x=\"704.5\" y=\"-41.8\" font-family=\"Times,serif\" font-size=\"14.00\">e</text>\n",
       "<polyline fill=\"none\" stroke=\"black\" points=\"717,-27.5 717,-63.5 \"/>\n",
       "<text text-anchor=\"middle\" x=\"763.5\" y=\"-41.8\" font-family=\"Times,serif\" font-size=\"14.00\">data 4.000</text>\n",
       "<polyline fill=\"none\" stroke=\"black\" points=\"810,-27.5 810,-63.5 \"/>\n",
       "<text text-anchor=\"middle\" x=\"857.5\" y=\"-41.8\" font-family=\"Times,serif\" font-size=\"14.00\">grad 1.000</text>\n",
       "</g>\n",
       "<!-- 139950104398192+&#45;&gt;139950104398192 -->\n",
       "<g id=\"edge2\" class=\"edge\">\n",
       "<title>139950104398192+&#45;&gt;139950104398192</title>\n",
       "<path fill=\"none\" stroke=\"black\" d=\"M656.17,-45.5C663.6,-45.5 672.21,-45.5 681.43,-45.5\"/>\n",
       "<polygon fill=\"black\" stroke=\"black\" points=\"681.66,-49 691.66,-45.5 681.66,-42 681.66,-49\"/>\n",
       "</g>\n",
       "</g>\n",
       "</svg>\n"
      ],
      "text/plain": [
       "<graphviz.graphs.Digraph at 0x7f48ac425510>"
      ]
     },
     "execution_count": 56,
     "metadata": {},
     "output_type": "execute_result"
    }
   ],
   "source": [
    "a = Valor(2, rotulo=\"a\")\n",
    "b = Valor(-3, rotulo=\"b\")\n",
    "c = Valor(10, rotulo=\"c\")\n",
    "\n",
    "d = a * b\n",
    "d.rotulo = \"d\"\n",
    "e = d + c\n",
    "e.rotulo = \"e\"\n",
    "\n",
    "e.propagar_tudo()\n",
    "\n",
    "plota_grafo(e)"
   ]
  },
  {
   "cell_type": "code",
   "execution_count": null,
   "id": "cfb71b81-9d78-4eee-b654-211ccd7b55e1",
   "metadata": {},
   "outputs": [],
   "source": [
    "# autograd"
   ]
  },
  {
   "cell_type": "markdown",
   "id": "109c6d1d-6d3a-43e3-b4e1-6cd246a88edd",
   "metadata": {},
   "source": [
    "![img](https://i.imgur.com/Q3MA6dZ.png)"
   ]
  },
  {
   "cell_type": "code",
   "execution_count": 59,
   "id": "f8e36101-fc99-4a68-acd2-84e3641b4f45",
   "metadata": {},
   "outputs": [
    {
     "data": {
      "image/svg+xml": [
       "<?xml version=\"1.0\" encoding=\"UTF-8\" standalone=\"no\"?>\n",
       "<!DOCTYPE svg PUBLIC \"-//W3C//DTD SVG 1.1//EN\"\n",
       " \"http://www.w3.org/Graphics/SVG/1.1/DTD/svg11.dtd\">\n",
       "<!-- Generated by graphviz version 2.43.0 (0)\n",
       " -->\n",
       "<!-- Title: %3 Pages: 1 -->\n",
       "<svg width=\"915pt\" height=\"100pt\"\n",
       " viewBox=\"0.00 0.00 915.00 100.00\" xmlns=\"http://www.w3.org/2000/svg\" xmlns:xlink=\"http://www.w3.org/1999/xlink\">\n",
       "<g id=\"graph0\" class=\"graph\" transform=\"scale(1 1) rotate(0) translate(4 96)\">\n",
       "<title>%3</title>\n",
       "<polygon fill=\"white\" stroke=\"transparent\" points=\"-4,4 -4,-96 911,-96 911,4 -4,4\"/>\n",
       "<!-- 139950104518688 -->\n",
       "<g id=\"node1\" class=\"node\">\n",
       "<title>139950104518688</title>\n",
       "<polygon fill=\"none\" stroke=\"black\" points=\"344,-55.5 344,-91.5 563,-91.5 563,-55.5 344,-55.5\"/>\n",
       "<text text-anchor=\"middle\" x=\"357\" y=\"-69.8\" font-family=\"Times,serif\" font-size=\"14.00\">d</text>\n",
       "<polyline fill=\"none\" stroke=\"black\" points=\"370,-55.5 370,-91.5 \"/>\n",
       "<text text-anchor=\"middle\" x=\"419\" y=\"-69.8\" font-family=\"Times,serif\" font-size=\"14.00\">data &#45;6.000</text>\n",
       "<polyline fill=\"none\" stroke=\"black\" points=\"468,-55.5 468,-91.5 \"/>\n",
       "<text text-anchor=\"middle\" x=\"515.5\" y=\"-69.8\" font-family=\"Times,serif\" font-size=\"14.00\">grad 1.000</text>\n",
       "</g>\n",
       "<!-- 139950104511584+ -->\n",
       "<g id=\"node6\" class=\"node\">\n",
       "<title>139950104511584+</title>\n",
       "<ellipse fill=\"none\" stroke=\"black\" cx=\"626\" cy=\"-45.5\" rx=\"27\" ry=\"18\"/>\n",
       "<text text-anchor=\"middle\" x=\"626\" y=\"-41.8\" font-family=\"Times,serif\" font-size=\"14.00\">+</text>\n",
       "</g>\n",
       "<!-- 139950104518688&#45;&gt;139950104511584+ -->\n",
       "<g id=\"edge5\" class=\"edge\">\n",
       "<title>139950104518688&#45;&gt;139950104511584+</title>\n",
       "<path fill=\"none\" stroke=\"black\" d=\"M563.45,-55.61C572.79,-54.07 581.73,-52.61 589.75,-51.29\"/>\n",
       "<polygon fill=\"black\" stroke=\"black\" points=\"590.43,-54.72 599.73,-49.65 589.29,-47.82 590.43,-54.72\"/>\n",
       "</g>\n",
       "<!-- 139950104518688* -->\n",
       "<g id=\"node2\" class=\"node\">\n",
       "<title>139950104518688*</title>\n",
       "<ellipse fill=\"none\" stroke=\"black\" cx=\"281\" cy=\"-73.5\" rx=\"27\" ry=\"18\"/>\n",
       "<text text-anchor=\"middle\" x=\"281\" y=\"-69.8\" font-family=\"Times,serif\" font-size=\"14.00\">*</text>\n",
       "</g>\n",
       "<!-- 139950104518688*&#45;&gt;139950104518688 -->\n",
       "<g id=\"edge1\" class=\"edge\">\n",
       "<title>139950104518688*&#45;&gt;139950104518688</title>\n",
       "<path fill=\"none\" stroke=\"black\" d=\"M308.27,-73.5C315.68,-73.5 324.25,-73.5 333.45,-73.5\"/>\n",
       "<polygon fill=\"black\" stroke=\"black\" points=\"333.66,-77 343.66,-73.5 333.66,-70 333.66,-77\"/>\n",
       "</g>\n",
       "<!-- 139950104514032 -->\n",
       "<g id=\"node3\" class=\"node\">\n",
       "<title>139950104514032</title>\n",
       "<polygon fill=\"none\" stroke=\"black\" points=\"347.5,-0.5 347.5,-36.5 559.5,-36.5 559.5,-0.5 347.5,-0.5\"/>\n",
       "<text text-anchor=\"middle\" x=\"359.5\" y=\"-14.8\" font-family=\"Times,serif\" font-size=\"14.00\">c</text>\n",
       "<polyline fill=\"none\" stroke=\"black\" points=\"371.5,-0.5 371.5,-36.5 \"/>\n",
       "<text text-anchor=\"middle\" x=\"418\" y=\"-14.8\" font-family=\"Times,serif\" font-size=\"14.00\">data 1.000</text>\n",
       "<polyline fill=\"none\" stroke=\"black\" points=\"464.5,-0.5 464.5,-36.5 \"/>\n",
       "<text text-anchor=\"middle\" x=\"512\" y=\"-14.8\" font-family=\"Times,serif\" font-size=\"14.00\">grad 1.000</text>\n",
       "</g>\n",
       "<!-- 139950104514032&#45;&gt;139950104511584+ -->\n",
       "<g id=\"edge8\" class=\"edge\">\n",
       "<title>139950104514032&#45;&gt;139950104511584+</title>\n",
       "<path fill=\"none\" stroke=\"black\" d=\"M559.57,-35.14C570.21,-36.82 580.41,-38.44 589.46,-39.87\"/>\n",
       "<polygon fill=\"black\" stroke=\"black\" points=\"589.1,-43.36 599.52,-41.47 590.19,-36.44 589.1,-43.36\"/>\n",
       "</g>\n",
       "<!-- 139950104514032+ -->\n",
       "<g id=\"node4\" class=\"node\">\n",
       "<title>139950104514032+</title>\n",
       "<ellipse fill=\"none\" stroke=\"black\" cx=\"281\" cy=\"-18.5\" rx=\"27\" ry=\"18\"/>\n",
       "<text text-anchor=\"middle\" x=\"281\" y=\"-14.8\" font-family=\"Times,serif\" font-size=\"14.00\">+</text>\n",
       "</g>\n",
       "<!-- 139950104514032+&#45;&gt;139950104514032 -->\n",
       "<g id=\"edge2\" class=\"edge\">\n",
       "<title>139950104514032+&#45;&gt;139950104514032</title>\n",
       "<path fill=\"none\" stroke=\"black\" d=\"M308.27,-18.5C316.62,-18.5 326.45,-18.5 337,-18.5\"/>\n",
       "<polygon fill=\"black\" stroke=\"black\" points=\"337.3,-22 347.3,-18.5 337.3,-15 337.3,-22\"/>\n",
       "</g>\n",
       "<!-- 139950104511584 -->\n",
       "<g id=\"node5\" class=\"node\">\n",
       "<title>139950104511584</title>\n",
       "<polygon fill=\"none\" stroke=\"black\" points=\"689,-27.5 689,-63.5 907,-63.5 907,-27.5 689,-27.5\"/>\n",
       "<text text-anchor=\"middle\" x=\"701.5\" y=\"-41.8\" font-family=\"Times,serif\" font-size=\"14.00\">e</text>\n",
       "<polyline fill=\"none\" stroke=\"black\" points=\"714,-27.5 714,-63.5 \"/>\n",
       "<text text-anchor=\"middle\" x=\"763\" y=\"-41.8\" font-family=\"Times,serif\" font-size=\"14.00\">data &#45;5.000</text>\n",
       "<polyline fill=\"none\" stroke=\"black\" points=\"812,-27.5 812,-63.5 \"/>\n",
       "<text text-anchor=\"middle\" x=\"859.5\" y=\"-41.8\" font-family=\"Times,serif\" font-size=\"14.00\">grad 1.000</text>\n",
       "</g>\n",
       "<!-- 139950104511584+&#45;&gt;139950104511584 -->\n",
       "<g id=\"edge3\" class=\"edge\">\n",
       "<title>139950104511584+&#45;&gt;139950104511584</title>\n",
       "<path fill=\"none\" stroke=\"black\" d=\"M653.19,-45.5C660.65,-45.5 669.28,-45.5 678.56,-45.5\"/>\n",
       "<polygon fill=\"black\" stroke=\"black\" points=\"678.84,-49 688.84,-45.5 678.84,-42 678.84,-49\"/>\n",
       "</g>\n",
       "<!-- 139950104516432 -->\n",
       "<g id=\"node7\" class=\"node\">\n",
       "<title>139950104516432</title>\n",
       "<polygon fill=\"none\" stroke=\"black\" points=\"0,-55.5 0,-91.5 218,-91.5 218,-55.5 0,-55.5\"/>\n",
       "<text text-anchor=\"middle\" x=\"12.5\" y=\"-69.8\" font-family=\"Times,serif\" font-size=\"14.00\">a</text>\n",
       "<polyline fill=\"none\" stroke=\"black\" points=\"25,-55.5 25,-91.5 \"/>\n",
       "<text text-anchor=\"middle\" x=\"74\" y=\"-69.8\" font-family=\"Times,serif\" font-size=\"14.00\">data &#45;2.000</text>\n",
       "<polyline fill=\"none\" stroke=\"black\" points=\"123,-55.5 123,-91.5 \"/>\n",
       "<text text-anchor=\"middle\" x=\"170.5\" y=\"-69.8\" font-family=\"Times,serif\" font-size=\"14.00\">grad 4.000</text>\n",
       "</g>\n",
       "<!-- 139950104516432&#45;&gt;139950104518688* -->\n",
       "<g id=\"edge9\" class=\"edge\">\n",
       "<title>139950104516432&#45;&gt;139950104518688*</title>\n",
       "<path fill=\"none\" stroke=\"black\" d=\"M218.15,-73.5C227.24,-73.5 235.95,-73.5 243.82,-73.5\"/>\n",
       "<polygon fill=\"black\" stroke=\"black\" points=\"243.98,-77 253.98,-73.5 243.98,-70 243.98,-77\"/>\n",
       "</g>\n",
       "<!-- 139950104516432&#45;&gt;139950104514032+ -->\n",
       "<g id=\"edge6\" class=\"edge\">\n",
       "<title>139950104516432&#45;&gt;139950104514032+</title>\n",
       "<path fill=\"none\" stroke=\"black\" d=\"M189.23,-55.43C199,-52.7 208.78,-49.71 218,-46.5 228.57,-42.83 239.8,-38.04 249.77,-33.46\"/>\n",
       "<polygon fill=\"black\" stroke=\"black\" points=\"251.3,-36.61 258.86,-29.18 248.33,-30.27 251.3,-36.61\"/>\n",
       "</g>\n",
       "<!-- 139950104517104 -->\n",
       "<g id=\"node8\" class=\"node\">\n",
       "<title>139950104517104</title>\n",
       "<polygon fill=\"none\" stroke=\"black\" points=\"0,-0.5 0,-36.5 218,-36.5 218,-0.5 0,-0.5\"/>\n",
       "<text text-anchor=\"middle\" x=\"13\" y=\"-14.8\" font-family=\"Times,serif\" font-size=\"14.00\">b</text>\n",
       "<polyline fill=\"none\" stroke=\"black\" points=\"26,-0.5 26,-36.5 \"/>\n",
       "<text text-anchor=\"middle\" x=\"72.5\" y=\"-14.8\" font-family=\"Times,serif\" font-size=\"14.00\">data 3.000</text>\n",
       "<polyline fill=\"none\" stroke=\"black\" points=\"119,-0.5 119,-36.5 \"/>\n",
       "<text text-anchor=\"middle\" x=\"168.5\" y=\"-14.8\" font-family=\"Times,serif\" font-size=\"14.00\">grad &#45;1.000</text>\n",
       "</g>\n",
       "<!-- 139950104517104&#45;&gt;139950104518688* -->\n",
       "<g id=\"edge7\" class=\"edge\">\n",
       "<title>139950104517104&#45;&gt;139950104518688*</title>\n",
       "<path fill=\"none\" stroke=\"black\" d=\"M185.69,-36.51C196.61,-39.57 207.65,-42.93 218,-46.5 228.32,-50.06 239.33,-54.6 249.16,-58.93\"/>\n",
       "<polygon fill=\"black\" stroke=\"black\" points=\"247.97,-62.24 258.52,-63.15 250.85,-55.85 247.97,-62.24\"/>\n",
       "</g>\n",
       "<!-- 139950104517104&#45;&gt;139950104514032+ -->\n",
       "<g id=\"edge4\" class=\"edge\">\n",
       "<title>139950104517104&#45;&gt;139950104514032+</title>\n",
       "<path fill=\"none\" stroke=\"black\" d=\"M218.15,-18.5C227.24,-18.5 235.95,-18.5 243.82,-18.5\"/>\n",
       "<polygon fill=\"black\" stroke=\"black\" points=\"243.98,-22 253.98,-18.5 243.98,-15 243.98,-22\"/>\n",
       "</g>\n",
       "</g>\n",
       "</svg>\n"
      ],
      "text/plain": [
       "<graphviz.graphs.Digraph at 0x7f48ac441840>"
      ]
     },
     "execution_count": 59,
     "metadata": {},
     "output_type": "execute_result"
    }
   ],
   "source": [
    "a = Valor(-2, rotulo=\"a\")\n",
    "b = Valor(3, rotulo=\"b\")\n",
    "\n",
    "c = a + b\n",
    "d = a * b\n",
    "\n",
    "e = c + d\n",
    "\n",
    "c.rotulo = \"c\"\n",
    "d.rotulo = \"d\"\n",
    "e.rotulo = \"e\"\n",
    "\n",
    "e.propagar_tudo()\n",
    "plota_grafo(e)"
   ]
  },
  {
   "cell_type": "code",
   "execution_count": 63,
   "id": "571a2adb-61fa-441d-b374-b0fda928c0fc",
   "metadata": {},
   "outputs": [
    {
     "name": "stdout",
     "output_type": "stream",
     "text": [
      "Valor(data=11)\n"
     ]
    }
   ],
   "source": [
    "a = Valor(10, rotulo=\"a\")\n",
    "b = a + 1\n",
    "print(b)"
   ]
  },
  {
   "cell_type": "code",
   "execution_count": 61,
   "id": "4051392c-de33-4b25-99fa-4d0071d2ef8b",
   "metadata": {},
   "outputs": [
    {
     "ename": "SyntaxError",
     "evalue": "invalid decimal literal (110494918.py, line 1)",
     "output_type": "error",
     "traceback": [
      "\u001b[0;36m  Cell \u001b[0;32mIn[61], line 1\u001b[0;36m\u001b[0m\n\u001b[0;31m    1.data\u001b[0m\n\u001b[0m     ^\u001b[0m\n\u001b[0;31mSyntaxError\u001b[0m\u001b[0;31m:\u001b[0m invalid decimal literal\n"
     ]
    }
   ],
   "source": [
    "1.data"
   ]
  },
  {
   "cell_type": "code",
   "execution_count": 66,
   "id": "5a2b55b4-b2d2-4d70-b611-756a9be66e61",
   "metadata": {},
   "outputs": [
    {
     "name": "stdout",
     "output_type": "stream",
     "text": [
      "Valor(data=100)\n"
     ]
    }
   ],
   "source": [
    "a = Valor(10, rotulo=\"a\")\n",
    "b = a * 10\n",
    "print(b)"
   ]
  },
  {
   "cell_type": "code",
   "execution_count": 69,
   "id": "583a73e5-91e8-4670-b1c0-d1a22c4b5ce5",
   "metadata": {},
   "outputs": [
    {
     "name": "stdout",
     "output_type": "stream",
     "text": [
      "Valor(data=11)\n"
     ]
    }
   ],
   "source": [
    "a = Valor(10, rotulo=\"a\")\n",
    "b = 1 + a\n",
    "print(b)"
   ]
  },
  {
   "cell_type": "code",
   "execution_count": 72,
   "id": "7299a95f-7d19-4f6d-97d6-7c000ba8ef8c",
   "metadata": {},
   "outputs": [
    {
     "name": "stdout",
     "output_type": "stream",
     "text": [
      "Valor(data=100)\n"
     ]
    }
   ],
   "source": [
    "a = Valor(10, rotulo=\"a\")\n",
    "b = 10 * a\n",
    "print(b)"
   ]
  },
  {
   "cell_type": "code",
   "execution_count": 76,
   "id": "ac66168e-551a-4700-8711-0d3b7d2224fd",
   "metadata": {},
   "outputs": [
    {
     "name": "stdout",
     "output_type": "stream",
     "text": [
      "Valor(data=2.718281828459045)\n"
     ]
    }
   ],
   "source": [
    "a = Valor(1, rotulo=\"a\")\n",
    "b = a.exp()  # exp(a) ~ 2.718\n",
    "print(b)"
   ]
  },
  {
   "cell_type": "code",
   "execution_count": 79,
   "id": "81448db9-d788-453e-b6ac-a587256afad9",
   "metadata": {},
   "outputs": [
    {
     "name": "stdout",
     "output_type": "stream",
     "text": [
      "Valor(data=100)\n"
     ]
    }
   ],
   "source": [
    "a = Valor(10, rotulo=\"a\")\n",
    "b = a**2\n",
    "print(b)"
   ]
  },
  {
   "cell_type": "code",
   "execution_count": 82,
   "id": "37bd0858-8391-4bca-ba35-08b4246e8fb6",
   "metadata": {},
   "outputs": [
    {
     "name": "stdout",
     "output_type": "stream",
     "text": [
      "Valor(data=0.5)\n"
     ]
    }
   ],
   "source": [
    "a = Valor(1, rotulo=\"a\")\n",
    "b = Valor(2, rotulo=\"b\")\n",
    "c = a / b\n",
    "print(c)"
   ]
  },
  {
   "cell_type": "code",
   "execution_count": 85,
   "id": "d4604a92-3a0a-451d-82b9-0c95a03550c8",
   "metadata": {},
   "outputs": [
    {
     "name": "stdout",
     "output_type": "stream",
     "text": [
      "Valor(data=-1)\n"
     ]
    }
   ],
   "source": [
    "a = Valor(1, rotulo=\"a\")\n",
    "b = -a\n",
    "print(b)"
   ]
  },
  {
   "cell_type": "code",
   "execution_count": 88,
   "id": "bc2cd9cd-4c7d-4c13-a4e6-a8c120fb1d31",
   "metadata": {},
   "outputs": [
    {
     "name": "stdout",
     "output_type": "stream",
     "text": [
      "Valor(data=7)\n"
     ]
    }
   ],
   "source": [
    "a = Valor(10, rotulo=\"a\")\n",
    "b = Valor(3, rotulo=\"b\")\n",
    "c = a - b\n",
    "print(c)"
   ]
  },
  {
   "cell_type": "markdown",
   "id": "273b0d85-c7cf-4db1-ac8e-f2db471c4cef",
   "metadata": {},
   "source": [
    "$$\n",
    "S(x) = \\frac{e^x}{e^x + 1}\n",
    "$$"
   ]
  },
  {
   "cell_type": "code",
   "execution_count": 94,
   "id": "ad13515f-dada-42c3-bd33-33814c5624e1",
   "metadata": {},
   "outputs": [
    {
     "name": "stdout",
     "output_type": "stream",
     "text": [
      "Valor(data=0.5)\n"
     ]
    }
   ],
   "source": [
    "a = Valor(0, rotulo=\"a\")\n",
    "b = a.sig()\n",
    "print(b)"
   ]
  },
  {
   "cell_type": "markdown",
   "id": "c069665d-d724-446e-97a0-78436e43749d",
   "metadata": {},
   "source": [
    "# Construindo e treinando uma rede neural"
   ]
  },
  {
   "cell_type": "code",
   "execution_count": 37,
   "id": "7b3e3984-f4e9-41c1-8a69-ac0426f0ccd9",
   "metadata": {},
   "outputs": [],
   "source": [
    "import random\n",
    "\n",
    "class Neuronio:\n",
    "    def __init__(self, num_dados_entrada):\n",
    "        self.vies = Valor(random.uniform(-1, 1))\n",
    "        \n",
    "        self.pesos = []\n",
    "        for i in range(num_dados_entrada):\n",
    "            self.pesos.append(Valor(random.uniform(-1, 1)))\n",
    "            \n",
    "    def __call__(self, x):\n",
    "        \n",
    "        assert len(x) == len(self.pesos)\n",
    "        \n",
    "        soma = 0\n",
    "        for info_entrada, peso_interno in zip(x, self.pesos):\n",
    "            soma += info_entrada * peso_interno\n",
    "            \n",
    "        soma += self.vies  \n",
    "        dado_de_saida = soma.sig()\n",
    "        \n",
    "        return dado_de_saida       \n",
    "    \n",
    "    def parametros(self):\n",
    "        return self.pesos + [self.vies]"
   ]
  },
  {
   "cell_type": "code",
   "execution_count": 16,
   "id": "fa481419-0caf-48f8-b3a9-42dc6de0d549",
   "metadata": {},
   "outputs": [
    {
     "name": "stdout",
     "output_type": "stream",
     "text": [
      "Valor(data=0.11147898580822475)\n"
     ]
    }
   ],
   "source": [
    "dados_de_entrada = [2.5, 4.25]\n",
    "\n",
    "meu_neuronio = Neuronio(len(dados_de_entrada))\n",
    "\n",
    "print(meu_neuronio(dados_de_entrada))"
   ]
  },
  {
   "cell_type": "code",
   "execution_count": 11,
   "id": "49f159d6-6f19-44c8-b7f5-bc16079e537c",
   "metadata": {},
   "outputs": [
    {
     "data": {
      "text/plain": [
       "[Valor(data=0.41619462502215865), Valor(data=-0.9182036611106141)]"
      ]
     },
     "execution_count": 11,
     "metadata": {},
     "output_type": "execute_result"
    }
   ],
   "source": [
    "meu_neuronio.pesos"
   ]
  },
  {
   "cell_type": "code",
   "execution_count": 9,
   "id": "5277f442-fd02-42a5-9a7a-f8383186c7bd",
   "metadata": {},
   "outputs": [
    {
     "data": {
      "text/plain": [
       "Valor(data=0.981433016424972)"
      ]
     },
     "execution_count": 9,
     "metadata": {},
     "output_type": "execute_result"
    }
   ],
   "source": [
    "meu_neuronio.vies"
   ]
  },
  {
   "cell_type": "code",
   "execution_count": 41,
   "id": "f36c2e2f-c004-41df-bb6c-4d97acd76c60",
   "metadata": {},
   "outputs": [],
   "source": [
    "class Camada:\n",
    "    def __init__(self, num_neuronios, num_dados_entrada):\n",
    "        neuronios = []\n",
    "        \n",
    "        for _ in range(num_neuronios):\n",
    "            neuronio = Neuronio(num_dados_entrada)\n",
    "            neuronios.append(neuronio)\n",
    "            \n",
    "        self.neuronios = neuronios     \n",
    "        \n",
    "    def __call__(self, x):\n",
    "        dados_de_saida = []\n",
    "        \n",
    "        for neuronio in self.neuronios:\n",
    "            informacao = neuronio(x)\n",
    "            dados_de_saida.append(informacao)\n",
    "            \n",
    "        if len(dados_de_saida) == 1:\n",
    "            return dados_de_saida[0]\n",
    "        else:        \n",
    "            return dados_de_saida  \n",
    "    \n",
    "    def parametros(self):\n",
    "        params = []\n",
    "        \n",
    "        for neuronio in self.neuronios:\n",
    "            params_neuronio = neuronio.parametros()\n",
    "            params.extend(params_neuronio)\n",
    "        \n",
    "        return params"
   ]
  },
  {
   "cell_type": "code",
   "execution_count": 40,
   "id": "a64b62cd-0c6b-4d3c-abc6-f4f9f0a38d00",
   "metadata": {},
   "outputs": [
    {
     "name": "stdout",
     "output_type": "stream",
     "text": [
      "[1, 2, 3, 2, 3, 4]\n"
     ]
    }
   ],
   "source": [
    "a = [1,2,3]\n",
    "b = [2,3,4]\n",
    "a.extend(b)\n",
    "print(a)"
   ]
  },
  {
   "cell_type": "code",
   "execution_count": 18,
   "id": "72ce989c-f867-482e-b295-0cdeb56ef327",
   "metadata": {},
   "outputs": [
    {
     "name": "stdout",
     "output_type": "stream",
     "text": [
      "[Valor(data=0.9163211841785524), Valor(data=0.2624169160410059), Valor(data=0.9376500966220815)]\n"
     ]
    }
   ],
   "source": [
    "dados_de_entrada = [2.5, 4.25]\n",
    "num_neuronios = 3\n",
    "\n",
    "minha_camada = Camada(num_neuronios, len(dados_de_entrada))\n",
    "\n",
    "print(minha_camada(dados_de_entrada))"
   ]
  },
  {
   "cell_type": "code",
   "execution_count": 49,
   "id": "fd5d7e7f-351e-4101-9dc1-f6d5dc440dc6",
   "metadata": {},
   "outputs": [],
   "source": [
    "class MLP:\n",
    "    def __init__(self, num_dados_entrada, num_neuronios_por_camada):\n",
    "        \n",
    "        percurso = [num_dados_entrada] + num_neuronios_por_camada\n",
    "        \n",
    "        camadas = []\n",
    "        \n",
    "        for i in range(len(num_neuronios_por_camada)):\n",
    "            camada = Camada(num_neuronios_por_camada[i], percurso[i])\n",
    "            camadas.append(camada)\n",
    "            \n",
    "        self.camadas = camadas\n",
    "        \n",
    "    def __call__(self, x):\n",
    "        for camada in self.camadas:\n",
    "            x = camada(x)\n",
    "        return x\n",
    "    \n",
    "    def parametros(self):\n",
    "        params = []\n",
    "        \n",
    "        for camada in self.camadas:\n",
    "            parametros_camada = camada.parametros()\n",
    "            params.extend(parametros_camada)\n",
    "            \n",
    "        return params"
   ]
  },
  {
   "cell_type": "code",
   "execution_count": 19,
   "id": "c9fa85c4-3141-45c6-8e75-267d44f70709",
   "metadata": {},
   "outputs": [
    {
     "data": {
      "text/plain": [
       "[2, 1, 2, 3]"
      ]
     },
     "execution_count": 19,
     "metadata": {},
     "output_type": "execute_result"
    }
   ],
   "source": [
    "[2] + [1,2,3]"
   ]
  },
  {
   "cell_type": "code",
   "execution_count": 22,
   "id": "24d57e23-8c97-4f17-ad3e-8b21698cd50a",
   "metadata": {},
   "outputs": [
    {
     "name": "stdout",
     "output_type": "stream",
     "text": [
      "Valor(data=0.46047419418588004)\n"
     ]
    }
   ],
   "source": [
    "dados_de_entrada = [2.5, 4.25]\n",
    "num_neuronios_por_camada = [4, 3, 1]\n",
    "\n",
    "minha_mlp = MLP(len(dados_de_entrada), num_neuronios_por_camada)\n",
    "\n",
    "resultado = minha_mlp(dados_de_entrada)\n",
    "\n",
    "print(resultado)"
   ]
  },
  {
   "cell_type": "code",
   "execution_count": 26,
   "id": "1c911278-30a4-4991-8366-9883b7ba29e8",
   "metadata": {},
   "outputs": [
    {
     "data": {
      "text/plain": [
       "Valor(data=-0.8150721057488066)"
      ]
     },
     "execution_count": 26,
     "metadata": {},
     "output_type": "execute_result"
    }
   ],
   "source": [
    "minha_mlp.camadas[0].neuronios[0].vies"
   ]
  },
  {
   "cell_type": "code",
   "execution_count": 29,
   "id": "3da1dfbb-fbe5-4811-a808-c9d1ae59bff8",
   "metadata": {},
   "outputs": [
    {
     "data": {
      "text/plain": [
       "'rede_neural.png'"
      ]
     },
     "execution_count": 29,
     "metadata": {},
     "output_type": "execute_result"
    }
   ],
   "source": [
    "resultado.propagar_tudo()\n",
    "grafo = plota_grafo(resultado)\n",
    "\n",
    "# para salvar o grafo\n",
    "grafo.render(\"rede_neural\", format=\"png\")"
   ]
  },
  {
   "cell_type": "code",
   "execution_count": 50,
   "id": "b85ac07e-ca56-4952-b86f-2c90890a22da",
   "metadata": {},
   "outputs": [],
   "source": [
    "x = [\n",
    "  [2.0, 3.0, -1.0],\n",
    "  [3.0, -1.0, 0.5],\n",
    "  [0.5, 1.0, 1.0],\n",
    "  [1.0, 1.0, -1.0],\n",
    "]\n",
    "\n",
    "y_true = [1, 0, 0.2, 0.5]"
   ]
  },
  {
   "cell_type": "code",
   "execution_count": 51,
   "id": "3647634f-ce75-41c3-84e4-9a47a0797af9",
   "metadata": {},
   "outputs": [],
   "source": [
    "NUM_DADOS_DE_ENTRADA = 3  \n",
    "NUM_DADOS_DE_SAIDA = 1    \n",
    "CAMADAS_OCULTAS = [3, 2]  \n",
    "\n",
    "arquitetura_da_rede = CAMADAS_OCULTAS + [NUM_DADOS_DE_SAIDA]\n",
    "\n",
    "minha_mlp = MLP(NUM_DADOS_DE_ENTRADA, arquitetura_da_rede)"
   ]
  },
  {
   "cell_type": "code",
   "execution_count": 52,
   "id": "658472de-669f-47c8-9921-133d79417a75",
   "metadata": {},
   "outputs": [
    {
     "name": "stdout",
     "output_type": "stream",
     "text": [
      "[Valor(data=0.28595954607853724), Valor(data=0.25350996462984354), Valor(data=0.2777701054518107), Valor(data=0.27729634856766483)]\n"
     ]
    }
   ],
   "source": [
    "y_pred = []\n",
    "\n",
    "for exemplo in x:\n",
    "    previsao = minha_mlp(exemplo)\n",
    "    y_pred.append(previsao)\n",
    "    \n",
    "print(y_pred)"
   ]
  },
  {
   "cell_type": "code",
   "execution_count": 53,
   "id": "b9992765-6b70-4e20-9263-159a4597a020",
   "metadata": {},
   "outputs": [
    {
     "name": "stdout",
     "output_type": "stream",
     "text": [
      "Valor(data=0.6297661776662739)\n"
     ]
    }
   ],
   "source": [
    "erros = []\n",
    "\n",
    "for yt, yp in zip(y_true, y_pred):\n",
    "    residuo = yp - yt\n",
    "    erro_quadratico = residuo ** 2\n",
    "    erros.append(erro_quadratico)\n",
    "    \n",
    "loss = sum(erros)\n",
    "print(loss)"
   ]
  },
  {
   "cell_type": "code",
   "execution_count": 35,
   "id": "a58e187b-137d-4acf-91b1-b37030ad1a08",
   "metadata": {},
   "outputs": [
    {
     "data": {
      "text/plain": [
       "'rede_neural_perda.png'"
      ]
     },
     "execution_count": 35,
     "metadata": {},
     "output_type": "execute_result"
    }
   ],
   "source": [
    "loss.propagar_tudo()\n",
    "grafo = plota_grafo(loss)\n",
    "\n",
    "# para salvar o grafo\n",
    "grafo.render(\"rede_neural_perda\", format=\"png\")"
   ]
  },
  {
   "cell_type": "code",
   "execution_count": 54,
   "id": "b9b44351-1a40-40db-9db0-d1f821985dad",
   "metadata": {},
   "outputs": [
    {
     "name": "stdout",
     "output_type": "stream",
     "text": [
      "23\n",
      "\n"
     ]
    },
    {
     "data": {
      "text/plain": [
       "[Valor(data=-0.9045042753794521),\n",
       " Valor(data=0.6812048730086333),\n",
       " Valor(data=-0.6338208767224711),\n",
       " Valor(data=-0.77605435330915),\n",
       " Valor(data=-0.6701648831100757),\n",
       " Valor(data=0.9287733553464845),\n",
       " Valor(data=0.46742154415641224),\n",
       " Valor(data=0.5718586673833599),\n",
       " Valor(data=-0.18074542821492945),\n",
       " Valor(data=-0.3236406406321515),\n",
       " Valor(data=0.19914969921662173),\n",
       " Valor(data=0.13501743419666212),\n",
       " Valor(data=0.4974473557679506),\n",
       " Valor(data=0.1399178852474352),\n",
       " Valor(data=-0.04950535651170962),\n",
       " Valor(data=-0.07686251330120797),\n",
       " Valor(data=-0.5143535268097388),\n",
       " Valor(data=-0.5979816431469607),\n",
       " Valor(data=0.05915332840469789),\n",
       " Valor(data=-0.5892376763729319),\n",
       " Valor(data=0.4132261001862667),\n",
       " Valor(data=-0.9038214886715754),\n",
       " Valor(data=-0.963775365296782)]"
      ]
     },
     "execution_count": 54,
     "metadata": {},
     "output_type": "execute_result"
    }
   ],
   "source": [
    "parametros = minha_mlp.parametros()\n",
    "\n",
    "print(len(parametros))\n",
    "print()\n",
    "parametros"
   ]
  },
  {
   "cell_type": "code",
   "execution_count": 61,
   "id": "3490a84c-4941-45a1-9111-2f69e2f007a5",
   "metadata": {},
   "outputs": [],
   "source": [
    "TAXA_DE_APRENDIZADO = 0.01\n",
    "\n",
    "loss.propagar_tudo()\n",
    "\n",
    "for p in parametros:\n",
    "    #print(p.grad)\n",
    "    p.data = p.data - p.grad * TAXA_DE_APRENDIZADO"
   ]
  },
  {
   "cell_type": "code",
   "execution_count": 62,
   "id": "4ad18839-a521-4280-9610-ac49dd2711aa",
   "metadata": {},
   "outputs": [
    {
     "name": "stdout",
     "output_type": "stream",
     "text": [
      "[Valor(data=0.29360168313981033), Valor(data=0.2599582473654984), Valor(data=0.28495094157341), Valor(data=0.28458872067450647)]\n"
     ]
    }
   ],
   "source": [
    "y_pred = []\n",
    "\n",
    "for exemplo in x:\n",
    "    previsao = minha_mlp(exemplo)\n",
    "    y_pred.append(previsao)\n",
    "    \n",
    "print(y_pred)"
   ]
  },
  {
   "cell_type": "code",
   "execution_count": 63,
   "id": "a43d2972-d63a-46be-8099-7ecb61008d07",
   "metadata": {},
   "outputs": [
    {
     "name": "stdout",
     "output_type": "stream",
     "text": [
      "Valor(data=0.6201955541711054)\n"
     ]
    }
   ],
   "source": [
    "erros = []\n",
    "\n",
    "for yt, yp in zip(y_true, y_pred):\n",
    "    residuo = yp - yt\n",
    "    erro_quadratico = residuo ** 2\n",
    "    erros.append(erro_quadratico)\n",
    "    \n",
    "loss = sum(erros)\n",
    "print(loss)"
   ]
  },
  {
   "cell_type": "code",
   "execution_count": null,
   "id": "e1b89b97-ff9e-44ee-8dbd-4abf3e6f5621",
   "metadata": {},
   "outputs": [],
   "source": []
  },
  {
   "cell_type": "code",
   "execution_count": 185,
   "id": "da1760f2-67af-40b3-a4de-3e5c59e89dd4",
   "metadata": {},
   "outputs": [],
   "source": [
    "x = [\n",
    "  [2.0, 3.0, -1.0],\n",
    "  [3.0, -1.0, 0.5],\n",
    "  [0.5, 1.0, 1.0],\n",
    "  [1.0, 1.0, -1.0],\n",
    "]\n",
    "\n",
    "y_true = [1, 0, 0.2, 0.5]\n",
    "\n",
    "NUM_DADOS_DE_ENTRADA = 3  \n",
    "NUM_DADOS_DE_SAIDA = 1    \n",
    "CAMADAS_OCULTAS = [3, 2]  \n",
    "\n",
    "arquitetura_da_rede = CAMADAS_OCULTAS + [NUM_DADOS_DE_SAIDA]\n",
    "\n",
    "minha_mlp = MLP(NUM_DADOS_DE_ENTRADA, arquitetura_da_rede)"
   ]
  },
  {
   "cell_type": "code",
   "execution_count": 186,
   "id": "b528fd3b-04f8-4f47-90f5-3de248f4e1ac",
   "metadata": {},
   "outputs": [
    {
     "name": "stdout",
     "output_type": "stream",
     "text": [
      "0 0.5894905352020262\n",
      "1 0.5733131758655007\n",
      "2 0.5646724209577468\n",
      "3 0.5598439189803952\n",
      "4 0.5569040392728359\n",
      "5 0.5548788000777037\n",
      "6 0.5532739336431711\n",
      "7 0.5518352818307821\n",
      "8 0.5504292538572204\n",
      "9 0.5489831940075204\n",
      "10 0.5474554314562603\n",
      "11 0.5458201281144637\n",
      "12 0.5440595806026379\n",
      "13 0.5421603167276597\n",
      "14 0.5401111409614442\n",
      "15 0.5379021871948882\n",
      "16 0.5355244926317219\n",
      "17 0.5329698388387768\n",
      "18 0.5302307255367579\n",
      "19 0.52730040513247\n",
      "20 0.5241729392552725\n",
      "21 0.520843256847801\n",
      "22 0.5173072038083208\n",
      "23 0.5135615803219281\n",
      "24 0.5096041655759195\n",
      "25 0.5054337313994766\n",
      "26 0.5010500470039032\n",
      "27 0.49645387680208336\n",
      "28 0.4916469725868052\n",
      "29 0.4866320604461365\n",
      "30 0.4814128219367211\n",
      "31 0.47599386839764957\n",
      "32 0.4703807069662898\n",
      "33 0.4645796968822213\n",
      "34 0.45859799501377124\n",
      "35 0.4524434901579082\n",
      "36 0.44612472647461937\n",
      "37 0.4396508173389172\n",
      "38 0.43303135184188896\n",
      "39 0.42627629706133174\n",
      "40 0.41939589997019244\n",
      "41 0.41240059338160373\n",
      "42 0.4053009105782823\n",
      "43 0.3981074131926488\n",
      "44 0.3908306364633504\n",
      "45 0.3834810551878563\n",
      "46 0.3760690725382422\n",
      "47 0.3686050324527031\n",
      "48 0.36109925462952785\n",
      "49 0.3535620893301718\n",
      "50 0.34600398736576954\n",
      "51 0.33843557894149917\n",
      "52 0.33086775362643317\n",
      "53 0.3233117327692546\n",
      "54 0.3157791253478712\n",
      "55 0.3082819586462449\n",
      "56 0.30083267636011884\n",
      "57 0.2934440987294749\n",
      "58 0.2861293419676969\n",
      "59 0.27890169739440684\n",
      "60 0.27177447398574456\n",
      "61 0.26476081118710554\n",
      "62 0.2578734714416051\n",
      "63 0.2511246236769848\n",
      "64 0.24452562976828585\n",
      "65 0.23808684568863836\n",
      "66 0.23181744775022903\n",
      "67 0.22572529221794932\n",
      "68 0.21981681392959598\n",
      "69 0.2140969666945184\n",
      "70 0.20856920546975563\n",
      "71 0.20323550787841718\n",
      "72 0.19809643071120023\n",
      "73 0.1931511957246465\n",
      "74 0.18839779832595094\n",
      "75 0.18383313255797076\n",
      "76 0.17945312607212108\n",
      "77 0.17525287938343467\n",
      "78 0.17122680452162978\n",
      "79 0.16736875911622806\n",
      "80 0.16367217289355523\n",
      "81 0.16013016445236136\n",
      "82 0.15673564697859063\n",
      "83 0.1534814222338949\n",
      "84 0.15036026269800973\n",
      "85 0.14736498216484917\n",
      "86 0.14448849539665734\n",
      "87 0.14172386764465114\n",
      "88 0.1390643549651369\n",
      "89 0.13650343631386633\n",
      "90 0.13403483840411415\n",
      "91 0.13165255427944808\n",
      "92 0.12935085649213218\n",
      "93 0.12712430570214509\n",
      "94 0.12496775542743715\n",
      "95 0.1228763535890726\n",
      "96 0.12084554140953098\n",
      "97 0.11887105014167836\n",
      "98 0.1169488960316969\n",
      "99 0.11507537385280778\n",
      "100 0.11324704928842601\n",
      "101 0.11146075039359624\n",
      "102 0.10971355832186092\n",
      "103 0.1080027974705995\n",
      "104 0.10632602517064334\n",
      "105 0.1046810210247632\n",
      "106 0.10306577598358019\n",
      "107 0.1014784812355992\n",
      "108 0.09991751697956643\n",
      "109 0.09838144114130767\n",
      "110 0.09686897809290182\n",
      "111 0.09537900742880719\n",
      "112 0.09391055285088021\n",
      "113 0.09246277121169555\n",
      "114 0.09103494176293336\n",
      "115 0.0896264556526705\n",
      "116 0.08823680571214441\n",
      "117 0.08686557656894413\n",
      "118 0.08551243511969259\n",
      "119 0.08417712139119983\n",
      "120 0.08285943981487559\n",
      "121 0.08155925093500664\n",
      "122 0.08027646356737977\n",
      "123 0.07901102742075271\n",
      "124 0.07776292618986488\n",
      "125 0.07653217112507212\n",
      "126 0.07531879508028472\n",
      "127 0.07412284703769795\n",
      "128 0.07294438710481754\n",
      "129 0.07178348197648697\n",
      "130 0.07064020085203779\n",
      "131 0.06951461179527693\n",
      "132 0.06840677852283608\n",
      "133 0.06731675760440524\n",
      "134 0.06624459605660886\n",
      "135 0.06519032931072681\n",
      "136 0.06415397953316151\n",
      "137 0.06313555427649194\n",
      "138 0.06213504543815164\n",
      "139 0.061152428503220786\n",
      "140 0.060187662047533036\n",
      "141 0.05924068747725451\n",
      "142 0.05831142898128368\n",
      "143 0.057399793673243354\n",
      "144 0.056505671900446273\n",
      "145 0.05562893769802058\n",
      "146 0.05476944936733319\n",
      "147 0.053927050158933905\n",
      "148 0.05310156904143678\n",
      "149 0.052292821539019096\n",
      "150 0.05150061062154637\n",
      "151 0.050724727632683236\n",
      "152 0.049964953242714605\n",
      "153 0.04922105841415407\n",
      "154 0.048492805369541994\n",
      "155 0.04777994855212068\n",
      "156 0.04708223557130408\n",
      "157 0.046399408126022695\n",
      "158 0.04573120290012416\n",
      "159 0.04507735242502317\n",
      "160 0.044437585905737396\n",
      "161 0.043811630007299616\n",
      "162 0.0431992095993148\n",
      "163 0.04260004845712529\n",
      "164 0.04201386991866291\n",
      "165 0.04144039749661346\n",
      "166 0.04087935544598648\n",
      "167 0.04033046928759089\n",
      "168 0.03979346628825975\n",
      "169 0.039268075898951815\n",
      "170 0.03875403015209284\n",
      "171 0.03825106401970572\n",
      "172 0.03775891573402151\n",
      "173 0.03727732707237061\n",
      "174 0.036806043608226376\n",
      "175 0.0363448149303157\n",
      "176 0.03589339483173247\n",
      "177 0.0354515414709835\n",
      "178 0.03501901750687732\n",
      "179 0.034595590209130556\n",
      "180 0.03418103154651475\n",
      "181 0.03377511825431122\n",
      "182 0.03337763188277127\n",
      "183 0.03298835882821008\n",
      "184 0.032607090348281464\n",
      "185 0.032233622562906086\n",
      "186 0.03186775644223915\n",
      "187 0.03150929778298626\n",
      "188 0.03115805717429292\n",
      "189 0.030813849954352022\n",
      "190 0.030476496158798955\n",
      "191 0.030145820461884028\n",
      "192 0.029821652111339844\n",
      "193 0.029503824857792963\n",
      "194 0.029192176879498433\n",
      "195 0.028886550703113675\n",
      "196 0.028586793121168283\n",
      "197 0.028292755106826713\n",
      "198 0.028004291726489407\n",
      "199 0.0277212620507257\n"
     ]
    }
   ],
   "source": [
    "NUM_EPOCAS = 200\n",
    "TAXA_DE_APRENDIZADO = 0.5\n",
    "\n",
    "for epoca in range(NUM_EPOCAS):\n",
    "    # forward pass\n",
    "    y_pred = []\n",
    "    for exemplo in x:\n",
    "        previsao = minha_mlp(exemplo)\n",
    "        y_pred.append(previsao)\n",
    "\n",
    "    # loss\n",
    "    erros = []\n",
    "    for yt, yp in zip(y_true, y_pred):\n",
    "        residuo = yp - yt\n",
    "        erro_quadratico = residuo ** 2\n",
    "        erros.append(erro_quadratico)        \n",
    "    loss = sum(erros)\n",
    "\n",
    "    # zero grad\n",
    "    for p in minha_mlp.parametros():\n",
    "        p.grad = 0\n",
    "\n",
    "    # backpropagation\n",
    "    loss.propagar_tudo()\n",
    "\n",
    "    # atualiza parâmetros\n",
    "    for p in minha_mlp.parametros():\n",
    "        p.data = p.data - p.grad * TAXA_DE_APRENDIZADO\n",
    "\n",
    "    # mostra resultado (opcional)\n",
    "    print(epoca, loss.data)"
   ]
  },
  {
   "cell_type": "code",
   "execution_count": 187,
   "id": "68656ad9-08db-4a28-bd6a-9c8b3443af4f",
   "metadata": {},
   "outputs": [
    {
     "data": {
      "text/plain": [
       "[1, 0, 0.2, 0.5]"
      ]
     },
     "execution_count": 187,
     "metadata": {},
     "output_type": "execute_result"
    }
   ],
   "source": [
    "y_true"
   ]
  },
  {
   "cell_type": "code",
   "execution_count": 188,
   "id": "c94be88e-d214-49a8-a060-dd2bc304018e",
   "metadata": {},
   "outputs": [
    {
     "data": {
      "text/plain": [
       "[Valor(data=0.875598372898164),\n",
       " Valor(data=0.10832881882138648),\n",
       " Valor(data=0.20307076535529534),\n",
       " Valor(data=0.5223815691594085)]"
      ]
     },
     "execution_count": 188,
     "metadata": {},
     "output_type": "execute_result"
    }
   ],
   "source": [
    "y_pred"
   ]
  },
  {
   "cell_type": "code",
   "execution_count": null,
   "id": "76153d0d-b50d-4aad-8abf-3c74d393fe02",
   "metadata": {},
   "outputs": [],
   "source": []
  }
 ],
 "metadata": {
  "kernelspec": {
   "display_name": "ilumpy",
   "language": "python",
   "name": "ilumpy"
  },
  "language_info": {
   "codemirror_mode": {
    "name": "ipython",
    "version": 3
   },
   "file_extension": ".py",
   "mimetype": "text/x-python",
   "name": "python",
   "nbconvert_exporter": "python",
   "pygments_lexer": "ipython3",
   "version": "3.10.6"
  }
 },
 "nbformat": 4,
 "nbformat_minor": 5
}
