{
 "cells": [
  {
   "cell_type": "markdown",
   "id": "f1b7b555-1f6c-4b3e-b37f-80358d30da6f",
   "metadata": {},
   "source": [
    "# Objetos de Python"
   ]
  },
  {
   "cell_type": "markdown",
   "id": "75bb2849-9514-4f47-abf0-a755b1143c1c",
   "metadata": {},
   "source": [
    "## Números"
   ]
  },
  {
   "cell_type": "code",
   "execution_count": 2,
   "id": "1f1e59f6-71c1-4d57-85e6-8efce06d920d",
   "metadata": {},
   "outputs": [
    {
     "data": {
      "text/plain": [
       "31.400000000000002"
      ]
     },
     "execution_count": 2,
     "metadata": {},
     "output_type": "execute_result"
    }
   ],
   "source": [
    "inteiro = 10\n",
    "real = 3.14\n",
    "\n",
    "inteiro * real"
   ]
  },
  {
   "cell_type": "markdown",
   "id": "05ad8f5f-1805-4134-9dfa-4a0bcec23499",
   "metadata": {},
   "source": [
    "## Listas"
   ]
  },
  {
   "cell_type": "code",
   "execution_count": 9,
   "id": "3445837d-d7e6-4187-a564-b1f49443ec16",
   "metadata": {},
   "outputs": [
    {
     "data": {
      "text/plain": [
       "'lanche'"
      ]
     },
     "execution_count": 9,
     "metadata": {},
     "output_type": "execute_result"
    }
   ],
   "source": [
    "comidas = [\"lanche\", \"macarrão\", \"feijoada\"]\n",
    "\n",
    "comidas[0]"
   ]
  },
  {
   "cell_type": "markdown",
   "id": "30efabd9-3d72-4b46-8239-d2244db7a768",
   "metadata": {},
   "source": [
    "## Dicionários"
   ]
  },
  {
   "cell_type": "code",
   "execution_count": 11,
   "id": "aeb404f3-63d1-4a65-9032-e5c03bf48620",
   "metadata": {},
   "outputs": [
    {
     "data": {
      "text/plain": [
       "'Goiânia'"
      ]
     },
     "execution_count": 11,
     "metadata": {},
     "output_type": "execute_result"
    }
   ],
   "source": [
    "estados = {\n",
    "    \"SP\": \"São Paulo\",\n",
    "    \"BA\": \"Salvador\",\n",
    "    \"GO\": \"Goiânia\",\n",
    "    \"AM\": \"Manaus\",\n",
    "    \"PR\": \"Curitiba\",\n",
    "}\n",
    "\n",
    "estados[\"GO\"]"
   ]
  },
  {
   "cell_type": "markdown",
   "id": "6901e381-4fa1-48a8-91fc-157dc021fd06",
   "metadata": {},
   "source": [
    "## Conjuntos"
   ]
  },
  {
   "cell_type": "code",
   "execution_count": 12,
   "id": "648664eb-54eb-4c12-94be-c9a07c5b5d01",
   "metadata": {},
   "outputs": [
    {
     "data": {
      "text/plain": [
       "{0, 1, 2, 3, 5, 7, 8, 19}"
      ]
     },
     "execution_count": 12,
     "metadata": {},
     "output_type": "execute_result"
    }
   ],
   "source": [
    "numeros = {1, 2, 3, 1, 7, 8, 19, 1, 0, 2, 19, 5}\n",
    "\n",
    "numeros"
   ]
  },
  {
   "cell_type": "markdown",
   "id": "86d18ba7-4185-4b4d-9f8f-1544b2c17fa8",
   "metadata": {},
   "source": [
    "## Funções"
   ]
  },
  {
   "cell_type": "code",
   "execution_count": 14,
   "id": "db5d43cd-4971-4501-bf43-bcc044c11720",
   "metadata": {},
   "outputs": [
    {
     "data": {
      "text/plain": [
       "31.400000000000002"
      ]
     },
     "execution_count": 14,
     "metadata": {},
     "output_type": "execute_result"
    }
   ],
   "source": [
    "def multiplica_por_10(x):\n",
    "    return x * 10\n",
    "\n",
    "multiplica_por_10(3.14)"
   ]
  },
  {
   "cell_type": "markdown",
   "id": "4cdd3619-aee0-455e-8f03-29138543ed99",
   "metadata": {},
   "source": [
    "# Classes\n"
   ]
  },
  {
   "cell_type": "code",
   "execution_count": 58,
   "id": "6b4fdb9a-b01c-40e1-a880-c0396c86f1a0",
   "metadata": {},
   "outputs": [],
   "source": [
    "class Jogador:\n",
    "    \"\"\"Classe para representar um jogador de RPG.\"\"\"\n",
    "\n",
    "    def __init__(self, nome, pontos_de_vida):\n",
    "        self.nome = nome\n",
    "        self.pv = pontos_de_vida\n",
    "\n",
    "    def __repr__(self):\n",
    "        return f\"Personagem {self.nome} com {self.pv} pontos de vida\"\n",
    "\n",
    "    def toma_dano(self, dano):\n",
    "        self.pv = self.pv - dano\n",
    "\n",
    "    def cura_vida(self, pontos_de_cura):\n",
    "        self.pv = self.pv + pontos_de_cura"
   ]
  },
  {
   "cell_type": "code",
   "execution_count": 59,
   "id": "70878ae0-746b-465e-9cb0-4574dd97ccc1",
   "metadata": {},
   "outputs": [
    {
     "name": "stdout",
     "output_type": "stream",
     "text": [
      "Personagem Diana Didatolov com 12 pontos de vida\n",
      "Personagem Edna Ensineide com 9 pontos de vida\n",
      "Personagem Milu Iluminarius MLVI com 10 pontos de vida\n"
     ]
    }
   ],
   "source": [
    "diana = Jogador(\"Diana Didatolov\", 12)\n",
    "edna = Jogador(\"Edna Ensineide\", 9)\n",
    "milu = Jogador(\"Milu Iluminarius MLVI\", 10)\n",
    "\n",
    "print(diana)\n",
    "print(edna)\n",
    "print(milu)"
   ]
  },
  {
   "cell_type": "code",
   "execution_count": 17,
   "id": "691c6d91-8dfa-480b-81dc-575aac4ce410",
   "metadata": {},
   "outputs": [
    {
     "data": {
      "text/plain": [
       "12"
      ]
     },
     "execution_count": 17,
     "metadata": {},
     "output_type": "execute_result"
    }
   ],
   "source": [
    "diana.pv"
   ]
  },
  {
   "cell_type": "code",
   "execution_count": 18,
   "id": "c7ad6cfd-2093-4f15-b903-7a9c1400261d",
   "metadata": {},
   "outputs": [
    {
     "data": {
      "text/plain": [
       "'Diana Didatolov'"
      ]
     },
     "execution_count": 18,
     "metadata": {},
     "output_type": "execute_result"
    }
   ],
   "source": [
    "diana.nome"
   ]
  },
  {
   "cell_type": "code",
   "execution_count": 19,
   "id": "47b56b34-77bc-4a00-9667-d503c45fe979",
   "metadata": {},
   "outputs": [
    {
     "data": {
      "text/plain": [
       "9"
      ]
     },
     "execution_count": 19,
     "metadata": {},
     "output_type": "execute_result"
    }
   ],
   "source": [
    "edna.pv"
   ]
  },
  {
   "cell_type": "code",
   "execution_count": 20,
   "id": "f0b5f670-d775-419e-a558-a6c206ee600c",
   "metadata": {},
   "outputs": [
    {
     "data": {
      "text/plain": [
       "'Edna Ensineide'"
      ]
     },
     "execution_count": 20,
     "metadata": {},
     "output_type": "execute_result"
    }
   ],
   "source": [
    "edna.nome"
   ]
  },
  {
   "cell_type": "code",
   "execution_count": 21,
   "id": "f83e9877-3547-49b4-ad07-8fda8f3c8789",
   "metadata": {},
   "outputs": [
    {
     "ename": "AttributeError",
     "evalue": "'Jogador' object has no attribute 'guilda'",
     "output_type": "error",
     "traceback": [
      "\u001b[0;31m---------------------------------------------------------------------------\u001b[0m",
      "\u001b[0;31mAttributeError\u001b[0m                            Traceback (most recent call last)",
      "Cell \u001b[0;32mIn[21], line 1\u001b[0m\n\u001b[0;32m----> 1\u001b[0m \u001b[43mdiana\u001b[49m\u001b[38;5;241;43m.\u001b[39;49m\u001b[43mguilda\u001b[49m\n",
      "\u001b[0;31mAttributeError\u001b[0m: 'Jogador' object has no attribute 'guilda'"
     ]
    }
   ],
   "source": [
    "diana.guilda"
   ]
  },
  {
   "cell_type": "code",
   "execution_count": 22,
   "id": "ad752a56-a8b1-47d5-bcca-9fd1b0025184",
   "metadata": {},
   "outputs": [
    {
     "data": {
      "text/plain": [
       "10"
      ]
     },
     "execution_count": 22,
     "metadata": {},
     "output_type": "execute_result"
    }
   ],
   "source": [
    "milu.pv"
   ]
  },
  {
   "cell_type": "code",
   "execution_count": 23,
   "id": "3edf6a8f-6317-4549-a5ee-df3d2f7cc276",
   "metadata": {},
   "outputs": [],
   "source": [
    "milu.toma_dano(7)"
   ]
  },
  {
   "cell_type": "code",
   "execution_count": 24,
   "id": "049c3f4b-394f-4e00-b0df-a26575c019a9",
   "metadata": {},
   "outputs": [
    {
     "data": {
      "text/plain": [
       "3"
      ]
     },
     "execution_count": 24,
     "metadata": {},
     "output_type": "execute_result"
    }
   ],
   "source": [
    "milu.pv"
   ]
  },
  {
   "cell_type": "code",
   "execution_count": 25,
   "id": "96522ef8-4dea-4bd6-ba85-6aeef6510c1c",
   "metadata": {},
   "outputs": [],
   "source": [
    "milu.cura_vida(5)"
   ]
  },
  {
   "cell_type": "code",
   "execution_count": 26,
   "id": "65ac9926-29f4-40f1-a082-09c97f711717",
   "metadata": {},
   "outputs": [
    {
     "data": {
      "text/plain": [
       "8"
      ]
     },
     "execution_count": 26,
     "metadata": {},
     "output_type": "execute_result"
    }
   ],
   "source": [
    "milu.pv"
   ]
  },
  {
   "cell_type": "code",
   "execution_count": 27,
   "id": "27412464-bb05-428e-b3c4-d1668e031d72",
   "metadata": {},
   "outputs": [
    {
     "data": {
      "text/plain": [
       "12"
      ]
     },
     "execution_count": 27,
     "metadata": {},
     "output_type": "execute_result"
    }
   ],
   "source": [
    "diana.pv"
   ]
  },
  {
   "cell_type": "code",
   "execution_count": 28,
   "id": "cdca82e3-a8d3-4f47-8386-5f06e620327d",
   "metadata": {},
   "outputs": [
    {
     "data": {
      "text/plain": [
       "Personagem Edna Ensineide com 9 pontos de vida"
      ]
     },
     "execution_count": 28,
     "metadata": {},
     "output_type": "execute_result"
    }
   ],
   "source": [
    "edna"
   ]
  },
  {
   "cell_type": "code",
   "execution_count": 29,
   "id": "bc863a4f-3586-4f9c-936a-5d987ff1f534",
   "metadata": {},
   "outputs": [
    {
     "data": {
      "text/plain": [
       "'Edna Ensineide'"
      ]
     },
     "execution_count": 29,
     "metadata": {},
     "output_type": "execute_result"
    }
   ],
   "source": [
    "edna.nome"
   ]
  },
  {
   "cell_type": "code",
   "execution_count": 30,
   "id": "a71a2e28-ba58-4e9d-bb2a-6277071257d0",
   "metadata": {},
   "outputs": [
    {
     "data": {
      "text/plain": [
       "9"
      ]
     },
     "execution_count": 30,
     "metadata": {},
     "output_type": "execute_result"
    }
   ],
   "source": [
    "edna.pv"
   ]
  },
  {
   "cell_type": "code",
   "execution_count": 31,
   "id": "0a6252fc-0266-4575-9b05-709a882a4ec0",
   "metadata": {},
   "outputs": [],
   "source": [
    "edna.pv = 1"
   ]
  },
  {
   "cell_type": "code",
   "execution_count": 32,
   "id": "b037779b-8b61-4fa1-b6ff-c55054fa5ad6",
   "metadata": {},
   "outputs": [
    {
     "data": {
      "text/plain": [
       "Personagem Edna Ensineide com 1 pontos de vida"
      ]
     },
     "execution_count": 32,
     "metadata": {},
     "output_type": "execute_result"
    }
   ],
   "source": [
    "edna"
   ]
  },
  {
   "cell_type": "code",
   "execution_count": 33,
   "id": "4fc51d2d-737b-4b00-8172-6bc28bb59f00",
   "metadata": {},
   "outputs": [],
   "source": [
    "edna.guilda = \"cavaleiros\""
   ]
  },
  {
   "cell_type": "code",
   "execution_count": 34,
   "id": "97cbb7a0-3453-407e-a009-6eaffb73caba",
   "metadata": {},
   "outputs": [
    {
     "data": {
      "text/plain": [
       "'cavaleiros'"
      ]
     },
     "execution_count": 34,
     "metadata": {},
     "output_type": "execute_result"
    }
   ],
   "source": [
    "edna.guilda"
   ]
  },
  {
   "cell_type": "code",
   "execution_count": 35,
   "id": "b2a01896-c1f0-40d0-8e16-89c5676b693a",
   "metadata": {},
   "outputs": [
    {
     "ename": "AttributeError",
     "evalue": "'Jogador' object has no attribute 'guilda'",
     "output_type": "error",
     "traceback": [
      "\u001b[0;31m---------------------------------------------------------------------------\u001b[0m",
      "\u001b[0;31mAttributeError\u001b[0m                            Traceback (most recent call last)",
      "Cell \u001b[0;32mIn[35], line 1\u001b[0m\n\u001b[0;32m----> 1\u001b[0m \u001b[43mdiana\u001b[49m\u001b[38;5;241;43m.\u001b[39;49m\u001b[43mguilda\u001b[49m\n",
      "\u001b[0;31mAttributeError\u001b[0m: 'Jogador' object has no attribute 'guilda'"
     ]
    }
   ],
   "source": [
    "diana.guilda"
   ]
  },
  {
   "cell_type": "markdown",
   "id": "c07a6b6d-01bd-480b-b504-06e91cb53881",
   "metadata": {},
   "source": [
    "# Herança"
   ]
  },
  {
   "cell_type": "code",
   "execution_count": 36,
   "id": "79087b6a-2e8b-4e75-bfc1-be703523b589",
   "metadata": {},
   "outputs": [],
   "source": [
    "class Jogador:\n",
    "    \"\"\"Classe para representar um jogador de RPG.\"\"\"\n",
    "\n",
    "    def __init__(self, nome, pontos_de_vida):\n",
    "        self.nome = nome\n",
    "        self.pv = pontos_de_vida\n",
    "\n",
    "    def __repr__(self):\n",
    "        return f\"Personagem {self.nome} com {self.pv} pontos de vida\"\n",
    "\n",
    "    def toma_dano(self, dano):\n",
    "        self.pv = self.pv - dano\n",
    "\n",
    "    def cura_vida(self, pontos_de_cura):\n",
    "        self.pv = self.pv + pontos_de_cura"
   ]
  },
  {
   "cell_type": "code",
   "execution_count": 61,
   "id": "6d3f6f30-8f73-46ef-9bfc-079c1705a5f8",
   "metadata": {},
   "outputs": [],
   "source": [
    "class Jogador_bruxa(Jogador):\n",
    "    \"\"\"Classe para representar um jogador de RPG capaz de realizar magia.\"\"\"\n",
    "\n",
    "    def __init__(self, nome, pontos_de_vida, pontos_de_magia):\n",
    "\n",
    "        # o `super` é usado para inicializar a classe mãe\n",
    "        super().__init__(nome, pontos_de_vida)\n",
    "\n",
    "        self.pm = pontos_de_magia\n",
    "\n",
    "    def __repr__(self):\n",
    "        return (f\"Personagem {self.nome} com {self.pv} pontos de vida \"\n",
    "                f\"e {self.pm} pontos de magia\")\n",
    "\n",
    "    def realiza_feitico(self, gasto_pm):\n",
    "        self.pm = self.pm - gasto_pm\n",
    "\n",
    "    def recupera_mana(self, ganho_pm):\n",
    "        self.pm = self.pm + ganho_pm"
   ]
  },
  {
   "cell_type": "code",
   "execution_count": 62,
   "id": "b986d106-d33e-41db-a98d-7c1231764e4f",
   "metadata": {},
   "outputs": [],
   "source": [
    "ifa = Jogador_bruxa(\"Ifa, a rainha do fogo\", 22, 15)"
   ]
  },
  {
   "cell_type": "code",
   "execution_count": 39,
   "id": "c4693203-47cd-485c-b22d-f19122acd298",
   "metadata": {},
   "outputs": [
    {
     "name": "stdout",
     "output_type": "stream",
     "text": [
      "Personagem Ifa, a rainha do fogo com 22 pontos de vida e 15 pontos de magia\n"
     ]
    }
   ],
   "source": [
    "print(ifa)"
   ]
  },
  {
   "cell_type": "code",
   "execution_count": 40,
   "id": "9e505702-3012-4877-8072-75bea399fef8",
   "metadata": {},
   "outputs": [],
   "source": [
    "ifa.realiza_feitico(3)"
   ]
  },
  {
   "cell_type": "code",
   "execution_count": 41,
   "id": "81623628-63fd-40af-bfc0-2a5256a7e9b4",
   "metadata": {},
   "outputs": [
    {
     "name": "stdout",
     "output_type": "stream",
     "text": [
      "Personagem Ifa, a rainha do fogo com 22 pontos de vida e 12 pontos de magia\n"
     ]
    }
   ],
   "source": [
    "print(ifa)"
   ]
  },
  {
   "cell_type": "code",
   "execution_count": 42,
   "id": "decdbaee-fe9b-43a5-9071-a90628cf40eb",
   "metadata": {},
   "outputs": [
    {
     "data": {
      "text/plain": [
       "12"
      ]
     },
     "execution_count": 42,
     "metadata": {},
     "output_type": "execute_result"
    }
   ],
   "source": [
    "ifa.pm"
   ]
  },
  {
   "cell_type": "code",
   "execution_count": 43,
   "id": "f6e90fff-5687-4f93-872a-3442050e41af",
   "metadata": {},
   "outputs": [],
   "source": [
    "ifa.recupera_mana(2)"
   ]
  },
  {
   "cell_type": "code",
   "execution_count": 44,
   "id": "5f5c5fb3-ebce-42ea-9a92-3160b188569e",
   "metadata": {},
   "outputs": [
    {
     "data": {
      "text/plain": [
       "Personagem Ifa, a rainha do fogo com 22 pontos de vida e 14 pontos de magia"
      ]
     },
     "execution_count": 44,
     "metadata": {},
     "output_type": "execute_result"
    }
   ],
   "source": [
    "ifa"
   ]
  },
  {
   "cell_type": "code",
   "execution_count": 45,
   "id": "3d20e942-6b4b-4d75-b482-3652f508a877",
   "metadata": {},
   "outputs": [],
   "source": [
    "ifa.toma_dano(15)"
   ]
  },
  {
   "cell_type": "code",
   "execution_count": 46,
   "id": "047596fe-e06f-4ae2-86e3-b1eb8a51032d",
   "metadata": {},
   "outputs": [
    {
     "data": {
      "text/plain": [
       "Personagem Ifa, a rainha do fogo com 7 pontos de vida e 14 pontos de magia"
      ]
     },
     "execution_count": 46,
     "metadata": {},
     "output_type": "execute_result"
    }
   ],
   "source": [
    "ifa"
   ]
  },
  {
   "cell_type": "markdown",
   "id": "c1f0d8b0-4eab-4473-80c3-a4a2d9507441",
   "metadata": {},
   "source": [
    "# Todos os objetos de Python são instâncias de classes"
   ]
  },
  {
   "cell_type": "code",
   "execution_count": 47,
   "id": "9ab5bf1c-a42c-4016-924b-75a1fbcfa6ed",
   "metadata": {},
   "outputs": [
    {
     "name": "stdout",
     "output_type": "stream",
     "text": [
      "<class 'int'>\n",
      "<class 'float'>\n",
      "<class 'list'>\n",
      "<class 'dict'>\n",
      "<class '__main__.Jogador'>\n"
     ]
    }
   ],
   "source": [
    "inteiro = 2\n",
    "real = 10.5\n",
    "lista = [1, 2, 3]\n",
    "dicionario = {\"monstro\": True}\n",
    "pat_azul = Jogador(\"Patrulheiro Formidável Azul\", 5)\n",
    "\n",
    "print(type(inteiro))\n",
    "print(type(real))\n",
    "print(type(lista))\n",
    "print(type(dicionario))\n",
    "print(type(pat_azul))"
   ]
  },
  {
   "cell_type": "code",
   "execution_count": 48,
   "id": "d9108059-b2d0-4978-a8bb-48f521e0ed62",
   "metadata": {},
   "outputs": [
    {
     "name": "stdout",
     "output_type": "stream",
     "text": [
      "[1, 2, 3]\n",
      "[1, 2, 3, 4]\n",
      "[1, 3, 4]\n",
      "[1, 3, 4, 5, 6, 7]\n",
      "1\n"
     ]
    }
   ],
   "source": [
    "lista = [1, 2, 3]\n",
    "print(lista)\n",
    "\n",
    "lista.append(4)\n",
    "print(lista)\n",
    "\n",
    "lista.remove(2)\n",
    "print(lista)\n",
    "\n",
    "lista.extend([5, 6, 7])\n",
    "print(lista)\n",
    "\n",
    "print(lista.index(3))"
   ]
  },
  {
   "cell_type": "code",
   "execution_count": 49,
   "id": "7728e370-a03f-4e93-9e8f-8de16025dde6",
   "metadata": {},
   "outputs": [
    {
     "name": "stdout",
     "output_type": "stream",
     "text": [
      "3\n"
     ]
    }
   ],
   "source": [
    "a = 1\n",
    "b = 2\n",
    "\n",
    "c = a + b\n",
    "\n",
    "print(c)"
   ]
  },
  {
   "cell_type": "code",
   "execution_count": 50,
   "id": "22b5f56d-109d-46db-82c1-3ae0627943ea",
   "metadata": {},
   "outputs": [
    {
     "name": "stdout",
     "output_type": "stream",
     "text": [
      "3\n"
     ]
    }
   ],
   "source": [
    "c = a.__add__(b)\n",
    "print(c)"
   ]
  },
  {
   "cell_type": "code",
   "execution_count": 56,
   "id": "77bf7145-d73a-4302-b0d0-09e008e2186a",
   "metadata": {},
   "outputs": [
    {
     "data": {
      "text/plain": [
       "False"
      ]
     },
     "execution_count": 56,
     "metadata": {},
     "output_type": "execute_result"
    }
   ],
   "source": [
    "isinstance(a, Jogador)"
   ]
  },
  {
   "cell_type": "code",
   "execution_count": 60,
   "id": "ac6137b7-b240-4471-adc9-32cecae8cac0",
   "metadata": {},
   "outputs": [
    {
     "data": {
      "text/plain": [
       "True"
      ]
     },
     "execution_count": 60,
     "metadata": {},
     "output_type": "execute_result"
    }
   ],
   "source": [
    "isinstance(diana, Jogador)"
   ]
  },
  {
   "cell_type": "code",
   "execution_count": 63,
   "id": "5d40a547-9dd0-4827-a395-97564c350d63",
   "metadata": {},
   "outputs": [
    {
     "data": {
      "text/plain": [
       "True"
      ]
     },
     "execution_count": 63,
     "metadata": {},
     "output_type": "execute_result"
    }
   ],
   "source": [
    "isinstance(ifa, Jogador_bruxa)"
   ]
  },
  {
   "cell_type": "code",
   "execution_count": 64,
   "id": "2e497bdb-9704-4a80-9d62-5b2d86248fbb",
   "metadata": {},
   "outputs": [
    {
     "data": {
      "text/plain": [
       "True"
      ]
     },
     "execution_count": 64,
     "metadata": {},
     "output_type": "execute_result"
    }
   ],
   "source": [
    "isinstance(ifa, Jogador)"
   ]
  },
  {
   "cell_type": "code",
   "execution_count": 65,
   "id": "f8f0ba7e-9462-4eac-ae7e-b543ec109c6e",
   "metadata": {},
   "outputs": [
    {
     "data": {
      "text/plain": [
       "True"
      ]
     },
     "execution_count": 65,
     "metadata": {},
     "output_type": "execute_result"
    }
   ],
   "source": [
    "hasattr(diana, \"pv\")"
   ]
  },
  {
   "cell_type": "code",
   "execution_count": 66,
   "id": "9ba800d0-34dc-49c8-8d6c-c305bf10113d",
   "metadata": {},
   "outputs": [
    {
     "data": {
      "text/plain": [
       "12"
      ]
     },
     "execution_count": 66,
     "metadata": {},
     "output_type": "execute_result"
    }
   ],
   "source": [
    "diana.pv"
   ]
  },
  {
   "cell_type": "code",
   "execution_count": 69,
   "id": "c21acf7a-2e9c-42aa-9b00-55879c9970fc",
   "metadata": {},
   "outputs": [
    {
     "data": {
      "text/plain": [
       "True"
      ]
     },
     "execution_count": 69,
     "metadata": {},
     "output_type": "execute_result"
    }
   ],
   "source": [
    "hasattr(ifa, \"pm\")"
   ]
  },
  {
   "cell_type": "code",
   "execution_count": 68,
   "id": "99618f83-7d82-43b7-ab57-51266a34e7a3",
   "metadata": {},
   "outputs": [
    {
     "data": {
      "text/plain": [
       "False"
      ]
     },
     "execution_count": 68,
     "metadata": {},
     "output_type": "execute_result"
    }
   ],
   "source": [
    "isinstance(diana, Jogador_bruxa)"
   ]
  },
  {
   "cell_type": "code",
   "execution_count": 70,
   "id": "34d02d60-8383-4ceb-91d9-fe521d703ff0",
   "metadata": {},
   "outputs": [
    {
     "data": {
      "text/plain": [
       "True"
      ]
     },
     "execution_count": 70,
     "metadata": {},
     "output_type": "execute_result"
    }
   ],
   "source": [
    "hasattr(diana, \"toma_dano\")"
   ]
  },
  {
   "cell_type": "code",
   "execution_count": null,
   "id": "55742b05-d910-4a5d-965b-616cb9eda8ff",
   "metadata": {},
   "outputs": [],
   "source": []
  }
 ],
 "metadata": {
  "kernelspec": {
   "display_name": "Python 3.10.8 64-bit",
   "language": "python",
   "name": "python3"
  },
  "language_info": {
   "codemirror_mode": {
    "name": "ipython",
    "version": 3
   },
   "file_extension": ".py",
   "mimetype": "text/x-python",
   "name": "python",
   "nbconvert_exporter": "python",
   "pygments_lexer": "ipython3",
   "version": "3.10.8"
  },
  "vscode": {
   "interpreter": {
    "hash": "26de051ba29f2982a8de78e945f0abaf191376122a1563185a90213a26c5da77"
   }
  }
 },
 "nbformat": 4,
 "nbformat_minor": 5
}
