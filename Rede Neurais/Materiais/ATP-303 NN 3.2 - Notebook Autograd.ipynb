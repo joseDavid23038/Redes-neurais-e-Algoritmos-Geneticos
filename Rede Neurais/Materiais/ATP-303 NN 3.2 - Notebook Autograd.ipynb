{
 "cells": [
  {
   "cell_type": "markdown",
   "id": "ae495dd1-ddfe-4df2-8cc6-0332c4226c9e",
   "metadata": {},
   "source": [
    "# Redes neurais artificiais do zero em Python"
   ]
  },
  {
   "cell_type": "markdown",
   "id": "f22146a7-7fa3-47db-9549-bf9ebb79986f",
   "metadata": {},
   "source": [
    "Referência: Andrej Karpathy. The spelled-out intro to neural networks and backpropagation: building micrograd (2022). https://www.youtube.com/watch?v=VMj-3S1tku0"
   ]
  },
  {
   "cell_type": "markdown",
   "id": "afb07870-b07e-481b-b351-7a2f1ef77551",
   "metadata": {
    "tags": []
   },
   "source": [
    "## Construindo um grafo computacional automaticamente"
   ]
  },
  {
   "cell_type": "code",
   "execution_count": 2,
   "id": "20ab4c0d-c9ea-4c91-ba0b-87d0eee0c0ba",
   "metadata": {},
   "outputs": [],
   "source": [
    "from graphviz import Digraph\n",
    "\n",
    "\n",
    "def _tracar(folha):\n",
    "    \"\"\"Função modificada da criada por Andrej Karpathy para construção de grafo.\n",
    "\n",
    "    Referência: https://github.com/karpathy/micrograd\n",
    "\n",
    "    \"\"\"\n",
    "    vertices = set()\n",
    "    arestas = set()\n",
    "\n",
    "    def construir(v):\n",
    "        \"\"\"Função recursiva para traçar o grafo.\"\"\"\n",
    "        if v not in vertices:\n",
    "            vertices.add(v)\n",
    "            for progenitor in v.progenitor:\n",
    "                arestas.add((progenitor, v))\n",
    "                construir(progenitor)\n",
    "\n",
    "    construir(folha)\n",
    "\n",
    "    return vertices, arestas\n",
    "\n",
    "\n",
    "def plota_grafo(folha):\n",
    "    \"\"\"Função modificada da criada por Andrej Karpathy para construção de grafo.\n",
    "\n",
    "    Referência: https://github.com/karpathy/micrograd\n",
    "\n",
    "    \"\"\"\n",
    "    grafo = Digraph(format=\"svg\", graph_attr={\"rankdir\": \"LR\"})\n",
    "    vertices, arestas = _tracar(folha)\n",
    "\n",
    "    for v in vertices:\n",
    "        id_vertice = str(id(v))\n",
    "\n",
    "        if hasattr(v, \"rotulo\") and (hasattr(v, \"grad\")):\n",
    "            texto = \"{ \" + f\"{v.rotulo} | data {v.data:.3f} | grad {v.grad:.3f}\" + \" }\"\n",
    "\n",
    "        elif hasattr(v, \"rotulo\"):\n",
    "            texto = \"{ \" + f\"{v.rotulo} | data {v.data:.3f}\" + \" }\"\n",
    "\n",
    "        else:\n",
    "            texto = \"{ \" + f\"data {v.data:.3f}\" + \" }\"\n",
    "\n",
    "        grafo.node(name=id_vertice, label=texto, shape=\"record\")\n",
    "\n",
    "        if v.operador_mae:\n",
    "            grafo.node(name=id_vertice + v.operador_mae, label=v.operador_mae)\n",
    "            grafo.edge(id_vertice + v.operador_mae, id_vertice)\n",
    "\n",
    "    for vertice1, vertice2 in arestas:\n",
    "        grafo.edge(str(id(vertice1)), str(id(vertice2)) + vertice2.operador_mae)\n",
    "\n",
    "    return grafo"
   ]
  },
  {
   "cell_type": "code",
   "execution_count": 3,
   "id": "6d9729db-b25d-4e54-8f02-f8be7d7c4cec",
   "metadata": {},
   "outputs": [],
   "source": [
    "import math\n",
    "\n",
    "class Valor:\n",
    "    def __init__(self, data, progenitor=(), operador_mae=\"\", rotulo=\"\"):\n",
    "        self.data = data\n",
    "        self.progenitor = progenitor\n",
    "        self.operador_mae = operador_mae\n",
    "        self.rotulo = rotulo\n",
    "        self.grad = 0\n",
    "\n",
    "    def __repr__(self):\n",
    "        return f\"Valor(data={self.data})\"\n",
    "    \n",
    "    def __add__(self, outro_valor):\n",
    "        \"\"\"Realiza a operação: self + outro_valor.\"\"\"\n",
    "        \n",
    "        if not isinstance(outro_valor, Valor):\n",
    "            outro_valor = Valor(outro_valor)\n",
    "            \n",
    "        progenitor = (self, outro_valor)\n",
    "        data = self.data + outro_valor.data\n",
    "        operador_mae = \"+\"\n",
    "        resultado = Valor(data, progenitor, operador_mae)\n",
    "        \n",
    "        def propagar_adicao():\n",
    "            self.grad += resultado.grad\n",
    "            outro_valor.grad += resultado.grad\n",
    "            \n",
    "        resultado.propagar = propagar_adicao\n",
    "        \n",
    "        return resultado\n",
    "    \n",
    "    def __mul__(self, outro_valor):\n",
    "        \"\"\"Realiza a operação: self * outro_valor.\"\"\"\n",
    "        \n",
    "        if not isinstance(outro_valor, Valor):\n",
    "            outro_valor = Valor(outro_valor)\n",
    "            \n",
    "        progenitor = (self, outro_valor)\n",
    "        data = self.data * outro_valor.data\n",
    "        operador_mae = \"*\"\n",
    "        resultado = Valor(data, progenitor, operador_mae)\n",
    "        \n",
    "        def propagar_multiplicacao():\n",
    "            self.grad += resultado.grad * outro_valor.data # grad_filho * derivada filho em relação a mãe\n",
    "            outro_valor.grad += resultado.grad * self.data\n",
    "            \n",
    "        resultado.propagar = propagar_multiplicacao\n",
    "        \n",
    "        return resultado\n",
    "    \n",
    "    def exp(self):\n",
    "        \"\"\"Realiza a operação: exp(self)\"\"\"\n",
    "        progenitor = (self, )\n",
    "        data = math.exp(self.data)\n",
    "        operador_mae = \"exp\"\n",
    "        resultado = Valor(data, progenitor, operador_mae)\n",
    "        \n",
    "        def propagar_exp():\n",
    "            self.grad += resultado.grad * data \n",
    "        \n",
    "        resultado.propagar = propagar_exp\n",
    "        \n",
    "        return resultado\n",
    "    \n",
    "    def __pow__(self, expoente):\n",
    "        \"\"\"Realiza a operação: self ** expoente\"\"\"\n",
    "        assert isinstance(expoente, (int, float))\n",
    "        progenitor = (self, )\n",
    "        data = self.data ** expoente\n",
    "        operador_mae = f\"**{expoente}\"\n",
    "        resultado = Valor(data, progenitor, operador_mae)\n",
    "        \n",
    "        def propagar_pow():\n",
    "            self.grad += resultado.grad * (expoente * self.data ** (expoente - 1))\n",
    "        \n",
    "        resultado.propagar = propagar_pow\n",
    "        \n",
    "        return resultado\n",
    "    \n",
    "    def __truediv__(self, outro_valor):\n",
    "        \"\"\"Realiza a operação: self / outro_valor\"\"\"\n",
    "        return self * outro_valor ** (-1)\n",
    "    \n",
    "    def __neg__(self):\n",
    "        \"\"\"Realiza a operação: -self\"\"\"\n",
    "        return self * -1\n",
    "    \n",
    "    def __sub__(self, outro_valor):\n",
    "        \"\"\"Realiza a operação: self - outro_valor\"\"\"\n",
    "        return self + (-outro_valor)\n",
    "    \n",
    "    def __radd__(self, outro_valor):\n",
    "        \"\"\"Realiza a operação: outro_valor + self\"\"\"\n",
    "        return self + outro_valor\n",
    "    \n",
    "    def __rmul__(self, outro_valor):\n",
    "        \"\"\"Realiza a operação: outro_valor * self\"\"\"\n",
    "        return self * outro_valor\n",
    "    \n",
    "    def sig(self):\n",
    "        \"\"\"Realiza a operação: exp(self) / (exp(self) + 1)\"\"\"\n",
    "        return self.exp() / (self.exp() + 1)\n",
    "    \n",
    "    def propagar(self):\n",
    "        pass\n",
    "    \n",
    "    def propagar_tudo(self):\n",
    "        \n",
    "        self.grad = 1\n",
    "        \n",
    "        ordem_topologica = []\n",
    "        \n",
    "        visitados = set()\n",
    "\n",
    "        def constroi_ordem_topologica(v):\n",
    "            if v not in visitados:\n",
    "                visitados.add(v)\n",
    "                for progenitor in v.progenitor:\n",
    "                    constroi_ordem_topologica(progenitor)\n",
    "                ordem_topologica.append(v)\n",
    "\n",
    "        constroi_ordem_topologica(self)\n",
    "        \n",
    "        for vertice in reversed(ordem_topologica):\n",
    "            vertice.propagar()"
   ]
  },
  {
   "cell_type": "code",
   "execution_count": 4,
   "id": "539030d8-5a54-4871-99ff-cbe016a8fe62",
   "metadata": {},
   "outputs": [
    {
     "name": "stdout",
     "output_type": "stream",
     "text": [
      "Valor(data=10)\n"
     ]
    }
   ],
   "source": [
    "a = Valor(10)\n",
    "print(a)"
   ]
  },
  {
   "cell_type": "code",
   "execution_count": 5,
   "id": "fd18af5a-ec98-4302-9d3a-9691afa11f71",
   "metadata": {},
   "outputs": [
    {
     "name": "stdout",
     "output_type": "stream",
     "text": [
      "Valor(data=5)\n"
     ]
    }
   ],
   "source": [
    "b = Valor(5)\n",
    "print(b)"
   ]
  },
  {
   "cell_type": "code",
   "execution_count": 6,
   "id": "82841bf3-9691-4a29-9b50-3e74014605c6",
   "metadata": {},
   "outputs": [],
   "source": [
    "c = a + b"
   ]
  },
  {
   "cell_type": "code",
   "execution_count": 7,
   "id": "7304a97e-591a-47dd-9d3c-d9015cfff0fa",
   "metadata": {},
   "outputs": [
    {
     "name": "stdout",
     "output_type": "stream",
     "text": [
      "Valor(data=15)\n"
     ]
    }
   ],
   "source": [
    "print(c)"
   ]
  },
  {
   "cell_type": "code",
   "execution_count": 8,
   "id": "2890493e-68d1-4b1b-8ada-11e89f0c293a",
   "metadata": {},
   "outputs": [
    {
     "data": {
      "text/plain": [
       "(Valor(data=10), Valor(data=5))"
      ]
     },
     "execution_count": 8,
     "metadata": {},
     "output_type": "execute_result"
    }
   ],
   "source": [
    "c.progenitor"
   ]
  },
  {
   "cell_type": "code",
   "execution_count": 9,
   "id": "f97034a6-4cd9-449d-8266-3227768085c5",
   "metadata": {},
   "outputs": [
    {
     "data": {
      "text/plain": [
       "'+'"
      ]
     },
     "execution_count": 9,
     "metadata": {},
     "output_type": "execute_result"
    }
   ],
   "source": [
    "c.operador_mae"
   ]
  },
  {
   "cell_type": "code",
   "execution_count": 10,
   "id": "e2d1a895-ab6b-4a74-8726-c2da69312038",
   "metadata": {},
   "outputs": [],
   "source": [
    "d = a * b"
   ]
  },
  {
   "cell_type": "code",
   "execution_count": 11,
   "id": "0541dc35-37fd-4ab8-80c9-1e2ac8bc34f4",
   "metadata": {},
   "outputs": [
    {
     "name": "stdout",
     "output_type": "stream",
     "text": [
      "Valor(data=50)\n"
     ]
    }
   ],
   "source": [
    "print(d)"
   ]
  },
  {
   "cell_type": "code",
   "execution_count": 12,
   "id": "bcd56e6b-8e08-4d8c-8f3b-2f7d34db050c",
   "metadata": {},
   "outputs": [
    {
     "data": {
      "text/plain": [
       "(Valor(data=10), Valor(data=5))"
      ]
     },
     "execution_count": 12,
     "metadata": {},
     "output_type": "execute_result"
    }
   ],
   "source": [
    "d.progenitor"
   ]
  },
  {
   "cell_type": "code",
   "execution_count": 13,
   "id": "700ea793-4b5a-4199-b031-516d280eabd8",
   "metadata": {},
   "outputs": [
    {
     "data": {
      "text/plain": [
       "'*'"
      ]
     },
     "execution_count": 13,
     "metadata": {},
     "output_type": "execute_result"
    }
   ],
   "source": [
    "d.operador_mae"
   ]
  },
  {
   "cell_type": "code",
   "execution_count": 14,
   "id": "2a15d742-4301-4a01-915a-be297d06fbd7",
   "metadata": {},
   "outputs": [
    {
     "data": {
      "text/plain": [
       "()"
      ]
     },
     "execution_count": 14,
     "metadata": {},
     "output_type": "execute_result"
    }
   ],
   "source": [
    "b.progenitor"
   ]
  },
  {
   "cell_type": "code",
   "execution_count": 15,
   "id": "5941dde9-8658-4a46-8224-a2d1ad1bfd57",
   "metadata": {},
   "outputs": [
    {
     "data": {
      "image/svg+xml": "<?xml version=\"1.0\" encoding=\"UTF-8\" standalone=\"no\"?>\n<!DOCTYPE svg PUBLIC \"-//W3C//DTD SVG 1.1//EN\"\n \"http://www.w3.org/Graphics/SVG/1.1/DTD/svg11.dtd\">\n<!-- Generated by graphviz version 8.1.0 (20230707.0739)\n -->\n<!-- Pages: 1 -->\n<svg width=\"787pt\" height=\"128pt\"\n viewBox=\"0.00 0.00 786.50 128.00\" xmlns=\"http://www.w3.org/2000/svg\" xmlns:xlink=\"http://www.w3.org/1999/xlink\">\n<g id=\"graph0\" class=\"graph\" transform=\"scale(1 1) rotate(0) translate(4 124)\">\n<polygon fill=\"white\" stroke=\"none\" points=\"-4,4 -4,-124 782.5,-124 782.5,4 -4,4\"/>\n<!-- 2492289052256 -->\n<g id=\"node1\" class=\"node\">\n<title>2492289052256</title>\n<polygon fill=\"none\" stroke=\"black\" points=\"607.5,-27.5 607.5,-63.5 778.5,-63.5 778.5,-27.5 607.5,-27.5\"/>\n<text text-anchor=\"middle\" x=\"618.5\" y=\"-40.2\" font-family=\"Times New Roman,serif\" font-size=\"14.00\">e</text>\n<polyline fill=\"none\" stroke=\"black\" points=\"629.5,-27.75 629.5,-63.5\"/>\n<text text-anchor=\"middle\" x=\"666.38\" y=\"-40.2\" font-family=\"Times New Roman,serif\" font-size=\"14.00\">data 4.000</text>\n<polyline fill=\"none\" stroke=\"black\" points=\"703.25,-27.75 703.25,-63.5\"/>\n<text text-anchor=\"middle\" x=\"740.88\" y=\"-40.2\" font-family=\"Times New Roman,serif\" font-size=\"14.00\">grad 1.000</text>\n</g>\n<!-- 2492289052256+ -->\n<g id=\"node2\" class=\"node\">\n<title>2492289052256+</title>\n<ellipse fill=\"none\" stroke=\"black\" cx=\"544.5\" cy=\"-45.5\" rx=\"27\" ry=\"18\"/>\n<text text-anchor=\"middle\" x=\"544.5\" y=\"-40.08\" font-family=\"Times New Roman,serif\" font-size=\"14.00\">+</text>\n</g>\n<!-- 2492289052256+&#45;&gt;2492289052256 -->\n<g id=\"edge1\" class=\"edge\">\n<title>2492289052256+&#45;&gt;2492289052256</title>\n<path fill=\"none\" stroke=\"black\" d=\"M571.69,-45.5C579.14,-45.5 587.73,-45.5 596.8,-45.5\"/>\n<polygon fill=\"black\" stroke=\"black\" points=\"596.65,-49 606.65,-45.5 596.65,-42 596.65,-49\"/>\n</g>\n<!-- 2492289989312 -->\n<g id=\"node3\" class=\"node\">\n<title>2492289989312</title>\n<polygon fill=\"none\" stroke=\"black\" points=\"0.75,-83.5 0.75,-119.5 176.25,-119.5 176.25,-83.5 0.75,-83.5\"/>\n<text text-anchor=\"middle\" x=\"11.75\" y=\"-96.2\" font-family=\"Times New Roman,serif\" font-size=\"14.00\">a</text>\n<polyline fill=\"none\" stroke=\"black\" points=\"22.75,-83.75 22.75,-119.5\"/>\n<text text-anchor=\"middle\" x=\"59.62\" y=\"-96.2\" font-family=\"Times New Roman,serif\" font-size=\"14.00\">data 2.000</text>\n<polyline fill=\"none\" stroke=\"black\" points=\"96.5,-83.75 96.5,-119.5\"/>\n<text text-anchor=\"middle\" x=\"136.38\" y=\"-96.2\" font-family=\"Times New Roman,serif\" font-size=\"14.00\">grad &#45;3.000</text>\n</g>\n<!-- 2492289052976* -->\n<g id=\"node6\" class=\"node\">\n<title>2492289052976*</title>\n<ellipse fill=\"none\" stroke=\"black\" cx=\"240\" cy=\"-73.5\" rx=\"27\" ry=\"18\"/>\n<text text-anchor=\"middle\" x=\"240\" y=\"-68.08\" font-family=\"Times New Roman,serif\" font-size=\"14.00\">*</text>\n</g>\n<!-- 2492289989312&#45;&gt;2492289052976* -->\n<g id=\"edge4\" class=\"edge\">\n<title>2492289989312&#45;&gt;2492289052976*</title>\n<path fill=\"none\" stroke=\"black\" d=\"M176.03,-85.29C185.44,-83.53 194.6,-81.82 202.88,-80.26\"/>\n<polygon fill=\"black\" stroke=\"black\" points=\"203.39,-83.54 212.58,-78.26 202.11,-76.66 203.39,-83.54\"/>\n</g>\n<!-- 2492289988832 -->\n<g id=\"node4\" class=\"node\">\n<title>2492289988832</title>\n<polygon fill=\"none\" stroke=\"black\" points=\"0,-28.5 0,-64.5 177,-64.5 177,-28.5 0,-28.5\"/>\n<text text-anchor=\"middle\" x=\"11.75\" y=\"-41.2\" font-family=\"Times New Roman,serif\" font-size=\"14.00\">b</text>\n<polyline fill=\"none\" stroke=\"black\" points=\"23.5,-28.75 23.5,-64.5\"/>\n<text text-anchor=\"middle\" x=\"62.62\" y=\"-41.2\" font-family=\"Times New Roman,serif\" font-size=\"14.00\">data &#45;3.000</text>\n<polyline fill=\"none\" stroke=\"black\" points=\"101.75,-28.75 101.75,-64.5\"/>\n<text text-anchor=\"middle\" x=\"139.38\" y=\"-41.2\" font-family=\"Times New Roman,serif\" font-size=\"14.00\">grad 2.000</text>\n</g>\n<!-- 2492289988832&#45;&gt;2492289052976* -->\n<g id=\"edge5\" class=\"edge\">\n<title>2492289988832&#45;&gt;2492289052976*</title>\n<path fill=\"none\" stroke=\"black\" d=\"M176.9,-62.28C186.02,-63.93 194.88,-65.53 202.92,-66.98\"/>\n<polygon fill=\"black\" stroke=\"black\" points=\"202.21,-70.59 212.68,-68.93 203.46,-63.7 202.21,-70.59\"/>\n</g>\n<!-- 2492289052976 -->\n<g id=\"node5\" class=\"node\">\n<title>2492289052976</title>\n<polygon fill=\"none\" stroke=\"black\" points=\"303.75,-55.5 303.75,-91.5 480.75,-91.5 480.75,-55.5 303.75,-55.5\"/>\n<text text-anchor=\"middle\" x=\"315.5\" y=\"-68.2\" font-family=\"Times New Roman,serif\" font-size=\"14.00\">d</text>\n<polyline fill=\"none\" stroke=\"black\" points=\"327.25,-55.75 327.25,-91.5\"/>\n<text text-anchor=\"middle\" x=\"366.38\" y=\"-68.2\" font-family=\"Times New Roman,serif\" font-size=\"14.00\">data &#45;6.000</text>\n<polyline fill=\"none\" stroke=\"black\" points=\"405.5,-55.75 405.5,-91.5\"/>\n<text text-anchor=\"middle\" x=\"443.12\" y=\"-68.2\" font-family=\"Times New Roman,serif\" font-size=\"14.00\">grad 1.000</text>\n</g>\n<!-- 2492289052976&#45;&gt;2492289052256+ -->\n<g id=\"edge3\" class=\"edge\">\n<title>2492289052976&#45;&gt;2492289052256+</title>\n<path fill=\"none\" stroke=\"black\" d=\"M480.65,-57.21C490.06,-55.46 499.21,-53.75 507.47,-52.21\"/>\n<polygon fill=\"black\" stroke=\"black\" points=\"507.96,-55.5 517.15,-50.22 506.68,-48.62 507.96,-55.5\"/>\n</g>\n<!-- 2492289052976*&#45;&gt;2492289052976 -->\n<g id=\"edge2\" class=\"edge\">\n<title>2492289052976*&#45;&gt;2492289052976</title>\n<path fill=\"none\" stroke=\"black\" d=\"M267.17,-73.5C274.81,-73.5 283.64,-73.5 293,-73.5\"/>\n<polygon fill=\"black\" stroke=\"black\" points=\"292.76,-77 302.76,-73.5 292.76,-70 292.76,-77\"/>\n</g>\n<!-- 2492289988592 -->\n<g id=\"node7\" class=\"node\">\n<title>2492289988592</title>\n<polygon fill=\"none\" stroke=\"black\" points=\"303,-0.5 303,-36.5 481.5,-36.5 481.5,-0.5 303,-0.5\"/>\n<text text-anchor=\"middle\" x=\"314.38\" y=\"-13.2\" font-family=\"Times New Roman,serif\" font-size=\"14.00\">c</text>\n<polyline fill=\"none\" stroke=\"black\" points=\"325.75,-0.75 325.75,-36.5\"/>\n<text text-anchor=\"middle\" x=\"366\" y=\"-13.2\" font-family=\"Times New Roman,serif\" font-size=\"14.00\">data 10.000</text>\n<polyline fill=\"none\" stroke=\"black\" points=\"406.25,-0.75 406.25,-36.5\"/>\n<text text-anchor=\"middle\" x=\"443.88\" y=\"-13.2\" font-family=\"Times New Roman,serif\" font-size=\"14.00\">grad 1.000</text>\n</g>\n<!-- 2492289988592&#45;&gt;2492289052256+ -->\n<g id=\"edge6\" class=\"edge\">\n<title>2492289988592&#45;&gt;2492289052256+</title>\n<path fill=\"none\" stroke=\"black\" d=\"M481.09,-34.28C490.25,-35.93 499.16,-37.53 507.24,-38.98\"/>\n<polygon fill=\"black\" stroke=\"black\" points=\"506.59,-42.6 517.05,-40.93 507.82,-35.71 506.59,-42.6\"/>\n</g>\n</g>\n</svg>\n",
      "text/plain": [
       "<graphviz.graphs.Digraph at 0x244480f34c0>"
      ]
     },
     "execution_count": 15,
     "metadata": {},
     "output_type": "execute_result"
    }
   ],
   "source": [
    "a = Valor(2, rotulo=\"a\")\n",
    "b = Valor(-3, rotulo=\"b\")\n",
    "c = Valor(10, rotulo=\"c\")\n",
    "\n",
    "d = a * b\n",
    "d.rotulo = \"d\"\n",
    "e = d + c\n",
    "e.rotulo = \"e\"\n",
    "\n",
    "e.grad = 1  # de/de\n",
    "c.grad = 1  # de/dc   e = d + c\n",
    "d.grad = 1  # de/dd\n",
    "\n",
    "a.grad = -3  # de/da = 1 * -3   d = a * b\n",
    "b.grad = 2  # de/db = 1 * 2\n",
    "\n",
    "plota_grafo(e)"
   ]
  },
  {
   "cell_type": "code",
   "execution_count": 16,
   "id": "af133157-a03c-4efd-96e9-b419d8f1ed57",
   "metadata": {},
   "outputs": [
    {
     "data": {
      "image/svg+xml": "<?xml version=\"1.0\" encoding=\"UTF-8\" standalone=\"no\"?>\n<!DOCTYPE svg PUBLIC \"-//W3C//DTD SVG 1.1//EN\"\n \"http://www.w3.org/Graphics/SVG/1.1/DTD/svg11.dtd\">\n<!-- Generated by graphviz version 8.1.0 (20230707.0739)\n -->\n<!-- Pages: 1 -->\n<svg width=\"787pt\" height=\"128pt\"\n viewBox=\"0.00 0.00 786.50 128.00\" xmlns=\"http://www.w3.org/2000/svg\" xmlns:xlink=\"http://www.w3.org/1999/xlink\">\n<g id=\"graph0\" class=\"graph\" transform=\"scale(1 1) rotate(0) translate(4 124)\">\n<polygon fill=\"white\" stroke=\"none\" points=\"-4,4 -4,-124 782.5,-124 782.5,4 -4,4\"/>\n<!-- 2492289976832 -->\n<g id=\"node1\" class=\"node\">\n<title>2492289976832</title>\n<polygon fill=\"none\" stroke=\"black\" points=\"0,-83.5 0,-119.5 177,-119.5 177,-83.5 0,-83.5\"/>\n<text text-anchor=\"middle\" x=\"11.75\" y=\"-96.2\" font-family=\"Times New Roman,serif\" font-size=\"14.00\">b</text>\n<polyline fill=\"none\" stroke=\"black\" points=\"23.5,-83.75 23.5,-119.5\"/>\n<text text-anchor=\"middle\" x=\"62.62\" y=\"-96.2\" font-family=\"Times New Roman,serif\" font-size=\"14.00\">data &#45;3.000</text>\n<polyline fill=\"none\" stroke=\"black\" points=\"101.75,-83.75 101.75,-119.5\"/>\n<text text-anchor=\"middle\" x=\"139.38\" y=\"-96.2\" font-family=\"Times New Roman,serif\" font-size=\"14.00\">grad 2.000</text>\n</g>\n<!-- 2492289056336* -->\n<g id=\"node4\" class=\"node\">\n<title>2492289056336*</title>\n<ellipse fill=\"none\" stroke=\"black\" cx=\"240\" cy=\"-73.5\" rx=\"27\" ry=\"18\"/>\n<text text-anchor=\"middle\" x=\"240\" y=\"-68.08\" font-family=\"Times New Roman,serif\" font-size=\"14.00\">*</text>\n</g>\n<!-- 2492289976832&#45;&gt;2492289056336* -->\n<g id=\"edge5\" class=\"edge\">\n<title>2492289976832&#45;&gt;2492289056336*</title>\n<path fill=\"none\" stroke=\"black\" d=\"M176.9,-85.13C186.02,-83.42 194.88,-81.76 202.92,-80.26\"/>\n<polygon fill=\"black\" stroke=\"black\" points=\"203.49,-83.52 212.68,-78.24 202.2,-76.64 203.49,-83.52\"/>\n</g>\n<!-- 2492289989648 -->\n<g id=\"node2\" class=\"node\">\n<title>2492289989648</title>\n<polygon fill=\"none\" stroke=\"black\" points=\"303,-0.5 303,-36.5 481.5,-36.5 481.5,-0.5 303,-0.5\"/>\n<text text-anchor=\"middle\" x=\"314.38\" y=\"-13.2\" font-family=\"Times New Roman,serif\" font-size=\"14.00\">c</text>\n<polyline fill=\"none\" stroke=\"black\" points=\"325.75,-0.75 325.75,-36.5\"/>\n<text text-anchor=\"middle\" x=\"366\" y=\"-13.2\" font-family=\"Times New Roman,serif\" font-size=\"14.00\">data 10.000</text>\n<polyline fill=\"none\" stroke=\"black\" points=\"406.25,-0.75 406.25,-36.5\"/>\n<text text-anchor=\"middle\" x=\"443.88\" y=\"-13.2\" font-family=\"Times New Roman,serif\" font-size=\"14.00\">grad 1.000</text>\n</g>\n<!-- 2492289056624+ -->\n<g id=\"node7\" class=\"node\">\n<title>2492289056624+</title>\n<ellipse fill=\"none\" stroke=\"black\" cx=\"544.5\" cy=\"-45.5\" rx=\"27\" ry=\"18\"/>\n<text text-anchor=\"middle\" x=\"544.5\" y=\"-40.08\" font-family=\"Times New Roman,serif\" font-size=\"14.00\">+</text>\n</g>\n<!-- 2492289989648&#45;&gt;2492289056624+ -->\n<g id=\"edge6\" class=\"edge\">\n<title>2492289989648&#45;&gt;2492289056624+</title>\n<path fill=\"none\" stroke=\"black\" d=\"M481.09,-34.28C490.25,-35.93 499.16,-37.53 507.24,-38.98\"/>\n<polygon fill=\"black\" stroke=\"black\" points=\"506.59,-42.6 517.05,-40.93 507.82,-35.71 506.59,-42.6\"/>\n</g>\n<!-- 2492289056336 -->\n<g id=\"node3\" class=\"node\">\n<title>2492289056336</title>\n<polygon fill=\"none\" stroke=\"black\" points=\"303.75,-55.5 303.75,-91.5 480.75,-91.5 480.75,-55.5 303.75,-55.5\"/>\n<text text-anchor=\"middle\" x=\"315.5\" y=\"-68.2\" font-family=\"Times New Roman,serif\" font-size=\"14.00\">d</text>\n<polyline fill=\"none\" stroke=\"black\" points=\"327.25,-55.75 327.25,-91.5\"/>\n<text text-anchor=\"middle\" x=\"366.38\" y=\"-68.2\" font-family=\"Times New Roman,serif\" font-size=\"14.00\">data &#45;6.000</text>\n<polyline fill=\"none\" stroke=\"black\" points=\"405.5,-55.75 405.5,-91.5\"/>\n<text text-anchor=\"middle\" x=\"443.12\" y=\"-68.2\" font-family=\"Times New Roman,serif\" font-size=\"14.00\">grad 1.000</text>\n</g>\n<!-- 2492289056336&#45;&gt;2492289056624+ -->\n<g id=\"edge3\" class=\"edge\">\n<title>2492289056336&#45;&gt;2492289056624+</title>\n<path fill=\"none\" stroke=\"black\" d=\"M480.65,-57.21C490.06,-55.46 499.21,-53.75 507.47,-52.21\"/>\n<polygon fill=\"black\" stroke=\"black\" points=\"507.96,-55.5 517.15,-50.22 506.68,-48.62 507.96,-55.5\"/>\n</g>\n<!-- 2492289056336*&#45;&gt;2492289056336 -->\n<g id=\"edge1\" class=\"edge\">\n<title>2492289056336*&#45;&gt;2492289056336</title>\n<path fill=\"none\" stroke=\"black\" d=\"M267.17,-73.5C274.81,-73.5 283.64,-73.5 293,-73.5\"/>\n<polygon fill=\"black\" stroke=\"black\" points=\"292.76,-77 302.76,-73.5 292.76,-70 292.76,-77\"/>\n</g>\n<!-- 2492289977696 -->\n<g id=\"node5\" class=\"node\">\n<title>2492289977696</title>\n<polygon fill=\"none\" stroke=\"black\" points=\"0.75,-28.5 0.75,-64.5 176.25,-64.5 176.25,-28.5 0.75,-28.5\"/>\n<text text-anchor=\"middle\" x=\"11.75\" y=\"-41.2\" font-family=\"Times New Roman,serif\" font-size=\"14.00\">a</text>\n<polyline fill=\"none\" stroke=\"black\" points=\"22.75,-28.75 22.75,-64.5\"/>\n<text text-anchor=\"middle\" x=\"59.62\" y=\"-41.2\" font-family=\"Times New Roman,serif\" font-size=\"14.00\">data 2.000</text>\n<polyline fill=\"none\" stroke=\"black\" points=\"96.5,-28.75 96.5,-64.5\"/>\n<text text-anchor=\"middle\" x=\"136.38\" y=\"-41.2\" font-family=\"Times New Roman,serif\" font-size=\"14.00\">grad &#45;3.000</text>\n</g>\n<!-- 2492289977696&#45;&gt;2492289056336* -->\n<g id=\"edge4\" class=\"edge\">\n<title>2492289977696&#45;&gt;2492289056336*</title>\n<path fill=\"none\" stroke=\"black\" d=\"M176.03,-62.13C185.44,-63.83 194.6,-65.48 202.88,-66.98\"/>\n<polygon fill=\"black\" stroke=\"black\" points=\"202.12,-70.58 212.58,-68.91 203.36,-63.69 202.12,-70.58\"/>\n</g>\n<!-- 2492289056624 -->\n<g id=\"node6\" class=\"node\">\n<title>2492289056624</title>\n<polygon fill=\"none\" stroke=\"black\" points=\"607.5,-27.5 607.5,-63.5 778.5,-63.5 778.5,-27.5 607.5,-27.5\"/>\n<text text-anchor=\"middle\" x=\"618.5\" y=\"-40.2\" font-family=\"Times New Roman,serif\" font-size=\"14.00\">e</text>\n<polyline fill=\"none\" stroke=\"black\" points=\"629.5,-27.75 629.5,-63.5\"/>\n<text text-anchor=\"middle\" x=\"666.38\" y=\"-40.2\" font-family=\"Times New Roman,serif\" font-size=\"14.00\">data 4.000</text>\n<polyline fill=\"none\" stroke=\"black\" points=\"703.25,-27.75 703.25,-63.5\"/>\n<text text-anchor=\"middle\" x=\"740.88\" y=\"-40.2\" font-family=\"Times New Roman,serif\" font-size=\"14.00\">grad 1.000</text>\n</g>\n<!-- 2492289056624+&#45;&gt;2492289056624 -->\n<g id=\"edge2\" class=\"edge\">\n<title>2492289056624+&#45;&gt;2492289056624</title>\n<path fill=\"none\" stroke=\"black\" d=\"M571.69,-45.5C579.14,-45.5 587.73,-45.5 596.8,-45.5\"/>\n<polygon fill=\"black\" stroke=\"black\" points=\"596.65,-49 606.65,-45.5 596.65,-42 596.65,-49\"/>\n</g>\n</g>\n</svg>\n",
      "text/plain": [
       "<graphviz.graphs.Digraph at 0x2444800ee30>"
      ]
     },
     "execution_count": 16,
     "metadata": {},
     "output_type": "execute_result"
    }
   ],
   "source": [
    "a = Valor(2, rotulo=\"a\")\n",
    "b = Valor(-3, rotulo=\"b\")\n",
    "c = Valor(10, rotulo=\"c\")\n",
    "\n",
    "d = a * b\n",
    "d.rotulo = \"d\"\n",
    "e = d + c\n",
    "e.rotulo = \"e\"\n",
    "\n",
    "e.propagar_tudo()\n",
    "\n",
    "plota_grafo(e)"
   ]
  },
  {
   "cell_type": "code",
   "execution_count": 17,
   "id": "cfb71b81-9d78-4eee-b654-211ccd7b55e1",
   "metadata": {},
   "outputs": [],
   "source": [
    "# autograd"
   ]
  },
  {
   "cell_type": "markdown",
   "id": "109c6d1d-6d3a-43e3-b4e1-6cd246a88edd",
   "metadata": {},
   "source": [
    "![img](https://i.imgur.com/Q3MA6dZ.png)"
   ]
  },
  {
   "cell_type": "code",
   "execution_count": 18,
   "id": "f8e36101-fc99-4a68-acd2-84e3641b4f45",
   "metadata": {},
   "outputs": [
    {
     "data": {
      "image/svg+xml": "<?xml version=\"1.0\" encoding=\"UTF-8\" standalone=\"no\"?>\n<!DOCTYPE svg PUBLIC \"-//W3C//DTD SVG 1.1//EN\"\n \"http://www.w3.org/Graphics/SVG/1.1/DTD/svg11.dtd\">\n<!-- Generated by graphviz version 8.1.0 (20230707.0739)\n -->\n<!-- Pages: 1 -->\n<svg width=\"790pt\" height=\"100pt\"\n viewBox=\"0.00 0.00 789.50 100.00\" xmlns=\"http://www.w3.org/2000/svg\" xmlns:xlink=\"http://www.w3.org/1999/xlink\">\n<g id=\"graph0\" class=\"graph\" transform=\"scale(1 1) rotate(0) translate(4 96)\">\n<polygon fill=\"white\" stroke=\"none\" points=\"-4,4 -4,-96 785.5,-96 785.5,4 -4,4\"/>\n<!-- 2492289049232 -->\n<g id=\"node1\" class=\"node\">\n<title>2492289049232</title>\n<polygon fill=\"none\" stroke=\"black\" points=\"303,-55.5 303,-91.5 480,-91.5 480,-55.5 303,-55.5\"/>\n<text text-anchor=\"middle\" x=\"314.75\" y=\"-68.2\" font-family=\"Times New Roman,serif\" font-size=\"14.00\">d</text>\n<polyline fill=\"none\" stroke=\"black\" points=\"326.5,-55.75 326.5,-91.5\"/>\n<text text-anchor=\"middle\" x=\"365.62\" y=\"-68.2\" font-family=\"Times New Roman,serif\" font-size=\"14.00\">data &#45;6.000</text>\n<polyline fill=\"none\" stroke=\"black\" points=\"404.75,-55.75 404.75,-91.5\"/>\n<text text-anchor=\"middle\" x=\"442.38\" y=\"-68.2\" font-family=\"Times New Roman,serif\" font-size=\"14.00\">grad 1.000</text>\n</g>\n<!-- 2492289049328+ -->\n<g id=\"node5\" class=\"node\">\n<title>2492289049328+</title>\n<ellipse fill=\"none\" stroke=\"black\" cx=\"543\" cy=\"-45.5\" rx=\"27\" ry=\"18\"/>\n<text text-anchor=\"middle\" x=\"543\" y=\"-40.08\" font-family=\"Times New Roman,serif\" font-size=\"14.00\">+</text>\n</g>\n<!-- 2492289049232&#45;&gt;2492289049328+ -->\n<g id=\"edge7\" class=\"edge\">\n<title>2492289049232&#45;&gt;2492289049328+</title>\n<path fill=\"none\" stroke=\"black\" d=\"M479.9,-57.13C489.02,-55.42 497.88,-53.76 505.92,-52.26\"/>\n<polygon fill=\"black\" stroke=\"black\" points=\"506.49,-55.52 515.68,-50.24 505.2,-48.64 506.49,-55.52\"/>\n</g>\n<!-- 2492289049232* -->\n<g id=\"node2\" class=\"node\">\n<title>2492289049232*</title>\n<ellipse fill=\"none\" stroke=\"black\" cx=\"240\" cy=\"-73.5\" rx=\"27\" ry=\"18\"/>\n<text text-anchor=\"middle\" x=\"240\" y=\"-68.08\" font-family=\"Times New Roman,serif\" font-size=\"14.00\">*</text>\n</g>\n<!-- 2492289049232*&#45;&gt;2492289049232 -->\n<g id=\"edge1\" class=\"edge\">\n<title>2492289049232*&#45;&gt;2492289049232</title>\n<path fill=\"none\" stroke=\"black\" d=\"M267.38,-73.5C274.79,-73.5 283.32,-73.5 292.35,-73.5\"/>\n<polygon fill=\"black\" stroke=\"black\" points=\"292.14,-77 302.14,-73.5 292.14,-70 292.14,-77\"/>\n</g>\n<!-- 2492289987296 -->\n<g id=\"node3\" class=\"node\">\n<title>2492289987296</title>\n<polygon fill=\"none\" stroke=\"black\" points=\"0,-55.5 0,-91.5 177,-91.5 177,-55.5 0,-55.5\"/>\n<text text-anchor=\"middle\" x=\"11.75\" y=\"-68.2\" font-family=\"Times New Roman,serif\" font-size=\"14.00\">b</text>\n<polyline fill=\"none\" stroke=\"black\" points=\"23.5,-55.75 23.5,-91.5\"/>\n<text text-anchor=\"middle\" x=\"60.38\" y=\"-68.2\" font-family=\"Times New Roman,serif\" font-size=\"14.00\">data 3.000</text>\n<polyline fill=\"none\" stroke=\"black\" points=\"97.25,-55.75 97.25,-91.5\"/>\n<text text-anchor=\"middle\" x=\"137.12\" y=\"-68.2\" font-family=\"Times New Roman,serif\" font-size=\"14.00\">grad &#45;1.000</text>\n</g>\n<!-- 2492289987296&#45;&gt;2492289049232* -->\n<g id=\"edge9\" class=\"edge\">\n<title>2492289987296&#45;&gt;2492289049232*</title>\n<path fill=\"none\" stroke=\"black\" d=\"M176.9,-73.5C185.66,-73.5 194.17,-73.5 201.96,-73.5\"/>\n<polygon fill=\"black\" stroke=\"black\" points=\"201.77,-77 211.77,-73.5 201.77,-70 201.77,-77\"/>\n</g>\n<!-- 2492289049568+ -->\n<g id=\"node8\" class=\"node\">\n<title>2492289049568+</title>\n<ellipse fill=\"none\" stroke=\"black\" cx=\"240\" cy=\"-18.5\" rx=\"27\" ry=\"18\"/>\n<text text-anchor=\"middle\" x=\"240\" y=\"-13.07\" font-family=\"Times New Roman,serif\" font-size=\"14.00\">+</text>\n</g>\n<!-- 2492289987296&#45;&gt;2492289049568+ -->\n<g id=\"edge5\" class=\"edge\">\n<title>2492289987296&#45;&gt;2492289049568+</title>\n<path fill=\"none\" stroke=\"black\" d=\"M151.02,-55.58C159.8,-52.72 168.67,-49.65 177,-46.5 187.17,-42.65 198.04,-37.95 207.79,-33.51\"/>\n<polygon fill=\"black\" stroke=\"black\" points=\"208.87,-36.4 216.47,-29.02 205.93,-30.05 208.87,-36.4\"/>\n</g>\n<!-- 2492289049328 -->\n<g id=\"node4\" class=\"node\">\n<title>2492289049328</title>\n<polygon fill=\"none\" stroke=\"black\" points=\"606,-27.5 606,-63.5 781.5,-63.5 781.5,-27.5 606,-27.5\"/>\n<text text-anchor=\"middle\" x=\"617\" y=\"-40.2\" font-family=\"Times New Roman,serif\" font-size=\"14.00\">e</text>\n<polyline fill=\"none\" stroke=\"black\" points=\"628,-27.75 628,-63.5\"/>\n<text text-anchor=\"middle\" x=\"667.12\" y=\"-40.2\" font-family=\"Times New Roman,serif\" font-size=\"14.00\">data &#45;5.000</text>\n<polyline fill=\"none\" stroke=\"black\" points=\"706.25,-27.75 706.25,-63.5\"/>\n<text text-anchor=\"middle\" x=\"743.88\" y=\"-40.2\" font-family=\"Times New Roman,serif\" font-size=\"14.00\">grad 1.000</text>\n</g>\n<!-- 2492289049328+&#45;&gt;2492289049328 -->\n<g id=\"edge2\" class=\"edge\">\n<title>2492289049328+&#45;&gt;2492289049328</title>\n<path fill=\"none\" stroke=\"black\" d=\"M570.25,-45.5C577.68,-45.5 586.24,-45.5 595.31,-45.5\"/>\n<polygon fill=\"black\" stroke=\"black\" points=\"595.14,-49 605.14,-45.5 595.14,-42 595.14,-49\"/>\n</g>\n<!-- 2492289989408 -->\n<g id=\"node6\" class=\"node\">\n<title>2492289989408</title>\n<polygon fill=\"none\" stroke=\"black\" points=\"0.75,-0.5 0.75,-36.5 176.25,-36.5 176.25,-0.5 0.75,-0.5\"/>\n<text text-anchor=\"middle\" x=\"11.75\" y=\"-13.2\" font-family=\"Times New Roman,serif\" font-size=\"14.00\">a</text>\n<polyline fill=\"none\" stroke=\"black\" points=\"22.75,-0.75 22.75,-36.5\"/>\n<text text-anchor=\"middle\" x=\"61.88\" y=\"-13.2\" font-family=\"Times New Roman,serif\" font-size=\"14.00\">data &#45;2.000</text>\n<polyline fill=\"none\" stroke=\"black\" points=\"101,-0.75 101,-36.5\"/>\n<text text-anchor=\"middle\" x=\"138.62\" y=\"-13.2\" font-family=\"Times New Roman,serif\" font-size=\"14.00\">grad 4.000</text>\n</g>\n<!-- 2492289989408&#45;&gt;2492289049232* -->\n<g id=\"edge8\" class=\"edge\">\n<title>2492289989408&#45;&gt;2492289049232*</title>\n<path fill=\"none\" stroke=\"black\" d=\"M148.15,-36.36C157.84,-39.57 167.75,-43.01 177,-46.5 186.92,-50.24 197.56,-54.7 207.18,-58.91\"/>\n<polygon fill=\"black\" stroke=\"black\" points=\"205.57,-62.47 216.13,-63.33 208.41,-56.07 205.57,-62.47\"/>\n</g>\n<!-- 2492289989408&#45;&gt;2492289049568+ -->\n<g id=\"edge4\" class=\"edge\">\n<title>2492289989408&#45;&gt;2492289049568+</title>\n<path fill=\"none\" stroke=\"black\" d=\"M176.03,-18.5C185.07,-18.5 193.88,-18.5 201.9,-18.5\"/>\n<polygon fill=\"black\" stroke=\"black\" points=\"201.66,-22 211.66,-18.5 201.66,-15 201.66,-22\"/>\n</g>\n<!-- 2492289049568 -->\n<g id=\"node7\" class=\"node\">\n<title>2492289049568</title>\n<polygon fill=\"none\" stroke=\"black\" points=\"305.62,-0.5 305.62,-36.5 477.38,-36.5 477.38,-0.5 305.62,-0.5\"/>\n<text text-anchor=\"middle\" x=\"317\" y=\"-13.2\" font-family=\"Times New Roman,serif\" font-size=\"14.00\">c</text>\n<polyline fill=\"none\" stroke=\"black\" points=\"328.38,-0.75 328.38,-36.5\"/>\n<text text-anchor=\"middle\" x=\"365.25\" y=\"-13.2\" font-family=\"Times New Roman,serif\" font-size=\"14.00\">data 1.000</text>\n<polyline fill=\"none\" stroke=\"black\" points=\"402.12,-0.75 402.12,-36.5\"/>\n<text text-anchor=\"middle\" x=\"439.75\" y=\"-13.2\" font-family=\"Times New Roman,serif\" font-size=\"14.00\">grad 1.000</text>\n</g>\n<!-- 2492289049568&#45;&gt;2492289049328+ -->\n<g id=\"edge6\" class=\"edge\">\n<title>2492289049568&#45;&gt;2492289049328+</title>\n<path fill=\"none\" stroke=\"black\" d=\"M477.3,-33.81C487.31,-35.62 497.07,-37.39 505.85,-38.97\"/>\n<polygon fill=\"black\" stroke=\"black\" points=\"504.94,-42.54 515.4,-40.88 506.18,-35.66 504.94,-42.54\"/>\n</g>\n<!-- 2492289049568+&#45;&gt;2492289049568 -->\n<g id=\"edge3\" class=\"edge\">\n<title>2492289049568+&#45;&gt;2492289049568</title>\n<path fill=\"none\" stroke=\"black\" d=\"M267.38,-18.5C275.45,-18.5 284.83,-18.5 294.75,-18.5\"/>\n<polygon fill=\"black\" stroke=\"black\" points=\"294.68,-22 304.68,-18.5 294.68,-15 294.68,-22\"/>\n</g>\n</g>\n</svg>\n",
      "text/plain": [
       "<graphviz.graphs.Digraph at 0x2444800efb0>"
      ]
     },
     "execution_count": 18,
     "metadata": {},
     "output_type": "execute_result"
    }
   ],
   "source": [
    "a = Valor(-2, rotulo=\"a\")\n",
    "b = Valor(3, rotulo=\"b\")\n",
    "\n",
    "c = a + b\n",
    "d = a * b\n",
    "\n",
    "e = c + d\n",
    "\n",
    "c.rotulo = \"c\"\n",
    "d.rotulo = \"d\"\n",
    "e.rotulo = \"e\"\n",
    "\n",
    "e.propagar_tudo()\n",
    "plota_grafo(e)"
   ]
  },
  {
   "cell_type": "code",
   "execution_count": 19,
   "id": "571a2adb-61fa-441d-b374-b0fda928c0fc",
   "metadata": {},
   "outputs": [
    {
     "name": "stdout",
     "output_type": "stream",
     "text": [
      "Valor(data=11)\n"
     ]
    }
   ],
   "source": [
    "a = Valor(10, rotulo=\"a\")\n",
    "b = a + 1\n",
    "print(b)"
   ]
  },
  {
   "cell_type": "code",
   "execution_count": 20,
   "id": "4051392c-de33-4b25-99fa-4d0071d2ef8b",
   "metadata": {},
   "outputs": [],
   "source": [
    "#1.data"
   ]
  },
  {
   "cell_type": "code",
   "execution_count": 21,
   "id": "5a2b55b4-b2d2-4d70-b611-756a9be66e61",
   "metadata": {},
   "outputs": [
    {
     "name": "stdout",
     "output_type": "stream",
     "text": [
      "Valor(data=100)\n"
     ]
    }
   ],
   "source": [
    "a = Valor(10, rotulo=\"a\")\n",
    "b = a * 10\n",
    "print(b)"
   ]
  },
  {
   "cell_type": "code",
   "execution_count": 22,
   "id": "583a73e5-91e8-4670-b1c0-d1a22c4b5ce5",
   "metadata": {},
   "outputs": [
    {
     "name": "stdout",
     "output_type": "stream",
     "text": [
      "Valor(data=11)\n"
     ]
    }
   ],
   "source": [
    "a = Valor(10, rotulo=\"a\")\n",
    "b = 1 + a\n",
    "print(b)"
   ]
  },
  {
   "cell_type": "code",
   "execution_count": 23,
   "id": "7299a95f-7d19-4f6d-97d6-7c000ba8ef8c",
   "metadata": {},
   "outputs": [
    {
     "name": "stdout",
     "output_type": "stream",
     "text": [
      "Valor(data=100)\n"
     ]
    }
   ],
   "source": [
    "a = Valor(10, rotulo=\"a\")\n",
    "b = 10 * a\n",
    "print(b)"
   ]
  },
  {
   "cell_type": "code",
   "execution_count": 24,
   "id": "ac66168e-551a-4700-8711-0d3b7d2224fd",
   "metadata": {},
   "outputs": [
    {
     "name": "stdout",
     "output_type": "stream",
     "text": [
      "Valor(data=2.718281828459045)\n"
     ]
    }
   ],
   "source": [
    "a = Valor(1, rotulo=\"a\")\n",
    "b = a.exp()  # exp(a) ~ 2.718\n",
    "print(b)"
   ]
  },
  {
   "cell_type": "code",
   "execution_count": 25,
   "id": "81448db9-d788-453e-b6ac-a587256afad9",
   "metadata": {},
   "outputs": [
    {
     "name": "stdout",
     "output_type": "stream",
     "text": [
      "Valor(data=100)\n"
     ]
    }
   ],
   "source": [
    "a = Valor(10, rotulo=\"a\")\n",
    "b = a**2\n",
    "print(b)"
   ]
  },
  {
   "cell_type": "code",
   "execution_count": 26,
   "id": "37bd0858-8391-4bca-ba35-08b4246e8fb6",
   "metadata": {},
   "outputs": [
    {
     "name": "stdout",
     "output_type": "stream",
     "text": [
      "Valor(data=0.5)\n"
     ]
    }
   ],
   "source": [
    "a = Valor(1, rotulo=\"a\")\n",
    "b = Valor(2, rotulo=\"b\")\n",
    "c = a / b\n",
    "print(c)"
   ]
  },
  {
   "cell_type": "code",
   "execution_count": 27,
   "id": "d4604a92-3a0a-451d-82b9-0c95a03550c8",
   "metadata": {},
   "outputs": [
    {
     "name": "stdout",
     "output_type": "stream",
     "text": [
      "Valor(data=-1)\n"
     ]
    }
   ],
   "source": [
    "a = Valor(1, rotulo=\"a\")\n",
    "b = -a\n",
    "print(b)"
   ]
  },
  {
   "cell_type": "code",
   "execution_count": 28,
   "id": "bc2cd9cd-4c7d-4c13-a4e6-a8c120fb1d31",
   "metadata": {},
   "outputs": [
    {
     "name": "stdout",
     "output_type": "stream",
     "text": [
      "Valor(data=7)\n"
     ]
    }
   ],
   "source": [
    "a = Valor(10, rotulo=\"a\")\n",
    "b = Valor(3, rotulo=\"b\")\n",
    "c = a - b\n",
    "print(c)"
   ]
  },
  {
   "cell_type": "markdown",
   "id": "273b0d85-c7cf-4db1-ac8e-f2db471c4cef",
   "metadata": {},
   "source": [
    "$$\n",
    "S(x) = \\frac{e^x}{e^x + 1}\n",
    "$$"
   ]
  },
  {
   "cell_type": "code",
   "execution_count": 29,
   "id": "ad13515f-dada-42c3-bd33-33814c5624e1",
   "metadata": {},
   "outputs": [
    {
     "name": "stdout",
     "output_type": "stream",
     "text": [
      "Valor(data=0.5)\n"
     ]
    }
   ],
   "source": [
    "a = Valor(0, rotulo=\"a\")\n",
    "b = a.sig()\n",
    "print(b)"
   ]
  },
  {
   "cell_type": "code",
   "execution_count": 30,
   "id": "de94ac82",
   "metadata": {},
   "outputs": [],
   "source": [
    "class Valor:\n",
    "    def __init__(self,data,progenitor=(),operador_mae = \"\",rotulo = \"\"):\n",
    "        self.data = data\n",
    "        self.progenitor = progenitor\n",
    "        self.operador_mae = operador_mae\n",
    "        self.rotulo = rotulo\n",
    "        self.grad = 0\n",
    "        \n",
    "    def __repr__(self):\n",
    "        return f'Valor(data={self.data})'   \n",
    "     \n",
    "    def __add__(self,outro_valor):\n",
    "        progenitor = (self,outro_valor)\n",
    "        data =self.data + outro_valor.data\n",
    "        operador_mae = \"+\"\n",
    "        resultado = Valor(data, progenitor,operador_mae)\n",
    "\n",
    "        def propagar_adicao():\n",
    "            self.grad = resultado.grad\n",
    "            outro_valor.grad = resultado.grad\n",
    "        \n",
    "        resultado.propagar = propagar_adicao\n",
    "        \n",
    "        return resultado\n",
    "\n",
    "\n",
    "    \n",
    "    def __mul__(self,outro_valor):\n",
    "        progenitor = (self,outro_valor)\n",
    "        data =self.data * outro_valor.data\n",
    "        operador_mae = \"*\"\n",
    "        resultado = Valor(data, progenitor,operador_mae)\n",
    "        \n",
    "        def propagar_multiplicacao():\n",
    "            self.grad = resultado.grad * outro_valor.data\n",
    "            outro_valor.grad = resultado.grad * self.data\n",
    "        \n",
    "        resultado.propagar = propagar_multiplicacao\n",
    "        return resultado \n",
    "       \n",
    "               \n",
    "           \n",
    "    def propagar(sef):\n",
    "        pass "
   ]
  },
  {
   "cell_type": "code",
   "execution_count": 31,
   "id": "1a7b4248",
   "metadata": {},
   "outputs": [],
   "source": [
    "a = Valor(6,rotulo=\"a\")\n",
    "b = Valor(10,rotulo=\"b\")"
   ]
  },
  {
   "cell_type": "code",
   "execution_count": 32,
   "id": "71e6852e",
   "metadata": {},
   "outputs": [],
   "source": [
    "a = Valor(-2, rotulo=\"a\")\n",
    "b = Valor(3, rotulo=\"b\")\n",
    "\n",
    "c = a + b\n",
    "d = a * b\n",
    "\n",
    "e = c + d\n",
    "\n",
    "c.rotulo = \"c\"\n",
    "d.rotulo = \"d\"\n",
    "e.rotulo = \"e\"\n",
    "\n",
    "e.grad = 1\n",
    "e.propagar()\n",
    "d.propagar()\n",
    "c.propagar()"
   ]
  },
  {
   "cell_type": "code",
   "execution_count": 33,
   "id": "eda3a5d5",
   "metadata": {},
   "outputs": [
    {
     "data": {
      "image/svg+xml": "<?xml version=\"1.0\" encoding=\"UTF-8\" standalone=\"no\"?>\n<!DOCTYPE svg PUBLIC \"-//W3C//DTD SVG 1.1//EN\"\n \"http://www.w3.org/Graphics/SVG/1.1/DTD/svg11.dtd\">\n<!-- Generated by graphviz version 8.1.0 (20230707.0739)\n -->\n<!-- Pages: 1 -->\n<svg width=\"788pt\" height=\"100pt\"\n viewBox=\"0.00 0.00 788.00 100.00\" xmlns=\"http://www.w3.org/2000/svg\" xmlns:xlink=\"http://www.w3.org/1999/xlink\">\n<g id=\"graph0\" class=\"graph\" transform=\"scale(1 1) rotate(0) translate(4 96)\">\n<polygon fill=\"white\" stroke=\"none\" points=\"-4,4 -4,-96 784,-96 784,4 -4,4\"/>\n<!-- 2492289051776 -->\n<g id=\"node1\" class=\"node\">\n<title>2492289051776</title>\n<polygon fill=\"none\" stroke=\"black\" points=\"604.5,-27.5 604.5,-63.5 780,-63.5 780,-27.5 604.5,-27.5\"/>\n<text text-anchor=\"middle\" x=\"615.5\" y=\"-40.2\" font-family=\"Times New Roman,serif\" font-size=\"14.00\">e</text>\n<polyline fill=\"none\" stroke=\"black\" points=\"626.5,-27.75 626.5,-63.5\"/>\n<text text-anchor=\"middle\" x=\"665.62\" y=\"-40.2\" font-family=\"Times New Roman,serif\" font-size=\"14.00\">data &#45;5.000</text>\n<polyline fill=\"none\" stroke=\"black\" points=\"704.75,-27.75 704.75,-63.5\"/>\n<text text-anchor=\"middle\" x=\"742.38\" y=\"-40.2\" font-family=\"Times New Roman,serif\" font-size=\"14.00\">grad 1.000</text>\n</g>\n<!-- 2492289051776+ -->\n<g id=\"node2\" class=\"node\">\n<title>2492289051776+</title>\n<ellipse fill=\"none\" stroke=\"black\" cx=\"541.5\" cy=\"-45.5\" rx=\"27\" ry=\"18\"/>\n<text text-anchor=\"middle\" x=\"541.5\" y=\"-40.08\" font-family=\"Times New Roman,serif\" font-size=\"14.00\">+</text>\n</g>\n<!-- 2492289051776+&#45;&gt;2492289051776 -->\n<g id=\"edge1\" class=\"edge\">\n<title>2492289051776+&#45;&gt;2492289051776</title>\n<path fill=\"none\" stroke=\"black\" d=\"M568.75,-45.5C576.18,-45.5 584.74,-45.5 593.81,-45.5\"/>\n<polygon fill=\"black\" stroke=\"black\" points=\"593.64,-49 603.64,-45.5 593.64,-42 593.64,-49\"/>\n</g>\n<!-- 2492289052880 -->\n<g id=\"node3\" class=\"node\">\n<title>2492289052880</title>\n<polygon fill=\"none\" stroke=\"black\" points=\"301.5,-55.5 301.5,-91.5 478.5,-91.5 478.5,-55.5 301.5,-55.5\"/>\n<text text-anchor=\"middle\" x=\"313.25\" y=\"-68.2\" font-family=\"Times New Roman,serif\" font-size=\"14.00\">d</text>\n<polyline fill=\"none\" stroke=\"black\" points=\"325,-55.75 325,-91.5\"/>\n<text text-anchor=\"middle\" x=\"364.12\" y=\"-68.2\" font-family=\"Times New Roman,serif\" font-size=\"14.00\">data &#45;6.000</text>\n<polyline fill=\"none\" stroke=\"black\" points=\"403.25,-55.75 403.25,-91.5\"/>\n<text text-anchor=\"middle\" x=\"440.88\" y=\"-68.2\" font-family=\"Times New Roman,serif\" font-size=\"14.00\">grad 1.000</text>\n</g>\n<!-- 2492289052880&#45;&gt;2492289051776+ -->\n<g id=\"edge9\" class=\"edge\">\n<title>2492289052880&#45;&gt;2492289051776+</title>\n<path fill=\"none\" stroke=\"black\" d=\"M478.4,-57.13C487.52,-55.42 496.38,-53.76 504.42,-52.26\"/>\n<polygon fill=\"black\" stroke=\"black\" points=\"504.99,-55.52 514.18,-50.24 503.7,-48.64 504.99,-55.52\"/>\n</g>\n<!-- 2492289052880* -->\n<g id=\"node4\" class=\"node\">\n<title>2492289052880*</title>\n<ellipse fill=\"none\" stroke=\"black\" cx=\"238.5\" cy=\"-73.5\" rx=\"27\" ry=\"18\"/>\n<text text-anchor=\"middle\" x=\"238.5\" y=\"-68.08\" font-family=\"Times New Roman,serif\" font-size=\"14.00\">*</text>\n</g>\n<!-- 2492289052880*&#45;&gt;2492289052880 -->\n<g id=\"edge2\" class=\"edge\">\n<title>2492289052880*&#45;&gt;2492289052880</title>\n<path fill=\"none\" stroke=\"black\" d=\"M265.88,-73.5C273.29,-73.5 281.82,-73.5 290.85,-73.5\"/>\n<polygon fill=\"black\" stroke=\"black\" points=\"290.64,-77 300.64,-73.5 290.64,-70 290.64,-77\"/>\n</g>\n<!-- 2492289049376 -->\n<g id=\"node5\" class=\"node\">\n<title>2492289049376</title>\n<polygon fill=\"none\" stroke=\"black\" points=\"1.5,-55.5 1.5,-91.5 174,-91.5 174,-55.5 1.5,-55.5\"/>\n<text text-anchor=\"middle\" x=\"13.25\" y=\"-68.2\" font-family=\"Times New Roman,serif\" font-size=\"14.00\">b</text>\n<polyline fill=\"none\" stroke=\"black\" points=\"25,-55.75 25,-91.5\"/>\n<text text-anchor=\"middle\" x=\"61.88\" y=\"-68.2\" font-family=\"Times New Roman,serif\" font-size=\"14.00\">data 3.000</text>\n<polyline fill=\"none\" stroke=\"black\" points=\"98.75,-55.75 98.75,-91.5\"/>\n<text text-anchor=\"middle\" x=\"136.38\" y=\"-68.2\" font-family=\"Times New Roman,serif\" font-size=\"14.00\">grad 1.000</text>\n</g>\n<!-- 2492289049376&#45;&gt;2492289052880* -->\n<g id=\"edge6\" class=\"edge\">\n<title>2492289049376&#45;&gt;2492289052880*</title>\n<path fill=\"none\" stroke=\"black\" d=\"M173.99,-73.5C183.16,-73.5 192.11,-73.5 200.27,-73.5\"/>\n<polygon fill=\"black\" stroke=\"black\" points=\"200.2,-77 210.2,-73.5 200.2,-70 200.2,-77\"/>\n</g>\n<!-- 2492289055088+ -->\n<g id=\"node8\" class=\"node\">\n<title>2492289055088+</title>\n<ellipse fill=\"none\" stroke=\"black\" cx=\"238.5\" cy=\"-18.5\" rx=\"27\" ry=\"18\"/>\n<text text-anchor=\"middle\" x=\"238.5\" y=\"-13.07\" font-family=\"Times New Roman,serif\" font-size=\"14.00\">+</text>\n</g>\n<!-- 2492289049376&#45;&gt;2492289055088+ -->\n<g id=\"edge8\" class=\"edge\">\n<title>2492289049376&#45;&gt;2492289055088+</title>\n<path fill=\"none\" stroke=\"black\" d=\"M149.74,-55.55C158.45,-52.69 167.24,-49.64 175.5,-46.5 185.66,-42.64 196.53,-37.94 206.28,-33.5\"/>\n<polygon fill=\"black\" stroke=\"black\" points=\"207.37,-36.39 214.97,-29.01 204.42,-30.04 207.37,-36.39\"/>\n</g>\n<!-- 2492289053504 -->\n<g id=\"node6\" class=\"node\">\n<title>2492289053504</title>\n<polygon fill=\"none\" stroke=\"black\" points=\"0,-0.5 0,-36.5 175.5,-36.5 175.5,-0.5 0,-0.5\"/>\n<text text-anchor=\"middle\" x=\"11\" y=\"-13.2\" font-family=\"Times New Roman,serif\" font-size=\"14.00\">a</text>\n<polyline fill=\"none\" stroke=\"black\" points=\"22,-0.75 22,-36.5\"/>\n<text text-anchor=\"middle\" x=\"61.12\" y=\"-13.2\" font-family=\"Times New Roman,serif\" font-size=\"14.00\">data &#45;2.000</text>\n<polyline fill=\"none\" stroke=\"black\" points=\"100.25,-0.75 100.25,-36.5\"/>\n<text text-anchor=\"middle\" x=\"137.88\" y=\"-13.2\" font-family=\"Times New Roman,serif\" font-size=\"14.00\">grad 1.000</text>\n</g>\n<!-- 2492289053504&#45;&gt;2492289052880* -->\n<g id=\"edge4\" class=\"edge\">\n<title>2492289053504&#45;&gt;2492289052880*</title>\n<path fill=\"none\" stroke=\"black\" d=\"M146.89,-36.39C156.5,-39.6 166.32,-43.03 175.5,-46.5 185.42,-50.25 196.06,-54.72 205.67,-58.92\"/>\n<polygon fill=\"black\" stroke=\"black\" points=\"204.06,-62.48 214.62,-63.34 206.9,-56.09 204.06,-62.48\"/>\n</g>\n<!-- 2492289053504&#45;&gt;2492289055088+ -->\n<g id=\"edge5\" class=\"edge\">\n<title>2492289053504&#45;&gt;2492289055088+</title>\n<path fill=\"none\" stroke=\"black\" d=\"M175.28,-18.5C184.04,-18.5 192.57,-18.5 200.36,-18.5\"/>\n<polygon fill=\"black\" stroke=\"black\" points=\"200.2,-22 210.2,-18.5 200.2,-15 200.2,-22\"/>\n</g>\n<!-- 2492289055088 -->\n<g id=\"node7\" class=\"node\">\n<title>2492289055088</title>\n<polygon fill=\"none\" stroke=\"black\" points=\"304.12,-0.5 304.12,-36.5 475.88,-36.5 475.88,-0.5 304.12,-0.5\"/>\n<text text-anchor=\"middle\" x=\"315.5\" y=\"-13.2\" font-family=\"Times New Roman,serif\" font-size=\"14.00\">c</text>\n<polyline fill=\"none\" stroke=\"black\" points=\"326.88,-0.75 326.88,-36.5\"/>\n<text text-anchor=\"middle\" x=\"363.75\" y=\"-13.2\" font-family=\"Times New Roman,serif\" font-size=\"14.00\">data 1.000</text>\n<polyline fill=\"none\" stroke=\"black\" points=\"400.62,-0.75 400.62,-36.5\"/>\n<text text-anchor=\"middle\" x=\"438.25\" y=\"-13.2\" font-family=\"Times New Roman,serif\" font-size=\"14.00\">grad 1.000</text>\n</g>\n<!-- 2492289055088&#45;&gt;2492289051776+ -->\n<g id=\"edge7\" class=\"edge\">\n<title>2492289055088&#45;&gt;2492289051776+</title>\n<path fill=\"none\" stroke=\"black\" d=\"M475.8,-33.81C485.81,-35.62 495.57,-37.39 504.35,-38.97\"/>\n<polygon fill=\"black\" stroke=\"black\" points=\"503.44,-42.54 513.9,-40.88 504.68,-35.66 503.44,-42.54\"/>\n</g>\n<!-- 2492289055088+&#45;&gt;2492289055088 -->\n<g id=\"edge3\" class=\"edge\">\n<title>2492289055088+&#45;&gt;2492289055088</title>\n<path fill=\"none\" stroke=\"black\" d=\"M265.88,-18.5C273.95,-18.5 283.33,-18.5 293.25,-18.5\"/>\n<polygon fill=\"black\" stroke=\"black\" points=\"293.18,-22 303.18,-18.5 293.18,-15 293.18,-22\"/>\n</g>\n</g>\n</svg>\n",
      "text/plain": [
       "<graphviz.graphs.Digraph at 0x244480f3ca0>"
      ]
     },
     "execution_count": 33,
     "metadata": {},
     "output_type": "execute_result"
    }
   ],
   "source": [
    "plota_grafo(e)"
   ]
  },
  {
   "cell_type": "code",
   "execution_count": 34,
   "id": "2ae4645e",
   "metadata": {},
   "outputs": [],
   "source": [
    "class uai:\n",
    "    def __init__(self,n):\n",
    "        self.n = n\n",
    "    def __add__(self,b):\n",
    "        return self.n+b \n",
    "    def __radd__(self,b):\n",
    "        return b+self.n"
   ]
  },
  {
   "cell_type": "code",
   "execution_count": 35,
   "id": "03dd1736",
   "metadata": {},
   "outputs": [],
   "source": [
    "a = uai(2)"
   ]
  },
  {
   "cell_type": "code",
   "execution_count": 36,
   "id": "bab8c941",
   "metadata": {},
   "outputs": [
    {
     "data": {
      "text/plain": [
       "5"
      ]
     },
     "execution_count": 36,
     "metadata": {},
     "output_type": "execute_result"
    }
   ],
   "source": [
    "a+3"
   ]
  },
  {
   "cell_type": "code",
   "execution_count": 37,
   "id": "2b9c4418",
   "metadata": {},
   "outputs": [
    {
     "data": {
      "text/plain": [
       "5"
      ]
     },
     "execution_count": 37,
     "metadata": {},
     "output_type": "execute_result"
    }
   ],
   "source": [
    "3+a"
   ]
  }
 ],
 "metadata": {
  "kernelspec": {
   "display_name": "Python 3.10.8 64-bit",
   "language": "python",
   "name": "python3"
  },
  "language_info": {
   "codemirror_mode": {
    "name": "ipython",
    "version": 3
   },
   "file_extension": ".py",
   "mimetype": "text/x-python",
   "name": "python",
   "nbconvert_exporter": "python",
   "pygments_lexer": "ipython3",
   "version": "3.10.8"
  },
  "vscode": {
   "interpreter": {
    "hash": "26de051ba29f2982a8de78e945f0abaf191376122a1563185a90213a26c5da77"
   }
  }
 },
 "nbformat": 4,
 "nbformat_minor": 5
}
