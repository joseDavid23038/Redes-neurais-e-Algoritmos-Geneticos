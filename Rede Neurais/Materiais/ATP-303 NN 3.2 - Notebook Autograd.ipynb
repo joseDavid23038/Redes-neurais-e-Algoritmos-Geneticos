{
 "cells": [
  {
   "cell_type": "markdown",
   "id": "ae495dd1-ddfe-4df2-8cc6-0332c4226c9e",
   "metadata": {},
   "source": [
    "# Redes neurais artificiais do zero em Python"
   ]
  },
  {
   "cell_type": "markdown",
   "id": "f22146a7-7fa3-47db-9549-bf9ebb79986f",
   "metadata": {},
   "source": [
    "Referência: Andrej Karpathy. The spelled-out intro to neural networks and backpropagation: building micrograd (2022). https://www.youtube.com/watch?v=VMj-3S1tku0"
   ]
  },
  {
   "cell_type": "markdown",
   "id": "afb07870-b07e-481b-b351-7a2f1ef77551",
   "metadata": {
    "tags": []
   },
   "source": [
    "## Construindo um grafo computacional automaticamente"
   ]
  },
  {
   "cell_type": "code",
   "execution_count": 113,
   "id": "20ab4c0d-c9ea-4c91-ba0b-87d0eee0c0ba",
   "metadata": {},
   "outputs": [],
   "source": [
    "from graphviz import Digraph\n",
    "\n",
    "\n",
    "def _tracar(folha):\n",
    "    \"\"\"Função modificada da criada por Andrej Karpathy para construção de grafo.\n",
    "\n",
    "    Referência: https://github.com/karpathy/micrograd\n",
    "\n",
    "    \"\"\"\n",
    "    vertices = set()\n",
    "    arestas = set()\n",
    "\n",
    "    def construir(v):\n",
    "        \"\"\"Função recursiva para traçar o grafo.\"\"\"\n",
    "        if v not in vertices:\n",
    "            vertices.add(v)\n",
    "            for progenitor in v.progenitor:\n",
    "                arestas.add((progenitor, v))\n",
    "                construir(progenitor)\n",
    "\n",
    "    construir(folha)\n",
    "\n",
    "    return vertices, arestas\n",
    "\n",
    "\n",
    "def plota_grafo(folha):\n",
    "    \"\"\"Função modificada da criada por Andrej Karpathy para construção de grafo.\n",
    "\n",
    "    Referência: https://github.com/karpathy/micrograd\n",
    "\n",
    "    \"\"\"\n",
    "    grafo = Digraph(format=\"svg\", graph_attr={\"rankdir\": \"LR\"})\n",
    "    vertices, arestas = _tracar(folha)\n",
    "\n",
    "    for v in vertices:\n",
    "        id_vertice = str(id(v))\n",
    "\n",
    "        if hasattr(v, \"rotulo\") and (hasattr(v, \"grad\")):\n",
    "            texto = \"{ \" + f\"{v.rotulo} | data {v.data:.3f} | grad {v.grad:.3f}\" + \" }\"\n",
    "\n",
    "        elif hasattr(v, \"rotulo\"):\n",
    "            texto = \"{ \" + f\"{v.rotulo} | data {v.data:.3f}\" + \" }\"\n",
    "\n",
    "        else:\n",
    "            texto = \"{ \" + f\"data {v.data:.3f}\" + \" }\"\n",
    "\n",
    "        grafo.node(name=id_vertice, label=texto, shape=\"record\")\n",
    "\n",
    "        if v.operador_mae:\n",
    "            grafo.node(name=id_vertice + v.operador_mae, label=v.operador_mae)\n",
    "            grafo.edge(id_vertice + v.operador_mae, id_vertice)\n",
    "\n",
    "    for vertice1, vertice2 in arestas:\n",
    "        grafo.edge(str(id(vertice1)), str(id(vertice2)) + vertice2.operador_mae)\n",
    "\n",
    "    return grafo"
   ]
  },
  {
   "cell_type": "code",
   "execution_count": 114,
   "id": "6d9729db-b25d-4e54-8f02-f8be7d7c4cec",
   "metadata": {},
   "outputs": [],
   "source": [
    "import math\n",
    "\n",
    "class Valor:\n",
    "    def __init__(self, data, progenitor=(), operador_mae=\"\", rotulo=\"\"):\n",
    "        self.data = data\n",
    "        self.progenitor = progenitor\n",
    "        self.operador_mae = operador_mae\n",
    "        self.rotulo = rotulo\n",
    "        self.grad = 0\n",
    "\n",
    "    def __repr__(self):\n",
    "        return f\"Valor(data={self.data})\"\n",
    "    \n",
    "    def __add__(self, outro_valor):\n",
    "        \"\"\"Realiza a operação: self + outro_valor.\"\"\"\n",
    "        \n",
    "        if not isinstance(outro_valor, Valor):\n",
    "            outro_valor = Valor(outro_valor)\n",
    "            \n",
    "        progenitor = (self, outro_valor)\n",
    "        data = self.data + outro_valor.data\n",
    "        operador_mae = \"+\"\n",
    "        resultado = Valor(data, progenitor, operador_mae)\n",
    "        \n",
    "        def propagar_adicao():\n",
    "            self.grad += resultado.grad\n",
    "            outro_valor.grad += resultado.grad\n",
    "            \n",
    "        resultado.propagar = propagar_adicao\n",
    "        \n",
    "        return resultado\n",
    "    \n",
    "    def __mul__(self, outro_valor):\n",
    "        \"\"\"Realiza a operação: self * outro_valor.\"\"\"\n",
    "        \n",
    "        if not isinstance(outro_valor, Valor):\n",
    "            outro_valor = Valor(outro_valor)\n",
    "            \n",
    "        progenitor = (self, outro_valor)\n",
    "        data = self.data * outro_valor.data\n",
    "        operador_mae = \"*\"\n",
    "        resultado = Valor(data, progenitor, operador_mae)\n",
    "        \n",
    "        def propagar_multiplicacao():\n",
    "            self.grad += resultado.grad * outro_valor.data # grad_filho * derivada filho em relação a mãe\n",
    "            outro_valor.grad += resultado.grad * self.data\n",
    "            \n",
    "        resultado.propagar = propagar_multiplicacao\n",
    "        \n",
    "        return resultado\n",
    "    \n",
    "    def exp(self):\n",
    "        \"\"\"Realiza a operação: exp(self)\"\"\"\n",
    "        progenitor = (self, )\n",
    "        data = math.exp(self.data)\n",
    "        operador_mae = \"exp\"\n",
    "        resultado = Valor(data, progenitor, operador_mae)\n",
    "        \n",
    "        def propagar_exp():\n",
    "            self.grad += resultado.grad * data \n",
    "        \n",
    "        resultado.propagar = propagar_exp\n",
    "        \n",
    "        return resultado\n",
    "    \n",
    "    def __pow__(self, expoente):\n",
    "        \"\"\"Realiza a operação: self ** expoente\"\"\"\n",
    "        assert isinstance(expoente, (int, float))\n",
    "        progenitor = (self, )\n",
    "        data = self.data ** expoente\n",
    "        operador_mae = f\"**{expoente}\"\n",
    "        resultado = Valor(data, progenitor, operador_mae)\n",
    "        \n",
    "        def propagar_pow():\n",
    "            self.grad += resultado.grad * (expoente * self.data ** (expoente - 1))\n",
    "        \n",
    "        resultado.propagar = propagar_pow\n",
    "        \n",
    "        return resultado\n",
    "    \n",
    "    def __truediv__(self, outro_valor):\n",
    "        \"\"\"Realiza a operação: self / outro_valor\"\"\"\n",
    "        return self * outro_valor ** (-1)\n",
    "    \n",
    "    def __neg__(self):\n",
    "        \"\"\"Realiza a operação: -self\"\"\"\n",
    "        return self * -1\n",
    "    \n",
    "    def __sub__(self, outro_valor):\n",
    "        \"\"\"Realiza a operação: self - outro_valor\"\"\"\n",
    "        return self + (-outro_valor)\n",
    "    \n",
    "    def __radd__(self, outro_valor):\n",
    "        \"\"\"Realiza a operação: outro_valor + self\"\"\"\n",
    "        return self + outro_valor\n",
    "    \n",
    "    def __rmul__(self, outro_valor):\n",
    "        \"\"\"Realiza a operação: outro_valor * self\"\"\"\n",
    "        return self * outro_valor\n",
    "    \n",
    "    def sig(self):\n",
    "        \"\"\"Realiza a operação: exp(self) / (exp(self) + 1)\"\"\"\n",
    "        return self.exp() / (self.exp() + 1)\n",
    "    \n",
    "    def propagar(self):\n",
    "        pass\n",
    "    \n",
    "    def propagar_tudo(self):\n",
    "        \n",
    "        self.grad = 1\n",
    "        \n",
    "        ordem_topologica = []\n",
    "        \n",
    "        visitados = set()\n",
    "\n",
    "        def constroi_ordem_topologica(v):\n",
    "            if v not in visitados:\n",
    "                visitados.add(v)\n",
    "                for progenitor in v.progenitor:\n",
    "                    constroi_ordem_topologica(progenitor)\n",
    "                ordem_topologica.append(v)\n",
    "\n",
    "        constroi_ordem_topologica(self)\n",
    "        \n",
    "        for vertice in reversed(ordem_topologica):\n",
    "            vertice.propagar()"
   ]
  },
  {
   "cell_type": "code",
   "execution_count": 115,
   "id": "539030d8-5a54-4871-99ff-cbe016a8fe62",
   "metadata": {},
   "outputs": [
    {
     "name": "stdout",
     "output_type": "stream",
     "text": [
      "Valor(data=10)\n"
     ]
    }
   ],
   "source": [
    "a = Valor(10)\n",
    "print(a)"
   ]
  },
  {
   "cell_type": "code",
   "execution_count": 116,
   "id": "fd18af5a-ec98-4302-9d3a-9691afa11f71",
   "metadata": {},
   "outputs": [
    {
     "name": "stdout",
     "output_type": "stream",
     "text": [
      "Valor(data=5)\n"
     ]
    }
   ],
   "source": [
    "b = Valor(5)\n",
    "print(b)"
   ]
  },
  {
   "cell_type": "code",
   "execution_count": 117,
   "id": "82841bf3-9691-4a29-9b50-3e74014605c6",
   "metadata": {},
   "outputs": [],
   "source": [
    "c = a + b"
   ]
  },
  {
   "cell_type": "code",
   "execution_count": 118,
   "id": "7304a97e-591a-47dd-9d3c-d9015cfff0fa",
   "metadata": {},
   "outputs": [
    {
     "name": "stdout",
     "output_type": "stream",
     "text": [
      "Valor(data=15)\n"
     ]
    }
   ],
   "source": [
    "print(c)"
   ]
  },
  {
   "cell_type": "code",
   "execution_count": 119,
   "id": "2890493e-68d1-4b1b-8ada-11e89f0c293a",
   "metadata": {},
   "outputs": [
    {
     "data": {
      "text/plain": [
       "(Valor(data=10), Valor(data=5))"
      ]
     },
     "execution_count": 119,
     "metadata": {},
     "output_type": "execute_result"
    }
   ],
   "source": [
    "c.progenitor"
   ]
  },
  {
   "cell_type": "code",
   "execution_count": 120,
   "id": "f97034a6-4cd9-449d-8266-3227768085c5",
   "metadata": {},
   "outputs": [
    {
     "data": {
      "text/plain": [
       "'+'"
      ]
     },
     "execution_count": 120,
     "metadata": {},
     "output_type": "execute_result"
    }
   ],
   "source": [
    "c.operador_mae"
   ]
  },
  {
   "cell_type": "code",
   "execution_count": 121,
   "id": "e2d1a895-ab6b-4a74-8726-c2da69312038",
   "metadata": {},
   "outputs": [],
   "source": [
    "d = a * b"
   ]
  },
  {
   "cell_type": "code",
   "execution_count": 122,
   "id": "0541dc35-37fd-4ab8-80c9-1e2ac8bc34f4",
   "metadata": {},
   "outputs": [
    {
     "name": "stdout",
     "output_type": "stream",
     "text": [
      "Valor(data=50)\n"
     ]
    }
   ],
   "source": [
    "print(d)"
   ]
  },
  {
   "cell_type": "code",
   "execution_count": 123,
   "id": "bcd56e6b-8e08-4d8c-8f3b-2f7d34db050c",
   "metadata": {},
   "outputs": [
    {
     "data": {
      "text/plain": [
       "(Valor(data=10), Valor(data=5))"
      ]
     },
     "execution_count": 123,
     "metadata": {},
     "output_type": "execute_result"
    }
   ],
   "source": [
    "d.progenitor"
   ]
  },
  {
   "cell_type": "code",
   "execution_count": 124,
   "id": "700ea793-4b5a-4199-b031-516d280eabd8",
   "metadata": {},
   "outputs": [
    {
     "data": {
      "text/plain": [
       "'*'"
      ]
     },
     "execution_count": 124,
     "metadata": {},
     "output_type": "execute_result"
    }
   ],
   "source": [
    "d.operador_mae"
   ]
  },
  {
   "cell_type": "code",
   "execution_count": 125,
   "id": "2a15d742-4301-4a01-915a-be297d06fbd7",
   "metadata": {},
   "outputs": [
    {
     "data": {
      "text/plain": [
       "()"
      ]
     },
     "execution_count": 125,
     "metadata": {},
     "output_type": "execute_result"
    }
   ],
   "source": [
    "b.progenitor"
   ]
  },
  {
   "cell_type": "code",
   "execution_count": 126,
   "id": "5941dde9-8658-4a46-8224-a2d1ad1bfd57",
   "metadata": {},
   "outputs": [
    {
     "data": {
      "image/svg+xml": "<?xml version=\"1.0\" encoding=\"UTF-8\" standalone=\"no\"?>\n<!DOCTYPE svg PUBLIC \"-//W3C//DTD SVG 1.1//EN\"\n \"http://www.w3.org/Graphics/SVG/1.1/DTD/svg11.dtd\">\n<!-- Generated by graphviz version 8.1.0 (20230707.0739)\n -->\n<!-- Pages: 1 -->\n<svg width=\"787pt\" height=\"127pt\"\n viewBox=\"0.00 0.00 786.50 127.00\" xmlns=\"http://www.w3.org/2000/svg\" xmlns:xlink=\"http://www.w3.org/1999/xlink\">\n<g id=\"graph0\" class=\"graph\" transform=\"scale(1 1) rotate(0) translate(4 123)\">\n<polygon fill=\"white\" stroke=\"none\" points=\"-4,4 -4,-123 782.5,-123 782.5,4 -4,4\"/>\n<!-- 1864809213488 -->\n<g id=\"node1\" class=\"node\">\n<title>1864809213488</title>\n<polygon fill=\"none\" stroke=\"black\" points=\"303,-82.5 303,-118.5 481.5,-118.5 481.5,-82.5 303,-82.5\"/>\n<text text-anchor=\"middle\" x=\"314.38\" y=\"-95.2\" font-family=\"Times New Roman,serif\" font-size=\"14.00\">c</text>\n<polyline fill=\"none\" stroke=\"black\" points=\"325.75,-82.75 325.75,-118.5\"/>\n<text text-anchor=\"middle\" x=\"366\" y=\"-95.2\" font-family=\"Times New Roman,serif\" font-size=\"14.00\">data 10.000</text>\n<polyline fill=\"none\" stroke=\"black\" points=\"406.25,-82.75 406.25,-118.5\"/>\n<text text-anchor=\"middle\" x=\"443.88\" y=\"-95.2\" font-family=\"Times New Roman,serif\" font-size=\"14.00\">grad 1.000</text>\n</g>\n<!-- 1864813342592+ -->\n<g id=\"node7\" class=\"node\">\n<title>1864813342592+</title>\n<ellipse fill=\"none\" stroke=\"black\" cx=\"544.5\" cy=\"-72.5\" rx=\"27\" ry=\"18\"/>\n<text text-anchor=\"middle\" x=\"544.5\" y=\"-67.08\" font-family=\"Times New Roman,serif\" font-size=\"14.00\">+</text>\n</g>\n<!-- 1864809213488&#45;&gt;1864813342592+ -->\n<g id=\"edge4\" class=\"edge\">\n<title>1864809213488&#45;&gt;1864813342592+</title>\n<path fill=\"none\" stroke=\"black\" d=\"M481.09,-84.13C490.25,-82.42 499.16,-80.76 507.24,-79.26\"/>\n<polygon fill=\"black\" stroke=\"black\" points=\"507.86,-82.52 517.05,-77.24 506.58,-75.63 507.86,-82.52\"/>\n</g>\n<!-- 1864813334624 -->\n<g id=\"node2\" class=\"node\">\n<title>1864813334624</title>\n<polygon fill=\"none\" stroke=\"black\" points=\"303.75,-27.5 303.75,-63.5 480.75,-63.5 480.75,-27.5 303.75,-27.5\"/>\n<text text-anchor=\"middle\" x=\"315.5\" y=\"-40.2\" font-family=\"Times New Roman,serif\" font-size=\"14.00\">d</text>\n<polyline fill=\"none\" stroke=\"black\" points=\"327.25,-27.75 327.25,-63.5\"/>\n<text text-anchor=\"middle\" x=\"366.38\" y=\"-40.2\" font-family=\"Times New Roman,serif\" font-size=\"14.00\">data &#45;6.000</text>\n<polyline fill=\"none\" stroke=\"black\" points=\"405.5,-27.75 405.5,-63.5\"/>\n<text text-anchor=\"middle\" x=\"443.12\" y=\"-40.2\" font-family=\"Times New Roman,serif\" font-size=\"14.00\">grad 1.000</text>\n</g>\n<!-- 1864813334624&#45;&gt;1864813342592+ -->\n<g id=\"edge3\" class=\"edge\">\n<title>1864813334624&#45;&gt;1864813342592+</title>\n<path fill=\"none\" stroke=\"black\" d=\"M480.65,-61.21C490.06,-62.9 499.21,-64.54 507.47,-66.03\"/>\n<polygon fill=\"black\" stroke=\"black\" points=\"506.69,-69.62 517.15,-67.94 507.93,-62.73 506.69,-69.62\"/>\n</g>\n<!-- 1864813334624* -->\n<g id=\"node3\" class=\"node\">\n<title>1864813334624*</title>\n<ellipse fill=\"none\" stroke=\"black\" cx=\"240\" cy=\"-45.5\" rx=\"27\" ry=\"18\"/>\n<text text-anchor=\"middle\" x=\"240\" y=\"-40.08\" font-family=\"Times New Roman,serif\" font-size=\"14.00\">*</text>\n</g>\n<!-- 1864813334624*&#45;&gt;1864813334624 -->\n<g id=\"edge1\" class=\"edge\">\n<title>1864813334624*&#45;&gt;1864813334624</title>\n<path fill=\"none\" stroke=\"black\" d=\"M267.17,-45.5C274.81,-45.5 283.64,-45.5 293,-45.5\"/>\n<polygon fill=\"black\" stroke=\"black\" points=\"292.76,-49 302.76,-45.5 292.76,-42 292.76,-49\"/>\n</g>\n<!-- 1864809735808 -->\n<g id=\"node4\" class=\"node\">\n<title>1864809735808</title>\n<polygon fill=\"none\" stroke=\"black\" points=\"0,-55.5 0,-91.5 177,-91.5 177,-55.5 0,-55.5\"/>\n<text text-anchor=\"middle\" x=\"11.75\" y=\"-68.2\" font-family=\"Times New Roman,serif\" font-size=\"14.00\">b</text>\n<polyline fill=\"none\" stroke=\"black\" points=\"23.5,-55.75 23.5,-91.5\"/>\n<text text-anchor=\"middle\" x=\"62.62\" y=\"-68.2\" font-family=\"Times New Roman,serif\" font-size=\"14.00\">data &#45;3.000</text>\n<polyline fill=\"none\" stroke=\"black\" points=\"101.75,-55.75 101.75,-91.5\"/>\n<text text-anchor=\"middle\" x=\"139.38\" y=\"-68.2\" font-family=\"Times New Roman,serif\" font-size=\"14.00\">grad 2.000</text>\n</g>\n<!-- 1864809735808&#45;&gt;1864813334624* -->\n<g id=\"edge5\" class=\"edge\">\n<title>1864809735808&#45;&gt;1864813334624*</title>\n<path fill=\"none\" stroke=\"black\" d=\"M176.9,-57.13C186.02,-55.42 194.88,-53.76 202.92,-52.26\"/>\n<polygon fill=\"black\" stroke=\"black\" points=\"203.49,-55.52 212.68,-50.24 202.2,-48.64 203.49,-55.52\"/>\n</g>\n<!-- 1864809215792 -->\n<g id=\"node5\" class=\"node\">\n<title>1864809215792</title>\n<polygon fill=\"none\" stroke=\"black\" points=\"0.75,-0.5 0.75,-36.5 176.25,-36.5 176.25,-0.5 0.75,-0.5\"/>\n<text text-anchor=\"middle\" x=\"11.75\" y=\"-13.2\" font-family=\"Times New Roman,serif\" font-size=\"14.00\">a</text>\n<polyline fill=\"none\" stroke=\"black\" points=\"22.75,-0.75 22.75,-36.5\"/>\n<text text-anchor=\"middle\" x=\"59.62\" y=\"-13.2\" font-family=\"Times New Roman,serif\" font-size=\"14.00\">data 2.000</text>\n<polyline fill=\"none\" stroke=\"black\" points=\"96.5,-0.75 96.5,-36.5\"/>\n<text text-anchor=\"middle\" x=\"136.38\" y=\"-13.2\" font-family=\"Times New Roman,serif\" font-size=\"14.00\">grad &#45;3.000</text>\n</g>\n<!-- 1864809215792&#45;&gt;1864813334624* -->\n<g id=\"edge6\" class=\"edge\">\n<title>1864809215792&#45;&gt;1864813334624*</title>\n<path fill=\"none\" stroke=\"black\" d=\"M176.03,-34.13C185.44,-35.83 194.6,-37.48 202.88,-38.98\"/>\n<polygon fill=\"black\" stroke=\"black\" points=\"202.12,-42.58 212.58,-40.91 203.36,-35.69 202.12,-42.58\"/>\n</g>\n<!-- 1864813342592 -->\n<g id=\"node6\" class=\"node\">\n<title>1864813342592</title>\n<polygon fill=\"none\" stroke=\"black\" points=\"607.5,-54.5 607.5,-90.5 778.5,-90.5 778.5,-54.5 607.5,-54.5\"/>\n<text text-anchor=\"middle\" x=\"618.5\" y=\"-67.2\" font-family=\"Times New Roman,serif\" font-size=\"14.00\">e</text>\n<polyline fill=\"none\" stroke=\"black\" points=\"629.5,-54.75 629.5,-90.5\"/>\n<text text-anchor=\"middle\" x=\"666.38\" y=\"-67.2\" font-family=\"Times New Roman,serif\" font-size=\"14.00\">data 4.000</text>\n<polyline fill=\"none\" stroke=\"black\" points=\"703.25,-54.75 703.25,-90.5\"/>\n<text text-anchor=\"middle\" x=\"740.88\" y=\"-67.2\" font-family=\"Times New Roman,serif\" font-size=\"14.00\">grad 1.000</text>\n</g>\n<!-- 1864813342592+&#45;&gt;1864813342592 -->\n<g id=\"edge2\" class=\"edge\">\n<title>1864813342592+&#45;&gt;1864813342592</title>\n<path fill=\"none\" stroke=\"black\" d=\"M571.69,-72.5C579.14,-72.5 587.73,-72.5 596.8,-72.5\"/>\n<polygon fill=\"black\" stroke=\"black\" points=\"596.65,-76 606.65,-72.5 596.65,-69 596.65,-76\"/>\n</g>\n</g>\n</svg>\n",
      "text/plain": [
       "<graphviz.graphs.Digraph at 0x1b22f895ba0>"
      ]
     },
     "execution_count": 126,
     "metadata": {},
     "output_type": "execute_result"
    }
   ],
   "source": [
    "a = Valor(2, rotulo=\"a\")\n",
    "b = Valor(-3, rotulo=\"b\")\n",
    "c = Valor(10, rotulo=\"c\")\n",
    "\n",
    "d = a * b\n",
    "d.rotulo = \"d\"\n",
    "e = d + c\n",
    "e.rotulo = \"e\"\n",
    "\n",
    "e.grad = 1  # de/de\n",
    "c.grad = 1  # de/dc   e = d + c\n",
    "d.grad = 1  # de/dd\n",
    "\n",
    "a.grad = -3  # de/da = 1 * -3   d = a * b\n",
    "b.grad = 2  # de/db = 1 * 2\n",
    "\n",
    "plota_grafo(e)"
   ]
  },
  {
   "cell_type": "code",
   "execution_count": 127,
   "id": "af133157-a03c-4efd-96e9-b419d8f1ed57",
   "metadata": {},
   "outputs": [
    {
     "data": {
      "image/svg+xml": "<?xml version=\"1.0\" encoding=\"UTF-8\" standalone=\"no\"?>\n<!DOCTYPE svg PUBLIC \"-//W3C//DTD SVG 1.1//EN\"\n \"http://www.w3.org/Graphics/SVG/1.1/DTD/svg11.dtd\">\n<!-- Generated by graphviz version 8.1.0 (20230707.0739)\n -->\n<!-- Pages: 1 -->\n<svg width=\"787pt\" height=\"127pt\"\n viewBox=\"0.00 0.00 786.50 127.00\" xmlns=\"http://www.w3.org/2000/svg\" xmlns:xlink=\"http://www.w3.org/1999/xlink\">\n<g id=\"graph0\" class=\"graph\" transform=\"scale(1 1) rotate(0) translate(4 123)\">\n<polygon fill=\"white\" stroke=\"none\" points=\"-4,4 -4,-123 782.5,-123 782.5,4 -4,4\"/>\n<!-- 1864813738496 -->\n<g id=\"node1\" class=\"node\">\n<title>1864813738496</title>\n<polygon fill=\"none\" stroke=\"black\" points=\"303,-82.5 303,-118.5 481.5,-118.5 481.5,-82.5 303,-82.5\"/>\n<text text-anchor=\"middle\" x=\"314.38\" y=\"-95.2\" font-family=\"Times New Roman,serif\" font-size=\"14.00\">c</text>\n<polyline fill=\"none\" stroke=\"black\" points=\"325.75,-82.75 325.75,-118.5\"/>\n<text text-anchor=\"middle\" x=\"366\" y=\"-95.2\" font-family=\"Times New Roman,serif\" font-size=\"14.00\">data 10.000</text>\n<polyline fill=\"none\" stroke=\"black\" points=\"406.25,-82.75 406.25,-118.5\"/>\n<text text-anchor=\"middle\" x=\"443.88\" y=\"-95.2\" font-family=\"Times New Roman,serif\" font-size=\"14.00\">grad 1.000</text>\n</g>\n<!-- 1864813339520+ -->\n<g id=\"node7\" class=\"node\">\n<title>1864813339520+</title>\n<ellipse fill=\"none\" stroke=\"black\" cx=\"544.5\" cy=\"-72.5\" rx=\"27\" ry=\"18\"/>\n<text text-anchor=\"middle\" x=\"544.5\" y=\"-67.08\" font-family=\"Times New Roman,serif\" font-size=\"14.00\">+</text>\n</g>\n<!-- 1864813738496&#45;&gt;1864813339520+ -->\n<g id=\"edge6\" class=\"edge\">\n<title>1864813738496&#45;&gt;1864813339520+</title>\n<path fill=\"none\" stroke=\"black\" d=\"M481.09,-84.13C490.25,-82.42 499.16,-80.76 507.24,-79.26\"/>\n<polygon fill=\"black\" stroke=\"black\" points=\"507.86,-82.52 517.05,-77.24 506.58,-75.63 507.86,-82.52\"/>\n</g>\n<!-- 1864813339760 -->\n<g id=\"node2\" class=\"node\">\n<title>1864813339760</title>\n<polygon fill=\"none\" stroke=\"black\" points=\"303.75,-27.5 303.75,-63.5 480.75,-63.5 480.75,-27.5 303.75,-27.5\"/>\n<text text-anchor=\"middle\" x=\"315.5\" y=\"-40.2\" font-family=\"Times New Roman,serif\" font-size=\"14.00\">d</text>\n<polyline fill=\"none\" stroke=\"black\" points=\"327.25,-27.75 327.25,-63.5\"/>\n<text text-anchor=\"middle\" x=\"366.38\" y=\"-40.2\" font-family=\"Times New Roman,serif\" font-size=\"14.00\">data &#45;6.000</text>\n<polyline fill=\"none\" stroke=\"black\" points=\"405.5,-27.75 405.5,-63.5\"/>\n<text text-anchor=\"middle\" x=\"443.12\" y=\"-40.2\" font-family=\"Times New Roman,serif\" font-size=\"14.00\">grad 1.000</text>\n</g>\n<!-- 1864813339760&#45;&gt;1864813339520+ -->\n<g id=\"edge4\" class=\"edge\">\n<title>1864813339760&#45;&gt;1864813339520+</title>\n<path fill=\"none\" stroke=\"black\" d=\"M480.65,-61.21C490.06,-62.9 499.21,-64.54 507.47,-66.03\"/>\n<polygon fill=\"black\" stroke=\"black\" points=\"506.69,-69.62 517.15,-67.94 507.93,-62.73 506.69,-69.62\"/>\n</g>\n<!-- 1864813339760* -->\n<g id=\"node3\" class=\"node\">\n<title>1864813339760*</title>\n<ellipse fill=\"none\" stroke=\"black\" cx=\"240\" cy=\"-45.5\" rx=\"27\" ry=\"18\"/>\n<text text-anchor=\"middle\" x=\"240\" y=\"-40.08\" font-family=\"Times New Roman,serif\" font-size=\"14.00\">*</text>\n</g>\n<!-- 1864813339760*&#45;&gt;1864813339760 -->\n<g id=\"edge1\" class=\"edge\">\n<title>1864813339760*&#45;&gt;1864813339760</title>\n<path fill=\"none\" stroke=\"black\" d=\"M267.17,-45.5C274.81,-45.5 283.64,-45.5 293,-45.5\"/>\n<polygon fill=\"black\" stroke=\"black\" points=\"292.76,-49 302.76,-45.5 292.76,-42 292.76,-49\"/>\n</g>\n<!-- 1864813738160 -->\n<g id=\"node4\" class=\"node\">\n<title>1864813738160</title>\n<polygon fill=\"none\" stroke=\"black\" points=\"0.75,-55.5 0.75,-91.5 176.25,-91.5 176.25,-55.5 0.75,-55.5\"/>\n<text text-anchor=\"middle\" x=\"11.75\" y=\"-68.2\" font-family=\"Times New Roman,serif\" font-size=\"14.00\">a</text>\n<polyline fill=\"none\" stroke=\"black\" points=\"22.75,-55.75 22.75,-91.5\"/>\n<text text-anchor=\"middle\" x=\"59.62\" y=\"-68.2\" font-family=\"Times New Roman,serif\" font-size=\"14.00\">data 2.000</text>\n<polyline fill=\"none\" stroke=\"black\" points=\"96.5,-55.75 96.5,-91.5\"/>\n<text text-anchor=\"middle\" x=\"136.38\" y=\"-68.2\" font-family=\"Times New Roman,serif\" font-size=\"14.00\">grad &#45;3.000</text>\n</g>\n<!-- 1864813738160&#45;&gt;1864813339760* -->\n<g id=\"edge5\" class=\"edge\">\n<title>1864813738160&#45;&gt;1864813339760*</title>\n<path fill=\"none\" stroke=\"black\" d=\"M176.03,-57.29C185.44,-55.53 194.6,-53.82 202.88,-52.26\"/>\n<polygon fill=\"black\" stroke=\"black\" points=\"203.39,-55.54 212.58,-50.26 202.11,-48.66 203.39,-55.54\"/>\n</g>\n<!-- 1864813739216 -->\n<g id=\"node5\" class=\"node\">\n<title>1864813739216</title>\n<polygon fill=\"none\" stroke=\"black\" points=\"0,-0.5 0,-36.5 177,-36.5 177,-0.5 0,-0.5\"/>\n<text text-anchor=\"middle\" x=\"11.75\" y=\"-13.2\" font-family=\"Times New Roman,serif\" font-size=\"14.00\">b</text>\n<polyline fill=\"none\" stroke=\"black\" points=\"23.5,-0.75 23.5,-36.5\"/>\n<text text-anchor=\"middle\" x=\"62.62\" y=\"-13.2\" font-family=\"Times New Roman,serif\" font-size=\"14.00\">data &#45;3.000</text>\n<polyline fill=\"none\" stroke=\"black\" points=\"101.75,-0.75 101.75,-36.5\"/>\n<text text-anchor=\"middle\" x=\"139.38\" y=\"-13.2\" font-family=\"Times New Roman,serif\" font-size=\"14.00\">grad 2.000</text>\n</g>\n<!-- 1864813739216&#45;&gt;1864813339760* -->\n<g id=\"edge3\" class=\"edge\">\n<title>1864813739216&#45;&gt;1864813339760*</title>\n<path fill=\"none\" stroke=\"black\" d=\"M176.9,-34.28C186.02,-35.93 194.88,-37.53 202.92,-38.98\"/>\n<polygon fill=\"black\" stroke=\"black\" points=\"202.21,-42.59 212.68,-40.93 203.46,-35.7 202.21,-42.59\"/>\n</g>\n<!-- 1864813339520 -->\n<g id=\"node6\" class=\"node\">\n<title>1864813339520</title>\n<polygon fill=\"none\" stroke=\"black\" points=\"607.5,-54.5 607.5,-90.5 778.5,-90.5 778.5,-54.5 607.5,-54.5\"/>\n<text text-anchor=\"middle\" x=\"618.5\" y=\"-67.2\" font-family=\"Times New Roman,serif\" font-size=\"14.00\">e</text>\n<polyline fill=\"none\" stroke=\"black\" points=\"629.5,-54.75 629.5,-90.5\"/>\n<text text-anchor=\"middle\" x=\"666.38\" y=\"-67.2\" font-family=\"Times New Roman,serif\" font-size=\"14.00\">data 4.000</text>\n<polyline fill=\"none\" stroke=\"black\" points=\"703.25,-54.75 703.25,-90.5\"/>\n<text text-anchor=\"middle\" x=\"740.88\" y=\"-67.2\" font-family=\"Times New Roman,serif\" font-size=\"14.00\">grad 1.000</text>\n</g>\n<!-- 1864813339520+&#45;&gt;1864813339520 -->\n<g id=\"edge2\" class=\"edge\">\n<title>1864813339520+&#45;&gt;1864813339520</title>\n<path fill=\"none\" stroke=\"black\" d=\"M571.69,-72.5C579.14,-72.5 587.73,-72.5 596.8,-72.5\"/>\n<polygon fill=\"black\" stroke=\"black\" points=\"596.65,-76 606.65,-72.5 596.65,-69 596.65,-76\"/>\n</g>\n</g>\n</svg>\n",
      "text/plain": [
       "<graphviz.graphs.Digraph at 0x1b22f894af0>"
      ]
     },
     "execution_count": 127,
     "metadata": {},
     "output_type": "execute_result"
    }
   ],
   "source": [
    "a = Valor(2, rotulo=\"a\")\n",
    "b = Valor(-3, rotulo=\"b\")\n",
    "c = Valor(10, rotulo=\"c\")\n",
    "\n",
    "d = a * b\n",
    "d.rotulo = \"d\"\n",
    "e = d + c\n",
    "e.rotulo = \"e\"\n",
    "\n",
    "e.propagar_tudo()\n",
    "\n",
    "plota_grafo(e)"
   ]
  },
  {
   "cell_type": "code",
   "execution_count": 128,
   "id": "cfb71b81-9d78-4eee-b654-211ccd7b55e1",
   "metadata": {},
   "outputs": [],
   "source": [
    "# autograd"
   ]
  },
  {
   "cell_type": "markdown",
   "id": "109c6d1d-6d3a-43e3-b4e1-6cd246a88edd",
   "metadata": {},
   "source": [
    "![img](https://i.imgur.com/Q3MA6dZ.png)"
   ]
  },
  {
   "cell_type": "code",
   "execution_count": 129,
   "id": "f8e36101-fc99-4a68-acd2-84e3641b4f45",
   "metadata": {},
   "outputs": [
    {
     "data": {
      "image/svg+xml": "<?xml version=\"1.0\" encoding=\"UTF-8\" standalone=\"no\"?>\n<!DOCTYPE svg PUBLIC \"-//W3C//DTD SVG 1.1//EN\"\n \"http://www.w3.org/Graphics/SVG/1.1/DTD/svg11.dtd\">\n<!-- Generated by graphviz version 8.1.0 (20230707.0739)\n -->\n<!-- Pages: 1 -->\n<svg width=\"790pt\" height=\"100pt\"\n viewBox=\"0.00 0.00 789.50 100.00\" xmlns=\"http://www.w3.org/2000/svg\" xmlns:xlink=\"http://www.w3.org/1999/xlink\">\n<g id=\"graph0\" class=\"graph\" transform=\"scale(1 1) rotate(0) translate(4 96)\">\n<polygon fill=\"white\" stroke=\"none\" points=\"-4,4 -4,-96 785.5,-96 785.5,4 -4,4\"/>\n<!-- 1864813339424 -->\n<g id=\"node1\" class=\"node\">\n<title>1864813339424</title>\n<polygon fill=\"none\" stroke=\"black\" points=\"305.62,-55.5 305.62,-91.5 477.38,-91.5 477.38,-55.5 305.62,-55.5\"/>\n<text text-anchor=\"middle\" x=\"317\" y=\"-68.2\" font-family=\"Times New Roman,serif\" font-size=\"14.00\">c</text>\n<polyline fill=\"none\" stroke=\"black\" points=\"328.38,-55.75 328.38,-91.5\"/>\n<text text-anchor=\"middle\" x=\"365.25\" y=\"-68.2\" font-family=\"Times New Roman,serif\" font-size=\"14.00\">data 1.000</text>\n<polyline fill=\"none\" stroke=\"black\" points=\"402.12,-55.75 402.12,-91.5\"/>\n<text text-anchor=\"middle\" x=\"439.75\" y=\"-68.2\" font-family=\"Times New Roman,serif\" font-size=\"14.00\">grad 1.000</text>\n</g>\n<!-- 1864813334432+ -->\n<g id=\"node8\" class=\"node\">\n<title>1864813334432+</title>\n<ellipse fill=\"none\" stroke=\"black\" cx=\"543\" cy=\"-45.5\" rx=\"27\" ry=\"18\"/>\n<text text-anchor=\"middle\" x=\"543\" y=\"-40.08\" font-family=\"Times New Roman,serif\" font-size=\"14.00\">+</text>\n</g>\n<!-- 1864813339424&#45;&gt;1864813334432+ -->\n<g id=\"edge6\" class=\"edge\">\n<title>1864813339424&#45;&gt;1864813334432+</title>\n<path fill=\"none\" stroke=\"black\" d=\"M477.3,-57.62C487.4,-55.73 497.25,-53.88 506.1,-52.22\"/>\n<polygon fill=\"black\" stroke=\"black\" points=\"506.52,-55.52 515.71,-50.24 505.24,-48.64 506.52,-55.52\"/>\n</g>\n<!-- 1864813339424+ -->\n<g id=\"node2\" class=\"node\">\n<title>1864813339424+</title>\n<ellipse fill=\"none\" stroke=\"black\" cx=\"240\" cy=\"-73.5\" rx=\"27\" ry=\"18\"/>\n<text text-anchor=\"middle\" x=\"240\" y=\"-68.08\" font-family=\"Times New Roman,serif\" font-size=\"14.00\">+</text>\n</g>\n<!-- 1864813339424+&#45;&gt;1864813339424 -->\n<g id=\"edge1\" class=\"edge\">\n<title>1864813339424+&#45;&gt;1864813339424</title>\n<path fill=\"none\" stroke=\"black\" d=\"M267.38,-73.5C275.45,-73.5 284.83,-73.5 294.75,-73.5\"/>\n<polygon fill=\"black\" stroke=\"black\" points=\"294.68,-77 304.68,-73.5 294.68,-70 294.68,-77\"/>\n</g>\n<!-- 1864813333808 -->\n<g id=\"node3\" class=\"node\">\n<title>1864813333808</title>\n<polygon fill=\"none\" stroke=\"black\" points=\"303,-0.5 303,-36.5 480,-36.5 480,-0.5 303,-0.5\"/>\n<text text-anchor=\"middle\" x=\"314.75\" y=\"-13.2\" font-family=\"Times New Roman,serif\" font-size=\"14.00\">d</text>\n<polyline fill=\"none\" stroke=\"black\" points=\"326.5,-0.75 326.5,-36.5\"/>\n<text text-anchor=\"middle\" x=\"365.62\" y=\"-13.2\" font-family=\"Times New Roman,serif\" font-size=\"14.00\">data &#45;6.000</text>\n<polyline fill=\"none\" stroke=\"black\" points=\"404.75,-0.75 404.75,-36.5\"/>\n<text text-anchor=\"middle\" x=\"442.38\" y=\"-13.2\" font-family=\"Times New Roman,serif\" font-size=\"14.00\">grad 1.000</text>\n</g>\n<!-- 1864813333808&#45;&gt;1864813334432+ -->\n<g id=\"edge9\" class=\"edge\">\n<title>1864813333808&#45;&gt;1864813334432+</title>\n<path fill=\"none\" stroke=\"black\" d=\"M479.9,-34.28C489.02,-35.93 497.88,-37.53 505.92,-38.98\"/>\n<polygon fill=\"black\" stroke=\"black\" points=\"505.21,-42.59 515.68,-40.93 506.46,-35.7 505.21,-42.59\"/>\n</g>\n<!-- 1864813333808* -->\n<g id=\"node4\" class=\"node\">\n<title>1864813333808*</title>\n<ellipse fill=\"none\" stroke=\"black\" cx=\"240\" cy=\"-18.5\" rx=\"27\" ry=\"18\"/>\n<text text-anchor=\"middle\" x=\"240\" y=\"-13.07\" font-family=\"Times New Roman,serif\" font-size=\"14.00\">*</text>\n</g>\n<!-- 1864813333808*&#45;&gt;1864813333808 -->\n<g id=\"edge2\" class=\"edge\">\n<title>1864813333808*&#45;&gt;1864813333808</title>\n<path fill=\"none\" stroke=\"black\" d=\"M267.38,-18.5C274.79,-18.5 283.32,-18.5 292.35,-18.5\"/>\n<polygon fill=\"black\" stroke=\"black\" points=\"292.14,-22 302.14,-18.5 292.14,-15 292.14,-22\"/>\n</g>\n<!-- 1864813739312 -->\n<g id=\"node5\" class=\"node\">\n<title>1864813739312</title>\n<polygon fill=\"none\" stroke=\"black\" points=\"0.75,-55.5 0.75,-91.5 176.25,-91.5 176.25,-55.5 0.75,-55.5\"/>\n<text text-anchor=\"middle\" x=\"11.75\" y=\"-68.2\" font-family=\"Times New Roman,serif\" font-size=\"14.00\">a</text>\n<polyline fill=\"none\" stroke=\"black\" points=\"22.75,-55.75 22.75,-91.5\"/>\n<text text-anchor=\"middle\" x=\"61.88\" y=\"-68.2\" font-family=\"Times New Roman,serif\" font-size=\"14.00\">data &#45;2.000</text>\n<polyline fill=\"none\" stroke=\"black\" points=\"101,-55.75 101,-91.5\"/>\n<text text-anchor=\"middle\" x=\"138.62\" y=\"-68.2\" font-family=\"Times New Roman,serif\" font-size=\"14.00\">grad 4.000</text>\n</g>\n<!-- 1864813739312&#45;&gt;1864813339424+ -->\n<g id=\"edge4\" class=\"edge\">\n<title>1864813739312&#45;&gt;1864813339424+</title>\n<path fill=\"none\" stroke=\"black\" d=\"M176.03,-73.5C185.07,-73.5 193.88,-73.5 201.9,-73.5\"/>\n<polygon fill=\"black\" stroke=\"black\" points=\"201.66,-77 211.66,-73.5 201.66,-70 201.66,-77\"/>\n</g>\n<!-- 1864813739312&#45;&gt;1864813333808* -->\n<g id=\"edge5\" class=\"edge\">\n<title>1864813739312&#45;&gt;1864813333808*</title>\n<path fill=\"none\" stroke=\"black\" d=\"M151.02,-55.58C159.8,-52.72 168.67,-49.65 177,-46.5 187.17,-42.65 198.04,-37.95 207.79,-33.51\"/>\n<polygon fill=\"black\" stroke=\"black\" points=\"208.87,-36.4 216.47,-29.02 205.93,-30.05 208.87,-36.4\"/>\n</g>\n<!-- 1864813733792 -->\n<g id=\"node6\" class=\"node\">\n<title>1864813733792</title>\n<polygon fill=\"none\" stroke=\"black\" points=\"0,-0.5 0,-36.5 177,-36.5 177,-0.5 0,-0.5\"/>\n<text text-anchor=\"middle\" x=\"11.75\" y=\"-13.2\" font-family=\"Times New Roman,serif\" font-size=\"14.00\">b</text>\n<polyline fill=\"none\" stroke=\"black\" points=\"23.5,-0.75 23.5,-36.5\"/>\n<text text-anchor=\"middle\" x=\"60.38\" y=\"-13.2\" font-family=\"Times New Roman,serif\" font-size=\"14.00\">data 3.000</text>\n<polyline fill=\"none\" stroke=\"black\" points=\"97.25,-0.75 97.25,-36.5\"/>\n<text text-anchor=\"middle\" x=\"137.12\" y=\"-13.2\" font-family=\"Times New Roman,serif\" font-size=\"14.00\">grad &#45;1.000</text>\n</g>\n<!-- 1864813733792&#45;&gt;1864813339424+ -->\n<g id=\"edge7\" class=\"edge\">\n<title>1864813733792&#45;&gt;1864813339424+</title>\n<path fill=\"none\" stroke=\"black\" d=\"M148.15,-36.36C157.84,-39.57 167.75,-43.01 177,-46.5 186.92,-50.24 197.56,-54.7 207.18,-58.91\"/>\n<polygon fill=\"black\" stroke=\"black\" points=\"205.57,-62.47 216.13,-63.33 208.41,-56.07 205.57,-62.47\"/>\n</g>\n<!-- 1864813733792&#45;&gt;1864813333808* -->\n<g id=\"edge8\" class=\"edge\">\n<title>1864813733792&#45;&gt;1864813333808*</title>\n<path fill=\"none\" stroke=\"black\" d=\"M176.9,-18.5C185.66,-18.5 194.17,-18.5 201.96,-18.5\"/>\n<polygon fill=\"black\" stroke=\"black\" points=\"201.77,-22 211.77,-18.5 201.77,-15 201.77,-22\"/>\n</g>\n<!-- 1864813334432 -->\n<g id=\"node7\" class=\"node\">\n<title>1864813334432</title>\n<polygon fill=\"none\" stroke=\"black\" points=\"606,-27.5 606,-63.5 781.5,-63.5 781.5,-27.5 606,-27.5\"/>\n<text text-anchor=\"middle\" x=\"617\" y=\"-40.2\" font-family=\"Times New Roman,serif\" font-size=\"14.00\">e</text>\n<polyline fill=\"none\" stroke=\"black\" points=\"628,-27.75 628,-63.5\"/>\n<text text-anchor=\"middle\" x=\"667.12\" y=\"-40.2\" font-family=\"Times New Roman,serif\" font-size=\"14.00\">data &#45;5.000</text>\n<polyline fill=\"none\" stroke=\"black\" points=\"706.25,-27.75 706.25,-63.5\"/>\n<text text-anchor=\"middle\" x=\"743.88\" y=\"-40.2\" font-family=\"Times New Roman,serif\" font-size=\"14.00\">grad 1.000</text>\n</g>\n<!-- 1864813334432+&#45;&gt;1864813334432 -->\n<g id=\"edge3\" class=\"edge\">\n<title>1864813334432+&#45;&gt;1864813334432</title>\n<path fill=\"none\" stroke=\"black\" d=\"M570.25,-45.5C577.68,-45.5 586.24,-45.5 595.31,-45.5\"/>\n<polygon fill=\"black\" stroke=\"black\" points=\"595.14,-49 605.14,-45.5 595.14,-42 595.14,-49\"/>\n</g>\n</g>\n</svg>\n",
      "text/plain": [
       "<graphviz.graphs.Digraph at 0x1b22f895d80>"
      ]
     },
     "execution_count": 129,
     "metadata": {},
     "output_type": "execute_result"
    }
   ],
   "source": [
    "a = Valor(-2, rotulo=\"a\")\n",
    "b = Valor(3, rotulo=\"b\")\n",
    "\n",
    "c = a + b\n",
    "d = a * b\n",
    "\n",
    "e = c + d\n",
    "\n",
    "c.rotulo = \"c\"\n",
    "d.rotulo = \"d\"\n",
    "e.rotulo = \"e\"\n",
    "\n",
    "e.propagar_tudo()\n",
    "plota_grafo(e)"
   ]
  },
  {
   "cell_type": "code",
   "execution_count": 130,
   "id": "571a2adb-61fa-441d-b374-b0fda928c0fc",
   "metadata": {},
   "outputs": [
    {
     "name": "stdout",
     "output_type": "stream",
     "text": [
      "Valor(data=11)\n"
     ]
    }
   ],
   "source": [
    "a = Valor(10, rotulo=\"a\")\n",
    "b = a + 1\n",
    "print(b)"
   ]
  },
  {
   "cell_type": "code",
   "execution_count": 131,
   "id": "4051392c-de33-4b25-99fa-4d0071d2ef8b",
   "metadata": {},
   "outputs": [],
   "source": [
    "#1.data"
   ]
  },
  {
   "cell_type": "code",
   "execution_count": 132,
   "id": "5a2b55b4-b2d2-4d70-b611-756a9be66e61",
   "metadata": {},
   "outputs": [
    {
     "name": "stdout",
     "output_type": "stream",
     "text": [
      "Valor(data=100)\n"
     ]
    }
   ],
   "source": [
    "a = Valor(10, rotulo=\"a\")\n",
    "b = a * 10\n",
    "print(b)"
   ]
  },
  {
   "cell_type": "code",
   "execution_count": 133,
   "id": "583a73e5-91e8-4670-b1c0-d1a22c4b5ce5",
   "metadata": {},
   "outputs": [
    {
     "name": "stdout",
     "output_type": "stream",
     "text": [
      "Valor(data=11)\n"
     ]
    }
   ],
   "source": [
    "a = Valor(10, rotulo=\"a\")\n",
    "b = 1 + a\n",
    "print(b)"
   ]
  },
  {
   "cell_type": "code",
   "execution_count": 134,
   "id": "7299a95f-7d19-4f6d-97d6-7c000ba8ef8c",
   "metadata": {},
   "outputs": [
    {
     "name": "stdout",
     "output_type": "stream",
     "text": [
      "Valor(data=100)\n"
     ]
    }
   ],
   "source": [
    "a = Valor(10, rotulo=\"a\")\n",
    "b = 10 * a\n",
    "print(b)"
   ]
  },
  {
   "cell_type": "code",
   "execution_count": 135,
   "id": "ac66168e-551a-4700-8711-0d3b7d2224fd",
   "metadata": {},
   "outputs": [
    {
     "name": "stdout",
     "output_type": "stream",
     "text": [
      "Valor(data=2.718281828459045)\n"
     ]
    }
   ],
   "source": [
    "a = Valor(1, rotulo=\"a\")\n",
    "b = a.exp()  # exp(a) ~ 2.718\n",
    "print(b)"
   ]
  },
  {
   "cell_type": "code",
   "execution_count": 136,
   "id": "81448db9-d788-453e-b6ac-a587256afad9",
   "metadata": {},
   "outputs": [
    {
     "name": "stdout",
     "output_type": "stream",
     "text": [
      "Valor(data=100)\n"
     ]
    }
   ],
   "source": [
    "a = Valor(10, rotulo=\"a\")\n",
    "b = a**2\n",
    "print(b)"
   ]
  },
  {
   "cell_type": "code",
   "execution_count": 137,
   "id": "37bd0858-8391-4bca-ba35-08b4246e8fb6",
   "metadata": {},
   "outputs": [
    {
     "name": "stdout",
     "output_type": "stream",
     "text": [
      "Valor(data=0.5)\n"
     ]
    }
   ],
   "source": [
    "a = Valor(1, rotulo=\"a\")\n",
    "b = Valor(2, rotulo=\"b\")\n",
    "c = a / b\n",
    "print(c)"
   ]
  },
  {
   "cell_type": "code",
   "execution_count": 138,
   "id": "d4604a92-3a0a-451d-82b9-0c95a03550c8",
   "metadata": {},
   "outputs": [
    {
     "name": "stdout",
     "output_type": "stream",
     "text": [
      "Valor(data=-1)\n"
     ]
    }
   ],
   "source": [
    "a = Valor(1, rotulo=\"a\")\n",
    "b = -a\n",
    "print(b)"
   ]
  },
  {
   "cell_type": "code",
   "execution_count": 139,
   "id": "bc2cd9cd-4c7d-4c13-a4e6-a8c120fb1d31",
   "metadata": {},
   "outputs": [
    {
     "name": "stdout",
     "output_type": "stream",
     "text": [
      "Valor(data=7)\n"
     ]
    }
   ],
   "source": [
    "a = Valor(10, rotulo=\"a\")\n",
    "b = Valor(3, rotulo=\"b\")\n",
    "c = a - b\n",
    "print(c)"
   ]
  },
  {
   "cell_type": "markdown",
   "id": "273b0d85-c7cf-4db1-ac8e-f2db471c4cef",
   "metadata": {},
   "source": [
    "$$\n",
    "S(x) = \\frac{e^x}{e^x + 1}\n",
    "$$"
   ]
  },
  {
   "cell_type": "code",
   "execution_count": 140,
   "id": "ad13515f-dada-42c3-bd33-33814c5624e1",
   "metadata": {},
   "outputs": [
    {
     "name": "stdout",
     "output_type": "stream",
     "text": [
      "Valor(data=0.5)\n"
     ]
    }
   ],
   "source": [
    "a = Valor(0, rotulo=\"a\")\n",
    "b = a.sig()\n",
    "print(b)"
   ]
  },
  {
   "cell_type": "code",
   "execution_count": 141,
   "id": "de94ac82",
   "metadata": {},
   "outputs": [],
   "source": [
    "class Valor:\n",
    "    def __init__(self,data,progenitor=(),operador_mae = \"\",rotulo = \"\"):\n",
    "        self.data = data\n",
    "        self.progenitor = progenitor\n",
    "        self.operador_mae = operador_mae\n",
    "        self.rotulo = rotulo\n",
    "        self.grad = 0\n",
    "        \n",
    "    def __repr__(self):\n",
    "        return f'Valor(data={self.data})'   \n",
    "     \n",
    "    def __add__(self,outro_valor):\n",
    "        progenitor = (self,outro_valor)\n",
    "        data =self.data + outro_valor.data\n",
    "        operador_mae = \"+\"\n",
    "        resultado = Valor(data, progenitor,operador_mae)\n",
    "\n",
    "        def propagar_adicao():\n",
    "            self.grad = resultado.grad\n",
    "            outro_valor.grad = resultado.grad\n",
    "        \n",
    "        resultado.propagar = propagar_adicao\n",
    "        \n",
    "        return resultado\n",
    "\n",
    "\n",
    "    \n",
    "    def __mul__(self,outro_valor):\n",
    "        progenitor = (self,outro_valor)\n",
    "        data =self.data * outro_valor.data\n",
    "        operador_mae = \"*\"\n",
    "        resultado = Valor(data, progenitor,operador_mae)\n",
    "        \n",
    "        def propagar_multiplicacao():\n",
    "            self.grad = resultado.grad * outro_valor.data\n",
    "            outro_valor.grad = resultado.grad * self.data\n",
    "        \n",
    "        resultado.propagar = propagar_multiplicacao\n",
    "        return resultado \n",
    "       \n",
    "               \n",
    "           \n",
    "    def propagar(sef):\n",
    "        pass "
   ]
  },
  {
   "cell_type": "code",
   "execution_count": 142,
   "id": "1a7b4248",
   "metadata": {},
   "outputs": [],
   "source": [
    "a = Valor(6,rotulo=\"a\")\n",
    "b = Valor(10,rotulo=\"b\")"
   ]
  },
  {
   "cell_type": "code",
   "execution_count": 143,
   "id": "71e6852e",
   "metadata": {},
   "outputs": [],
   "source": [
    "a = Valor(-2, rotulo=\"a\")\n",
    "b = Valor(3, rotulo=\"b\")\n",
    "\n",
    "c = a + b\n",
    "d = a * b\n",
    "\n",
    "e = c + d\n",
    "\n",
    "c.rotulo = \"c\"\n",
    "d.rotulo = \"d\"\n",
    "e.rotulo = \"e\"\n",
    "\n",
    "e.grad = 1\n",
    "e.propagar()\n",
    "d.propagar()\n",
    "c.propagar()"
   ]
  },
  {
   "cell_type": "code",
   "execution_count": 144,
   "id": "eda3a5d5",
   "metadata": {},
   "outputs": [
    {
     "data": {
      "image/svg+xml": "<?xml version=\"1.0\" encoding=\"UTF-8\" standalone=\"no\"?>\n<!DOCTYPE svg PUBLIC \"-//W3C//DTD SVG 1.1//EN\"\n \"http://www.w3.org/Graphics/SVG/1.1/DTD/svg11.dtd\">\n<!-- Generated by graphviz version 8.1.0 (20230707.0739)\n -->\n<!-- Pages: 1 -->\n<svg width=\"788pt\" height=\"100pt\"\n viewBox=\"0.00 0.00 788.00 100.00\" xmlns=\"http://www.w3.org/2000/svg\" xmlns:xlink=\"http://www.w3.org/1999/xlink\">\n<g id=\"graph0\" class=\"graph\" transform=\"scale(1 1) rotate(0) translate(4 96)\">\n<polygon fill=\"white\" stroke=\"none\" points=\"-4,4 -4,-96 784,-96 784,4 -4,4\"/>\n<!-- 1864813339136 -->\n<g id=\"node1\" class=\"node\">\n<title>1864813339136</title>\n<polygon fill=\"none\" stroke=\"black\" points=\"604.5,-27.5 604.5,-63.5 780,-63.5 780,-27.5 604.5,-27.5\"/>\n<text text-anchor=\"middle\" x=\"615.5\" y=\"-40.2\" font-family=\"Times New Roman,serif\" font-size=\"14.00\">e</text>\n<polyline fill=\"none\" stroke=\"black\" points=\"626.5,-27.75 626.5,-63.5\"/>\n<text text-anchor=\"middle\" x=\"665.62\" y=\"-40.2\" font-family=\"Times New Roman,serif\" font-size=\"14.00\">data &#45;5.000</text>\n<polyline fill=\"none\" stroke=\"black\" points=\"704.75,-27.75 704.75,-63.5\"/>\n<text text-anchor=\"middle\" x=\"742.38\" y=\"-40.2\" font-family=\"Times New Roman,serif\" font-size=\"14.00\">grad 1.000</text>\n</g>\n<!-- 1864813339136+ -->\n<g id=\"node2\" class=\"node\">\n<title>1864813339136+</title>\n<ellipse fill=\"none\" stroke=\"black\" cx=\"541.5\" cy=\"-45.5\" rx=\"27\" ry=\"18\"/>\n<text text-anchor=\"middle\" x=\"541.5\" y=\"-40.08\" font-family=\"Times New Roman,serif\" font-size=\"14.00\">+</text>\n</g>\n<!-- 1864813339136+&#45;&gt;1864813339136 -->\n<g id=\"edge1\" class=\"edge\">\n<title>1864813339136+&#45;&gt;1864813339136</title>\n<path fill=\"none\" stroke=\"black\" d=\"M568.75,-45.5C576.18,-45.5 584.74,-45.5 593.81,-45.5\"/>\n<polygon fill=\"black\" stroke=\"black\" points=\"593.64,-49 603.64,-45.5 593.64,-42 593.64,-49\"/>\n</g>\n<!-- 1864813334528 -->\n<g id=\"node3\" class=\"node\">\n<title>1864813334528</title>\n<polygon fill=\"none\" stroke=\"black\" points=\"301.5,-55.5 301.5,-91.5 478.5,-91.5 478.5,-55.5 301.5,-55.5\"/>\n<text text-anchor=\"middle\" x=\"313.25\" y=\"-68.2\" font-family=\"Times New Roman,serif\" font-size=\"14.00\">d</text>\n<polyline fill=\"none\" stroke=\"black\" points=\"325,-55.75 325,-91.5\"/>\n<text text-anchor=\"middle\" x=\"364.12\" y=\"-68.2\" font-family=\"Times New Roman,serif\" font-size=\"14.00\">data &#45;6.000</text>\n<polyline fill=\"none\" stroke=\"black\" points=\"403.25,-55.75 403.25,-91.5\"/>\n<text text-anchor=\"middle\" x=\"440.88\" y=\"-68.2\" font-family=\"Times New Roman,serif\" font-size=\"14.00\">grad 1.000</text>\n</g>\n<!-- 1864813334528&#45;&gt;1864813339136+ -->\n<g id=\"edge6\" class=\"edge\">\n<title>1864813334528&#45;&gt;1864813339136+</title>\n<path fill=\"none\" stroke=\"black\" d=\"M478.4,-57.13C487.52,-55.42 496.38,-53.76 504.42,-52.26\"/>\n<polygon fill=\"black\" stroke=\"black\" points=\"504.99,-55.52 514.18,-50.24 503.7,-48.64 504.99,-55.52\"/>\n</g>\n<!-- 1864813334528* -->\n<g id=\"node4\" class=\"node\">\n<title>1864813334528*</title>\n<ellipse fill=\"none\" stroke=\"black\" cx=\"238.5\" cy=\"-73.5\" rx=\"27\" ry=\"18\"/>\n<text text-anchor=\"middle\" x=\"238.5\" y=\"-68.08\" font-family=\"Times New Roman,serif\" font-size=\"14.00\">*</text>\n</g>\n<!-- 1864813334528*&#45;&gt;1864813334528 -->\n<g id=\"edge2\" class=\"edge\">\n<title>1864813334528*&#45;&gt;1864813334528</title>\n<path fill=\"none\" stroke=\"black\" d=\"M265.88,-73.5C273.29,-73.5 281.82,-73.5 290.85,-73.5\"/>\n<polygon fill=\"black\" stroke=\"black\" points=\"290.64,-77 300.64,-73.5 290.64,-70 290.64,-77\"/>\n</g>\n<!-- 1864813734128 -->\n<g id=\"node5\" class=\"node\">\n<title>1864813734128</title>\n<polygon fill=\"none\" stroke=\"black\" points=\"1.5,-55.5 1.5,-91.5 174,-91.5 174,-55.5 1.5,-55.5\"/>\n<text text-anchor=\"middle\" x=\"13.25\" y=\"-68.2\" font-family=\"Times New Roman,serif\" font-size=\"14.00\">b</text>\n<polyline fill=\"none\" stroke=\"black\" points=\"25,-55.75 25,-91.5\"/>\n<text text-anchor=\"middle\" x=\"61.88\" y=\"-68.2\" font-family=\"Times New Roman,serif\" font-size=\"14.00\">data 3.000</text>\n<polyline fill=\"none\" stroke=\"black\" points=\"98.75,-55.75 98.75,-91.5\"/>\n<text text-anchor=\"middle\" x=\"136.38\" y=\"-68.2\" font-family=\"Times New Roman,serif\" font-size=\"14.00\">grad 1.000</text>\n</g>\n<!-- 1864813734128&#45;&gt;1864813334528* -->\n<g id=\"edge8\" class=\"edge\">\n<title>1864813734128&#45;&gt;1864813334528*</title>\n<path fill=\"none\" stroke=\"black\" d=\"M173.99,-73.5C183.16,-73.5 192.11,-73.5 200.27,-73.5\"/>\n<polygon fill=\"black\" stroke=\"black\" points=\"200.2,-77 210.2,-73.5 200.2,-70 200.2,-77\"/>\n</g>\n<!-- 1864813332944+ -->\n<g id=\"node8\" class=\"node\">\n<title>1864813332944+</title>\n<ellipse fill=\"none\" stroke=\"black\" cx=\"238.5\" cy=\"-18.5\" rx=\"27\" ry=\"18\"/>\n<text text-anchor=\"middle\" x=\"238.5\" y=\"-13.07\" font-family=\"Times New Roman,serif\" font-size=\"14.00\">+</text>\n</g>\n<!-- 1864813734128&#45;&gt;1864813332944+ -->\n<g id=\"edge5\" class=\"edge\">\n<title>1864813734128&#45;&gt;1864813332944+</title>\n<path fill=\"none\" stroke=\"black\" d=\"M149.74,-55.55C158.45,-52.69 167.24,-49.64 175.5,-46.5 185.66,-42.64 196.53,-37.94 206.28,-33.5\"/>\n<polygon fill=\"black\" stroke=\"black\" points=\"207.37,-36.39 214.97,-29.01 204.42,-30.04 207.37,-36.39\"/>\n</g>\n<!-- 1864813336880 -->\n<g id=\"node6\" class=\"node\">\n<title>1864813336880</title>\n<polygon fill=\"none\" stroke=\"black\" points=\"0,-0.5 0,-36.5 175.5,-36.5 175.5,-0.5 0,-0.5\"/>\n<text text-anchor=\"middle\" x=\"11\" y=\"-13.2\" font-family=\"Times New Roman,serif\" font-size=\"14.00\">a</text>\n<polyline fill=\"none\" stroke=\"black\" points=\"22,-0.75 22,-36.5\"/>\n<text text-anchor=\"middle\" x=\"61.12\" y=\"-13.2\" font-family=\"Times New Roman,serif\" font-size=\"14.00\">data &#45;2.000</text>\n<polyline fill=\"none\" stroke=\"black\" points=\"100.25,-0.75 100.25,-36.5\"/>\n<text text-anchor=\"middle\" x=\"137.88\" y=\"-13.2\" font-family=\"Times New Roman,serif\" font-size=\"14.00\">grad 1.000</text>\n</g>\n<!-- 1864813336880&#45;&gt;1864813334528* -->\n<g id=\"edge4\" class=\"edge\">\n<title>1864813336880&#45;&gt;1864813334528*</title>\n<path fill=\"none\" stroke=\"black\" d=\"M146.89,-36.39C156.5,-39.6 166.32,-43.03 175.5,-46.5 185.42,-50.25 196.06,-54.72 205.67,-58.92\"/>\n<polygon fill=\"black\" stroke=\"black\" points=\"204.06,-62.48 214.62,-63.34 206.9,-56.09 204.06,-62.48\"/>\n</g>\n<!-- 1864813336880&#45;&gt;1864813332944+ -->\n<g id=\"edge9\" class=\"edge\">\n<title>1864813336880&#45;&gt;1864813332944+</title>\n<path fill=\"none\" stroke=\"black\" d=\"M175.28,-18.5C184.04,-18.5 192.57,-18.5 200.36,-18.5\"/>\n<polygon fill=\"black\" stroke=\"black\" points=\"200.2,-22 210.2,-18.5 200.2,-15 200.2,-22\"/>\n</g>\n<!-- 1864813332944 -->\n<g id=\"node7\" class=\"node\">\n<title>1864813332944</title>\n<polygon fill=\"none\" stroke=\"black\" points=\"304.12,-0.5 304.12,-36.5 475.88,-36.5 475.88,-0.5 304.12,-0.5\"/>\n<text text-anchor=\"middle\" x=\"315.5\" y=\"-13.2\" font-family=\"Times New Roman,serif\" font-size=\"14.00\">c</text>\n<polyline fill=\"none\" stroke=\"black\" points=\"326.88,-0.75 326.88,-36.5\"/>\n<text text-anchor=\"middle\" x=\"363.75\" y=\"-13.2\" font-family=\"Times New Roman,serif\" font-size=\"14.00\">data 1.000</text>\n<polyline fill=\"none\" stroke=\"black\" points=\"400.62,-0.75 400.62,-36.5\"/>\n<text text-anchor=\"middle\" x=\"438.25\" y=\"-13.2\" font-family=\"Times New Roman,serif\" font-size=\"14.00\">grad 1.000</text>\n</g>\n<!-- 1864813332944&#45;&gt;1864813339136+ -->\n<g id=\"edge7\" class=\"edge\">\n<title>1864813332944&#45;&gt;1864813339136+</title>\n<path fill=\"none\" stroke=\"black\" d=\"M475.8,-33.81C485.81,-35.62 495.57,-37.39 504.35,-38.97\"/>\n<polygon fill=\"black\" stroke=\"black\" points=\"503.44,-42.54 513.9,-40.88 504.68,-35.66 503.44,-42.54\"/>\n</g>\n<!-- 1864813332944+&#45;&gt;1864813332944 -->\n<g id=\"edge3\" class=\"edge\">\n<title>1864813332944+&#45;&gt;1864813332944</title>\n<path fill=\"none\" stroke=\"black\" d=\"M265.88,-18.5C273.95,-18.5 283.33,-18.5 293.25,-18.5\"/>\n<polygon fill=\"black\" stroke=\"black\" points=\"293.18,-22 303.18,-18.5 293.18,-15 293.18,-22\"/>\n</g>\n</g>\n</svg>\n",
      "text/plain": [
       "<graphviz.graphs.Digraph at 0x1b22f8f78e0>"
      ]
     },
     "execution_count": 144,
     "metadata": {},
     "output_type": "execute_result"
    }
   ],
   "source": [
    "plota_grafo(e)"
   ]
  },
  {
   "cell_type": "code",
   "execution_count": 145,
   "id": "2ae4645e",
   "metadata": {},
   "outputs": [],
   "source": [
    "class uai:\n",
    "    def __init__(self,n):\n",
    "        self.n = n\n",
    "    def __add__(self,b):\n",
    "        return self.n+b \n",
    "    def __radd__(self,b):\n",
    "        return b+self.n"
   ]
  },
  {
   "cell_type": "code",
   "execution_count": 146,
   "id": "03dd1736",
   "metadata": {},
   "outputs": [],
   "source": [
    "a = uai(2)"
   ]
  },
  {
   "cell_type": "code",
   "execution_count": 147,
   "id": "bab8c941",
   "metadata": {},
   "outputs": [
    {
     "data": {
      "text/plain": [
       "5"
      ]
     },
     "execution_count": 147,
     "metadata": {},
     "output_type": "execute_result"
    }
   ],
   "source": [
    "a+3"
   ]
  },
  {
   "cell_type": "code",
   "execution_count": 148,
   "id": "2b9c4418",
   "metadata": {},
   "outputs": [
    {
     "data": {
      "text/plain": [
       "5"
      ]
     },
     "execution_count": 148,
     "metadata": {},
     "output_type": "execute_result"
    }
   ],
   "source": [
    "3+a"
   ]
  }
 ],
 "metadata": {
  "kernelspec": {
   "display_name": "Python 3.10.8 64-bit",
   "language": "python",
   "name": "python3"
  },
  "language_info": {
   "codemirror_mode": {
    "name": "ipython",
    "version": 3
   },
   "file_extension": ".py",
   "mimetype": "text/x-python",
   "name": "python",
   "nbconvert_exporter": "python",
   "pygments_lexer": "ipython3",
   "version": "3.10.8"
  },
  "vscode": {
   "interpreter": {
    "hash": "26de051ba29f2982a8de78e945f0abaf191376122a1563185a90213a26c5da77"
   }
  }
 },
 "nbformat": 4,
 "nbformat_minor": 5
}
