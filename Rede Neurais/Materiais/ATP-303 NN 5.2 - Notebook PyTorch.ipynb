{
 "cells": [
  {
   "cell_type": "markdown",
   "id": "f6b95101-9cbc-4fa8-a9ba-7e1690f47e0b",
   "metadata": {},
   "source": [
    "# Treinando uma rede neural com pytorch"
   ]
  },
  {
   "cell_type": "code",
   "execution_count": 1,
   "id": "13eae94c-96c0-4f39-9bb4-30d58cd93601",
   "metadata": {},
   "outputs": [],
   "source": [
    "import torch\n",
    "import torch.nn as nn\n",
    "import torch.optim as optim"
   ]
  },
  {
   "cell_type": "code",
   "execution_count": 2,
   "id": "aa37d1dd-b051-4ea8-999f-5e27d6ff0b7f",
   "metadata": {},
   "outputs": [],
   "source": [
    "class MLP(nn.Module):\n",
    "    def __init__(self, num_dados_entrada, neuronios_c1, neuronios_c2, num_targets):\n",
    "        super().__init__()\n",
    "        \n",
    "        self.camadas = nn.Sequential(\n",
    "            nn.Linear(num_dados_entrada, neuronios_c1),\n",
    "            nn.Sigmoid(),\n",
    "            nn.Linear(neuronios_c1, neuronios_c2),\n",
    "            nn.Sigmoid(),\n",
    "            nn.Linear(neuronios_c2, num_targets),\n",
    "        )\n",
    "        \n",
    "    def forward(self, x):\n",
    "        x = self.camadas(x)\n",
    "        return x"
   ]
  },
  {
   "cell_type": "code",
   "execution_count": 3,
   "id": "44d901e6-69af-4e07-b1fb-5fa2ec1ef106",
   "metadata": {},
   "outputs": [],
   "source": [
    "x = [\n",
    "  [2.0, 3.0, -1.0],\n",
    "  [3.0, -1.0, 0.5],\n",
    "  [0.5, 1.0, 1.0],\n",
    "  [1.0, 1.0, -1.0],\n",
    "]\n",
    "\n",
    "y_true = [1, 0, 0.2, 0.5]"
   ]
  },
  {
   "cell_type": "code",
   "execution_count": 4,
   "id": "63f862c4-c67a-412e-84f4-44818c072620",
   "metadata": {},
   "outputs": [],
   "source": [
    "x = torch.tensor(x)"
   ]
  },
  {
   "cell_type": "code",
   "execution_count": 5,
   "id": "80d80248-c44a-44ec-abc0-dde3297ac264",
   "metadata": {},
   "outputs": [
    {
     "data": {
      "text/plain": [
       "tensor([[ 2.0000,  3.0000, -1.0000],\n",
       "        [ 3.0000, -1.0000,  0.5000],\n",
       "        [ 0.5000,  1.0000,  1.0000],\n",
       "        [ 1.0000,  1.0000, -1.0000]])"
      ]
     },
     "execution_count": 5,
     "metadata": {},
     "output_type": "execute_result"
    }
   ],
   "source": [
    "x"
   ]
  },
  {
   "cell_type": "code",
   "execution_count": 6,
   "id": "06cde896-5351-4ec3-828d-9b53fa20c468",
   "metadata": {},
   "outputs": [],
   "source": [
    "y_true = torch.tensor(y_true)"
   ]
  },
  {
   "cell_type": "code",
   "execution_count": 7,
   "id": "8e96ece3-d243-437a-8069-54ad58398807",
   "metadata": {},
   "outputs": [
    {
     "data": {
      "text/plain": [
       "tensor([1.0000, 0.0000, 0.2000, 0.5000])"
      ]
     },
     "execution_count": 7,
     "metadata": {},
     "output_type": "execute_result"
    }
   ],
   "source": [
    "y_true"
   ]
  },
  {
   "cell_type": "code",
   "execution_count": 8,
   "id": "b5ab011d-9e01-4dd8-9cfe-4a1f66bdaf69",
   "metadata": {},
   "outputs": [],
   "source": [
    "y_true = y_true.view(-1, 1)"
   ]
  },
  {
   "cell_type": "code",
   "execution_count": 9,
   "id": "f579744e-b5e3-4569-bb0e-fb53594c5db0",
   "metadata": {},
   "outputs": [
    {
     "data": {
      "text/plain": [
       "tensor([[1.0000],\n",
       "        [0.0000],\n",
       "        [0.2000],\n",
       "        [0.5000]])"
      ]
     },
     "execution_count": 9,
     "metadata": {},
     "output_type": "execute_result"
    }
   ],
   "source": [
    "y_true"
   ]
  },
  {
   "cell_type": "code",
   "execution_count": 10,
   "id": "51141844-b8cb-45ed-af95-6a787e326c94",
   "metadata": {},
   "outputs": [],
   "source": [
    "NUM_DADOS_DE_ENTRADA = 3  \n",
    "NUM_DADOS_DE_SAIDA = 1  \n",
    "NEURONIOS_C1 = 3\n",
    "NEURONIOS_C2 = 2\n",
    "\n",
    "minha_mlp = MLP(\n",
    "    NUM_DADOS_DE_ENTRADA, NEURONIOS_C1, NEURONIOS_C2, NUM_DADOS_DE_SAIDA\n",
    ")"
   ]
  },
  {
   "cell_type": "code",
   "execution_count": 11,
   "id": "f6ef0e5a-6a3c-401f-9022-8b962a74451a",
   "metadata": {},
   "outputs": [
    {
     "name": "stdout",
     "output_type": "stream",
     "text": [
      "Parameter containing:\n",
      "tensor([[-0.3226, -0.2712, -0.5433],\n",
      "        [-0.5189, -0.2707,  0.2483],\n",
      "        [-0.4040,  0.5463, -0.1080]], requires_grad=True)\n",
      "Parameter containing:\n",
      "tensor([-0.3580,  0.1269,  0.0575], requires_grad=True)\n",
      "Parameter containing:\n",
      "tensor([[-0.3771, -0.2682,  0.4061],\n",
      "        [-0.5264,  0.1532, -0.0636]], requires_grad=True)\n",
      "Parameter containing:\n",
      "tensor([-0.5007,  0.4522], requires_grad=True)\n",
      "Parameter containing:\n",
      "tensor([[-0.5479,  0.0019]], requires_grad=True)\n",
      "Parameter containing:\n",
      "tensor([-0.2973], requires_grad=True)\n"
     ]
    }
   ],
   "source": [
    "for p in minha_mlp.parameters():\n",
    "    print(p)"
   ]
  },
  {
   "cell_type": "code",
   "execution_count": 12,
   "id": "0b10ddda-8035-469e-a3b3-f97aef6f1200",
   "metadata": {},
   "outputs": [
    {
     "data": {
      "text/plain": [
       "tensor([[-0.5267],\n",
       "        [-0.4915],\n",
       "        [-0.5068],\n",
       "        [-0.5038]], grad_fn=<AddmmBackward0>)"
      ]
     },
     "execution_count": 12,
     "metadata": {},
     "output_type": "execute_result"
    }
   ],
   "source": [
    "y_prev = minha_mlp(x)\n",
    "y_prev"
   ]
  },
  {
   "cell_type": "code",
   "execution_count": 14,
   "id": "6ccc6327-ff79-4713-9605-2df84ca820dd",
   "metadata": {},
   "outputs": [],
   "source": [
    "TAXA_DE_APRENDIZADO = 0.001\n",
    "\n",
    "otimizador = optim.SGD(minha_mlp.parameters(), lr=TAXA_DE_APRENDIZADO)"
   ]
  },
  {
   "cell_type": "code",
   "execution_count": 15,
   "id": "c077deb9-f488-4271-8099-feb973921401",
   "metadata": {},
   "outputs": [],
   "source": [
    "fn_perda = nn.MSELoss()"
   ]
  },
  {
   "cell_type": "code",
   "execution_count": 16,
   "id": "09fb847c-c737-45be-abcf-68f74ec2128f",
   "metadata": {},
   "outputs": [
    {
     "name": "stdout",
     "output_type": "stream",
     "text": [
      "0 tensor(1.0199)\n",
      "1 tensor(1.0147)\n",
      "2 tensor(1.0094)\n",
      "3 tensor(1.0043)\n",
      "4 tensor(0.9991)\n",
      "5 tensor(0.9940)\n",
      "6 tensor(0.9889)\n",
      "7 tensor(0.9838)\n",
      "8 tensor(0.9787)\n",
      "9 tensor(0.9737)\n",
      "10 tensor(0.9688)\n",
      "11 tensor(0.9638)\n",
      "12 tensor(0.9589)\n",
      "13 tensor(0.9540)\n",
      "14 tensor(0.9491)\n",
      "15 tensor(0.9443)\n",
      "16 tensor(0.9395)\n",
      "17 tensor(0.9347)\n",
      "18 tensor(0.9300)\n",
      "19 tensor(0.9253)\n",
      "20 tensor(0.9206)\n",
      "21 tensor(0.9160)\n",
      "22 tensor(0.9113)\n",
      "23 tensor(0.9067)\n",
      "24 tensor(0.9022)\n",
      "25 tensor(0.8976)\n",
      "26 tensor(0.8931)\n",
      "27 tensor(0.8886)\n",
      "28 tensor(0.8842)\n",
      "29 tensor(0.8797)\n",
      "30 tensor(0.8753)\n",
      "31 tensor(0.8710)\n",
      "32 tensor(0.8666)\n",
      "33 tensor(0.8623)\n",
      "34 tensor(0.8580)\n",
      "35 tensor(0.8537)\n",
      "36 tensor(0.8495)\n",
      "37 tensor(0.8453)\n",
      "38 tensor(0.8411)\n",
      "39 tensor(0.8369)\n",
      "40 tensor(0.8327)\n",
      "41 tensor(0.8286)\n",
      "42 tensor(0.8245)\n",
      "43 tensor(0.8205)\n",
      "44 tensor(0.8164)\n",
      "45 tensor(0.8124)\n",
      "46 tensor(0.8084)\n",
      "47 tensor(0.8044)\n",
      "48 tensor(0.8005)\n",
      "49 tensor(0.7966)\n",
      "50 tensor(0.7927)\n",
      "51 tensor(0.7888)\n",
      "52 tensor(0.7850)\n",
      "53 tensor(0.7811)\n",
      "54 tensor(0.7773)\n",
      "55 tensor(0.7735)\n",
      "56 tensor(0.7698)\n",
      "57 tensor(0.7660)\n",
      "58 tensor(0.7623)\n",
      "59 tensor(0.7586)\n",
      "60 tensor(0.7550)\n",
      "61 tensor(0.7513)\n",
      "62 tensor(0.7477)\n",
      "63 tensor(0.7441)\n",
      "64 tensor(0.7405)\n",
      "65 tensor(0.7370)\n",
      "66 tensor(0.7334)\n",
      "67 tensor(0.7299)\n",
      "68 tensor(0.7264)\n",
      "69 tensor(0.7230)\n",
      "70 tensor(0.7195)\n",
      "71 tensor(0.7161)\n",
      "72 tensor(0.7127)\n",
      "73 tensor(0.7093)\n",
      "74 tensor(0.7059)\n",
      "75 tensor(0.7026)\n",
      "76 tensor(0.6992)\n",
      "77 tensor(0.6959)\n",
      "78 tensor(0.6926)\n",
      "79 tensor(0.6894)\n",
      "80 tensor(0.6861)\n",
      "81 tensor(0.6829)\n",
      "82 tensor(0.6797)\n",
      "83 tensor(0.6765)\n",
      "84 tensor(0.6733)\n",
      "85 tensor(0.6702)\n",
      "86 tensor(0.6670)\n",
      "87 tensor(0.6639)\n",
      "88 tensor(0.6608)\n",
      "89 tensor(0.6578)\n",
      "90 tensor(0.6547)\n",
      "91 tensor(0.6517)\n",
      "92 tensor(0.6487)\n",
      "93 tensor(0.6457)\n",
      "94 tensor(0.6427)\n",
      "95 tensor(0.6397)\n",
      "96 tensor(0.6368)\n",
      "97 tensor(0.6338)\n",
      "98 tensor(0.6309)\n",
      "99 tensor(0.6280)\n"
     ]
    }
   ],
   "source": [
    "NUM_EPOCAS = 100\n",
    "\n",
    "minha_mlp.train()\n",
    "\n",
    "for epoca in range(NUM_EPOCAS):\n",
    "    # forward pass\n",
    "    y_pred = minha_mlp(x)\n",
    "\n",
    "    # zero grad\n",
    "    otimizador.zero_grad()\n",
    "\n",
    "    # loss\n",
    "    loss = fn_perda(y_true, y_pred)\n",
    "\n",
    "    # backpropagation\n",
    "    loss.backward()\n",
    "\n",
    "    # atualiza parâmetros\n",
    "    otimizador.step()\n",
    "\n",
    "    # mostra resultado (opcional)\n",
    "    print(epoca, loss.data)"
   ]
  },
  {
   "cell_type": "code",
   "execution_count": 17,
   "id": "6ef3d936-cdec-4eef-b446-f0b8a2a833ad",
   "metadata": {},
   "outputs": [],
   "source": [
    "x_teste = [\n",
    "  [2.5, 3.1, -0.4],\n",
    "  [2.0, -1.5, 1.0],\n",
    "]\n",
    "\n",
    "y_teste = [0.8, 0.2]\n",
    "\n",
    "x_teste = torch.tensor(x_teste)\n",
    "y_teste = torch.tensor(y_teste)\n",
    "y_teste = y_teste.view(-1,1)"
   ]
  },
  {
   "cell_type": "code",
   "execution_count": 18,
   "id": "bcd19979-b174-4b77-9e47-c55888335602",
   "metadata": {},
   "outputs": [
    {
     "data": {
      "text/plain": [
       "MLP(\n",
       "  (camadas): Sequential(\n",
       "    (0): Linear(in_features=3, out_features=3, bias=True)\n",
       "    (1): Sigmoid()\n",
       "    (2): Linear(in_features=3, out_features=2, bias=True)\n",
       "    (3): Sigmoid()\n",
       "    (4): Linear(in_features=2, out_features=1, bias=True)\n",
       "  )\n",
       ")"
      ]
     },
     "execution_count": 18,
     "metadata": {},
     "output_type": "execute_result"
    }
   ],
   "source": [
    "minha_mlp.eval()"
   ]
  },
  {
   "cell_type": "code",
   "execution_count": 19,
   "id": "0da26e10-4cde-43a1-a303-4c1430650be3",
   "metadata": {},
   "outputs": [],
   "source": [
    "with torch.no_grad():\n",
    "    y_pred = minha_mlp(x_teste)"
   ]
  },
  {
   "cell_type": "code",
   "execution_count": 20,
   "id": "667c3bcb-eb4f-4cf4-ad8b-42c19f54f1a9",
   "metadata": {},
   "outputs": [
    {
     "data": {
      "text/plain": [
       "tensor([[-0.2824],\n",
       "        [-0.2437]])"
      ]
     },
     "execution_count": 20,
     "metadata": {},
     "output_type": "execute_result"
    }
   ],
   "source": [
    "y_pred"
   ]
  },
  {
   "cell_type": "code",
   "execution_count": 22,
   "id": "1df31c92-c794-4040-824d-4dc9aa908010",
   "metadata": {},
   "outputs": [
    {
     "name": "stdout",
     "output_type": "stream",
     "text": [
      "0.8271519\n"
     ]
    }
   ],
   "source": [
    "from sklearn.metrics import mean_squared_error\n",
    "\n",
    "RMSE = mean_squared_error(y_teste, y_pred, squared=False)\n",
    "print(RMSE)"
   ]
  },
  {
   "cell_type": "code",
   "execution_count": null,
   "id": "a65f71fe-ec17-4203-b899-13ef84544f2b",
   "metadata": {},
   "outputs": [],
   "source": []
  }
 ],
 "metadata": {
  "kernelspec": {
   "display_name": "Python 3.10.8 64-bit",
   "language": "python",
   "name": "python3"
  },
  "language_info": {
   "codemirror_mode": {
    "name": "ipython",
    "version": 3
   },
   "file_extension": ".py",
   "mimetype": "text/x-python",
   "name": "python",
   "nbconvert_exporter": "python",
   "pygments_lexer": "ipython3",
   "version": "3.10.8"
  },
  "vscode": {
   "interpreter": {
    "hash": "26de051ba29f2982a8de78e945f0abaf191376122a1563185a90213a26c5da77"
   }
  }
 },
 "nbformat": 4,
 "nbformat_minor": 5
}
