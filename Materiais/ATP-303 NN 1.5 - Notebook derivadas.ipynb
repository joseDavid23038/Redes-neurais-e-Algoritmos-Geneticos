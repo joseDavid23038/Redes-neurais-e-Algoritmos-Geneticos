{
 "cells": [
  {
   "cell_type": "markdown",
   "metadata": {},
   "source": [
    "Recordando derivadas\n",
    "====================\n",
    "\n"
   ]
  },
  {
   "cell_type": "markdown",
   "metadata": {},
   "source": [
    "## Introdução\n",
    "\n"
   ]
  },
  {
   "cell_type": "markdown",
   "metadata": {},
   "source": [
    "Vamos recordar a definição da derivada:\n",
    "\n",
    "$$\n",
    "\\frac{\\mathrm{d}f(x)}{\\mathrm{d}x} = \\lim_{h \\rightarrow 0} \\frac{f(x+h) - f(x)}{h}\n",
    "$$\n",
    "\n"
   ]
  },
  {
   "cell_type": "markdown",
   "metadata": {},
   "source": [
    "## Objetivo\n",
    "\n"
   ]
  },
  {
   "cell_type": "markdown",
   "metadata": {},
   "source": [
    "Calcular a derivada de uma função qualquer de forma numérica usando a definição.\n",
    "\n"
   ]
  },
  {
   "cell_type": "markdown",
   "metadata": {},
   "source": [
    "## Importações\n",
    "\n"
   ]
  },
  {
   "cell_type": "code",
   "execution_count": 1,
   "metadata": {},
   "outputs": [],
   "source": [
    "import numpy as np\n",
    "from matplotlib import pyplot as plt"
   ]
  },
  {
   "cell_type": "markdown",
   "metadata": {},
   "source": [
    "## Funções de apoio\n",
    "\n"
   ]
  },
  {
   "cell_type": "markdown",
   "metadata": {},
   "source": [
    "Pela definição da derivada nós temos que:\n",
    "\n"
   ]
  },
  {
   "cell_type": "code",
   "execution_count": 2,
   "metadata": {},
   "outputs": [],
   "source": [
    "def derivada(funcao, x):\n",
    "    '''Calcula a derivada de uma função em um ponto x de forma numérica\n",
    "\n",
    "    Args:\n",
    "      funcao: função de Python\n",
    "      x: ponto onde a derivada será calculada\n",
    "\n",
    "    Returns:\n",
    "      Derivada da função calculada no ponto x.\n",
    "\n",
    "    '''\n",
    "    deltinha = 1e-10  # tem que ser um número pequeno, tendendo a zero!\n",
    "    delta_y = funcao(x + deltinha) - funcao(x)\n",
    "    dy_dx = delta_y / deltinha\n",
    "    return dy_dx"
   ]
  },
  {
   "cell_type": "markdown",
   "metadata": {},
   "source": [
    "Vamos fazer uma função para plotar a derivada.\n",
    "\n"
   ]
  },
  {
   "cell_type": "code",
   "execution_count": 3,
   "metadata": {},
   "outputs": [],
   "source": [
    "def plota_derivada(funcao, x):\n",
    "    '''Plota a reta tangente da função no ponto x\n",
    "\n",
    "    Args:\n",
    "      funcao: função de Python\n",
    "      x: ponto onde a derivada será calculada\n",
    "\n",
    "    Returns:\n",
    "      Derivada da função calculada no ponto x.\n",
    "\n",
    "    '''\n",
    "    derivada_em_x = derivada(funcao, x)\n",
    "\n",
    "    intercepto = funcao(x) - (derivada_em_x * x)\n",
    "\n",
    "    def reta_da_derivada(x):\n",
    "        return derivada_em_x * x + intercepto\n",
    "\n",
    "    x_plot = np.arange(x - 5, x + 5, 0.25)\n",
    "    y_plot = funcao(x_plot)\n",
    "    y_reta = reta_da_derivada(x_plot)\n",
    "\n",
    "    fig, axe = plt.subplots()\n",
    "\n",
    "    ylim = [min(y_plot) - 5, max(y_plot) + 5]\n",
    "    ymax = (funcao(x) - ylim[0]) / (ylim[1] - ylim[0])\n",
    "\n",
    "    axe.plot(x_plot, y_plot, label=\"Função\")\n",
    "    axe.plot(x_plot, y_reta, label=\"Reta tangente no ponto $x$\")\n",
    "    axe.axvline(x, c=\"red\", ls=\":\", ymax=ymax, label=\"Valor de $x$ escolhido\")\n",
    "\n",
    "    axe.set(\n",
    "        xlim=[min(x_plot), max(x_plot)],\n",
    "        ylim=ylim,\n",
    "        xlabel=\"x\",\n",
    "        ylabel=\"f(x)\",\n",
    "    )\n",
    "\n",
    "    axe.legend()\n",
    "\n",
    "    plt.show()"
   ]
  },
  {
   "cell_type": "markdown",
   "metadata": {},
   "source": [
    "## Código e discussão\n",
    "\n"
   ]
  },
  {
   "cell_type": "markdown",
   "metadata": {},
   "source": [
    "Vamos definir uma função de interesse. Fique a vontade para alterar o retorno desta função.\n",
    "\n"
   ]
  },
  {
   "cell_type": "code",
   "execution_count": 4,
   "metadata": {},
   "outputs": [],
   "source": [
    "def funcao(x):\n",
    "    return 3 * x**2 - 4 * x + 5"
   ]
  },
  {
   "cell_type": "markdown",
   "metadata": {},
   "source": [
    "Podemos checar como ela se comporta localmente.\n",
    "\n"
   ]
  },
  {
   "cell_type": "code",
   "execution_count": 5,
   "metadata": {},
   "outputs": [
    {
     "name": "stdout",
     "output_type": "stream",
     "text": [
      "Quando X_ESCOLHIDO=3 obtemos funcao(X_ESCOLHIDO)=20.\n"
     ]
    }
   ],
   "source": [
    "X_ESCOLHIDO = 3  # altere esse valor para testar\n",
    "print(f\"Quando {X_ESCOLHIDO=} obtemos {funcao(X_ESCOLHIDO)=}.\")"
   ]
  },
  {
   "cell_type": "markdown",
   "metadata": {},
   "source": [
    "Agora, queremos calcular a derivada da função no ponto `X_ESCOLHIDO` de forma numérica. A derivada é o coeficiente angular da reta tangente ao gráfico no ponto `X_ESCOLHIDO`.\n",
    "\n"
   ]
  },
  {
   "cell_type": "code",
   "execution_count": 6,
   "metadata": {},
   "outputs": [],
   "source": [
    "derivada_em_x = derivada(funcao, X_ESCOLHIDO)"
   ]
  },
  {
   "cell_type": "markdown",
   "metadata": {},
   "source": [
    "Finalmente, podemos observar a derivada no gráfico da função. Altere o valor de `X_ESCOLHIDO` para ver o que acontece com este gráfico.\n",
    "\n"
   ]
  },
  {
   "cell_type": "code",
   "execution_count": 7,
   "metadata": {},
   "outputs": [
    {
     "data": {
      "image/png": "[encoded data removed]",
      "text/plain": [
       "<Figure size 640x480 with 1 Axes>"
      ]
     },
     "metadata": {},
     "output_type": "display_data"
    }
   ],
   "source": [
    "plota_derivada(funcao, X_ESCOLHIDO)"
   ]
  },
  {
   "cell_type": "markdown",
   "metadata": {},
   "source": [
    "## XKCD relevante\n",
    "\n"
   ]
  },
  {
   "cell_type": "markdown",
   "metadata": {},
   "source": [
    "![img](https://imgs.xkcd.com/comics/differentiation_and_integration.png)\n",
    "\n",
    "`Imagem: Differentiation and Integration (XKCD) disponível em https://xkcd.com/2117`\n",
    "\n"
   ]
  }
 ],
 "metadata": {
  "kernelspec": {
   "display_name": "ilumpy",
   "language": "python",
   "name": "ilumpy"
  },
  "language_info": {
   "codemirror_mode": {
    "name": "ipython",
    "version": 3
   },
   "file_extension": ".py",
   "mimetype": "text/x-python",
   "name": "python",
   "nbconvert_exporter": "python",
   "pygments_lexer": "ipython3",
   "version": "3.10.12"
  },
  "org": null
 },
 "nbformat": 4,
 "nbformat_minor": 4
}
