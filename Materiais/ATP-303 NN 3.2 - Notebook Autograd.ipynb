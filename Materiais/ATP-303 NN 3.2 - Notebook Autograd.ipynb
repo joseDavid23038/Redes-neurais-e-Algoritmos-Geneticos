{
 "cells": [
  {
   "cell_type": "markdown",
   "id": "ae495dd1-ddfe-4df2-8cc6-0332c4226c9e",
   "metadata": {},
   "source": [
    "# Redes neurais artificiais do zero em Python"
   ]
  },
  {
   "cell_type": "markdown",
   "id": "f22146a7-7fa3-47db-9549-bf9ebb79986f",
   "metadata": {},
   "source": [
    "Referência: Andrej Karpathy. The spelled-out intro to neural networks and backpropagation: building micrograd (2022). https://www.youtube.com/watch?v=VMj-3S1tku0"
   ]
  },
  {
   "cell_type": "markdown",
   "id": "afb07870-b07e-481b-b351-7a2f1ef77551",
   "metadata": {
    "tags": []
   },
   "source": [
    "## Construindo um grafo computacional automaticamente"
   ]
  },
  {
   "cell_type": "code",
   "execution_count": 1,
   "id": "20ab4c0d-c9ea-4c91-ba0b-87d0eee0c0ba",
   "metadata": {},
   "outputs": [],
   "source": [
    "from graphviz import Digraph\n",
    "\n",
    "\n",
    "def _tracar(folha):\n",
    "    \"\"\"Função modificada da criada por Andrej Karpathy para construção de grafo.\n",
    "\n",
    "    Referência: https://github.com/karpathy/micrograd\n",
    "\n",
    "    \"\"\"\n",
    "    vertices = set()\n",
    "    arestas = set()\n",
    "\n",
    "    def construir(v):\n",
    "        \"\"\"Função recursiva para traçar o grafo.\"\"\"\n",
    "        if v not in vertices:\n",
    "            vertices.add(v)\n",
    "            for progenitor in v.progenitor:\n",
    "                arestas.add((progenitor, v))\n",
    "                construir(progenitor)\n",
    "\n",
    "    construir(folha)\n",
    "\n",
    "    return vertices, arestas\n",
    "\n",
    "\n",
    "def plota_grafo(folha):\n",
    "    \"\"\"Função modificada da criada por Andrej Karpathy para construção de grafo.\n",
    "\n",
    "    Referência: https://github.com/karpathy/micrograd\n",
    "\n",
    "    \"\"\"\n",
    "    grafo = Digraph(format=\"svg\", graph_attr={\"rankdir\": \"LR\"})\n",
    "    vertices, arestas = _tracar(folha)\n",
    "\n",
    "    for v in vertices:\n",
    "        id_vertice = str(id(v))\n",
    "\n",
    "        if hasattr(v, \"rotulo\") and (hasattr(v, \"grad\")):\n",
    "            texto = \"{ \" + f\"{v.rotulo} | data {v.data:.3f} | grad {v.grad:.3f}\" + \" }\"\n",
    "\n",
    "        elif hasattr(v, \"rotulo\"):\n",
    "            texto = \"{ \" + f\"{v.rotulo} | data {v.data:.3f}\" + \" }\"\n",
    "\n",
    "        else:\n",
    "            texto = \"{ \" + f\"data {v.data:.3f}\" + \" }\"\n",
    "\n",
    "        grafo.node(name=id_vertice, label=texto, shape=\"record\")\n",
    "\n",
    "        if v.operador_mae:\n",
    "            grafo.node(name=id_vertice + v.operador_mae, label=v.operador_mae)\n",
    "            grafo.edge(id_vertice + v.operador_mae, id_vertice)\n",
    "\n",
    "    for vertice1, vertice2 in arestas:\n",
    "        grafo.edge(str(id(vertice1)), str(id(vertice2)) + vertice2.operador_mae)\n",
    "\n",
    "    return grafo"
   ]
  },
  {
   "cell_type": "code",
   "execution_count": 2,
   "id": "6d9729db-b25d-4e54-8f02-f8be7d7c4cec",
   "metadata": {},
   "outputs": [],
   "source": [
    "import math\n",
    "\n",
    "class Valor:\n",
    "    def __init__(self, data, progenitor=(), operador_mae=\"\", rotulo=\"\"):\n",
    "        self.data = data\n",
    "        self.progenitor = progenitor\n",
    "        self.operador_mae = operador_mae\n",
    "        self.rotulo = rotulo\n",
    "        self.grad = 0\n",
    "\n",
    "    def __repr__(self):\n",
    "        return f\"Valor(data={self.data})\"\n",
    "    \n",
    "    def __add__(self, outro_valor):\n",
    "        \"\"\"Realiza a operação: self + outro_valor.\"\"\"\n",
    "        \n",
    "        if not isinstance(outro_valor, Valor):\n",
    "            outro_valor = Valor(outro_valor)\n",
    "            \n",
    "        progenitor = (self, outro_valor)\n",
    "        data = self.data + outro_valor.data\n",
    "        operador_mae = \"+\"\n",
    "        resultado = Valor(data, progenitor, operador_mae)\n",
    "        \n",
    "        def propagar_adicao():\n",
    "            self.grad += resultado.grad\n",
    "            outro_valor.grad += resultado.grad\n",
    "            \n",
    "        resultado.propagar = propagar_adicao\n",
    "        \n",
    "        return resultado\n",
    "    \n",
    "    def __mul__(self, outro_valor):\n",
    "        \"\"\"Realiza a operação: self * outro_valor.\"\"\"\n",
    "        \n",
    "        if not isinstance(outro_valor, Valor):\n",
    "            outro_valor = Valor(outro_valor)\n",
    "            \n",
    "        progenitor = (self, outro_valor)\n",
    "        data = self.data * outro_valor.data\n",
    "        operador_mae = \"*\"\n",
    "        resultado = Valor(data, progenitor, operador_mae)\n",
    "        \n",
    "        def propagar_multiplicacao():\n",
    "            self.grad += resultado.grad * outro_valor.data # grad_filho * derivada filho em relação a mãe\n",
    "            outro_valor.grad += resultado.grad * self.data\n",
    "            \n",
    "        resultado.propagar = propagar_multiplicacao\n",
    "        \n",
    "        return resultado\n",
    "    \n",
    "    def exp(self):\n",
    "        \"\"\"Realiza a operação: exp(self)\"\"\"\n",
    "        progenitor = (self, )\n",
    "        data = math.exp(self.data)\n",
    "        operador_mae = \"exp\"\n",
    "        resultado = Valor(data, progenitor, operador_mae)\n",
    "        \n",
    "        def propagar_exp():\n",
    "            self.grad += resultado.grad * data \n",
    "        \n",
    "        resultado.propagar = propagar_exp\n",
    "        \n",
    "        return resultado\n",
    "    \n",
    "    def __pow__(self, expoente):\n",
    "        \"\"\"Realiza a operação: self ** expoente\"\"\"\n",
    "        assert isinstance(expoente, (int, float))\n",
    "        progenitor = (self, )\n",
    "        data = self.data ** expoente\n",
    "        operador_mae = f\"**{expoente}\"\n",
    "        resultado = Valor(data, progenitor, operador_mae)\n",
    "        \n",
    "        def propagar_pow():\n",
    "            self.grad += resultado.grad * (expoente * self.data ** (expoente - 1))\n",
    "        \n",
    "        resultado.propagar = propagar_pow\n",
    "        \n",
    "        return resultado\n",
    "    \n",
    "    def __truediv__(self, outro_valor):\n",
    "        \"\"\"Realiza a operação: self / outro_valor\"\"\"\n",
    "        return self * outro_valor ** (-1)\n",
    "    \n",
    "    def __neg__(self):\n",
    "        \"\"\"Realiza a operação: -self\"\"\"\n",
    "        return self * -1\n",
    "    \n",
    "    def __sub__(self, outro_valor):\n",
    "        \"\"\"Realiza a operação: self - outro_valor\"\"\"\n",
    "        return self + (-outro_valor)\n",
    "    \n",
    "    def __radd__(self, outro_valor):\n",
    "        \"\"\"Realiza a operação: outro_valor + self\"\"\"\n",
    "        return self + outro_valor\n",
    "    \n",
    "    def __rmul__(self, outro_valor):\n",
    "        \"\"\"Realiza a operação: outro_valor * self\"\"\"\n",
    "        return self * outro_valor\n",
    "    \n",
    "    def sig(self):\n",
    "        \"\"\"Realiza a operação: exp(self) / (exp(self) + 1)\"\"\"\n",
    "        return self.exp() / (self.exp() + 1)\n",
    "    \n",
    "    def propagar(self):\n",
    "        pass\n",
    "    \n",
    "    def propagar_tudo(self):\n",
    "        \n",
    "        self.grad = 1\n",
    "        \n",
    "        ordem_topologica = []\n",
    "        \n",
    "        visitados = set()\n",
    "\n",
    "        def constroi_ordem_topologica(v):\n",
    "            if v not in visitados:\n",
    "                visitados.add(v)\n",
    "                for progenitor in v.progenitor:\n",
    "                    constroi_ordem_topologica(progenitor)\n",
    "                ordem_topologica.append(v)\n",
    "\n",
    "        constroi_ordem_topologica(self)\n",
    "        \n",
    "        for vertice in reversed(ordem_topologica):\n",
    "            vertice.propagar()"
   ]
  },
  {
   "cell_type": "code",
   "execution_count": 23,
   "id": "539030d8-5a54-4871-99ff-cbe016a8fe62",
   "metadata": {},
   "outputs": [
    {
     "name": "stdout",
     "output_type": "stream",
     "text": [
      "Valor(data=10)\n"
     ]
    }
   ],
   "source": [
    "a = Valor(10)\n",
    "print(a)"
   ]
  },
  {
   "cell_type": "code",
   "execution_count": 24,
   "id": "fd18af5a-ec98-4302-9d3a-9691afa11f71",
   "metadata": {},
   "outputs": [
    {
     "name": "stdout",
     "output_type": "stream",
     "text": [
      "Valor(data=5)\n"
     ]
    }
   ],
   "source": [
    "b = Valor(5)\n",
    "print(b)"
   ]
  },
  {
   "cell_type": "code",
   "execution_count": 25,
   "id": "82841bf3-9691-4a29-9b50-3e74014605c6",
   "metadata": {},
   "outputs": [],
   "source": [
    "c = a + b"
   ]
  },
  {
   "cell_type": "code",
   "execution_count": 26,
   "id": "7304a97e-591a-47dd-9d3c-d9015cfff0fa",
   "metadata": {},
   "outputs": [
    {
     "name": "stdout",
     "output_type": "stream",
     "text": [
      "Valor(data=15)\n"
     ]
    }
   ],
   "source": [
    "print(c)"
   ]
  },
  {
   "cell_type": "code",
   "execution_count": 27,
   "id": "2890493e-68d1-4b1b-8ada-11e89f0c293a",
   "metadata": {},
   "outputs": [
    {
     "data": {
      "text/plain": [
       "(Valor(data=10), Valor(data=5))"
      ]
     },
     "execution_count": 27,
     "metadata": {},
     "output_type": "execute_result"
    }
   ],
   "source": [
    "c.progenitor"
   ]
  },
  {
   "cell_type": "code",
   "execution_count": 28,
   "id": "f97034a6-4cd9-449d-8266-3227768085c5",
   "metadata": {},
   "outputs": [
    {
     "data": {
      "text/plain": [
       "'+'"
      ]
     },
     "execution_count": 28,
     "metadata": {},
     "output_type": "execute_result"
    }
   ],
   "source": [
    "c.operador_mae"
   ]
  },
  {
   "cell_type": "code",
   "execution_count": 29,
   "id": "e2d1a895-ab6b-4a74-8726-c2da69312038",
   "metadata": {},
   "outputs": [],
   "source": [
    "d = a * b"
   ]
  },
  {
   "cell_type": "code",
   "execution_count": 30,
   "id": "0541dc35-37fd-4ab8-80c9-1e2ac8bc34f4",
   "metadata": {},
   "outputs": [
    {
     "name": "stdout",
     "output_type": "stream",
     "text": [
      "Valor(data=50)\n"
     ]
    }
   ],
   "source": [
    "print(d)"
   ]
  },
  {
   "cell_type": "code",
   "execution_count": 31,
   "id": "bcd56e6b-8e08-4d8c-8f3b-2f7d34db050c",
   "metadata": {},
   "outputs": [
    {
     "data": {
      "text/plain": [
       "(Valor(data=10), Valor(data=5))"
      ]
     },
     "execution_count": 31,
     "metadata": {},
     "output_type": "execute_result"
    }
   ],
   "source": [
    "d.progenitor"
   ]
  },
  {
   "cell_type": "code",
   "execution_count": 33,
   "id": "700ea793-4b5a-4199-b031-516d280eabd8",
   "metadata": {},
   "outputs": [
    {
     "data": {
      "text/plain": [
       "'*'"
      ]
     },
     "execution_count": 33,
     "metadata": {},
     "output_type": "execute_result"
    }
   ],
   "source": [
    "d.operador_mae"
   ]
  },
  {
   "cell_type": "code",
   "execution_count": 32,
   "id": "2a15d742-4301-4a01-915a-be297d06fbd7",
   "metadata": {},
   "outputs": [
    {
     "data": {
      "text/plain": [
       "()"
      ]
     },
     "execution_count": 32,
     "metadata": {},
     "output_type": "execute_result"
    }
   ],
   "source": [
    "b.progenitor"
   ]
  },
  {
   "cell_type": "code",
   "execution_count": 42,
   "id": "5941dde9-8658-4a46-8224-a2d1ad1bfd57",
   "metadata": {},
   "outputs": [
    {
     "data": {
      "image/svg+xml": [
       "<?xml version=\"1.0\" encoding=\"UTF-8\" standalone=\"no\"?>\n",
       "<!DOCTYPE svg PUBLIC \"-//W3C//DTD SVG 1.1//EN\"\n",
       " \"http://www.w3.org/Graphics/SVG/1.1/DTD/svg11.dtd\">\n",
       "<!-- Generated by graphviz version 2.43.0 (0)\n",
       " -->\n",
       "<!-- Title: %3 Pages: 1 -->\n",
       "<svg width=\"913pt\" height=\"128pt\"\n",
       " viewBox=\"0.00 0.00 913.00 128.00\" xmlns=\"http://www.w3.org/2000/svg\" xmlns:xlink=\"http://www.w3.org/1999/xlink\">\n",
       "<g id=\"graph0\" class=\"graph\" transform=\"scale(1 1) rotate(0) translate(4 124)\">\n",
       "<title>%3</title>\n",
       "<polygon fill=\"white\" stroke=\"transparent\" points=\"-4,4 -4,-124 909,-124 909,4 -4,4\"/>\n",
       "<!-- 139950104455168 -->\n",
       "<g id=\"node1\" class=\"node\">\n",
       "<title>139950104455168</title>\n",
       "<polygon fill=\"none\" stroke=\"black\" points=\"1,-83.5 1,-119.5 218,-119.5 218,-83.5 1,-83.5\"/>\n",
       "<text text-anchor=\"middle\" x=\"13.5\" y=\"-97.8\" font-family=\"Times,serif\" font-size=\"14.00\">a</text>\n",
       "<polyline fill=\"none\" stroke=\"black\" points=\"26,-83.5 26,-119.5 \"/>\n",
       "<text text-anchor=\"middle\" x=\"72.5\" y=\"-97.8\" font-family=\"Times,serif\" font-size=\"14.00\">data 2.000</text>\n",
       "<polyline fill=\"none\" stroke=\"black\" points=\"119,-83.5 119,-119.5 \"/>\n",
       "<text text-anchor=\"middle\" x=\"168.5\" y=\"-97.8\" font-family=\"Times,serif\" font-size=\"14.00\">grad &#45;3.000</text>\n",
       "</g>\n",
       "<!-- 139950104452768* -->\n",
       "<g id=\"node5\" class=\"node\">\n",
       "<title>139950104452768*</title>\n",
       "<ellipse fill=\"none\" stroke=\"black\" cx=\"282\" cy=\"-73.5\" rx=\"27\" ry=\"18\"/>\n",
       "<text text-anchor=\"middle\" x=\"282\" y=\"-69.8\" font-family=\"Times,serif\" font-size=\"14.00\">*</text>\n",
       "</g>\n",
       "<!-- 139950104455168&#45;&gt;139950104452768* -->\n",
       "<g id=\"edge6\" class=\"edge\">\n",
       "<title>139950104455168&#45;&gt;139950104452768*</title>\n",
       "<path fill=\"none\" stroke=\"black\" d=\"M218.48,-83.77C228.15,-82.18 237.39,-80.66 245.67,-79.3\"/>\n",
       "<polygon fill=\"black\" stroke=\"black\" points=\"246.29,-82.75 255.59,-77.67 245.15,-75.84 246.29,-82.75\"/>\n",
       "</g>\n",
       "<!-- 139950104454160 -->\n",
       "<g id=\"node2\" class=\"node\">\n",
       "<title>139950104454160</title>\n",
       "<polygon fill=\"none\" stroke=\"black\" points=\"345,-0.5 345,-36.5 566,-36.5 566,-0.5 345,-0.5\"/>\n",
       "<text text-anchor=\"middle\" x=\"357\" y=\"-14.8\" font-family=\"Times,serif\" font-size=\"14.00\">c</text>\n",
       "<polyline fill=\"none\" stroke=\"black\" points=\"369,-0.5 369,-36.5 \"/>\n",
       "<text text-anchor=\"middle\" x=\"420\" y=\"-14.8\" font-family=\"Times,serif\" font-size=\"14.00\">data 10.000</text>\n",
       "<polyline fill=\"none\" stroke=\"black\" points=\"471,-0.5 471,-36.5 \"/>\n",
       "<text text-anchor=\"middle\" x=\"518.5\" y=\"-14.8\" font-family=\"Times,serif\" font-size=\"14.00\">grad 1.000</text>\n",
       "</g>\n",
       "<!-- 139950104446912+ -->\n",
       "<g id=\"node7\" class=\"node\">\n",
       "<title>139950104446912+</title>\n",
       "<ellipse fill=\"none\" stroke=\"black\" cx=\"629\" cy=\"-45.5\" rx=\"27\" ry=\"18\"/>\n",
       "<text text-anchor=\"middle\" x=\"629\" y=\"-41.8\" font-family=\"Times,serif\" font-size=\"14.00\">+</text>\n",
       "</g>\n",
       "<!-- 139950104454160&#45;&gt;139950104446912+ -->\n",
       "<g id=\"edge3\" class=\"edge\">\n",
       "<title>139950104454160&#45;&gt;139950104446912+</title>\n",
       "<path fill=\"none\" stroke=\"black\" d=\"M566.08,-35.75C575.49,-37.23 584.48,-38.65 592.54,-39.92\"/>\n",
       "<polygon fill=\"black\" stroke=\"black\" points=\"592.16,-43.4 602.58,-41.5 593.25,-36.49 592.16,-43.4\"/>\n",
       "</g>\n",
       "<!-- 139950104447632 -->\n",
       "<g id=\"node3\" class=\"node\">\n",
       "<title>139950104447632</title>\n",
       "<polygon fill=\"none\" stroke=\"black\" points=\"0,-28.5 0,-64.5 219,-64.5 219,-28.5 0,-28.5\"/>\n",
       "<text text-anchor=\"middle\" x=\"13\" y=\"-42.8\" font-family=\"Times,serif\" font-size=\"14.00\">b</text>\n",
       "<polyline fill=\"none\" stroke=\"black\" points=\"26,-28.5 26,-64.5 \"/>\n",
       "<text text-anchor=\"middle\" x=\"75\" y=\"-42.8\" font-family=\"Times,serif\" font-size=\"14.00\">data &#45;3.000</text>\n",
       "<polyline fill=\"none\" stroke=\"black\" points=\"124,-28.5 124,-64.5 \"/>\n",
       "<text text-anchor=\"middle\" x=\"171.5\" y=\"-42.8\" font-family=\"Times,serif\" font-size=\"14.00\">grad 2.000</text>\n",
       "</g>\n",
       "<!-- 139950104447632&#45;&gt;139950104452768* -->\n",
       "<g id=\"edge4\" class=\"edge\">\n",
       "<title>139950104447632&#45;&gt;139950104452768*</title>\n",
       "<path fill=\"none\" stroke=\"black\" d=\"M219.45,-63.75C228.7,-65.22 237.56,-66.62 245.52,-67.88\"/>\n",
       "<polygon fill=\"black\" stroke=\"black\" points=\"245,-71.34 255.43,-69.45 246.1,-64.43 245,-71.34\"/>\n",
       "</g>\n",
       "<!-- 139950104452768 -->\n",
       "<g id=\"node4\" class=\"node\">\n",
       "<title>139950104452768</title>\n",
       "<polygon fill=\"none\" stroke=\"black\" points=\"346,-55.5 346,-91.5 565,-91.5 565,-55.5 346,-55.5\"/>\n",
       "<text text-anchor=\"middle\" x=\"359\" y=\"-69.8\" font-family=\"Times,serif\" font-size=\"14.00\">d</text>\n",
       "<polyline fill=\"none\" stroke=\"black\" points=\"372,-55.5 372,-91.5 \"/>\n",
       "<text text-anchor=\"middle\" x=\"421\" y=\"-69.8\" font-family=\"Times,serif\" font-size=\"14.00\">data &#45;6.000</text>\n",
       "<polyline fill=\"none\" stroke=\"black\" points=\"470,-55.5 470,-91.5 \"/>\n",
       "<text text-anchor=\"middle\" x=\"517.5\" y=\"-69.8\" font-family=\"Times,serif\" font-size=\"14.00\">grad 1.000</text>\n",
       "</g>\n",
       "<!-- 139950104452768&#45;&gt;139950104446912+ -->\n",
       "<g id=\"edge5\" class=\"edge\">\n",
       "<title>139950104452768&#45;&gt;139950104446912+</title>\n",
       "<path fill=\"none\" stroke=\"black\" d=\"M565.11,-55.77C574.84,-54.18 584.13,-52.66 592.46,-51.3\"/>\n",
       "<polygon fill=\"black\" stroke=\"black\" points=\"593.14,-54.74 602.44,-49.67 592.01,-47.83 593.14,-54.74\"/>\n",
       "</g>\n",
       "<!-- 139950104452768*&#45;&gt;139950104452768 -->\n",
       "<g id=\"edge1\" class=\"edge\">\n",
       "<title>139950104452768*&#45;&gt;139950104452768</title>\n",
       "<path fill=\"none\" stroke=\"black\" d=\"M309.05,-73.5C316.77,-73.5 325.77,-73.5 335.44,-73.5\"/>\n",
       "<polygon fill=\"black\" stroke=\"black\" points=\"335.73,-77 345.73,-73.5 335.73,-70 335.73,-77\"/>\n",
       "</g>\n",
       "<!-- 139950104446912 -->\n",
       "<g id=\"node6\" class=\"node\">\n",
       "<title>139950104446912</title>\n",
       "<polygon fill=\"none\" stroke=\"black\" points=\"692,-27.5 692,-63.5 905,-63.5 905,-27.5 692,-27.5\"/>\n",
       "<text text-anchor=\"middle\" x=\"704.5\" y=\"-41.8\" font-family=\"Times,serif\" font-size=\"14.00\">e</text>\n",
       "<polyline fill=\"none\" stroke=\"black\" points=\"717,-27.5 717,-63.5 \"/>\n",
       "<text text-anchor=\"middle\" x=\"763.5\" y=\"-41.8\" font-family=\"Times,serif\" font-size=\"14.00\">data 4.000</text>\n",
       "<polyline fill=\"none\" stroke=\"black\" points=\"810,-27.5 810,-63.5 \"/>\n",
       "<text text-anchor=\"middle\" x=\"857.5\" y=\"-41.8\" font-family=\"Times,serif\" font-size=\"14.00\">grad 1.000</text>\n",
       "</g>\n",
       "<!-- 139950104446912+&#45;&gt;139950104446912 -->\n",
       "<g id=\"edge2\" class=\"edge\">\n",
       "<title>139950104446912+&#45;&gt;139950104446912</title>\n",
       "<path fill=\"none\" stroke=\"black\" d=\"M656.17,-45.5C663.6,-45.5 672.21,-45.5 681.43,-45.5\"/>\n",
       "<polygon fill=\"black\" stroke=\"black\" points=\"681.66,-49 691.66,-45.5 681.66,-42 681.66,-49\"/>\n",
       "</g>\n",
       "</g>\n",
       "</svg>\n"
      ],
      "text/plain": [
       "<graphviz.graphs.Digraph at 0x7f48ac4322c0>"
      ]
     },
     "execution_count": 42,
     "metadata": {},
     "output_type": "execute_result"
    }
   ],
   "source": [
    "a = Valor(2, rotulo=\"a\")\n",
    "b = Valor(-3, rotulo=\"b\")\n",
    "c = Valor(10, rotulo=\"c\")\n",
    "\n",
    "d = a * b\n",
    "d.rotulo = \"d\"\n",
    "e = d + c\n",
    "e.rotulo = \"e\"\n",
    "\n",
    "e.grad = 1  # de/de\n",
    "c.grad = 1  # de/dc   e = d + c\n",
    "d.grad = 1  # de/dd\n",
    "\n",
    "a.grad = -3  # de/da = 1 * -3   d = a * b\n",
    "b.grad = 2  # de/db = 1 * 2\n",
    "\n",
    "plota_grafo(e)"
   ]
  },
  {
   "cell_type": "code",
   "execution_count": 56,
   "id": "af133157-a03c-4efd-96e9-b419d8f1ed57",
   "metadata": {},
   "outputs": [
    {
     "data": {
      "image/svg+xml": [
       "<?xml version=\"1.0\" encoding=\"UTF-8\" standalone=\"no\"?>\n",
       "<!DOCTYPE svg PUBLIC \"-//W3C//DTD SVG 1.1//EN\"\n",
       " \"http://www.w3.org/Graphics/SVG/1.1/DTD/svg11.dtd\">\n",
       "<!-- Generated by graphviz version 2.43.0 (0)\n",
       " -->\n",
       "<!-- Title: %3 Pages: 1 -->\n",
       "<svg width=\"913pt\" height=\"128pt\"\n",
       " viewBox=\"0.00 0.00 913.00 128.00\" xmlns=\"http://www.w3.org/2000/svg\" xmlns:xlink=\"http://www.w3.org/1999/xlink\">\n",
       "<g id=\"graph0\" class=\"graph\" transform=\"scale(1 1) rotate(0) translate(4 124)\">\n",
       "<title>%3</title>\n",
       "<polygon fill=\"white\" stroke=\"transparent\" points=\"-4,4 -4,-124 909,-124 909,4 -4,4\"/>\n",
       "<!-- 139950102944288 -->\n",
       "<g id=\"node1\" class=\"node\">\n",
       "<title>139950102944288</title>\n",
       "<polygon fill=\"none\" stroke=\"black\" points=\"0,-83.5 0,-119.5 219,-119.5 219,-83.5 0,-83.5\"/>\n",
       "<text text-anchor=\"middle\" x=\"13\" y=\"-97.8\" font-family=\"Times,serif\" font-size=\"14.00\">b</text>\n",
       "<polyline fill=\"none\" stroke=\"black\" points=\"26,-83.5 26,-119.5 \"/>\n",
       "<text text-anchor=\"middle\" x=\"75\" y=\"-97.8\" font-family=\"Times,serif\" font-size=\"14.00\">data &#45;3.000</text>\n",
       "<polyline fill=\"none\" stroke=\"black\" points=\"124,-83.5 124,-119.5 \"/>\n",
       "<text text-anchor=\"middle\" x=\"171.5\" y=\"-97.8\" font-family=\"Times,serif\" font-size=\"14.00\">grad 2.000</text>\n",
       "</g>\n",
       "<!-- 139950104398624* -->\n",
       "<g id=\"node5\" class=\"node\">\n",
       "<title>139950104398624*</title>\n",
       "<ellipse fill=\"none\" stroke=\"black\" cx=\"282\" cy=\"-73.5\" rx=\"27\" ry=\"18\"/>\n",
       "<text text-anchor=\"middle\" x=\"282\" y=\"-69.8\" font-family=\"Times,serif\" font-size=\"14.00\">*</text>\n",
       "</g>\n",
       "<!-- 139950102944288&#45;&gt;139950104398624* -->\n",
       "<g id=\"edge3\" class=\"edge\">\n",
       "<title>139950102944288&#45;&gt;139950104398624*</title>\n",
       "<path fill=\"none\" stroke=\"black\" d=\"M219.45,-83.61C228.79,-82.07 237.73,-80.61 245.75,-79.29\"/>\n",
       "<polygon fill=\"black\" stroke=\"black\" points=\"246.43,-82.72 255.73,-77.65 245.29,-75.82 246.43,-82.72\"/>\n",
       "</g>\n",
       "<!-- 139950102947408 -->\n",
       "<g id=\"node2\" class=\"node\">\n",
       "<title>139950102947408</title>\n",
       "<polygon fill=\"none\" stroke=\"black\" points=\"1,-28.5 1,-64.5 218,-64.5 218,-28.5 1,-28.5\"/>\n",
       "<text text-anchor=\"middle\" x=\"13.5\" y=\"-42.8\" font-family=\"Times,serif\" font-size=\"14.00\">a</text>\n",
       "<polyline fill=\"none\" stroke=\"black\" points=\"26,-28.5 26,-64.5 \"/>\n",
       "<text text-anchor=\"middle\" x=\"72.5\" y=\"-42.8\" font-family=\"Times,serif\" font-size=\"14.00\">data 2.000</text>\n",
       "<polyline fill=\"none\" stroke=\"black\" points=\"119,-28.5 119,-64.5 \"/>\n",
       "<text text-anchor=\"middle\" x=\"168.5\" y=\"-42.8\" font-family=\"Times,serif\" font-size=\"14.00\">grad &#45;3.000</text>\n",
       "</g>\n",
       "<!-- 139950102947408&#45;&gt;139950104398624* -->\n",
       "<g id=\"edge6\" class=\"edge\">\n",
       "<title>139950102947408&#45;&gt;139950104398624*</title>\n",
       "<path fill=\"none\" stroke=\"black\" d=\"M218.48,-63.6C228.15,-65.13 237.39,-66.59 245.67,-67.9\"/>\n",
       "<polygon fill=\"black\" stroke=\"black\" points=\"245.17,-71.37 255.59,-69.48 246.26,-64.45 245.17,-71.37\"/>\n",
       "</g>\n",
       "<!-- 139950102939296 -->\n",
       "<g id=\"node3\" class=\"node\">\n",
       "<title>139950102939296</title>\n",
       "<polygon fill=\"none\" stroke=\"black\" points=\"345,-0.5 345,-36.5 566,-36.5 566,-0.5 345,-0.5\"/>\n",
       "<text text-anchor=\"middle\" x=\"357\" y=\"-14.8\" font-family=\"Times,serif\" font-size=\"14.00\">c</text>\n",
       "<polyline fill=\"none\" stroke=\"black\" points=\"369,-0.5 369,-36.5 \"/>\n",
       "<text text-anchor=\"middle\" x=\"420\" y=\"-14.8\" font-family=\"Times,serif\" font-size=\"14.00\">data 10.000</text>\n",
       "<polyline fill=\"none\" stroke=\"black\" points=\"471,-0.5 471,-36.5 \"/>\n",
       "<text text-anchor=\"middle\" x=\"518.5\" y=\"-14.8\" font-family=\"Times,serif\" font-size=\"14.00\">grad 1.000</text>\n",
       "</g>\n",
       "<!-- 139950104398192+ -->\n",
       "<g id=\"node7\" class=\"node\">\n",
       "<title>139950104398192+</title>\n",
       "<ellipse fill=\"none\" stroke=\"black\" cx=\"629\" cy=\"-45.5\" rx=\"27\" ry=\"18\"/>\n",
       "<text text-anchor=\"middle\" x=\"629\" y=\"-41.8\" font-family=\"Times,serif\" font-size=\"14.00\">+</text>\n",
       "</g>\n",
       "<!-- 139950102939296&#45;&gt;139950104398192+ -->\n",
       "<g id=\"edge4\" class=\"edge\">\n",
       "<title>139950102939296&#45;&gt;139950104398192+</title>\n",
       "<path fill=\"none\" stroke=\"black\" d=\"M566.08,-35.75C575.49,-37.23 584.48,-38.65 592.54,-39.92\"/>\n",
       "<polygon fill=\"black\" stroke=\"black\" points=\"592.16,-43.4 602.58,-41.5 593.25,-36.49 592.16,-43.4\"/>\n",
       "</g>\n",
       "<!-- 139950104398624 -->\n",
       "<g id=\"node4\" class=\"node\">\n",
       "<title>139950104398624</title>\n",
       "<polygon fill=\"none\" stroke=\"black\" points=\"346,-55.5 346,-91.5 565,-91.5 565,-55.5 346,-55.5\"/>\n",
       "<text text-anchor=\"middle\" x=\"359\" y=\"-69.8\" font-family=\"Times,serif\" font-size=\"14.00\">d</text>\n",
       "<polyline fill=\"none\" stroke=\"black\" points=\"372,-55.5 372,-91.5 \"/>\n",
       "<text text-anchor=\"middle\" x=\"421\" y=\"-69.8\" font-family=\"Times,serif\" font-size=\"14.00\">data &#45;6.000</text>\n",
       "<polyline fill=\"none\" stroke=\"black\" points=\"470,-55.5 470,-91.5 \"/>\n",
       "<text text-anchor=\"middle\" x=\"517.5\" y=\"-69.8\" font-family=\"Times,serif\" font-size=\"14.00\">grad 1.000</text>\n",
       "</g>\n",
       "<!-- 139950104398624&#45;&gt;139950104398192+ -->\n",
       "<g id=\"edge5\" class=\"edge\">\n",
       "<title>139950104398624&#45;&gt;139950104398192+</title>\n",
       "<path fill=\"none\" stroke=\"black\" d=\"M565.11,-55.77C574.84,-54.18 584.13,-52.66 592.46,-51.3\"/>\n",
       "<polygon fill=\"black\" stroke=\"black\" points=\"593.14,-54.74 602.44,-49.67 592.01,-47.83 593.14,-54.74\"/>\n",
       "</g>\n",
       "<!-- 139950104398624*&#45;&gt;139950104398624 -->\n",
       "<g id=\"edge1\" class=\"edge\">\n",
       "<title>139950104398624*&#45;&gt;139950104398624</title>\n",
       "<path fill=\"none\" stroke=\"black\" d=\"M309.05,-73.5C316.77,-73.5 325.77,-73.5 335.44,-73.5\"/>\n",
       "<polygon fill=\"black\" stroke=\"black\" points=\"335.73,-77 345.73,-73.5 335.73,-70 335.73,-77\"/>\n",
       "</g>\n",
       "<!-- 139950104398192 -->\n",
       "<g id=\"node6\" class=\"node\">\n",
       "<title>139950104398192</title>\n",
       "<polygon fill=\"none\" stroke=\"black\" points=\"692,-27.5 692,-63.5 905,-63.5 905,-27.5 692,-27.5\"/>\n",
       "<text text-anchor=\"middle\" x=\"704.5\" y=\"-41.8\" font-family=\"Times,serif\" font-size=\"14.00\">e</text>\n",
       "<polyline fill=\"none\" stroke=\"black\" points=\"717,-27.5 717,-63.5 \"/>\n",
       "<text text-anchor=\"middle\" x=\"763.5\" y=\"-41.8\" font-family=\"Times,serif\" font-size=\"14.00\">data 4.000</text>\n",
       "<polyline fill=\"none\" stroke=\"black\" points=\"810,-27.5 810,-63.5 \"/>\n",
       "<text text-anchor=\"middle\" x=\"857.5\" y=\"-41.8\" font-family=\"Times,serif\" font-size=\"14.00\">grad 1.000</text>\n",
       "</g>\n",
       "<!-- 139950104398192+&#45;&gt;139950104398192 -->\n",
       "<g id=\"edge2\" class=\"edge\">\n",
       "<title>139950104398192+&#45;&gt;139950104398192</title>\n",
       "<path fill=\"none\" stroke=\"black\" d=\"M656.17,-45.5C663.6,-45.5 672.21,-45.5 681.43,-45.5\"/>\n",
       "<polygon fill=\"black\" stroke=\"black\" points=\"681.66,-49 691.66,-45.5 681.66,-42 681.66,-49\"/>\n",
       "</g>\n",
       "</g>\n",
       "</svg>\n"
      ],
      "text/plain": [
       "<graphviz.graphs.Digraph at 0x7f48ac425510>"
      ]
     },
     "execution_count": 56,
     "metadata": {},
     "output_type": "execute_result"
    }
   ],
   "source": [
    "a = Valor(2, rotulo=\"a\")\n",
    "b = Valor(-3, rotulo=\"b\")\n",
    "c = Valor(10, rotulo=\"c\")\n",
    "\n",
    "d = a * b\n",
    "d.rotulo = \"d\"\n",
    "e = d + c\n",
    "e.rotulo = \"e\"\n",
    "\n",
    "e.propagar_tudo()\n",
    "\n",
    "plota_grafo(e)"
   ]
  },
  {
   "cell_type": "code",
   "execution_count": null,
   "id": "cfb71b81-9d78-4eee-b654-211ccd7b55e1",
   "metadata": {},
   "outputs": [],
   "source": [
    "# autograd"
   ]
  },
  {
   "cell_type": "markdown",
   "id": "109c6d1d-6d3a-43e3-b4e1-6cd246a88edd",
   "metadata": {},
   "source": [
    "![img](https://i.imgur.com/Q3MA6dZ.png)"
   ]
  },
  {
   "cell_type": "code",
   "execution_count": 59,
   "id": "f8e36101-fc99-4a68-acd2-84e3641b4f45",
   "metadata": {},
   "outputs": [
    {
     "data": {
      "image/svg+xml": [
       "<?xml version=\"1.0\" encoding=\"UTF-8\" standalone=\"no\"?>\n",
       "<!DOCTYPE svg PUBLIC \"-//W3C//DTD SVG 1.1//EN\"\n",
       " \"http://www.w3.org/Graphics/SVG/1.1/DTD/svg11.dtd\">\n",
       "<!-- Generated by graphviz version 2.43.0 (0)\n",
       " -->\n",
       "<!-- Title: %3 Pages: 1 -->\n",
       "<svg width=\"915pt\" height=\"100pt\"\n",
       " viewBox=\"0.00 0.00 915.00 100.00\" xmlns=\"http://www.w3.org/2000/svg\" xmlns:xlink=\"http://www.w3.org/1999/xlink\">\n",
       "<g id=\"graph0\" class=\"graph\" transform=\"scale(1 1) rotate(0) translate(4 96)\">\n",
       "<title>%3</title>\n",
       "<polygon fill=\"white\" stroke=\"transparent\" points=\"-4,4 -4,-96 911,-96 911,4 -4,4\"/>\n",
       "<!-- 139950104518688 -->\n",
       "<g id=\"node1\" class=\"node\">\n",
       "<title>139950104518688</title>\n",
       "<polygon fill=\"none\" stroke=\"black\" points=\"344,-55.5 344,-91.5 563,-91.5 563,-55.5 344,-55.5\"/>\n",
       "<text text-anchor=\"middle\" x=\"357\" y=\"-69.8\" font-family=\"Times,serif\" font-size=\"14.00\">d</text>\n",
       "<polyline fill=\"none\" stroke=\"black\" points=\"370,-55.5 370,-91.5 \"/>\n",
       "<text text-anchor=\"middle\" x=\"419\" y=\"-69.8\" font-family=\"Times,serif\" font-size=\"14.00\">data &#45;6.000</text>\n",
       "<polyline fill=\"none\" stroke=\"black\" points=\"468,-55.5 468,-91.5 \"/>\n",
       "<text text-anchor=\"middle\" x=\"515.5\" y=\"-69.8\" font-family=\"Times,serif\" font-size=\"14.00\">grad 1.000</text>\n",
       "</g>\n",
       "<!-- 139950104511584+ -->\n",
       "<g id=\"node6\" class=\"node\">\n",
       "<title>139950104511584+</title>\n",
       "<ellipse fill=\"none\" stroke=\"black\" cx=\"626\" cy=\"-45.5\" rx=\"27\" ry=\"18\"/>\n",
       "<text text-anchor=\"middle\" x=\"626\" y=\"-41.8\" font-family=\"Times,serif\" font-size=\"14.00\">+</text>\n",
       "</g>\n",
       "<!-- 139950104518688&#45;&gt;139950104511584+ -->\n",
       "<g id=\"edge5\" class=\"edge\">\n",
       "<title>139950104518688&#45;&gt;139950104511584+</title>\n",
       "<path fill=\"none\" stroke=\"black\" d=\"M563.45,-55.61C572.79,-54.07 581.73,-52.61 589.75,-51.29\"/>\n",
       "<polygon fill=\"black\" stroke=\"black\" points=\"590.43,-54.72 599.73,-49.65 589.29,-47.82 590.43,-54.72\"/>\n",
       "</g>\n",
       "<!-- 139950104518688* -->\n",
       "<g id=\"node2\" class=\"node\">\n",
       "<title>139950104518688*</title>\n",
       "<ellipse fill=\"none\" stroke=\"black\" cx=\"281\" cy=\"-73.5\" rx=\"27\" ry=\"18\"/>\n",
       "<text text-anchor=\"middle\" x=\"281\" y=\"-69.8\" font-family=\"Times,serif\" font-size=\"14.00\">*</text>\n",
       "</g>\n",
       "<!-- 139950104518688*&#45;&gt;139950104518688 -->\n",
       "<g id=\"edge1\" class=\"edge\">\n",
       "<title>139950104518688*&#45;&gt;139950104518688</title>\n",
       "<path fill=\"none\" stroke=\"black\" d=\"M308.27,-73.5C315.68,-73.5 324.25,-73.5 333.45,-73.5\"/>\n",
       "<polygon fill=\"black\" stroke=\"black\" points=\"333.66,-77 343.66,-73.5 333.66,-70 333.66,-77\"/>\n",
       "</g>\n",
       "<!-- 139950104514032 -->\n",
       "<g id=\"node3\" class=\"node\">\n",
       "<title>139950104514032</title>\n",
       "<polygon fill=\"none\" stroke=\"black\" points=\"347.5,-0.5 347.5,-36.5 559.5,-36.5 559.5,-0.5 347.5,-0.5\"/>\n",
       "<text text-anchor=\"middle\" x=\"359.5\" y=\"-14.8\" font-family=\"Times,serif\" font-size=\"14.00\">c</text>\n",
       "<polyline fill=\"none\" stroke=\"black\" points=\"371.5,-0.5 371.5,-36.5 \"/>\n",
       "<text text-anchor=\"middle\" x=\"418\" y=\"-14.8\" font-family=\"Times,serif\" font-size=\"14.00\">data 1.000</text>\n",
       "<polyline fill=\"none\" stroke=\"black\" points=\"464.5,-0.5 464.5,-36.5 \"/>\n",
       "<text text-anchor=\"middle\" x=\"512\" y=\"-14.8\" font-family=\"Times,serif\" font-size=\"14.00\">grad 1.000</text>\n",
       "</g>\n",
       "<!-- 139950104514032&#45;&gt;139950104511584+ -->\n",
       "<g id=\"edge8\" class=\"edge\">\n",
       "<title>139950104514032&#45;&gt;139950104511584+</title>\n",
       "<path fill=\"none\" stroke=\"black\" d=\"M559.57,-35.14C570.21,-36.82 580.41,-38.44 589.46,-39.87\"/>\n",
       "<polygon fill=\"black\" stroke=\"black\" points=\"589.1,-43.36 599.52,-41.47 590.19,-36.44 589.1,-43.36\"/>\n",
       "</g>\n",
       "<!-- 139950104514032+ -->\n",
       "<g id=\"node4\" class=\"node\">\n",
       "<title>139950104514032+</title>\n",
       "<ellipse fill=\"none\" stroke=\"black\" cx=\"281\" cy=\"-18.5\" rx=\"27\" ry=\"18\"/>\n",
       "<text text-anchor=\"middle\" x=\"281\" y=\"-14.8\" font-family=\"Times,serif\" font-size=\"14.00\">+</text>\n",
       "</g>\n",
       "<!-- 139950104514032+&#45;&gt;139950104514032 -->\n",
       "<g id=\"edge2\" class=\"edge\">\n",
       "<title>139950104514032+&#45;&gt;139950104514032</title>\n",
       "<path fill=\"none\" stroke=\"black\" d=\"M308.27,-18.5C316.62,-18.5 326.45,-18.5 337,-18.5\"/>\n",
       "<polygon fill=\"black\" stroke=\"black\" points=\"337.3,-22 347.3,-18.5 337.3,-15 337.3,-22\"/>\n",
       "</g>\n",
       "<!-- 139950104511584 -->\n",
       "<g id=\"node5\" class=\"node\">\n",
       "<title>139950104511584</title>\n",
       "<polygon fill=\"none\" stroke=\"black\" points=\"689,-27.5 689,-63.5 907,-63.5 907,-27.5 689,-27.5\"/>\n",
       "<text text-anchor=\"middle\" x=\"701.5\" y=\"-41.8\" font-family=\"Times,serif\" font-size=\"14.00\">e</text>\n",
       "<polyline fill=\"none\" stroke=\"black\" points=\"714,-27.5 714,-63.5 \"/>\n",
       "<text text-anchor=\"middle\" x=\"763\" y=\"-41.8\" font-family=\"Times,serif\" font-size=\"14.00\">data &#45;5.000</text>\n",
       "<polyline fill=\"none\" stroke=\"black\" points=\"812,-27.5 812,-63.5 \"/>\n",
       "<text text-anchor=\"middle\" x=\"859.5\" y=\"-41.8\" font-family=\"Times,serif\" font-size=\"14.00\">grad 1.000</text>\n",
       "</g>\n",
       "<!-- 139950104511584+&#45;&gt;139950104511584 -->\n",
       "<g id=\"edge3\" class=\"edge\">\n",
       "<title>139950104511584+&#45;&gt;139950104511584</title>\n",
       "<path fill=\"none\" stroke=\"black\" d=\"M653.19,-45.5C660.65,-45.5 669.28,-45.5 678.56,-45.5\"/>\n",
       "<polygon fill=\"black\" stroke=\"black\" points=\"678.84,-49 688.84,-45.5 678.84,-42 678.84,-49\"/>\n",
       "</g>\n",
       "<!-- 139950104516432 -->\n",
       "<g id=\"node7\" class=\"node\">\n",
       "<title>139950104516432</title>\n",
       "<polygon fill=\"none\" stroke=\"black\" points=\"0,-55.5 0,-91.5 218,-91.5 218,-55.5 0,-55.5\"/>\n",
       "<text text-anchor=\"middle\" x=\"12.5\" y=\"-69.8\" font-family=\"Times,serif\" font-size=\"14.00\">a</text>\n",
       "<polyline fill=\"none\" stroke=\"black\" points=\"25,-55.5 25,-91.5 \"/>\n",
       "<text text-anchor=\"middle\" x=\"74\" y=\"-69.8\" font-family=\"Times,serif\" font-size=\"14.00\">data &#45;2.000</text>\n",
       "<polyline fill=\"none\" stroke=\"black\" points=\"123,-55.5 123,-91.5 \"/>\n",
       "<text text-anchor=\"middle\" x=\"170.5\" y=\"-69.8\" font-family=\"Times,serif\" font-size=\"14.00\">grad 4.000</text>\n",
       "</g>\n",
       "<!-- 139950104516432&#45;&gt;139950104518688* -->\n",
       "<g id=\"edge9\" class=\"edge\">\n",
       "<title>139950104516432&#45;&gt;139950104518688*</title>\n",
       "<path fill=\"none\" stroke=\"black\" d=\"M218.15,-73.5C227.24,-73.5 235.95,-73.5 243.82,-73.5\"/>\n",
       "<polygon fill=\"black\" stroke=\"black\" points=\"243.98,-77 253.98,-73.5 243.98,-70 243.98,-77\"/>\n",
       "</g>\n",
       "<!-- 139950104516432&#45;&gt;139950104514032+ -->\n",
       "<g id=\"edge6\" class=\"edge\">\n",
       "<title>139950104516432&#45;&gt;139950104514032+</title>\n",
       "<path fill=\"none\" stroke=\"black\" d=\"M189.23,-55.43C199,-52.7 208.78,-49.71 218,-46.5 228.57,-42.83 239.8,-38.04 249.77,-33.46\"/>\n",
       "<polygon fill=\"black\" stroke=\"black\" points=\"251.3,-36.61 258.86,-29.18 248.33,-30.27 251.3,-36.61\"/>\n",
       "</g>\n",
       "<!-- 139950104517104 -->\n",
       "<g id=\"node8\" class=\"node\">\n",
       "<title>139950104517104</title>\n",
       "<polygon fill=\"none\" stroke=\"black\" points=\"0,-0.5 0,-36.5 218,-36.5 218,-0.5 0,-0.5\"/>\n",
       "<text text-anchor=\"middle\" x=\"13\" y=\"-14.8\" font-family=\"Times,serif\" font-size=\"14.00\">b</text>\n",
       "<polyline fill=\"none\" stroke=\"black\" points=\"26,-0.5 26,-36.5 \"/>\n",
       "<text text-anchor=\"middle\" x=\"72.5\" y=\"-14.8\" font-family=\"Times,serif\" font-size=\"14.00\">data 3.000</text>\n",
       "<polyline fill=\"none\" stroke=\"black\" points=\"119,-0.5 119,-36.5 \"/>\n",
       "<text text-anchor=\"middle\" x=\"168.5\" y=\"-14.8\" font-family=\"Times,serif\" font-size=\"14.00\">grad &#45;1.000</text>\n",
       "</g>\n",
       "<!-- 139950104517104&#45;&gt;139950104518688* -->\n",
       "<g id=\"edge7\" class=\"edge\">\n",
       "<title>139950104517104&#45;&gt;139950104518688*</title>\n",
       "<path fill=\"none\" stroke=\"black\" d=\"M185.69,-36.51C196.61,-39.57 207.65,-42.93 218,-46.5 228.32,-50.06 239.33,-54.6 249.16,-58.93\"/>\n",
       "<polygon fill=\"black\" stroke=\"black\" points=\"247.97,-62.24 258.52,-63.15 250.85,-55.85 247.97,-62.24\"/>\n",
       "</g>\n",
       "<!-- 139950104517104&#45;&gt;139950104514032+ -->\n",
       "<g id=\"edge4\" class=\"edge\">\n",
       "<title>139950104517104&#45;&gt;139950104514032+</title>\n",
       "<path fill=\"none\" stroke=\"black\" d=\"M218.15,-18.5C227.24,-18.5 235.95,-18.5 243.82,-18.5\"/>\n",
       "<polygon fill=\"black\" stroke=\"black\" points=\"243.98,-22 253.98,-18.5 243.98,-15 243.98,-22\"/>\n",
       "</g>\n",
       "</g>\n",
       "</svg>\n"
      ],
      "text/plain": [
       "<graphviz.graphs.Digraph at 0x7f48ac441840>"
      ]
     },
     "execution_count": 59,
     "metadata": {},
     "output_type": "execute_result"
    }
   ],
   "source": [
    "a = Valor(-2, rotulo=\"a\")\n",
    "b = Valor(3, rotulo=\"b\")\n",
    "\n",
    "c = a + b\n",
    "d = a * b\n",
    "\n",
    "e = c + d\n",
    "\n",
    "c.rotulo = \"c\"\n",
    "d.rotulo = \"d\"\n",
    "e.rotulo = \"e\"\n",
    "\n",
    "e.propagar_tudo()\n",
    "plota_grafo(e)"
   ]
  },
  {
   "cell_type": "code",
   "execution_count": 63,
   "id": "571a2adb-61fa-441d-b374-b0fda928c0fc",
   "metadata": {},
   "outputs": [
    {
     "name": "stdout",
     "output_type": "stream",
     "text": [
      "Valor(data=11)\n"
     ]
    }
   ],
   "source": [
    "a = Valor(10, rotulo=\"a\")\n",
    "b = a + 1\n",
    "print(b)"
   ]
  },
  {
   "cell_type": "code",
   "execution_count": 61,
   "id": "4051392c-de33-4b25-99fa-4d0071d2ef8b",
   "metadata": {},
   "outputs": [
    {
     "ename": "SyntaxError",
     "evalue": "invalid decimal literal (110494918.py, line 1)",
     "output_type": "error",
     "traceback": [
      "\u001b[0;36m  Cell \u001b[0;32mIn[61], line 1\u001b[0;36m\u001b[0m\n\u001b[0;31m    1.data\u001b[0m\n\u001b[0m     ^\u001b[0m\n\u001b[0;31mSyntaxError\u001b[0m\u001b[0;31m:\u001b[0m invalid decimal literal\n"
     ]
    }
   ],
   "source": [
    "1.data"
   ]
  },
  {
   "cell_type": "code",
   "execution_count": 66,
   "id": "5a2b55b4-b2d2-4d70-b611-756a9be66e61",
   "metadata": {},
   "outputs": [
    {
     "name": "stdout",
     "output_type": "stream",
     "text": [
      "Valor(data=100)\n"
     ]
    }
   ],
   "source": [
    "a = Valor(10, rotulo=\"a\")\n",
    "b = a * 10\n",
    "print(b)"
   ]
  },
  {
   "cell_type": "code",
   "execution_count": 69,
   "id": "583a73e5-91e8-4670-b1c0-d1a22c4b5ce5",
   "metadata": {},
   "outputs": [
    {
     "name": "stdout",
     "output_type": "stream",
     "text": [
      "Valor(data=11)\n"
     ]
    }
   ],
   "source": [
    "a = Valor(10, rotulo=\"a\")\n",
    "b = 1 + a\n",
    "print(b)"
   ]
  },
  {
   "cell_type": "code",
   "execution_count": 72,
   "id": "7299a95f-7d19-4f6d-97d6-7c000ba8ef8c",
   "metadata": {},
   "outputs": [
    {
     "name": "stdout",
     "output_type": "stream",
     "text": [
      "Valor(data=100)\n"
     ]
    }
   ],
   "source": [
    "a = Valor(10, rotulo=\"a\")\n",
    "b = 10 * a\n",
    "print(b)"
   ]
  },
  {
   "cell_type": "code",
   "execution_count": 76,
   "id": "ac66168e-551a-4700-8711-0d3b7d2224fd",
   "metadata": {},
   "outputs": [
    {
     "name": "stdout",
     "output_type": "stream",
     "text": [
      "Valor(data=2.718281828459045)\n"
     ]
    }
   ],
   "source": [
    "a = Valor(1, rotulo=\"a\")\n",
    "b = a.exp()  # exp(a) ~ 2.718\n",
    "print(b)"
   ]
  },
  {
   "cell_type": "code",
   "execution_count": 79,
   "id": "81448db9-d788-453e-b6ac-a587256afad9",
   "metadata": {},
   "outputs": [
    {
     "name": "stdout",
     "output_type": "stream",
     "text": [
      "Valor(data=100)\n"
     ]
    }
   ],
   "source": [
    "a = Valor(10, rotulo=\"a\")\n",
    "b = a**2\n",
    "print(b)"
   ]
  },
  {
   "cell_type": "code",
   "execution_count": 82,
   "id": "37bd0858-8391-4bca-ba35-08b4246e8fb6",
   "metadata": {},
   "outputs": [
    {
     "name": "stdout",
     "output_type": "stream",
     "text": [
      "Valor(data=0.5)\n"
     ]
    }
   ],
   "source": [
    "a = Valor(1, rotulo=\"a\")\n",
    "b = Valor(2, rotulo=\"b\")\n",
    "c = a / b\n",
    "print(c)"
   ]
  },
  {
   "cell_type": "code",
   "execution_count": 85,
   "id": "d4604a92-3a0a-451d-82b9-0c95a03550c8",
   "metadata": {},
   "outputs": [
    {
     "name": "stdout",
     "output_type": "stream",
     "text": [
      "Valor(data=-1)\n"
     ]
    }
   ],
   "source": [
    "a = Valor(1, rotulo=\"a\")\n",
    "b = -a\n",
    "print(b)"
   ]
  },
  {
   "cell_type": "code",
   "execution_count": 88,
   "id": "bc2cd9cd-4c7d-4c13-a4e6-a8c120fb1d31",
   "metadata": {},
   "outputs": [
    {
     "name": "stdout",
     "output_type": "stream",
     "text": [
      "Valor(data=7)\n"
     ]
    }
   ],
   "source": [
    "a = Valor(10, rotulo=\"a\")\n",
    "b = Valor(3, rotulo=\"b\")\n",
    "c = a - b\n",
    "print(c)"
   ]
  },
  {
   "cell_type": "markdown",
   "id": "273b0d85-c7cf-4db1-ac8e-f2db471c4cef",
   "metadata": {},
   "source": [
    "$$\n",
    "S(x) = \\frac{e^x}{e^x + 1}\n",
    "$$"
   ]
  },
  {
   "cell_type": "code",
   "execution_count": 94,
   "id": "ad13515f-dada-42c3-bd33-33814c5624e1",
   "metadata": {},
   "outputs": [
    {
     "name": "stdout",
     "output_type": "stream",
     "text": [
      "Valor(data=0.5)\n"
     ]
    }
   ],
   "source": [
    "a = Valor(0, rotulo=\"a\")\n",
    "b = a.sig()\n",
    "print(b)"
   ]
  }
 ],
 "metadata": {
  "kernelspec": {
   "display_name": "ilumpy",
   "language": "python",
   "name": "ilumpy"
  },
  "language_info": {
   "codemirror_mode": {
    "name": "ipython",
    "version": 3
   },
   "file_extension": ".py",
   "mimetype": "text/x-python",
   "name": "python",
   "nbconvert_exporter": "python",
   "pygments_lexer": "ipython3",
   "version": "3.10.12"
  }
 },
 "nbformat": 4,
 "nbformat_minor": 5
}
