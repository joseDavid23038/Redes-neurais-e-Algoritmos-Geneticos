{
 "cells": [
  {
   "cell_type": "markdown",
   "metadata": {},
   "source": [
    "Módulo DEAP --- uma introdução (apenas código)\n",
    "==============================================\n",
    "\n"
   ]
  },
  {
   "cell_type": "markdown",
   "metadata": {},
   "source": [
    "Abaixo temos o código todo do notebook anterior em poucas células para facilitar a leitura e utilização do `DEAP`.\n",
    "\n"
   ]
  },
  {
   "cell_type": "code",
   "execution_count": 1,
   "metadata": {},
   "outputs": [],
   "source": [
    "import numpy as np\n",
    "from deap import base\n",
    "from deap import tools\n",
    "from deap import creator\n",
    "from deap.algorithms import eaSimple\n",
    "\n",
    "from funcoes_7 import gene_cb"
   ]
  },
  {
   "cell_type": "code",
   "execution_count": 2,
   "metadata": {},
   "outputs": [],
   "source": [
    "NUM_CAIXAS = 4\n",
    "\n",
    "TAMANHO_POPULACAO = 10\n",
    "NUM_GERACOES = 50\n",
    "CHANCE_DE_CRUZAMENTO = 0.5\n",
    "CHANCE_DE_MUTACAO = 0.05\n",
    "CHANCE_DE_MUTACAO_POR_GENE = 0.25\n",
    "TAMANHO_TORNEIO = 3\n",
    "TAMANHO_HALL_DA_FAMA = 1"
   ]
  },
  {
   "cell_type": "code",
   "execution_count": 3,
   "metadata": {},
   "outputs": [],
   "source": [
    "def funcao_objetivo_cb(individuo):\n",
    "    \"\"\"Computa a função objetivo no problema das caixas binárias.\n",
    "\n",
    "    Args:\n",
    "      individiuo: lista contendo os genes das caixas binárias\n",
    "    \"\"\"\n",
    "    return (sum(individuo), )"
   ]
  },
  {
   "cell_type": "code",
   "execution_count": 4,
   "metadata": {},
   "outputs": [
    {
     "name": "stdout",
     "output_type": "stream",
     "text": [
      "gen\tnevals\tmédia\tdesv. padrão\tmin\tmax\n",
      "0  \t10    \t2.1  \t0.943398    \t1  \t4  \n",
      "1  \t6     \t2.6  \t0.8         \t1  \t4  \n",
      "2  \t4     \t3.2  \t0.4         \t3  \t4  \n",
      "3  \t8     \t3.6  \t0.489898    \t3  \t4  \n",
      "4  \t4     \t3.9  \t0.3         \t3  \t4  \n",
      "5  \t6     \t3.8  \t0.6         \t2  \t4  \n",
      "6  \t5     \t3.9  \t0.3         \t3  \t4  \n",
      "7  \t7     \t3.5  \t0.921954    \t1  \t4  \n",
      "8  \t2     \t4    \t0           \t4  \t4  \n",
      "9  \t6     \t4    \t0           \t4  \t4  \n",
      "10 \t2     \t4    \t0           \t4  \t4  \n",
      "11 \t2     \t4    \t0           \t4  \t4  \n",
      "12 \t6     \t4    \t0           \t4  \t4  \n",
      "13 \t8     \t4    \t0           \t4  \t4  \n",
      "14 \t8     \t4    \t0           \t4  \t4  \n",
      "15 \t6     \t4    \t0           \t4  \t4  \n",
      "16 \t4     \t4    \t0           \t4  \t4  \n",
      "17 \t6     \t3.8  \t0.6         \t2  \t4  \n",
      "18 \t6     \t4    \t0           \t4  \t4  \n",
      "19 \t7     \t3.8  \t0.4         \t3  \t4  \n",
      "20 \t4     \t4    \t0           \t4  \t4  \n",
      "21 \t6     \t4    \t0           \t4  \t4  \n",
      "22 \t8     \t4    \t0           \t4  \t4  \n",
      "23 \t6     \t3.7  \t0.640312    \t2  \t4  \n",
      "24 \t6     \t4    \t0           \t4  \t4  \n",
      "25 \t3     \t3.9  \t0.3         \t3  \t4  \n",
      "26 \t2     \t4    \t0           \t4  \t4  \n",
      "27 \t6     \t4    \t0           \t4  \t4  \n",
      "28 \t8     \t4    \t0           \t4  \t4  \n",
      "29 \t8     \t4    \t0           \t4  \t4  \n",
      "30 \t7     \t4    \t0           \t4  \t4  \n",
      "31 \t5     \t3.8  \t0.6         \t2  \t4  \n",
      "32 \t6     \t3.9  \t0.3         \t3  \t4  \n",
      "33 \t6     \t4    \t0           \t4  \t4  \n",
      "34 \t4     \t3.9  \t0.3         \t3  \t4  \n",
      "35 \t3     \t4    \t0           \t4  \t4  \n",
      "36 \t4     \t4    \t0           \t4  \t4  \n",
      "37 \t4     \t4    \t0           \t4  \t4  \n",
      "38 \t1     \t3.9  \t0.3         \t3  \t4  \n",
      "39 \t6     \t4    \t0           \t4  \t4  \n",
      "40 \t2     \t4    \t0           \t4  \t4  \n",
      "41 \t8     \t4    \t0           \t4  \t4  \n",
      "42 \t6     \t4    \t0           \t4  \t4  \n",
      "43 \t6     \t4    \t0           \t4  \t4  \n",
      "44 \t6     \t4    \t0           \t4  \t4  \n",
      "45 \t5     \t3.7  \t0.458258    \t3  \t4  \n",
      "46 \t4     \t3.9  \t0.3         \t3  \t4  \n",
      "47 \t6     \t3.9  \t0.3         \t3  \t4  \n",
      "48 \t6     \t4    \t0           \t4  \t4  \n",
      "49 \t10    \t3.9  \t0.3         \t3  \t4  \n",
      "50 \t6     \t4    \t0           \t4  \t4  \n"
     ]
    }
   ],
   "source": [
    "creator.create(\"FitnessMax\", base.Fitness, weights=(1.0,))\n",
    "creator.create(\"Individuo\", list, fitness=creator.FitnessMax)\n",
    "\n",
    "toolbox = base.Toolbox()\n",
    "\n",
    "toolbox.register(\n",
    "    \"cria_individuo\", tools.initRepeat, creator.Individuo, gene_cb, NUM_CAIXAS\n",
    ")\n",
    "\n",
    "toolbox.register(\n",
    "    \"populacao\", tools.initRepeat, list, toolbox.cria_individuo, TAMANHO_POPULACAO\n",
    ")\n",
    "\n",
    "toolbox.register(\"evaluate\", funcao_objetivo_cb)\n",
    "\n",
    "toolbox.register(\n",
    "    \"select\", tools.selTournament, tournsize=TAMANHO_TORNEIO\n",
    ")\n",
    "\n",
    "toolbox.register(\"mate\", tools.cxOnePoint)\n",
    "\n",
    "toolbox.register(\"mutate\", tools.mutFlipBit, indpb=CHANCE_DE_MUTACAO_POR_GENE)\n",
    "\n",
    "hall_da_fama = tools.HallOfFame(TAMANHO_HALL_DA_FAMA)\n",
    "\n",
    "estatisticas = tools.Statistics(lambda ind: ind.fitness.values)\n",
    "estatisticas.register(\"média\", np.mean)\n",
    "estatisticas.register(\"desv. padrão\", np.std)\n",
    "estatisticas.register(\"min\", np.min)\n",
    "estatisticas.register(\"max\", np.max)\n",
    "\n",
    "populacao_inicial = toolbox.populacao()\n",
    "\n",
    "populacao_final, log = eaSimple(\n",
    "    populacao_inicial,\n",
    "    toolbox,\n",
    "    cxpb=CHANCE_DE_CRUZAMENTO,\n",
    "    mutpb=CHANCE_DE_MUTACAO,\n",
    "    ngen=NUM_GERACOES,\n",
    "    stats=estatisticas,\n",
    "    halloffame=hall_da_fama,\n",
    "    verbose=True,\n",
    ")"
   ]
  },
  {
   "cell_type": "code",
   "execution_count": 5,
   "metadata": {},
   "outputs": [
    {
     "name": "stdout",
     "output_type": "stream",
     "text": [
      "gen\tnevals\tmédia\tdesv. padrão\tmin\tmax\n",
      "0  \t10    \t2.1  \t0.943398    \t1  \t4  \n",
      "1  \t6     \t2.6  \t0.8         \t1  \t4  \n",
      "2  \t4     \t3.2  \t0.4         \t3  \t4  \n",
      "3  \t8     \t3.6  \t0.489898    \t3  \t4  \n",
      "4  \t4     \t3.9  \t0.3         \t3  \t4  \n",
      "5  \t6     \t3.8  \t0.6         \t2  \t4  \n",
      "6  \t5     \t3.9  \t0.3         \t3  \t4  \n",
      "7  \t7     \t3.5  \t0.921954    \t1  \t4  \n",
      "8  \t2     \t4    \t0           \t4  \t4  \n",
      "9  \t6     \t4    \t0           \t4  \t4  \n",
      "10 \t2     \t4    \t0           \t4  \t4  \n",
      "11 \t2     \t4    \t0           \t4  \t4  \n",
      "12 \t6     \t4    \t0           \t4  \t4  \n",
      "13 \t8     \t4    \t0           \t4  \t4  \n",
      "14 \t8     \t4    \t0           \t4  \t4  \n",
      "15 \t6     \t4    \t0           \t4  \t4  \n",
      "16 \t4     \t4    \t0           \t4  \t4  \n",
      "17 \t6     \t3.8  \t0.6         \t2  \t4  \n",
      "18 \t6     \t4    \t0           \t4  \t4  \n",
      "19 \t7     \t3.8  \t0.4         \t3  \t4  \n",
      "20 \t4     \t4    \t0           \t4  \t4  \n",
      "21 \t6     \t4    \t0           \t4  \t4  \n",
      "22 \t8     \t4    \t0           \t4  \t4  \n",
      "23 \t6     \t3.7  \t0.640312    \t2  \t4  \n",
      "24 \t6     \t4    \t0           \t4  \t4  \n",
      "25 \t3     \t3.9  \t0.3         \t3  \t4  \n",
      "26 \t2     \t4    \t0           \t4  \t4  \n",
      "27 \t6     \t4    \t0           \t4  \t4  \n",
      "28 \t8     \t4    \t0           \t4  \t4  \n",
      "29 \t8     \t4    \t0           \t4  \t4  \n",
      "30 \t7     \t4    \t0           \t4  \t4  \n",
      "31 \t5     \t3.8  \t0.6         \t2  \t4  \n",
      "32 \t6     \t3.9  \t0.3         \t3  \t4  \n",
      "33 \t6     \t4    \t0           \t4  \t4  \n",
      "34 \t4     \t3.9  \t0.3         \t3  \t4  \n",
      "35 \t3     \t4    \t0           \t4  \t4  \n",
      "36 \t4     \t4    \t0           \t4  \t4  \n",
      "37 \t4     \t4    \t0           \t4  \t4  \n",
      "38 \t1     \t3.9  \t0.3         \t3  \t4  \n",
      "39 \t6     \t4    \t0           \t4  \t4  \n",
      "40 \t2     \t4    \t0           \t4  \t4  \n",
      "41 \t8     \t4    \t0           \t4  \t4  \n",
      "42 \t6     \t4    \t0           \t4  \t4  \n",
      "43 \t6     \t4    \t0           \t4  \t4  \n",
      "44 \t6     \t4    \t0           \t4  \t4  \n",
      "45 \t5     \t3.7  \t0.458258    \t3  \t4  \n",
      "46 \t4     \t3.9  \t0.3         \t3  \t4  \n",
      "47 \t6     \t3.9  \t0.3         \t3  \t4  \n",
      "48 \t6     \t4    \t0           \t4  \t4  \n",
      "49 \t10    \t3.9  \t0.3         \t3  \t4  \n",
      "50 \t6     \t4    \t0           \t4  \t4  \n"
     ]
    }
   ],
   "source": [
    "print(log)"
   ]
  },
  {
   "cell_type": "code",
   "execution_count": 6,
   "metadata": {},
   "outputs": [
    {
     "name": "stdout",
     "output_type": "stream",
     "text": [
      "[[1, 1, 1, 1]]\n"
     ]
    }
   ],
   "source": [
    "print(hall_da_fama.items)"
   ]
  }
 ],
 "metadata": {
  "kernelspec": {
   "display_name": "ilumpy",
   "language": "python",
   "name": "ilumpy"
  },
  "language_info": {
   "codemirror_mode": {
    "name": "ipython",
    "version": 3
   },
   "file_extension": ".py",
   "mimetype": "text/x-python",
   "name": "python",
   "nbconvert_exporter": "python",
   "pygments_lexer": "ipython3",
   "version": "3.10.12"
  },
  "org": null
 },
 "nbformat": 4,
 "nbformat_minor": 4
}
