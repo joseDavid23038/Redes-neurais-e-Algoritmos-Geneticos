{
 "cells": [
  {
   "cell_type": "markdown",
   "metadata": {},
   "source": [
    "Descobrindo a senha\n",
    "===================\n",
    "\n"
   ]
  },
  {
   "cell_type": "markdown",
   "metadata": {},
   "source": [
    "## Objetivo\n",
    "\n"
   ]
  },
  {
   "cell_type": "markdown",
   "metadata": {},
   "source": [
    "Utilizar um algoritmo genético para descobrir uma senha.\n",
    "\n"
   ]
  },
  {
   "cell_type": "markdown",
   "metadata": {},
   "source": [
    "## Descrição do problema\n",
    "\n"
   ]
  },
  {
   "cell_type": "markdown",
   "metadata": {},
   "source": [
    "Uma senha formada por letras maiúsculas, minúsculas ou dígitos numéricos deve ser encontrada. Cada palpite de senha retorna uma informação numérica que quantifica o quão perto o palpite está da senha correta. O critério de parada deste problema é quando a senha for descoberta.\n",
    "\n"
   ]
  },
  {
   "cell_type": "markdown",
   "metadata": {},
   "source": [
    "## Resolução\n",
    "\n"
   ]
  },
  {
   "cell_type": "code",
   "execution_count": 1,
   "metadata": {},
   "outputs": [],
   "source": [
    "import random\n",
    "from string import ascii_lowercase, ascii_uppercase, digits\n",
    "\n",
    "from funcoes_4 import populacao_senha as cria_populacao\n",
    "from funcoes_4 import funcao_objetivo_pop_senha as funcao_objetivo\n",
    "from funcoes_4 import selecao_torneio_min as funcao_selecao\n",
    "from funcoes_4 import cruzamento_uniforme as funcao_cruzamento\n",
    "from funcoes_4 import mutacao_simples as funcao_mutacao1\n",
    "from funcoes_4 import mutacao_salto as funcao_mutacao2"
   ]
  },
  {
   "cell_type": "code",
   "execution_count": 2,
   "metadata": {},
   "outputs": [],
   "source": [
    "SENHA = list(\"TorresmoPururuca2005\")\n",
    "CARACTERES_POSSIVEIS = ascii_lowercase + ascii_uppercase + digits\n",
    "\n",
    "TAMANHO_POPULACAO = 100\n",
    "CHANCE_DE_CRUZAMENTO = 0.5\n",
    "CHANCE_DE_MUTACAO = 0.025\n",
    "TAMANHO_TORNEIO = 3"
   ]
  },
  {
   "cell_type": "code",
   "execution_count": 3,
   "metadata": {
    "tags": []
   },
   "outputs": [],
   "source": [
    "populacao = cria_populacao(TAMANHO_POPULACAO, len(SENHA), CARACTERES_POSSIVEIS)"
   ]
  },
  {
   "cell_type": "code",
   "execution_count": 4,
   "metadata": {},
   "outputs": [
    {
     "name": "stdout",
     "output_type": "stream",
     "text": [
      "1 QqiuRjsXUIuxJgzGCe6E\n",
      "2 ZqiubyWXUxux4iqTCe6F\n",
      "3 uxzkfTgbUuxyas7k637U\n",
      "5 uxzkfTljUpZyarQE737G\n",
      "6 uxzlfTljUpZyarQE737G\n",
      "7 uxzlfydbUoxudfbT3379\n",
      "8 ZxzlbyllUpuxaiqT736F\n",
      "9 ZqzliylkUpuydrbE3009\n",
      "11 ZxzlfylkYoxydrbT3009\n",
      "12 ZxzlfylkUoxylrbT3009\n",
      "14 ZxzrfylkUouylrbT3009\n",
      "16 ZqqriylkUouylrbT3009\n",
      "19 ZqqlfylkUptxlrbT3008\n",
      "20 ZqqrfylkUpuulrbT3009\n",
      "22 ZqqrfylkUpuulrbT3008\n",
      "23 ZqqrfylkUpsulrbT3008\n",
      "26 ZpqrfylkUptulsbT3008\n",
      "29 ZqqrftlkUptulsbT3008\n",
      "31 ZqqrftlkUpsulsbT3008\n",
      "32 ZqqrftlkUpsulsbU3008\n",
      "33 ZqqrftlkUpsultbU3008\n",
      "36 ZpqrftlkUpsultbU3008\n",
      "37 ZpqrftmkUpsultbU3008\n",
      "38 ZqqretmkUpsultcU3008\n",
      "39 ZpqretmkUpsultcU3008\n",
      "41 ZpqretmkUpsulucU3008\n",
      "43 ZpqretmkUprulucU3008\n",
      "45 ZpqretmlUprultcU3004\n",
      "47 ZpqretmlUprulucU3004\n",
      "48 ZpqresmlUprumucU3004\n",
      "50 ZpqresmlUqrumucU3004\n",
      "56 ZpqresmlUqrumucU2004\n",
      "59 ZpqresmlUqrumucU2005\n",
      "62 ZpqresmlTqrumucU2005\n",
      "63 ZpqresmlTqrunucU2005\n",
      "64 ZoqresmlTqrumucV2005\n",
      "67 ZoqresmlTqrusucU2005\n",
      "68 ZoqresmlTqrusucV2005\n",
      "71 ZoqresmlSqrusucV2005\n",
      "74 ZoqresmlSqrusucW2005\n",
      "77 ZoqresmlSqrusucY2005\n",
      "78 WorresmlSqrusucV2005\n",
      "79 WorresmlSqrusucW2005\n",
      "82 WorresmlRqrusucW2005\n",
      "84 WorresmmRqrusucW2005\n",
      "89 WorresmmRqrusucj2005\n",
      "90 WorresmmRrrusucj2005\n",
      "93 WorresmmRrrurucj2005\n",
      "95 WorresmmRrruruci2005\n",
      "97 WorresmnRrruruci2005\n",
      "100 WorresmmPrruruci2005\n",
      "101 WorresmnPrruruci2005\n",
      "102 VorresmnPrruruci2005\n",
      "109 VorresmoPrruruci2005\n",
      "115 VorresmoPsruruci2005\n",
      "121 VorresmoPtruruci2005\n",
      "127 VorresmoPururuci2005\n",
      "132 UorresmoPururuci2005\n",
      "141 UorresmoPururuch2005\n",
      "146 TorresmoPururuch2005\n",
      "154 TorresmoPururucg2005\n",
      "200 TorresmoPururucf2005\n",
      "241 TorresmoPururuce2005\n",
      "251 TorresmoPururucd2005\n",
      "260 TorresmoPururucc2005\n",
      "331 TorresmoPururucb2005\n",
      "342 TorresmoPururuca2005\n"
     ]
    }
   ],
   "source": [
    "menor_fitness_geral = float(\"inf\")\n",
    "geracao = 0\n",
    "\n",
    "while menor_fitness_geral != 0:\n",
    "    \n",
    "    # Seleção\n",
    "    fitness = funcao_objetivo(populacao, SENHA)        \n",
    "    selecionados = funcao_selecao(populacao, fitness, TAMANHO_TORNEIO)\n",
    "    \n",
    "    # Cruzamento\n",
    "    proxima_geracao = []\n",
    "    for pai, mae in zip(selecionados[::2], selecionados[1::2]):\n",
    "        individuo1, individuo2 = funcao_cruzamento(pai, mae, CHANCE_DE_CRUZAMENTO)\n",
    "        proxima_geracao.append(individuo1)\n",
    "        proxima_geracao.append(individuo2)\n",
    "    \n",
    "    # Mutação\n",
    "    funcao_mutacao1(proxima_geracao, CHANCE_DE_MUTACAO, list(CARACTERES_POSSIVEIS))\n",
    "    funcao_mutacao2(proxima_geracao, CHANCE_DE_MUTACAO, list(CARACTERES_POSSIVEIS))\n",
    "    \n",
    "    # Encerramento\n",
    "    populacao = proxima_geracao\n",
    "    geracao += 1\n",
    "    \n",
    "    fitness = funcao_objetivo(populacao, SENHA)\n",
    "    menor_fitness_observado = min(fitness)\n",
    "    \n",
    "    if menor_fitness_observado < menor_fitness_geral:\n",
    "        menor_fitness_geral = menor_fitness_observado\n",
    "        indice = fitness.index(menor_fitness_observado)\n",
    "        candidato = populacao[indice]\n",
    "        print(geracao, \"\".join(candidato))"
   ]
  }
 ],
 "metadata": {
  "kernelspec": {
   "display_name": "Python 3 (ipykernel)",
   "language": "python",
   "name": "python3"
  },
  "language_info": {
   "codemirror_mode": {
    "name": "ipython",
    "version": 3
   },
   "file_extension": ".py",
   "mimetype": "text/x-python",
   "name": "python",
   "nbconvert_exporter": "python",
   "pygments_lexer": "ipython3",
   "version": "3.10.12"
  },
  "org": null
 },
 "nbformat": 4,
 "nbformat_minor": 4
}
