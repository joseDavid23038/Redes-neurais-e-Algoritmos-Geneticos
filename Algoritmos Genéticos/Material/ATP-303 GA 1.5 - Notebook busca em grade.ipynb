{
 "cells": [
  {
   "cell_type": "markdown",
   "metadata": {},
   "source": [
    "Busca em grade\n",
    "==============\n",
    "\n"
   ]
  },
  {
   "cell_type": "markdown",
   "metadata": {},
   "source": [
    "## Introdução\n",
    "\n"
   ]
  },
  {
   "cell_type": "markdown",
   "metadata": {},
   "source": [
    "Uma estratégia de resolução de problemas de otimização é a `busca em grade`. A busca em grade é uma estratégia que testa *todas* as combinações possíveis entre os itens de um ou mais conjuntos a fim de gerar candidatos para a resolução do problema de otimização.\n",
    "\n",
    "Vamos supor que você queira testar dois parâmetros em um problema de otimização, $p$ e $q$. Os valores possíveis para $p$ e $q$ estão exibidos abaixo:\n",
    "\n",
    "$p = \\{0, 1, 2\\}$\n",
    "\n",
    "$q = \\{a, b, c\\}$\n",
    "\n",
    "Em uma busca em grade, nós iremos testar todas as combinações entre $p$ e $q$, sendo elas: $(0, a)$, $(0, b)$, $(0,c)$, $(1, a)$, $(1, b)$, $(1,c)$, $(2, a)$, $(2, b)$ e $(2,c)$.\n",
    "\n"
   ]
  },
  {
   "cell_type": "markdown",
   "metadata": {},
   "source": [
    "## Objetivo\n",
    "\n"
   ]
  },
  {
   "cell_type": "markdown",
   "metadata": {},
   "source": [
    "Utilizar o algoritmo de busca em grade para buscar uma solução para o problema das caixas binárias. Considere $N=4$ caixas.\n",
    "\n"
   ]
  },
  {
   "cell_type": "markdown",
   "metadata": {},
   "source": [
    "## Resolução\n",
    "\n"
   ]
  },
  {
   "cell_type": "code",
   "execution_count": 1,
   "metadata": {},
   "outputs": [],
   "source": [
    "from funcoes_1 import funcao_objetivo_cb as funcao_objetivo\n",
    "from itertools import product"
   ]
  },
  {
   "cell_type": "code",
   "execution_count": 2,
   "metadata": {},
   "outputs": [
    {
     "name": "stdout",
     "output_type": "stream",
     "text": [
      "[0, 0, 0, 0] 0\n",
      "[0, 0, 0, 1] 1\n",
      "[0, 0, 1, 0] 1\n",
      "[0, 0, 1, 1] 2\n",
      "[0, 1, 0, 0] 1\n",
      "[0, 1, 0, 1] 2\n",
      "[0, 1, 1, 0] 2\n",
      "[0, 1, 1, 1] 3\n",
      "[1, 0, 0, 0] 1\n",
      "[1, 0, 0, 1] 2\n",
      "[1, 0, 1, 0] 2\n",
      "[1, 0, 1, 1] 3\n",
      "[1, 1, 0, 0] 2\n",
      "[1, 1, 0, 1] 3\n",
      "[1, 1, 1, 0] 3\n",
      "[1, 1, 1, 1] 4\n"
     ]
    }
   ],
   "source": [
    "candidato1 = [0, 1, 1, 0]\n",
    "\n",
    "for gene1 in [0, 1]:\n",
    "    for gene2 in [0, 1]:\n",
    "        for gene3 in [0, 1]:\n",
    "            for gene4 in [0, 1]:\n",
    "                candidato = [gene1, gene2, gene3, gene4]\n",
    "                fobj = funcao_objetivo(candidato)\n",
    "                print(candidato, fobj)"
   ]
  },
  {
   "cell_type": "code",
   "execution_count": 3,
   "metadata": {},
   "outputs": [
    {
     "name": "stdout",
     "output_type": "stream",
     "text": [
      "(0, 0, 0, 0) 0\n",
      "(0, 0, 0, 1) 1\n",
      "(0, 0, 1, 0) 1\n",
      "(0, 0, 1, 1) 2\n",
      "(0, 1, 0, 0) 1\n",
      "(0, 1, 0, 1) 2\n",
      "(0, 1, 1, 0) 2\n",
      "(0, 1, 1, 1) 3\n",
      "(1, 0, 0, 0) 1\n",
      "(1, 0, 0, 1) 2\n",
      "(1, 0, 1, 0) 2\n",
      "(1, 0, 1, 1) 3\n",
      "(1, 1, 0, 0) 2\n",
      "(1, 1, 0, 1) 3\n",
      "(1, 1, 1, 0) 3\n",
      "(1, 1, 1, 1) 4\n"
     ]
    }
   ],
   "source": [
    "for candidato in product([0, 1], [0, 1], [0, 1], [0, 1]):\n",
    "    fobj = funcao_objetivo(candidato)\n",
    "    print(candidato, fobj)"
   ]
  },
  {
   "cell_type": "code",
   "execution_count": 4,
   "metadata": {},
   "outputs": [
    {
     "name": "stdout",
     "output_type": "stream",
     "text": [
      "(0, 0, 0, 0, 0, 0) 0\n",
      "(0, 0, 0, 0, 0, 1) 1\n",
      "(0, 0, 0, 0, 1, 0) 1\n",
      "(0, 0, 0, 0, 1, 1) 2\n",
      "(0, 0, 0, 1, 0, 0) 1\n",
      "(0, 0, 0, 1, 0, 1) 2\n",
      "(0, 0, 0, 1, 1, 0) 2\n",
      "(0, 0, 0, 1, 1, 1) 3\n",
      "(0, 0, 1, 0, 0, 0) 1\n",
      "(0, 0, 1, 0, 0, 1) 2\n",
      "(0, 0, 1, 0, 1, 0) 2\n",
      "(0, 0, 1, 0, 1, 1) 3\n",
      "(0, 0, 1, 1, 0, 0) 2\n",
      "(0, 0, 1, 1, 0, 1) 3\n",
      "(0, 0, 1, 1, 1, 0) 3\n",
      "(0, 0, 1, 1, 1, 1) 4\n",
      "(0, 1, 0, 0, 0, 0) 1\n",
      "(0, 1, 0, 0, 0, 1) 2\n",
      "(0, 1, 0, 0, 1, 0) 2\n",
      "(0, 1, 0, 0, 1, 1) 3\n",
      "(0, 1, 0, 1, 0, 0) 2\n",
      "(0, 1, 0, 1, 0, 1) 3\n",
      "(0, 1, 0, 1, 1, 0) 3\n",
      "(0, 1, 0, 1, 1, 1) 4\n",
      "(0, 1, 1, 0, 0, 0) 2\n",
      "(0, 1, 1, 0, 0, 1) 3\n",
      "(0, 1, 1, 0, 1, 0) 3\n",
      "(0, 1, 1, 0, 1, 1) 4\n",
      "(0, 1, 1, 1, 0, 0) 3\n",
      "(0, 1, 1, 1, 0, 1) 4\n",
      "(0, 1, 1, 1, 1, 0) 4\n",
      "(0, 1, 1, 1, 1, 1) 5\n",
      "(1, 0, 0, 0, 0, 0) 1\n",
      "(1, 0, 0, 0, 0, 1) 2\n",
      "(1, 0, 0, 0, 1, 0) 2\n",
      "(1, 0, 0, 0, 1, 1) 3\n",
      "(1, 0, 0, 1, 0, 0) 2\n",
      "(1, 0, 0, 1, 0, 1) 3\n",
      "(1, 0, 0, 1, 1, 0) 3\n",
      "(1, 0, 0, 1, 1, 1) 4\n",
      "(1, 0, 1, 0, 0, 0) 2\n",
      "(1, 0, 1, 0, 0, 1) 3\n",
      "(1, 0, 1, 0, 1, 0) 3\n",
      "(1, 0, 1, 0, 1, 1) 4\n",
      "(1, 0, 1, 1, 0, 0) 3\n",
      "(1, 0, 1, 1, 0, 1) 4\n",
      "(1, 0, 1, 1, 1, 0) 4\n",
      "(1, 0, 1, 1, 1, 1) 5\n",
      "(1, 1, 0, 0, 0, 0) 2\n",
      "(1, 1, 0, 0, 0, 1) 3\n",
      "(1, 1, 0, 0, 1, 0) 3\n",
      "(1, 1, 0, 0, 1, 1) 4\n",
      "(1, 1, 0, 1, 0, 0) 3\n",
      "(1, 1, 0, 1, 0, 1) 4\n",
      "(1, 1, 0, 1, 1, 0) 4\n",
      "(1, 1, 0, 1, 1, 1) 5\n",
      "(1, 1, 1, 0, 0, 0) 3\n",
      "(1, 1, 1, 0, 0, 1) 4\n",
      "(1, 1, 1, 0, 1, 0) 4\n",
      "(1, 1, 1, 0, 1, 1) 5\n",
      "(1, 1, 1, 1, 0, 0) 4\n",
      "(1, 1, 1, 1, 0, 1) 5\n",
      "(1, 1, 1, 1, 1, 0) 5\n",
      "(1, 1, 1, 1, 1, 1) 6\n"
     ]
    }
   ],
   "source": [
    "NUM_CAIXAS = 6\n",
    "\n",
    "for candidato in product([0, 1], repeat=NUM_CAIXAS):\n",
    "    fobj = funcao_objetivo(candidato)\n",
    "    print(candidato, fobj)"
   ]
  },
  {
   "cell_type": "code",
   "execution_count": null,
   "metadata": {},
   "outputs": [],
   "source": []
  }
 ],
 "metadata": {
  "kernelspec": {
   "display_name": "Python 3 (ipykernel)",
   "language": "python",
   "name": "python3"
  },
  "language_info": {
   "codemirror_mode": {
    "name": "ipython",
    "version": 3
   },
   "file_extension": ".py",
   "mimetype": "text/x-python",
   "name": "python",
   "nbconvert_exporter": "python",
   "pygments_lexer": "ipython3",
   "version": "3.10.12"
  },
  "org": null
 },
 "nbformat": 4,
 "nbformat_minor": 4
}
