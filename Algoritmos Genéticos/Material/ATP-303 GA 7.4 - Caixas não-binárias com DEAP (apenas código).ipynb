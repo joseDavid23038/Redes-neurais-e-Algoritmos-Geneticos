{
 "cells": [
  {
   "cell_type": "markdown",
   "metadata": {},
   "source": [
    "Módulo DEAP --- caixas não-binárias (apenas código)\n",
    "===================================================\n",
    "\n"
   ]
  },
  {
   "cell_type": "markdown",
   "metadata": {},
   "source": [
    "Abaixo temos o código todo do notebook anterior em poucas células para facilitar a leitura e utilização do `DEAP`.\n",
    "\n"
   ]
  },
  {
   "cell_type": "code",
   "execution_count": 1,
   "metadata": {},
   "outputs": [],
   "source": [
    "import numpy as np\n",
    "from deap import base\n",
    "from deap import tools\n",
    "from deap import creator\n",
    "from deap.algorithms import eaSimple\n",
    "\n",
    "from funcoes_7 import gene_cnb"
   ]
  },
  {
   "cell_type": "code",
   "execution_count": 2,
   "metadata": {},
   "outputs": [],
   "source": [
    "NUM_CAIXAS = 4\n",
    "VALOR_MAX_CAIXA = 100\n",
    "\n",
    "TAMANHO_POPULACAO = 10\n",
    "NUM_GERACOES = 50\n",
    "CHANCE_DE_CRUZAMENTO = 0.5\n",
    "CHANCE_DE_MUTACAO = 0.05\n",
    "CHANCE_DE_MUTACAO_POR_GENE = 0.25\n",
    "TAMANHO_TORNEIO = 3\n",
    "TAMANHO_HALL_DA_FAMA = 1"
   ]
  },
  {
   "cell_type": "code",
   "execution_count": 3,
   "metadata": {},
   "outputs": [],
   "source": [
    "def funcao_objetivo_cnb(individuo):\n",
    "    \"\"\"Computa a função objetivo no problema das caixas não-binárias.\n",
    "\n",
    "    Args:\n",
    "      individiuo: lista contendo os genes das caixas não-binárias\n",
    "    \"\"\"\n",
    "    return (sum(individuo), )"
   ]
  },
  {
   "cell_type": "code",
   "execution_count": 4,
   "metadata": {},
   "outputs": [
    {
     "name": "stdout",
     "output_type": "stream",
     "text": [
      "gen\tnevals\tmédia\tdesv. padrão\tmin\tmax\n",
      "0  \t10    \t238.9\t69.2307     \t115\t344\n",
      "1  \t4     \t274.5\t30.4934     \t230\t344\n",
      "2  \t6     \t296.4\t33.1849     \t245\t344\n",
      "3  \t3     \t328.5\t24.3485     \t285\t344\n",
      "4  \t8     \t344  \t0           \t344\t344\n",
      "5  \t6     \t344  \t0           \t344\t344\n",
      "6  \t6     \t344  \t0           \t344\t344\n",
      "7  \t6     \t344  \t0           \t344\t344\n",
      "8  \t7     \t341.2\t8.4         \t316\t344\n",
      "9  \t2     \t344  \t0           \t344\t344\n",
      "10 \t2     \t344  \t0           \t344\t344\n",
      "11 \t5     \t344  \t0           \t344\t344\n",
      "12 \t8     \t344  \t0           \t344\t344\n",
      "13 \t1     \t342.8\t3.6         \t332\t344\n",
      "14 \t6     \t336.9\t21.3        \t273\t344\n",
      "15 \t2     \t344  \t0           \t344\t344\n",
      "16 \t8     \t344  \t0           \t344\t344\n",
      "17 \t1     \t337.7\t18.9        \t281\t344\n",
      "18 \t2     \t344  \t0           \t344\t344\n",
      "19 \t2     \t344  \t0           \t344\t344\n",
      "20 \t8     \t344  \t0           \t344\t344\n",
      "21 \t4     \t338.5\t18.9486     \t282\t351\n",
      "22 \t4     \t346.8\t3.42929     \t344\t351\n",
      "23 \t4     \t348.9\t3.2078      \t344\t351\n",
      "24 \t4     \t351  \t0           \t351\t351\n",
      "25 \t5     \t343.1\t23.7        \t272\t351\n",
      "26 \t2     \t343.6\t22.2        \t277\t351\n",
      "27 \t4     \t351  \t0           \t351\t351\n",
      "28 \t8     \t351  \t0           \t351\t351\n",
      "29 \t6     \t339.2\t33.7663     \t238\t351\n",
      "30 \t7     \t351  \t0           \t351\t351\n",
      "31 \t6     \t351  \t0           \t351\t351\n",
      "32 \t2     \t351  \t0           \t351\t351\n",
      "33 \t6     \t351  \t0           \t351\t351\n",
      "34 \t2     \t351  \t0           \t351\t351\n",
      "35 \t6     \t351  \t0           \t351\t351\n",
      "36 \t6     \t351  \t0           \t351\t351\n",
      "37 \t6     \t351  \t0           \t351\t351\n",
      "38 \t4     \t351  \t0           \t351\t351\n",
      "39 \t6     \t351  \t0           \t351\t351\n",
      "40 \t2     \t351  \t0           \t351\t351\n",
      "41 \t2     \t351  \t0           \t351\t351\n",
      "42 \t8     \t351  \t0           \t351\t351\n",
      "43 \t6     \t351  \t0           \t351\t351\n",
      "44 \t6     \t351  \t0           \t351\t351\n",
      "45 \t8     \t347.9\t9.3         \t320\t351\n",
      "46 \t6     \t345.1\t17.7        \t292\t351\n",
      "47 \t4     \t351  \t0           \t351\t351\n",
      "48 \t8     \t351  \t0           \t351\t351\n",
      "49 \t7     \t342.7\t23.9167     \t271\t351\n",
      "50 \t6     \t345.9\t15.3        \t300\t351\n"
     ]
    }
   ],
   "source": [
    "creator.create(\"FitnessMax\", base.Fitness, weights=(1.0,))\n",
    "creator.create(\"Individuo\", list, fitness=creator.FitnessMax)\n",
    "\n",
    "toolbox = base.Toolbox()\n",
    "\n",
    "toolbox.register(\"cria_gene\", gene_cnb, VALOR_MAX_CAIXA)\n",
    "\n",
    "toolbox.register(\n",
    "    \"cria_individuo\",\n",
    "    tools.initRepeat,\n",
    "    creator.Individuo,\n",
    "    toolbox.cria_gene,\n",
    "    NUM_CAIXAS,\n",
    ")\n",
    "\n",
    "toolbox.register(\n",
    "    \"populacao\", tools.initRepeat, list, toolbox.cria_individuo, TAMANHO_POPULACAO\n",
    ")\n",
    "\n",
    "toolbox.register(\"evaluate\", funcao_objetivo_cnb)\n",
    "\n",
    "toolbox.register(\n",
    "    \"select\", tools.selTournament, tournsize=TAMANHO_TORNEIO\n",
    ")\n",
    "\n",
    "toolbox.register(\"mate\", tools.cxTwoPoint)\n",
    "\n",
    "toolbox.register(\n",
    "    \"mutate\",\n",
    "    tools.mutUniformInt,\n",
    "    low=0,  # valor mínimo da caixa\n",
    "    up=VALOR_MAX_CAIXA,\n",
    "    indpb=CHANCE_DE_MUTACAO_POR_GENE,\n",
    ")\n",
    "\n",
    "hall_da_fama = tools.HallOfFame(TAMANHO_HALL_DA_FAMA)\n",
    "\n",
    "estatisticas = tools.Statistics(lambda ind: ind.fitness.values)\n",
    "estatisticas.register(\"média\", np.mean)\n",
    "estatisticas.register(\"desv. padrão\", np.std)\n",
    "estatisticas.register(\"min\", np.min)\n",
    "estatisticas.register(\"max\", np.max)\n",
    "\n",
    "populacao_inicial = toolbox.populacao()\n",
    "\n",
    "populacao_final, log = eaSimple(\n",
    "    populacao_inicial,\n",
    "    toolbox,\n",
    "    cxpb=CHANCE_DE_CRUZAMENTO,\n",
    "    mutpb=CHANCE_DE_MUTACAO,\n",
    "    ngen=NUM_GERACOES,\n",
    "    stats=estatisticas,\n",
    "    halloffame=hall_da_fama,\n",
    "    verbose=True,\n",
    ")"
   ]
  },
  {
   "cell_type": "code",
   "execution_count": 5,
   "metadata": {},
   "outputs": [
    {
     "name": "stdout",
     "output_type": "stream",
     "text": [
      "gen\tnevals\tmédia\tdesv. padrão\tmin\tmax\n",
      "0  \t10    \t238.9\t69.2307     \t115\t344\n",
      "1  \t4     \t274.5\t30.4934     \t230\t344\n",
      "2  \t6     \t296.4\t33.1849     \t245\t344\n",
      "3  \t3     \t328.5\t24.3485     \t285\t344\n",
      "4  \t8     \t344  \t0           \t344\t344\n",
      "5  \t6     \t344  \t0           \t344\t344\n",
      "6  \t6     \t344  \t0           \t344\t344\n",
      "7  \t6     \t344  \t0           \t344\t344\n",
      "8  \t7     \t341.2\t8.4         \t316\t344\n",
      "9  \t2     \t344  \t0           \t344\t344\n",
      "10 \t2     \t344  \t0           \t344\t344\n",
      "11 \t5     \t344  \t0           \t344\t344\n",
      "12 \t8     \t344  \t0           \t344\t344\n",
      "13 \t1     \t342.8\t3.6         \t332\t344\n",
      "14 \t6     \t336.9\t21.3        \t273\t344\n",
      "15 \t2     \t344  \t0           \t344\t344\n",
      "16 \t8     \t344  \t0           \t344\t344\n",
      "17 \t1     \t337.7\t18.9        \t281\t344\n",
      "18 \t2     \t344  \t0           \t344\t344\n",
      "19 \t2     \t344  \t0           \t344\t344\n",
      "20 \t8     \t344  \t0           \t344\t344\n",
      "21 \t4     \t338.5\t18.9486     \t282\t351\n",
      "22 \t4     \t346.8\t3.42929     \t344\t351\n",
      "23 \t4     \t348.9\t3.2078      \t344\t351\n",
      "24 \t4     \t351  \t0           \t351\t351\n",
      "25 \t5     \t343.1\t23.7        \t272\t351\n",
      "26 \t2     \t343.6\t22.2        \t277\t351\n",
      "27 \t4     \t351  \t0           \t351\t351\n",
      "28 \t8     \t351  \t0           \t351\t351\n",
      "29 \t6     \t339.2\t33.7663     \t238\t351\n",
      "30 \t7     \t351  \t0           \t351\t351\n",
      "31 \t6     \t351  \t0           \t351\t351\n",
      "32 \t2     \t351  \t0           \t351\t351\n",
      "33 \t6     \t351  \t0           \t351\t351\n",
      "34 \t2     \t351  \t0           \t351\t351\n",
      "35 \t6     \t351  \t0           \t351\t351\n",
      "36 \t6     \t351  \t0           \t351\t351\n",
      "37 \t6     \t351  \t0           \t351\t351\n",
      "38 \t4     \t351  \t0           \t351\t351\n",
      "39 \t6     \t351  \t0           \t351\t351\n",
      "40 \t2     \t351  \t0           \t351\t351\n",
      "41 \t2     \t351  \t0           \t351\t351\n",
      "42 \t8     \t351  \t0           \t351\t351\n",
      "43 \t6     \t351  \t0           \t351\t351\n",
      "44 \t6     \t351  \t0           \t351\t351\n",
      "45 \t8     \t347.9\t9.3         \t320\t351\n",
      "46 \t6     \t345.1\t17.7        \t292\t351\n",
      "47 \t4     \t351  \t0           \t351\t351\n",
      "48 \t8     \t351  \t0           \t351\t351\n",
      "49 \t7     \t342.7\t23.9167     \t271\t351\n",
      "50 \t6     \t345.9\t15.3        \t300\t351\n"
     ]
    }
   ],
   "source": [
    "print(log)"
   ]
  },
  {
   "cell_type": "code",
   "execution_count": 6,
   "metadata": {},
   "outputs": [
    {
     "name": "stdout",
     "output_type": "stream",
     "text": [
      "[[96, 85, 90, 80]]\n"
     ]
    }
   ],
   "source": [
    "print(hall_da_fama.items)"
   ]
  }
 ],
 "metadata": {
  "kernelspec": {
   "display_name": "ilumpy",
   "language": "python",
   "name": "ilumpy"
  },
  "language_info": {
   "codemirror_mode": {
    "name": "ipython",
    "version": 3
   },
   "file_extension": ".py",
   "mimetype": "text/x-python",
   "name": "python",
   "nbconvert_exporter": "python",
   "pygments_lexer": "ipython3",
   "version": "3.10.12"
  },
  "org": null
 },
 "nbformat": 4,
 "nbformat_minor": 4
}
