{
 "cells": [
  {
   "cell_type": "markdown",
   "metadata": {},
   "source": [
    "Problemas de otimização e a busca aleatória\n",
    "===========================================\n",
    "\n"
   ]
  },
  {
   "cell_type": "markdown",
   "metadata": {},
   "source": [
    "## Introdução\n",
    "\n"
   ]
  },
  {
   "cell_type": "markdown",
   "metadata": {},
   "source": [
    "De maneira simplificada, um `problema de otimização` é um problema onde buscamos candidatos que maximizam ou minimizam uma certa `função objetivo`. É possível que os candidatos estejam sujeitos a uma ou mais restrições.\n",
    "\n",
    "Uma estratégia de resolução de problemas de otimização é a `busca aleatória`. A busca aleatória, como o próprio nome sugere, é um algoritmo onde sorteamos `candidatos` de soluções para o problema dentro de um certo `espaço de busca`.\n",
    "\n"
   ]
  },
  {
   "cell_type": "markdown",
   "metadata": {},
   "source": [
    "## Descrição do problema\n",
    "\n"
   ]
  },
  {
   "cell_type": "markdown",
   "metadata": {},
   "source": [
    "O problema a ser resolvido é conhecido como o *problema das caixas binárias*. Neste problema, existem $N$ caixas e cada caixa deve conter um (e apenas um) item do conjunto $\\{0, 1\\}$. O objetivo é preencher todas as $N$ caixas de forma que a soma dos valores contidos nas mesmas seja máxima.\n",
    "\n"
   ]
  },
  {
   "cell_type": "markdown",
   "metadata": {},
   "source": [
    "## Objetivo\n",
    "\n"
   ]
  },
  {
   "cell_type": "markdown",
   "metadata": {},
   "source": [
    "Utilizar o algoritmo de busca aleatória para buscar uma solução para o problema das caixas binárias. Considere $N=4$ caixas.\n",
    "\n"
   ]
  },
  {
   "cell_type": "markdown",
   "metadata": {},
   "source": [
    "## Resolução\n",
    "\n"
   ]
  },
  {
   "cell_type": "code",
   "execution_count": 1,
   "metadata": {},
   "outputs": [],
   "source": [
    "import random"
   ]
  },
  {
   "cell_type": "code",
   "execution_count": 2,
   "metadata": {},
   "outputs": [],
   "source": [
    "candidato1 = [0, 1, 1, 0]\n",
    "candidato2 = [1, 1, 0, 1]\n",
    "\n",
    "def funcao_objetivo_cb(candidato):\n",
    "    return sum(candidato)\n",
    "\n",
    "def gene_cb():\n",
    "    valores_possiveis = [0, 1]\n",
    "    gene = random.choice(valores_possiveis)\n",
    "    return gene\n",
    "\n",
    "def cria_candidato_cb(n):\n",
    "    candidato = []\n",
    "    for _ in range(n):\n",
    "        gene = gene_cb()\n",
    "        candidato.append(gene)\n",
    "    return candidato"
   ]
  },
  {
   "cell_type": "code",
   "execution_count": 5,
   "metadata": {},
   "outputs": [
    {
     "data": {
      "text/plain": [
       "[0, 1, 0, 1]"
      ]
     },
     "execution_count": 5,
     "metadata": {},
     "output_type": "execute_result"
    }
   ],
   "source": [
    "cria_candidato_cb(4)"
   ]
  },
  {
   "cell_type": "code",
   "execution_count": 8,
   "metadata": {},
   "outputs": [
    {
     "data": {
      "text/plain": [
       "1"
      ]
     },
     "execution_count": 8,
     "metadata": {},
     "output_type": "execute_result"
    }
   ],
   "source": [
    "funcao_objetivo_cb(cria_candidato_cb(4))"
   ]
  },
  {
   "cell_type": "code",
   "execution_count": 9,
   "metadata": {},
   "outputs": [],
   "source": [
    "NUM_CAIXAS = 4\n",
    "NUM_SORTEIOS = 50"
   ]
  },
  {
   "cell_type": "code",
   "execution_count": 10,
   "metadata": {},
   "outputs": [
    {
     "name": "stdout",
     "output_type": "stream",
     "text": [
      "0 [0, 1, 0, 1] 2\n",
      "1 [0, 1, 0, 0] 1\n",
      "2 [1, 1, 1, 1] 4\n",
      "3 [1, 0, 1, 0] 2\n",
      "4 [0, 0, 0, 0] 0\n",
      "5 [0, 1, 0, 0] 1\n",
      "6 [0, 1, 0, 0] 1\n",
      "7 [1, 0, 0, 0] 1\n",
      "8 [0, 0, 0, 1] 1\n",
      "9 [0, 1, 1, 1] 3\n",
      "10 [0, 0, 1, 0] 1\n",
      "11 [1, 1, 1, 0] 3\n",
      "12 [1, 0, 1, 0] 2\n",
      "13 [1, 1, 0, 1] 3\n",
      "14 [0, 1, 0, 0] 1\n",
      "15 [0, 1, 1, 1] 3\n",
      "16 [1, 0, 1, 0] 2\n",
      "17 [1, 0, 0, 0] 1\n",
      "18 [0, 0, 0, 1] 1\n",
      "19 [1, 1, 1, 0] 3\n",
      "20 [1, 1, 0, 0] 2\n",
      "21 [1, 1, 0, 1] 3\n",
      "22 [1, 1, 1, 0] 3\n",
      "23 [1, 0, 0, 0] 1\n",
      "24 [1, 1, 0, 1] 3\n",
      "25 [1, 0, 1, 0] 2\n",
      "26 [0, 1, 0, 0] 1\n",
      "27 [1, 1, 1, 0] 3\n",
      "28 [1, 0, 0, 1] 2\n",
      "29 [0, 1, 1, 1] 3\n",
      "30 [1, 1, 0, 0] 2\n",
      "31 [1, 1, 0, 1] 3\n",
      "32 [1, 0, 0, 1] 2\n",
      "33 [1, 1, 0, 0] 2\n",
      "34 [0, 0, 0, 0] 0\n",
      "35 [0, 0, 1, 0] 1\n",
      "36 [0, 0, 0, 1] 1\n",
      "37 [0, 0, 0, 1] 1\n",
      "38 [1, 0, 1, 0] 2\n",
      "39 [0, 1, 1, 0] 2\n",
      "40 [0, 0, 1, 0] 1\n",
      "41 [0, 1, 0, 1] 2\n",
      "42 [0, 1, 1, 1] 3\n",
      "43 [0, 0, 0, 0] 0\n",
      "44 [1, 0, 1, 0] 2\n",
      "45 [0, 0, 1, 1] 2\n",
      "46 [1, 0, 0, 1] 2\n",
      "47 [1, 0, 1, 1] 3\n",
      "48 [1, 1, 1, 0] 3\n",
      "49 [1, 1, 1, 1] 4\n"
     ]
    }
   ],
   "source": [
    "for i in range(NUM_SORTEIOS):\n",
    "    candidato = cria_candidato_cb(NUM_CAIXAS)\n",
    "    fobj = funcao_objetivo_cb(candidato)\n",
    "    print(i, candidato, fobj)"
   ]
  },
  {
   "cell_type": "code",
   "execution_count": null,
   "metadata": {},
   "outputs": [],
   "source": []
  }
 ],
 "metadata": {
  "kernelspec": {
   "display_name": "Python 3 (ipykernel)",
   "language": "python",
   "name": "python3"
  },
  "language_info": {
   "codemirror_mode": {
    "name": "ipython",
    "version": 3
   },
   "file_extension": ".py",
   "mimetype": "text/x-python",
   "name": "python",
   "nbconvert_exporter": "python",
   "pygments_lexer": "ipython3",
   "version": "3.10.12"
  },
  "org": null
 },
 "nbformat": 4,
 "nbformat_minor": 4
}
