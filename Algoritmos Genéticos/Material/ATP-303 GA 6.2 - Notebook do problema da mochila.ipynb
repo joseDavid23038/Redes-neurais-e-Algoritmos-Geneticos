{
 "cells": [
  {
   "cell_type": "markdown",
   "metadata": {},
   "source": [
    "O problema da mochila\n",
    "=====================\n",
    "\n"
   ]
  },
  {
   "cell_type": "markdown",
   "metadata": {},
   "source": [
    "## Introdução\n",
    "\n"
   ]
  },
  {
   "cell_type": "markdown",
   "metadata": {},
   "source": [
    "Muitos problemas de otimização com relevância científica têm uma ou mais `restrições` que devem ser consideradas na hora de resolver o problema.\n",
    "\n",
    "O `problema da mochila` é um problema clássico de otimização onde devemos maximizar o valor dos itens colocados em uma mochila enquanto respeitamos a restrição do peso total dos itens (do contrário, a mochila rasga).\n",
    "\n",
    "Uma forma de considerar restrições em algoritmos genéticos é aplicando uma `penalidade` na função objetivo.\n",
    "\n",
    "Vamos pensar como seria essa penalidade no problema da mochila: o nosso objetivo é maximizar o valor dos itens na mochila, então temos um problema de maximização. A função objetivo pode ser a soma dos itens da mochila. Se fosse apenas isso, teríamos\n",
    "\n",
    "$$\n",
    "f = \\sum_{i, i \\in \\mathrm{mochila}}\\mathrm{valor}(i).\n",
    "$$\n",
    "\n",
    "No entanto, apenas essa função não resolve o problema! Precisamos considerar o limite de peso da mochila. Para isso, *penalizamos* a função objetivo considerando essa restrição:\n",
    "\n",
    "$f=\\begin{cases}\n",
    "0 & \\textrm{se peso > limite da mochila}\\\\\n",
    "\\sum_{i,i\\in\\mathrm{mochila}}\\mathrm{valor}(i) & \\textrm{se peso} \\leq \\textrm{limite da mochila}\n",
    "\\end{cases}$\n",
    "\n"
   ]
  },
  {
   "cell_type": "markdown",
   "metadata": {},
   "source": [
    "## Objetivo\n",
    "\n"
   ]
  },
  {
   "cell_type": "markdown",
   "metadata": {},
   "source": [
    "Utilizar um algoritmo genético para encontrar uma solução para o problema da mochila. Considere que existem 10 itens diferentes (com pesos e valores diferentes) disponíveis para serem escolhidos. Considere que a mochila tem limite de peso de 5 quilogramas.\n",
    "\n"
   ]
  },
  {
   "cell_type": "markdown",
   "metadata": {},
   "source": [
    "## Descrição do problema\n",
    "\n"
   ]
  },
  {
   "cell_type": "markdown",
   "metadata": {},
   "source": [
    "No problema da mochila, você tem um número $n$ de itens disponíveis, cada um com um peso e um valor associado. Sua mochila consegue carregar um número $p$ de quilogramas, sendo que mais que isso faz com que sua mochila rasgue e todos os itens dentro dela caiam no chão e se quebrem de maneira catastrófica (indesejado). Sua tarefa é encontrar um conjunto de itens (considerando os $n$ disponíveis) que maximize o valor contido na mochila, porém que tenham um peso dentro da capacidade da mesma.\n",
    "\n"
   ]
  },
  {
   "cell_type": "markdown",
   "metadata": {},
   "source": [
    "# Lista de itens disponíveis"
   ]
  },
  {
   "cell_type": "code",
   "execution_count": 1,
   "metadata": {},
   "outputs": [],
   "source": [
    "ITENS = {\n",
    "    \"Capa da invisibilidade (não lavar com roupas coloridas)\": {\n",
    "        \"valor\": 299.99,\n",
    "        \"peso\": 0.5,\n",
    "    },\n",
    "    \"Chinelos mágicos feitos de nuvem (tamanho 42)\": {\n",
    "        \"valor\": 39.95,\n",
    "        \"peso\": 1.2,\n",
    "    },\n",
    "    \"Sacola de pipoca doce que nunca acaba (1 em cada 10 não tem sabor de nada)\": {\n",
    "        \"valor\": 10.99,\n",
    "        \"peso\": 1.6,\n",
    "    },\n",
    "    \"Controle universal (o botão de aumentar o ar condicionado está quebrado)\": {\n",
    "        \"valor\": 5.99,\n",
    "        \"peso\": 0.5,\n",
    "    },\n",
    "    \"Caixa com um milhão de cactos infláveis (disponível apenas na cor azul)\": {\n",
    "        \"valor\": 1.50,\n",
    "        \"peso\": 3.6,\n",
    "    },\n",
    "    \"Robô limpador de paredes (diagnosticado com depressão moderada)\": {\n",
    "        \"valor\": 42.50,\n",
    "        \"peso\": 10.8,\n",
    "    },\n",
    "    \"Réplica da espada do rei Artur (feita por monges míopes do Alasca)\": {\n",
    "        \"valor\": 12.50,\n",
    "        \"peso\": 4.9,\n",
    "    },\n",
    "    \"Saliva de um unicórnio de verdade (sabor levemente agridoce)\": {\n",
    "        \"valor\": 100.00,\n",
    "        \"peso\": 0.02,\n",
    "    },\n",
    "    \"Poção que faz todo alimento ter sabor de picles (dura 30 minutos)\": {\n",
    "        \"valor\": 2.99,\n",
    "        \"peso\": 1.4,\n",
    "    },\n",
    "    \"Conjunto de todos os conjuntos (será que ele contém ele mesmo?)\": {\n",
    "        \"valor\": 500.00,\n",
    "        \"peso\": 15.0,\n",
    "    },\n",
    "}"
   ]
  },
  {
   "cell_type": "markdown",
   "metadata": {},
   "source": [
    "## Resolução\n",
    "\n"
   ]
  },
  {
   "cell_type": "code",
   "execution_count": 2,
   "metadata": {},
   "outputs": [],
   "source": [
    "import random\n",
    "from pprint import pprint\n",
    "from functools import partial\n",
    "from itertools import product\n",
    "\n",
    "from funcoes_6 import funcao_objetivo_pop_mochila\n",
    "from funcoes_6 import populacao_cb as cria_populacao\n",
    "from funcoes_6 import selecao_roleta_max as funcao_selecao\n",
    "from funcoes_6 import cruzamento_uniforme as funcao_cruzamento\n",
    "from funcoes_6 import mutacao_simples_cb as funcao_mutacao\n",
    "from funcoes_6 import calcula_mochila\n",
    "from funcoes_6 import funcao_objetivo_mochila"
   ]
  },
  {
   "cell_type": "code",
   "execution_count": 3,
   "metadata": {},
   "outputs": [],
   "source": [
    "LIMITE = 5\n",
    "NUM_ITENS = len(ITENS)\n",
    "ORDEM_DOS_ITENS = list(sorted(ITENS.keys()))\n",
    "\n",
    "TAMANHO_POPULACAO = 10\n",
    "NUM_GERACOES = 50\n",
    "CHANCE_DE_CRUZAMENTO = 0.5\n",
    "CHANCE_DE_MUTACAO = 0.05"
   ]
  },
  {
   "cell_type": "code",
   "execution_count": 4,
   "metadata": {},
   "outputs": [],
   "source": [
    "funcao_objetivo = partial(funcao_objetivo_pop_mochila, \n",
    "                          itens=ITENS, \n",
    "                          ordem_dos_itens=ORDEM_DOS_ITENS, \n",
    "                          limite=LIMITE)"
   ]
  },
  {
   "cell_type": "code",
   "execution_count": 5,
   "metadata": {},
   "outputs": [
    {
     "name": "stdout",
     "output_type": "stream",
     "text": [
      "[[1, 0, 1, 0, 1, 0, 1, 0, 1, 0],\n",
      " [1, 1, 0, 1, 0, 1, 1, 0, 0, 0],\n",
      " [1, 0, 0, 0, 1, 1, 0, 0, 1, 1],\n",
      " [1, 0, 1, 0, 0, 0, 0, 0, 1, 1],\n",
      " [1, 0, 1, 0, 1, 1, 1, 0, 0, 0],\n",
      " [0, 1, 1, 1, 1, 0, 1, 0, 1, 0],\n",
      " [0, 1, 0, 1, 1, 0, 1, 0, 1, 1],\n",
      " [0, 0, 0, 0, 1, 1, 0, 1, 0, 0],\n",
      " [1, 0, 0, 0, 0, 0, 0, 1, 1, 0],\n",
      " [0, 0, 1, 1, 1, 1, 0, 1, 0, 1]]\n"
     ]
    }
   ],
   "source": [
    "populacao = cria_populacao(TAMANHO_POPULACAO, NUM_ITENS)\n",
    "pprint(populacao)"
   ]
  },
  {
   "cell_type": "code",
   "execution_count": 6,
   "metadata": {},
   "outputs": [],
   "source": [
    "hall_da_fama = []\n",
    "\n",
    "for n in range(NUM_GERACOES):\n",
    "    \n",
    "    # Seleção\n",
    "    fitness = funcao_objetivo(populacao)        \n",
    "    selecionados = funcao_selecao(populacao, fitness)\n",
    "    \n",
    "    # Cruzamento\n",
    "    proxima_geracao = []\n",
    "    for pai, mae in zip(selecionados[::2], selecionados[1::2]):\n",
    "        individuo1, individuo2 = funcao_cruzamento(pai, mae, CHANCE_DE_CRUZAMENTO)\n",
    "        proxima_geracao.append(individuo1)\n",
    "        proxima_geracao.append(individuo2)\n",
    "    \n",
    "    # Mutação\n",
    "    funcao_mutacao(proxima_geracao, CHANCE_DE_MUTACAO)\n",
    "    \n",
    "    # Atualização do hall da fama\n",
    "    fitness = funcao_objetivo(proxima_geracao)\n",
    "        \n",
    "    maior_fitness = max(fitness)\n",
    "    indice = fitness.index(maior_fitness)\n",
    "    hall_da_fama.append(proxima_geracao[indice])    \n",
    "    \n",
    "    # Encerramento\n",
    "    populacao = proxima_geracao"
   ]
  },
  {
   "cell_type": "code",
   "execution_count": 7,
   "metadata": {},
   "outputs": [
    {
     "name": "stdout",
     "output_type": "stream",
     "text": [
      "\n",
      "Você deve pegar os seguintes itens:\n",
      "+ Capa da invisibilidade (não lavar com roupas coloridas)\n",
      "+ Chinelos mágicos feitos de nuvem (tamanho 42)\n",
      "+ Controle universal (o botão de aumentar o ar condicionado está quebrado)\n",
      "+ Poção que faz todo alimento ter sabor de picles (dura 30 minutos)\n",
      "+ Saliva de um unicórnio de verdade (sabor levemente agridoce)\n",
      "\n",
      "Com isso, sua mochila terá o valor de 448.92 reais e peso de 3.62 quilogramas.\n"
     ]
    }
   ],
   "source": [
    "fitness = funcao_objetivo(hall_da_fama)\n",
    "maior_fitness = max(fitness)\n",
    "indice = fitness.index(maior_fitness)\n",
    "melhor_individuo_observado = hall_da_fama[indice]\n",
    "\n",
    "print()\n",
    "print(\"Você deve pegar os seguintes itens:\")\n",
    "\n",
    "for i in range(NUM_ITENS):\n",
    "    if melhor_individuo_observado[i] == 1:\n",
    "        print(\"+\", ORDEM_DOS_ITENS[i])\n",
    "\n",
    "print()\n",
    "\n",
    "peso_total, valor_total = calcula_mochila(melhor_individuo_observado, ITENS, ORDEM_DOS_ITENS)\n",
    "\n",
    "print(\n",
    "    f\"Com isso, sua mochila terá o valor de {valor_total:.2f} reais \"\n",
    "    f\"e peso de {peso_total:.2f} quilogramas.\"\n",
    ")"
   ]
  },
  {
   "cell_type": "code",
   "execution_count": 8,
   "metadata": {},
   "outputs": [
    {
     "name": "stdout",
     "output_type": "stream",
     "text": [
      "\n",
      "Você deve pegar os seguintes itens:\n",
      "+ Capa da invisibilidade (não lavar com roupas coloridas)\n",
      "+ Chinelos mágicos feitos de nuvem (tamanho 42)\n",
      "+ Controle universal (o botão de aumentar o ar condicionado está quebrado)\n",
      "+ Sacola de pipoca doce que nunca acaba (1 em cada 10 não tem sabor de nada)\n",
      "+ Saliva de um unicórnio de verdade (sabor levemente agridoce)\n",
      "\n",
      "Com isso, sua mochila terá o valor de 456.92 reais e peso de 3.82 quilogramas.\n"
     ]
    }
   ],
   "source": [
    "if NUM_ITENS <= 10:\n",
    "    melhor_fitness_ever = -float(\"inf\")\n",
    "\n",
    "    for candidato in product([0, 1], repeat=NUM_ITENS):\n",
    "        fobj = funcao_objetivo_mochila(candidato, ITENS, ORDEM_DOS_ITENS, LIMITE)\n",
    "        if fobj > melhor_fitness_ever:\n",
    "            melhor_fitness_ever = fobj\n",
    "            melhor_resposta_ever = candidato\n",
    "            \n",
    "    print()\n",
    "    print(\"Você deve pegar os seguintes itens:\")\n",
    "\n",
    "    for i in range(NUM_ITENS):\n",
    "        if melhor_resposta_ever[i] == 1:\n",
    "            print(\"+\", ORDEM_DOS_ITENS[i])\n",
    "\n",
    "    print()\n",
    "\n",
    "    peso_total, valor_total = calcula_mochila(melhor_resposta_ever, ITENS, ORDEM_DOS_ITENS)\n",
    "\n",
    "    print(\n",
    "        f\"Com isso, sua mochila terá o valor de {valor_total:.2f} reais \"\n",
    "        f\"e peso de {peso_total:.2f} quilogramas.\"\n",
    "    )"
   ]
  },
  {
   "cell_type": "code",
   "execution_count": null,
   "metadata": {},
   "outputs": [],
   "source": []
  }
 ],
 "metadata": {
  "kernelspec": {
   "display_name": "ilumpy",
   "language": "python",
   "name": "ilumpy"
  },
  "language_info": {
   "codemirror_mode": {
    "name": "ipython",
    "version": 3
   },
   "file_extension": ".py",
   "mimetype": "text/x-python",
   "name": "python",
   "nbconvert_exporter": "python",
   "pygments_lexer": "ipython3",
   "version": "3.10.12"
  },
  "org": null
 },
 "nbformat": 4,
 "nbformat_minor": 4
}
