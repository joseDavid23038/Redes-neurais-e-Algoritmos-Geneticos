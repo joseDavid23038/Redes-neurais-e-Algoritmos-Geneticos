{
 "cells": [
  {
   "cell_type": "markdown",
   "metadata": {},
   "source": [
    "Módulo DEAP --- uma introdução\n",
    "==============================\n",
    "\n"
   ]
  },
  {
   "cell_type": "markdown",
   "metadata": {},
   "source": [
    "## Introdução e importações\n",
    "\n"
   ]
  },
  {
   "cell_type": "markdown",
   "metadata": {},
   "source": [
    "O módulo `DEAP` nos ajuda a construir algoritmos genéticos, fornecendo funções prontas para realizar diversas tarefas que estudamos durante o curso e muitas outras mais. Este módulo tem 3 submódulos que iremos utilizar:\n",
    "\n",
    "-   `base`: este é o submódulo de base. É usando ele que iremos criar nossa caixa de ferramentas (`toolbox`) e nossa classe para computar a *fitness* dos indivíduos.\n",
    "\n",
    "-   `tools`: este é o submódulo onde encontramos os operadores genéticos. Com as funções deste submódulo podemos criar indivíduos, populações, selecionar indivíduos, aplicar mutações e cruzamento.\n",
    "\n",
    "-   `creator`: este é o submódulo que utilizaremos para criar coisas.\n",
    "\n",
    "Para importar estes 3 submódulos basta rodar o código abaixo.\n",
    "\n"
   ]
  },
  {
   "cell_type": "code",
   "execution_count": 1,
   "metadata": {},
   "outputs": [],
   "source": [
    "from deap import base\n",
    "from deap import tools\n",
    "from deap import creator"
   ]
  },
  {
   "cell_type": "markdown",
   "metadata": {},
   "source": [
    "Vamos importar também o &ldquo;resolvedor&rdquo; de algoritmos genéticos do `DEAP`. O que este &ldquo;resolvedor&rdquo; faz ficará mais claro ao longo deste notebook.\n",
    "\n"
   ]
  },
  {
   "cell_type": "code",
   "execution_count": 2,
   "metadata": {},
   "outputs": [],
   "source": [
    "from deap.algorithms import eaSimple"
   ]
  },
  {
   "cell_type": "markdown",
   "metadata": {},
   "source": [
    "Agora vamos importar as funções e módulos que usaremos ao longo do notebook.\n",
    "\n"
   ]
  },
  {
   "cell_type": "code",
   "execution_count": 3,
   "metadata": {},
   "outputs": [],
   "source": [
    "from pprint import pprint\n",
    "import numpy as np\n",
    "from funcoes_7 import gene_cb"
   ]
  },
  {
   "cell_type": "markdown",
   "metadata": {},
   "source": [
    "## Problema das caixas binárias usando `DEAP` e a função `eaSimple`\n",
    "\n"
   ]
  },
  {
   "cell_type": "markdown",
   "metadata": {},
   "source": [
    "Antes de iniciar o problema, vamos definir as constantes.\n",
    "\n"
   ]
  },
  {
   "cell_type": "code",
   "execution_count": 4,
   "metadata": {},
   "outputs": [],
   "source": [
    "NUM_CAIXAS = 4\n",
    "\n",
    "TAMANHO_POPULACAO = 10\n",
    "NUM_GERACOES = 50\n",
    "CHANCE_DE_CRUZAMENTO = 0.5\n",
    "CHANCE_DE_MUTACAO = 0.05\n",
    "CHANCE_DE_MUTACAO_POR_GENE = 0.25\n",
    "TAMANHO_TORNEIO = 3\n",
    "TAMANHO_HALL_DA_FAMA = 1"
   ]
  },
  {
   "cell_type": "markdown",
   "metadata": {},
   "source": [
    "Vamos resolver o problema das caixas binárias usando o `DEAP`. O primeiro passo é definir se o problema que iremos resolver é de maximização ou de minimização. Neste caso, sabemos que o problema das caixas binárias é de maximização. Para informar isto ao `DEAP` iremos utilizar o `creator` da seguinte maneira:\n",
    "\n"
   ]
  },
  {
   "cell_type": "code",
   "execution_count": 5,
   "metadata": {},
   "outputs": [],
   "source": [
    "creator.create(\"FitnessMax\", base.Fitness, weights=(1.0,))"
   ]
  },
  {
   "cell_type": "markdown",
   "metadata": {},
   "source": [
    "No código acima, usamos o `creator.create` com os seguintes argumentos:\n",
    "\n",
    "-   `\"FitnessMax\"`: este argumento é uma string e podemos dar o nome que quisermos. É recomendado dar o nome `\"FitnessMax\"` em problemas de maximização ou `\"FitnessMin\"` em problemas de minimização. É recomendado usar a primeira letra maiúscula.\n",
    "\n",
    "-   `base.Fitness`: este argumento deve ser a classe de base que irá cuidar da nossa *fitness*. Não altere a menos que você saiba o que está fazendo.\n",
    "\n",
    "-   `weights=(1.0,)`: este argumento deve ser uma tupla indicando os pesos de cada objetivo do seu problema. Se você tem apenas um objetivo e o problema é de maximização use `weights=(1.0,)`. Se você tem apenas um objetivo e o problema é de minimização use `weights=(-1.0,)`. Um erro comum é não representar este argumento como uma tupla.\n",
    "\n",
    "Agora, vamos definir a estrutura de dados do nosso indivíduo. Para isso usamos o código abaixo.\n",
    "\n"
   ]
  },
  {
   "cell_type": "code",
   "execution_count": 6,
   "metadata": {},
   "outputs": [],
   "source": [
    "creator.create(\"Individuo\", list, fitness=creator.FitnessMax)"
   ]
  },
  {
   "cell_type": "markdown",
   "metadata": {},
   "source": [
    "No código acima, usamos o `creator.create` com os seguintes argumentos:\n",
    "\n",
    "-   `\"Individuo\"`: string. Pode usar a string que quiser, mas é recomendado usar uma string expressiva como `\"Individuo\"` ou `\"Individual\"`. É recomendado usar a primeira letra maiúscula.\n",
    "\n",
    "-   `list`: este argumento é a estrutura de dados que será utilizada para representar um indivíduo. Neste caso estamos usando uma lista.\n",
    "\n",
    "-   `fitness=creator.FitnessMax`: este argumento está relacionado com o primeiro `creator` que rodamos para descrever o *fitness*. Se tivéssemos dado outro nome para o `FitnessMax` acima, deveríamos usar o mesmo nome aqui.\n",
    "\n",
    "O próximo passo é criar a nossa <u>caixa de ferramentas</u>. A caixa de ferramenta, como o nome sugere, vai armazenar as ferramentas que usaremos para construir indivíduos, populações e operar geneticamente sobre eles. Para criar a caixa de ferramentas fazemos o seguinte:\n",
    "\n"
   ]
  },
  {
   "cell_type": "code",
   "execution_count": 7,
   "metadata": {},
   "outputs": [],
   "source": [
    "toolbox = base.Toolbox()"
   ]
  },
  {
   "cell_type": "markdown",
   "metadata": {},
   "source": [
    "Afinal, o que é uma caixa de ferramentas sem ferramentas? Vamos adicionar ferramentas na nossa caixa! A estrutura para adicionar uma ferramenta é sempre a mesma:\n",
    "\n",
    "1.  Usamos o método `register` da nossa caixa de ferramentas.\n",
    "2.  O primeiro argumento do método é o nome da ferramenta. Nós que escolhemos!\n",
    "3.  O segundo argumento do método é a função que será executada quando usarmos a nossa ferramenta.\n",
    "4.  Os demais argumentos do `register` são os argumentos que serão passados para a função do passo 3.\n",
    "\n",
    "Vamos ver um exemplo criando uma ferramenta que cria um indivíduo:\n",
    "\n"
   ]
  },
  {
   "cell_type": "code",
   "execution_count": 8,
   "metadata": {},
   "outputs": [],
   "source": [
    "toolbox.register(\n",
    "    \"cria_individuo\", tools.initRepeat, creator.Individuo, gene_cb, NUM_CAIXAS\n",
    ")"
   ]
  },
  {
   "cell_type": "markdown",
   "metadata": {},
   "source": [
    "Indo pela ordem que comentamos acima, sabemos que o nome da nossa nova ferramenta é `cria_individuo`. Quando essa ferramenta for usada, ela irá chamar a função `tools.initRepeat` com os seguintes argumentos: `creator.Individuo`, `gene_cb` e `NUM_CAIXAS`.\n",
    "\n",
    "A função `tools.initRepeat` serve para criar um objeto através da repetição do uso de uma função. Neste exemplo, estamos criando um objeto do tipo `creator.Individuo` (que definimos lá em cima como sendo uma lista com uma certa propriedade de fitness) e para criar este objeto nós rodamos a função `gene_cb` um total de `NUM_CAIXAS` de vezes e armazenamos o resultado na lista. Veja que essa estratégia é a mesma que usamos na função `cria_candidato_cb` que criamos no `funcoes.py`.\n",
    "\n",
    "Se mesmo com o parágrafo anterior ainda não ficou claro, veja a função `tools.initRepeat` sendo usada separadamente para ver como ela funciona.\n",
    "\n"
   ]
  },
  {
   "cell_type": "code",
   "execution_count": 9,
   "metadata": {},
   "outputs": [
    {
     "name": "stdout",
     "output_type": "stream",
     "text": [
      "[1, 1, 1, 1]\n"
     ]
    }
   ],
   "source": [
    "uma_caixa_binaria = tools.initRepeat(list, gene_cb, NUM_CAIXAS)\n",
    "print(uma_caixa_binaria)"
   ]
  },
  {
   "cell_type": "markdown",
   "metadata": {},
   "source": [
    "Vamos testar nossa ferramenta recém criada?\n",
    "\n"
   ]
  },
  {
   "cell_type": "code",
   "execution_count": 10,
   "metadata": {},
   "outputs": [
    {
     "name": "stdout",
     "output_type": "stream",
     "text": [
      "[0, 1, 1, 0]\n"
     ]
    }
   ],
   "source": [
    "um_individuo_qualquer = toolbox.cria_individuo()\n",
    "print(um_individuo_qualquer)"
   ]
  },
  {
   "cell_type": "markdown",
   "metadata": {},
   "source": [
    "Agora veremos como criar uma ferramenta para criar populações:\n",
    "\n"
   ]
  },
  {
   "cell_type": "code",
   "execution_count": 11,
   "metadata": {},
   "outputs": [],
   "source": [
    "toolbox.register(\n",
    "    \"populacao\", tools.initRepeat, list, toolbox.cria_individuo, TAMANHO_POPULACAO\n",
    ")"
   ]
  },
  {
   "cell_type": "markdown",
   "metadata": {},
   "source": [
    "Veja que usamos novamente o `tools.initRepeat` aqui, onde iremos armazenar em uma lista os indivíduos gerados pela ferramenta `toolbox.cria_individuo` que acabamos de criar logo acima. Vamos testar nossa nova ferramenta!\n",
    "\n"
   ]
  },
  {
   "cell_type": "code",
   "execution_count": 12,
   "metadata": {},
   "outputs": [
    {
     "name": "stdout",
     "output_type": "stream",
     "text": [
      "[[0, 1, 1, 1],\n",
      " [0, 0, 0, 0],\n",
      " [1, 0, 0, 1],\n",
      " [1, 1, 0, 0],\n",
      " [0, 1, 0, 1],\n",
      " [0, 1, 0, 1],\n",
      " [0, 0, 1, 0],\n",
      " [1, 0, 0, 1],\n",
      " [1, 0, 0, 1],\n",
      " [0, 1, 0, 0]]\n"
     ]
    }
   ],
   "source": [
    "populacao = toolbox.populacao()\n",
    "pprint(populacao)"
   ]
  },
  {
   "cell_type": "markdown",
   "metadata": {},
   "source": [
    "Nossa próxima tarefa é criar a ferramenta que computa o valor de *fitness*. Para isso precisamos escrever uma função que compute o valor de *fitness* de um indivíduo. Já fizemos isso! É a função `funcao_objetivo_cb` do nosso arquivo `funcoes.py`. No entanto, o `DEAP` tem uma característica muito peculiar que ele <u>requer</u> que a função objetivo retorne uma tupla, e não um número. Essa peculiaridade é do próprio `DEAP`, não temos muito o que fazer a não ser seguir o que ele manda aqui. Para reescrever a função que já tínhamos escrito para retornar uma tupla é muito fácil! Veja abaixo.\n",
    "\n"
   ]
  },
  {
   "cell_type": "code",
   "execution_count": 13,
   "metadata": {},
   "outputs": [],
   "source": [
    "def funcao_objetivo_cb(individuo):\n",
    "    \"\"\"Computa a função objetivo no problema das caixas binárias.\n",
    "\n",
    "    Args:\n",
    "      individiuo: lista contendo os genes das caixas binárias\n",
    "    \"\"\"\n",
    "    return (sum(individuo), )"
   ]
  },
  {
   "cell_type": "markdown",
   "metadata": {},
   "source": [
    "Vamos criar a ferramenta que computa o *fitness*. Aqui daremos o nome de `evaluate` para essa ferramenta pois é o nome que o `DEAP` espera, por isso não traduzimos para o português.\n",
    "\n"
   ]
  },
  {
   "cell_type": "code",
   "execution_count": 14,
   "metadata": {},
   "outputs": [],
   "source": [
    "toolbox.register(\"evaluate\", funcao_objetivo_cb)"
   ]
  },
  {
   "cell_type": "markdown",
   "metadata": {},
   "source": [
    "Faltam apenas os operadores genéticos de seleção, cruzamento e mutação! Para seleção, vamos usar a seleção por torneio! O `DEAP` já tem essa função implementada em `tools.selTournament`. Aqui daremos o nome de `select` para essa ferramenta pois é o nome que o `DEAP` espera, por isso não traduzimos.\n",
    "\n"
   ]
  },
  {
   "cell_type": "code",
   "execution_count": 15,
   "metadata": {},
   "outputs": [],
   "source": [
    "toolbox.register(\n",
    "    \"select\", tools.selTournament, tournsize=TAMANHO_TORNEIO\n",
    ")"
   ]
  },
  {
   "cell_type": "markdown",
   "metadata": {},
   "source": [
    "Para cruzamento vamos utilizar o cruzamento de ponto simples. Novamente, o `DEAP` já tem essa função em `tools.cxOnePoint`. Aqui daremos o nome de `mate` para essa ferramenta pois é o nome que o `DEAP` espera, por isso não traduzimos.\n",
    "\n"
   ]
  },
  {
   "cell_type": "code",
   "execution_count": 16,
   "metadata": {},
   "outputs": [],
   "source": [
    "toolbox.register(\"mate\", tools.cxOnePoint)"
   ]
  },
  {
   "cell_type": "markdown",
   "metadata": {},
   "source": [
    "Finalmente, para mutação vamos usar a função de *flip bit*. Esta função é basicamente a função `mutacao_sucessiva_cb`. A chance de cada gene mutar é definida pelo parâmetro `indpb` abaixo. Aqui daremos o nome de `mutate` para essa ferramenta pois é o nome que o `DEAP` espera, por isso não traduzimos.\n",
    "\n"
   ]
  },
  {
   "cell_type": "code",
   "execution_count": 17,
   "metadata": {},
   "outputs": [],
   "source": [
    "toolbox.register(\"mutate\", tools.mutFlipBit, indpb=CHANCE_DE_MUTACAO_POR_GENE)"
   ]
  },
  {
   "cell_type": "markdown",
   "metadata": {},
   "source": [
    "O `DEAP` nos permite criar facilmente um hall da fama do tamanho que quisermos. Este hall da fama guardará apenas os melhores $n$ indivíduos observados durante toda a busca (sem repetição).\n",
    "\n"
   ]
  },
  {
   "cell_type": "code",
   "execution_count": 18,
   "metadata": {},
   "outputs": [],
   "source": [
    "hall_da_fama = tools.HallOfFame(TAMANHO_HALL_DA_FAMA)"
   ]
  },
  {
   "cell_type": "markdown",
   "metadata": {},
   "source": [
    "E, para encerrar, temos também como acompanhar as estatísticas da nossa busca em tempo real! Para isso usamos o `tools.Statistics`. Veja um exemplo abaixo.\n",
    "\n"
   ]
  },
  {
   "cell_type": "code",
   "execution_count": 19,
   "metadata": {},
   "outputs": [],
   "source": [
    "estatisticas = tools.Statistics(lambda ind: ind.fitness.values)\n",
    "estatisticas.register(\"média\", np.mean)\n",
    "estatisticas.register(\"desv. padrão\", np.std)\n",
    "estatisticas.register(\"min\", np.min)\n",
    "estatisticas.register(\"max\", np.max)"
   ]
  },
  {
   "cell_type": "markdown",
   "metadata": {},
   "source": [
    "Pronto! Temos tudo que precisamos, podemos rodar nosso algoritmo genético usando o `eaSimple`. Esta é uma função que recebe todas as informações sobre o algoritmo genético e evolui ele &ldquo;automaticamente&rdquo;.\n",
    "\n"
   ]
  },
  {
   "cell_type": "code",
   "execution_count": 20,
   "metadata": {},
   "outputs": [
    {
     "name": "stdout",
     "output_type": "stream",
     "text": [
      "gen\tnevals\tmédia\tdesv. padrão\tmin\tmax\n",
      "0  \t10    \t2.3  \t0.640312    \t1  \t3  \n",
      "1  \t6     \t2.8  \t0.6         \t2  \t4  \n",
      "2  \t4     \t3    \t0.447214    \t2  \t4  \n",
      "3  \t3     \t3.3  \t0.458258    \t3  \t4  \n",
      "4  \t0     \t3.7  \t0.458258    \t3  \t4  \n",
      "5  \t7     \t4    \t0           \t4  \t4  \n",
      "6  \t3     \t4    \t0           \t4  \t4  \n",
      "7  \t6     \t4    \t0           \t4  \t4  \n",
      "8  \t7     \t3.4  \t1.2         \t0  \t4  \n",
      "9  \t2     \t3.8  \t0.4         \t3  \t4  \n",
      "10 \t4     \t4    \t0           \t4  \t4  \n",
      "11 \t2     \t4    \t0           \t4  \t4  \n",
      "12 \t6     \t4    \t0           \t4  \t4  \n",
      "13 \t6     \t4    \t0           \t4  \t4  \n",
      "14 \t8     \t4    \t0           \t4  \t4  \n",
      "15 \t6     \t4    \t0           \t4  \t4  \n",
      "16 \t6     \t4    \t0           \t4  \t4  \n",
      "17 \t3     \t3.8  \t0.6         \t2  \t4  \n",
      "18 \t6     \t4    \t0           \t4  \t4  \n",
      "19 \t6     \t4    \t0           \t4  \t4  \n",
      "20 \t6     \t4    \t0           \t4  \t4  \n",
      "21 \t7     \t3.9  \t0.3         \t3  \t4  \n",
      "22 \t6     \t4    \t0           \t4  \t4  \n",
      "23 \t4     \t4    \t0           \t4  \t4  \n",
      "24 \t8     \t4    \t0           \t4  \t4  \n",
      "25 \t4     \t4    \t0           \t4  \t4  \n",
      "26 \t2     \t4    \t0           \t4  \t4  \n",
      "27 \t6     \t3.9  \t0.3         \t3  \t4  \n",
      "28 \t6     \t4    \t0           \t4  \t4  \n",
      "29 \t6     \t4    \t0           \t4  \t4  \n",
      "30 \t4     \t3.9  \t0.3         \t3  \t4  \n",
      "31 \t6     \t4    \t0           \t4  \t4  \n",
      "32 \t8     \t4    \t0           \t4  \t4  \n",
      "33 \t4     \t3.9  \t0.3         \t3  \t4  \n",
      "34 \t2     \t4    \t0           \t4  \t4  \n",
      "35 \t2     \t4    \t0           \t4  \t4  \n",
      "36 \t4     \t3.8  \t0.6         \t2  \t4  \n",
      "37 \t7     \t3.6  \t0.663325    \t2  \t4  \n",
      "38 \t6     \t3.9  \t0.3         \t3  \t4  \n",
      "39 \t6     \t4    \t0           \t4  \t4  \n",
      "40 \t6     \t4    \t0           \t4  \t4  \n",
      "41 \t6     \t4    \t0           \t4  \t4  \n",
      "42 \t4     \t4    \t0           \t4  \t4  \n",
      "43 \t8     \t4    \t0           \t4  \t4  \n",
      "44 \t6     \t3.8  \t0.6         \t2  \t4  \n",
      "45 \t6     \t4    \t0           \t4  \t4  \n",
      "46 \t8     \t4    \t0           \t4  \t4  \n",
      "47 \t6     \t3.9  \t0.3         \t3  \t4  \n",
      "48 \t7     \t3.9  \t0.3         \t3  \t4  \n",
      "49 \t4     \t3.9  \t0.3         \t3  \t4  \n",
      "50 \t4     \t4    \t0           \t4  \t4  \n"
     ]
    }
   ],
   "source": [
    "populacao_inicial = toolbox.populacao()\n",
    "\n",
    "populacao_final, log = eaSimple(\n",
    "    populacao_inicial,\n",
    "    toolbox,\n",
    "    cxpb=CHANCE_DE_CRUZAMENTO,\n",
    "    mutpb=CHANCE_DE_MUTACAO,\n",
    "    ngen=NUM_GERACOES,\n",
    "    stats=estatisticas,\n",
    "    halloffame=hall_da_fama,\n",
    "    verbose=True,\n",
    ")"
   ]
  },
  {
   "cell_type": "markdown",
   "metadata": {},
   "source": [
    "Podemos acessar o registro da nossa busca pela variável `log`.\n",
    "\n"
   ]
  },
  {
   "cell_type": "code",
   "execution_count": 21,
   "metadata": {},
   "outputs": [
    {
     "name": "stdout",
     "output_type": "stream",
     "text": [
      "gen\tnevals\tmédia\tdesv. padrão\tmin\tmax\n",
      "0  \t10    \t2.3  \t0.640312    \t1  \t3  \n",
      "1  \t6     \t2.8  \t0.6         \t2  \t4  \n",
      "2  \t4     \t3    \t0.447214    \t2  \t4  \n",
      "3  \t3     \t3.3  \t0.458258    \t3  \t4  \n",
      "4  \t0     \t3.7  \t0.458258    \t3  \t4  \n",
      "5  \t7     \t4    \t0           \t4  \t4  \n",
      "6  \t3     \t4    \t0           \t4  \t4  \n",
      "7  \t6     \t4    \t0           \t4  \t4  \n",
      "8  \t7     \t3.4  \t1.2         \t0  \t4  \n",
      "9  \t2     \t3.8  \t0.4         \t3  \t4  \n",
      "10 \t4     \t4    \t0           \t4  \t4  \n",
      "11 \t2     \t4    \t0           \t4  \t4  \n",
      "12 \t6     \t4    \t0           \t4  \t4  \n",
      "13 \t6     \t4    \t0           \t4  \t4  \n",
      "14 \t8     \t4    \t0           \t4  \t4  \n",
      "15 \t6     \t4    \t0           \t4  \t4  \n",
      "16 \t6     \t4    \t0           \t4  \t4  \n",
      "17 \t3     \t3.8  \t0.6         \t2  \t4  \n",
      "18 \t6     \t4    \t0           \t4  \t4  \n",
      "19 \t6     \t4    \t0           \t4  \t4  \n",
      "20 \t6     \t4    \t0           \t4  \t4  \n",
      "21 \t7     \t3.9  \t0.3         \t3  \t4  \n",
      "22 \t6     \t4    \t0           \t4  \t4  \n",
      "23 \t4     \t4    \t0           \t4  \t4  \n",
      "24 \t8     \t4    \t0           \t4  \t4  \n",
      "25 \t4     \t4    \t0           \t4  \t4  \n",
      "26 \t2     \t4    \t0           \t4  \t4  \n",
      "27 \t6     \t3.9  \t0.3         \t3  \t4  \n",
      "28 \t6     \t4    \t0           \t4  \t4  \n",
      "29 \t6     \t4    \t0           \t4  \t4  \n",
      "30 \t4     \t3.9  \t0.3         \t3  \t4  \n",
      "31 \t6     \t4    \t0           \t4  \t4  \n",
      "32 \t8     \t4    \t0           \t4  \t4  \n",
      "33 \t4     \t3.9  \t0.3         \t3  \t4  \n",
      "34 \t2     \t4    \t0           \t4  \t4  \n",
      "35 \t2     \t4    \t0           \t4  \t4  \n",
      "36 \t4     \t3.8  \t0.6         \t2  \t4  \n",
      "37 \t7     \t3.6  \t0.663325    \t2  \t4  \n",
      "38 \t6     \t3.9  \t0.3         \t3  \t4  \n",
      "39 \t6     \t4    \t0           \t4  \t4  \n",
      "40 \t6     \t4    \t0           \t4  \t4  \n",
      "41 \t6     \t4    \t0           \t4  \t4  \n",
      "42 \t4     \t4    \t0           \t4  \t4  \n",
      "43 \t8     \t4    \t0           \t4  \t4  \n",
      "44 \t6     \t3.8  \t0.6         \t2  \t4  \n",
      "45 \t6     \t4    \t0           \t4  \t4  \n",
      "46 \t8     \t4    \t0           \t4  \t4  \n",
      "47 \t6     \t3.9  \t0.3         \t3  \t4  \n",
      "48 \t7     \t3.9  \t0.3         \t3  \t4  \n",
      "49 \t4     \t3.9  \t0.3         \t3  \t4  \n",
      "50 \t4     \t4    \t0           \t4  \t4  \n"
     ]
    }
   ],
   "source": [
    "print(log)"
   ]
  },
  {
   "cell_type": "markdown",
   "metadata": {},
   "source": [
    "Podemos acessar o nosso hall da fama da seguinte maneira:\n",
    "\n"
   ]
  },
  {
   "cell_type": "code",
   "execution_count": 22,
   "metadata": {},
   "outputs": [
    {
     "name": "stdout",
     "output_type": "stream",
     "text": [
      "[[1, 1, 1, 1]]\n"
     ]
    }
   ],
   "source": [
    "print(hall_da_fama.items)"
   ]
  }
 ],
 "metadata": {
  "kernelspec": {
   "display_name": "Python 3.10.8 64-bit",
   "language": "python",
   "name": "python3"
  },
  "language_info": {
   "codemirror_mode": {
    "name": "ipython",
    "version": 3
   },
   "file_extension": ".py",
   "mimetype": "text/x-python",
   "name": "python",
   "nbconvert_exporter": "python",
   "pygments_lexer": "ipython3",
   "version": "3.10.8"
  },
  "org": null,
  "vscode": {
   "interpreter": {
    "hash": "26de051ba29f2982a8de78e945f0abaf191376122a1563185a90213a26c5da77"
   }
  }
 },
 "nbformat": 4,
 "nbformat_minor": 4
}
