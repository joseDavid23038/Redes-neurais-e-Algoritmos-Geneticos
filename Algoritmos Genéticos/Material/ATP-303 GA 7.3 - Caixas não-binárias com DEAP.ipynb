{
 "cells": [
  {
   "cell_type": "markdown",
   "metadata": {},
   "source": [
    "Módulo DEAP --- caixas não-binárias\n",
    "===================================\n",
    "\n"
   ]
  },
  {
   "cell_type": "markdown",
   "metadata": {},
   "source": [
    "Vamos resolver o problema das caixas não-binárias com o `DEAP`DEAP. O início da resolução é similar.\n",
    "\n"
   ]
  },
  {
   "cell_type": "code",
   "execution_count": 1,
   "metadata": {},
   "outputs": [],
   "source": [
    "import numpy as np\n",
    "from deap import base\n",
    "from deap import tools\n",
    "from deap import creator\n",
    "from deap.algorithms import eaSimple\n",
    "\n",
    "from funcoes_7 import gene_cnb"
   ]
  },
  {
   "cell_type": "code",
   "execution_count": 2,
   "metadata": {},
   "outputs": [],
   "source": [
    "NUM_CAIXAS = 4\n",
    "VALOR_MAX_CAIXA = 100\n",
    "\n",
    "TAMANHO_POPULACAO = 10\n",
    "NUM_GERACOES = 50\n",
    "CHANCE_DE_CRUZAMENTO = 0.5\n",
    "CHANCE_DE_MUTACAO = 0.05\n",
    "CHANCE_DE_MUTACAO_POR_GENE = 0.25\n",
    "TAMANHO_TORNEIO = 3\n",
    "TAMANHO_HALL_DA_FAMA = 1"
   ]
  },
  {
   "cell_type": "code",
   "execution_count": 3,
   "metadata": {},
   "outputs": [],
   "source": [
    "def funcao_objetivo_cnb(individuo):\n",
    "    \"\"\"Computa a função objetivo no problema das caixas não-binárias.\n",
    "\n",
    "    Args:\n",
    "      individiuo: lista contendo os genes das caixas não-binárias\n",
    "    \"\"\"\n",
    "    return (sum(individuo), )"
   ]
  },
  {
   "cell_type": "code",
   "execution_count": 4,
   "metadata": {},
   "outputs": [],
   "source": [
    "creator.create(\"FitnessMax\", base.Fitness, weights=(1.0,))\n",
    "creator.create(\"Individuo\", list, fitness=creator.FitnessMax)\n",
    "\n",
    "toolbox = base.Toolbox()"
   ]
  },
  {
   "cell_type": "markdown",
   "metadata": {},
   "source": [
    "Até aqui não observamos diferença no uso do `DEAP`. Para dar o próximo passo, observamos que a função `gene_cnb` recebe um argumento (que é o valor máximo das caixas). Essa é uma diferença com relação à função `gene_cb` que não recebia nenhum argumento. Precisamos criar uma ferramenta na nossa `toolbox` que mostre para o `DEAP` como gerar um gene neste problema específico.\n",
    "\n"
   ]
  },
  {
   "cell_type": "code",
   "execution_count": 5,
   "metadata": {},
   "outputs": [],
   "source": [
    "toolbox.register(\"cria_gene\", gene_cnb, VALOR_MAX_CAIXA)"
   ]
  },
  {
   "cell_type": "markdown",
   "metadata": {},
   "source": [
    "De certa maneira, a célula de código acima cria uma *função parcial* dentro da `toolbox` chamada `cria_gene` que irá rodar a função `gene_cnb` passando para ela o argumento `VALOR_MAX_CAIXA`.\n",
    "\n",
    "Com esta nova função, temos uma alteração na ferramenta `cria_individuo`:\n",
    "\n"
   ]
  },
  {
   "cell_type": "code",
   "execution_count": 6,
   "metadata": {},
   "outputs": [],
   "source": [
    "toolbox.register(\n",
    "    \"cria_individuo\",\n",
    "    tools.initRepeat,\n",
    "    creator.Individuo,\n",
    "    toolbox.cria_gene,\n",
    "    NUM_CAIXAS,\n",
    ")"
   ]
  },
  {
   "cell_type": "markdown",
   "metadata": {},
   "source": [
    "Mantemos as ferramentas de `populacao`, `evaluate` e `select` da mesma maneira que fizemos no problema das caixas binárias.\n",
    "\n"
   ]
  },
  {
   "cell_type": "code",
   "execution_count": 7,
   "metadata": {},
   "outputs": [],
   "source": [
    "toolbox.register(\n",
    "    \"populacao\", tools.initRepeat, list, toolbox.cria_individuo, TAMANHO_POPULACAO\n",
    ")\n",
    "\n",
    "toolbox.register(\"evaluate\", funcao_objetivo_cnb)\n",
    "\n",
    "toolbox.register(\n",
    "    \"select\", tools.selTournament, tournsize=TAMANHO_TORNEIO\n",
    ")"
   ]
  },
  {
   "cell_type": "markdown",
   "metadata": {},
   "source": [
    "Para resolver este problema, vamos usar a mutação de ponto duplo.\n",
    "\n"
   ]
  },
  {
   "cell_type": "code",
   "execution_count": 8,
   "metadata": {},
   "outputs": [],
   "source": [
    "toolbox.register(\"mate\", tools.cxTwoPoint)"
   ]
  },
  {
   "cell_type": "markdown",
   "metadata": {},
   "source": [
    "Como não podemos mais usar a mutação de *flip bit*, precisamos escolher outra. Usaremos a `mutUniformInt` que é bastante similar à função `mutacao_sucessiva_cnb` que nós criamos.\n",
    "\n"
   ]
  },
  {
   "cell_type": "code",
   "execution_count": 9,
   "metadata": {},
   "outputs": [],
   "source": [
    "toolbox.register(\n",
    "    \"mutate\",\n",
    "    tools.mutUniformInt,\n",
    "    low=0,  # valor mínimo da caixa\n",
    "    up=VALOR_MAX_CAIXA,\n",
    "    indpb=CHANCE_DE_MUTACAO_POR_GENE,\n",
    ")"
   ]
  },
  {
   "cell_type": "markdown",
   "metadata": {},
   "source": [
    "O restante do código permanece o mesmo que vimos nas caixas binárias.\n",
    "\n"
   ]
  },
  {
   "cell_type": "code",
   "execution_count": 10,
   "metadata": {},
   "outputs": [
    {
     "name": "stdout",
     "output_type": "stream",
     "text": [
      "gen\tnevals\tmédia\tdesv. padrão\tmin\tmax\n",
      "0  \t10    \t201.2\t41.9447     \t143\t255\n",
      "1  \t5     \t227.1\t46.8881     \t152\t306\n",
      "2  \t6     \t260.6\t34.4244     \t206\t306\n",
      "3  \t6     \t299.4\t26.3295     \t255\t352\n",
      "4  \t6     \t297.2\t34.3505     \t255\t352\n",
      "5  \t6     \t307.4\t32.088      \t228\t352\n",
      "6  \t6     \t333.6\t22.5353     \t306\t352\n",
      "7  \t5     \t341  \t33          \t242\t352\n",
      "8  \t2     \t352  \t0           \t352\t352\n",
      "9  \t2     \t352  \t0           \t352\t352\n",
      "10 \t5     \t348.5\t10.5        \t317\t352\n",
      "11 \t10    \t352  \t0           \t352\t352\n",
      "12 \t6     \t352  \t0           \t352\t352\n",
      "13 \t4     \t352.2\t0.6         \t352\t354\n",
      "14 \t5     \t347.6\t15.8947     \t300\t354\n",
      "15 \t3     \t352.1\t5.06853     \t337\t354\n",
      "16 \t4     \t354  \t0           \t354\t354\n",
      "17 \t4     \t354  \t0           \t354\t354\n",
      "18 \t8     \t354  \t0           \t354\t354\n",
      "19 \t0     \t354  \t0           \t354\t354\n",
      "20 \t8     \t354  \t0           \t354\t354\n",
      "21 \t4     \t347.5\t19.5        \t289\t354\n",
      "22 \t4     \t350.8\t9.6         \t322\t354\n",
      "23 \t10    \t347.1\t20.7        \t285\t354\n",
      "24 \t6     \t348.4\t16.8        \t298\t354\n",
      "25 \t8     \t354  \t0           \t354\t354\n",
      "26 \t4     \t354  \t0           \t354\t354\n",
      "27 \t6     \t354  \t0           \t354\t354\n",
      "28 \t6     \t354  \t0           \t354\t354\n",
      "29 \t1     \t354  \t0           \t354\t354\n",
      "30 \t7     \t347  \t21          \t284\t354\n",
      "31 \t8     \t354  \t0           \t354\t354\n",
      "32 \t3     \t354  \t0           \t354\t354\n",
      "33 \t2     \t354  \t0           \t354\t354\n",
      "34 \t6     \t344.2\t29.4        \t256\t354\n",
      "35 \t2     \t354  \t0           \t354\t354\n",
      "36 \t4     \t354  \t0           \t354\t354\n",
      "37 \t4     \t354  \t0           \t354\t354\n",
      "38 \t4     \t343.2\t32.4        \t246\t354\n",
      "39 \t6     \t354  \t0           \t354\t354\n",
      "40 \t5     \t347.1\t20.7        \t285\t354\n",
      "41 \t6     \t354  \t0           \t354\t354\n",
      "42 \t8     \t354  \t0           \t354\t354\n",
      "43 \t5     \t327.7\t57.4213     \t171\t354\n",
      "44 \t6     \t354  \t0           \t354\t354\n",
      "45 \t8     \t354  \t0           \t354\t354\n",
      "46 \t3     \t354  \t0           \t354\t354\n",
      "47 \t4     \t354  \t0           \t354\t354\n",
      "48 \t6     \t354  \t0           \t354\t354\n",
      "49 \t3     \t354  \t0           \t354\t354\n",
      "50 \t6     \t354  \t0           \t354\t354\n"
     ]
    }
   ],
   "source": [
    "hall_da_fama = tools.HallOfFame(TAMANHO_HALL_DA_FAMA)\n",
    "\n",
    "estatisticas = tools.Statistics(lambda ind: ind.fitness.values)\n",
    "estatisticas.register(\"média\", np.mean)\n",
    "estatisticas.register(\"desv. padrão\", np.std)\n",
    "estatisticas.register(\"min\", np.min)\n",
    "estatisticas.register(\"max\", np.max)\n",
    "\n",
    "populacao_inicial = toolbox.populacao()\n",
    "\n",
    "populacao_final, log = eaSimple(\n",
    "    populacao_inicial,\n",
    "    toolbox,\n",
    "    cxpb=CHANCE_DE_CRUZAMENTO,\n",
    "    mutpb=CHANCE_DE_MUTACAO,\n",
    "    ngen=NUM_GERACOES,\n",
    "    stats=estatisticas,\n",
    "    halloffame=hall_da_fama,\n",
    "    verbose=True,\n",
    ")"
   ]
  },
  {
   "cell_type": "code",
   "execution_count": 11,
   "metadata": {},
   "outputs": [
    {
     "name": "stdout",
     "output_type": "stream",
     "text": [
      "gen\tnevals\tmédia\tdesv. padrão\tmin\tmax\n",
      "0  \t10    \t201.2\t41.9447     \t143\t255\n",
      "1  \t5     \t227.1\t46.8881     \t152\t306\n",
      "2  \t6     \t260.6\t34.4244     \t206\t306\n",
      "3  \t6     \t299.4\t26.3295     \t255\t352\n",
      "4  \t6     \t297.2\t34.3505     \t255\t352\n",
      "5  \t6     \t307.4\t32.088      \t228\t352\n",
      "6  \t6     \t333.6\t22.5353     \t306\t352\n",
      "7  \t5     \t341  \t33          \t242\t352\n",
      "8  \t2     \t352  \t0           \t352\t352\n",
      "9  \t2     \t352  \t0           \t352\t352\n",
      "10 \t5     \t348.5\t10.5        \t317\t352\n",
      "11 \t10    \t352  \t0           \t352\t352\n",
      "12 \t6     \t352  \t0           \t352\t352\n",
      "13 \t4     \t352.2\t0.6         \t352\t354\n",
      "14 \t5     \t347.6\t15.8947     \t300\t354\n",
      "15 \t3     \t352.1\t5.06853     \t337\t354\n",
      "16 \t4     \t354  \t0           \t354\t354\n",
      "17 \t4     \t354  \t0           \t354\t354\n",
      "18 \t8     \t354  \t0           \t354\t354\n",
      "19 \t0     \t354  \t0           \t354\t354\n",
      "20 \t8     \t354  \t0           \t354\t354\n",
      "21 \t4     \t347.5\t19.5        \t289\t354\n",
      "22 \t4     \t350.8\t9.6         \t322\t354\n",
      "23 \t10    \t347.1\t20.7        \t285\t354\n",
      "24 \t6     \t348.4\t16.8        \t298\t354\n",
      "25 \t8     \t354  \t0           \t354\t354\n",
      "26 \t4     \t354  \t0           \t354\t354\n",
      "27 \t6     \t354  \t0           \t354\t354\n",
      "28 \t6     \t354  \t0           \t354\t354\n",
      "29 \t1     \t354  \t0           \t354\t354\n",
      "30 \t7     \t347  \t21          \t284\t354\n",
      "31 \t8     \t354  \t0           \t354\t354\n",
      "32 \t3     \t354  \t0           \t354\t354\n",
      "33 \t2     \t354  \t0           \t354\t354\n",
      "34 \t6     \t344.2\t29.4        \t256\t354\n",
      "35 \t2     \t354  \t0           \t354\t354\n",
      "36 \t4     \t354  \t0           \t354\t354\n",
      "37 \t4     \t354  \t0           \t354\t354\n",
      "38 \t4     \t343.2\t32.4        \t246\t354\n",
      "39 \t6     \t354  \t0           \t354\t354\n",
      "40 \t5     \t347.1\t20.7        \t285\t354\n",
      "41 \t6     \t354  \t0           \t354\t354\n",
      "42 \t8     \t354  \t0           \t354\t354\n",
      "43 \t5     \t327.7\t57.4213     \t171\t354\n",
      "44 \t6     \t354  \t0           \t354\t354\n",
      "45 \t8     \t354  \t0           \t354\t354\n",
      "46 \t3     \t354  \t0           \t354\t354\n",
      "47 \t4     \t354  \t0           \t354\t354\n",
      "48 \t6     \t354  \t0           \t354\t354\n",
      "49 \t3     \t354  \t0           \t354\t354\n",
      "50 \t6     \t354  \t0           \t354\t354\n"
     ]
    }
   ],
   "source": [
    "print(log)"
   ]
  },
  {
   "cell_type": "code",
   "execution_count": 12,
   "metadata": {},
   "outputs": [
    {
     "name": "stdout",
     "output_type": "stream",
     "text": [
      "[[91, 92, 100, 71]]\n"
     ]
    }
   ],
   "source": [
    "print(hall_da_fama.items)"
   ]
  }
 ],
 "metadata": {
  "kernelspec": {
   "display_name": "Python 3.11.7 64-bit",
   "language": "python",
   "name": "python3"
  },
  "language_info": {
   "codemirror_mode": {
    "name": "ipython",
    "version": 3
   },
   "file_extension": ".py",
   "mimetype": "text/x-python",
   "name": "python",
   "nbconvert_exporter": "python",
   "pygments_lexer": "ipython3",
   "version": "3.11.7"
  },
  "org": null,
  "vscode": {
   "interpreter": {
    "hash": "ff408857cf941f447a225a9fe246d3ffac9d263a43d426dbe48fb0523ecbaef2"
   }
  }
 },
 "nbformat": 4,
 "nbformat_minor": 4
}
