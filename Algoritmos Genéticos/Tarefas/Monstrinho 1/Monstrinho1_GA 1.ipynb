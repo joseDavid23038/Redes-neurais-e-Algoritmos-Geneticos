{
 "cells": [
  {
   "cell_type": "markdown",
   "id": "ade6c02c-577e-418d-bdb3-b03b93647436",
   "metadata": {},
   "source": [
    "## Redes Neurais e Algoritmos Genéticos\n",
    "### Atividade: Monstrinho 1\n",
    "### Etapa: Algoritmos Genéticos\n",
    "### Trio: Diogo Carvalho, José David e Mayllon Emmanoel"
   ]
  },
  {
   "cell_type": "markdown",
   "id": "ff7f7317-2d95-4057-989b-86a2ec87384f",
   "metadata": {},
   "source": [
    "<b>Objetivo:</b> Compare a performance de três algoritmos diferentes de otimização (busca\n",
    "aleatória, busca em grade e algoritmos genéticos) para resolver o problema das caixas\n",
    "binárias."
   ]
  },
  {
   "cell_type": "markdown",
   "id": "47fa8dc5-ce14-4f77-922a-df53b6f100c4",
   "metadata": {},
   "source": [
    "### 1. Introdução"
   ]
  },
  {
   "cell_type": "markdown",
   "id": "b63e4426-c6c3-4663-837c-77390e2e1260",
   "metadata": {},
   "source": [
    "O notenook abaixo propõe-se a fazer uma comparação de performance entre diferentes algoritmos estudados no ínicio da etapa de algoritmos genéticos com foco em otimização de tarefas. Os algoritmos propostos para o teste são:\n",
    "\n",
    "<ul>\n",
    "    <li>Busca Aleatória</li>\n",
    "    <li>Busca em Grade</li>\n",
    "    <li>Algoritmos Genéticos</li>\n",
    "</ul>\n",
    "\n",
    "Dentre os algoritmos acima, a busca em grade é o único considerado determinístico, o que nos leva a necessidade de utilizar de ferramentas estatísticas para estabelecer uma comparação do mesmo com os algoritmos considerados não determinísticos: Busca aleatória e Busca em Grade"
   ]
  },
  {
   "cell_type": "markdown",
   "id": "f55594ed-ec12-4898-8c31-01e130111b2e",
   "metadata": {},
   "source": [
    "### 2. O problema"
   ]
  },
  {
   "cell_type": "markdown",
   "id": "b253a2d0-be2a-4c16-88e4-3e588934851e",
   "metadata": {},
   "source": [
    "O problema proposto é o das \"Caixas Binárias\". Esse problema tem por objetivo preencher listas com caixas fazendo com que a soma dos valores seja a maior possíves. Sendo esse problema nomeado por caixas binárias, percebemos que as mesmas possuem apenas duas possibilidade de valores para representa-las (0 ou 1)."
   ]
  },
  {
   "cell_type": "markdown",
   "id": "092ccb98-9e96-48d1-988f-d725c5c4ec14",
   "metadata": {},
   "source": [
    "### 3. Comparações acertos"
   ]
  },
  {
   "cell_type": "code",
   "execution_count": 137,
   "id": "374184c5-340e-4a5f-80df-675a14806e65",
   "metadata": {},
   "outputs": [],
   "source": [
    "import random\n",
    "from funcoes_5 import funcao_objetivo_cb\n",
    "from funcoes_5 import cria_candidato_cb, gene_cb\n",
    "from itertools import product\n",
    "from funcoes_5 import funcao_objetivo_pop_cb \n",
    "from funcoes_5 import populacao_cb as cria_populacao\n",
    "from funcoes_5 import selecao_roleta_max\n",
    "from funcoes_5 import cruzamento_ponto_simples\n",
    "from funcoes_5 import mutacao_simples_cb \n",
    "from pprint import pprint\n",
    "import matplotlib.pyplot as plt\n",
    "from itertools import product\n",
    "import statistics as st\n",
    "import timeit as tm\n",
    "import pandas as pd\n"
   ]
  },
  {
   "cell_type": "markdown",
   "id": "02430f03-630b-4063-94a3-6c0c83a92cad",
   "metadata": {},
   "source": [
    "#### 3.1 Busca aleatória "
   ]
  },
  {
   "cell_type": "markdown",
   "id": "c63c75d3-913b-4923-b026-0667ed1ec7c2",
   "metadata": {},
   "source": [
    "Na busca aleatória, sorteamos possíveis candidatos para a solução do nosso problema em um determinado espaço de busca, testamos os candidatos e verificamos se eles resolvem nosso problema."
   ]
  },
  {
   "cell_type": "markdown",
   "id": "7babdf25-7cf9-4804-b6ff-9eb0387089dc",
   "metadata": {},
   "source": [
    "Após definidas as funçoes necessárias para o desenvolvimento do algoritmo de busca aleatória, estabelecemos as constantes a serem usadas no experimento. A primeira delas sendo o número de caixas. Por recomendação do próprio enunciado do problema, escolhemos variar o número de caixas e observar a distribuição dos resultados que a mesma produz, deixando apenas o número de sorteios fixo por enquanto. Estabelecemos um \"range\" fixo de 20 números diferentes de caixas, essa lista será mantida constante durante todo o experimento."
   ]
  },
  {
   "cell_type": "code",
   "execution_count": 138,
   "id": "49a1753b-09ad-4da6-8bba-10565b4d9081",
   "metadata": {},
   "outputs": [],
   "source": [
    "NUM_CAIXAS = [x for x in range(4,21)] "
   ]
  },
  {
   "cell_type": "markdown",
   "id": "a8643c98-ae1e-4e23-9216-62660182823f",
   "metadata": {},
   "source": [
    "Para facilitar os testes variando outros parâmetros de interesse no futuro, optamos por encapsular o procedimento de procura dos melhores valores pela busca em grade em uma função"
   ]
  },
  {
   "cell_type": "code",
   "execution_count": 139,
   "id": "118fe8d9-2d73-4880-a63b-859e59d37da9",
   "metadata": {},
   "outputs": [],
   "source": [
    "def calcular_resultados_ba(NUM_CAIXAS, NUM_SORTEIOS):\n",
    "    resultados = []\n",
    "    for valor in NUM_CAIXAS: \n",
    "        a = []\n",
    "        for i in range(NUM_SORTEIOS):\n",
    "            candidato = cria_candidato_cb(valor)\n",
    "            fobj = funcao_objetivo_cb(candidato)\n",
    "            if fobj == valor: #acha o valor máximo\n",
    "                a.append(1)\n",
    "        resultados.append(len(a))\n",
    "    return resultados"
   ]
  },
  {
   "cell_type": "code",
   "execution_count": 140,
   "id": "e9994bf4-e444-4d45-9bc4-a9858c1faabc",
   "metadata": {},
   "outputs": [],
   "source": [
    "NUM_SORTEIOS = 100"
   ]
  },
  {
   "cell_type": "code",
   "execution_count": 141,
   "id": "3bbb919f-d99e-462d-adbf-5a7ebef9f9e3",
   "metadata": {},
   "outputs": [],
   "source": [
    "Resultado_100 = calcular_resultados_ba(NUM_CAIXAS, NUM_SORTEIOS)"
   ]
  },
  {
   "cell_type": "code",
   "execution_count": 142,
   "id": "9409fef2-5847-4604-87d7-bd0a1b291662",
   "metadata": {},
   "outputs": [
    {
     "data": {
      "text/plain": [
       "[8, 3, 3, 1, 0, 0, 1, 0, 0, 0, 0, 0, 0, 0, 0, 0, 0]"
      ]
     },
     "execution_count": 142,
     "metadata": {},
     "output_type": "execute_result"
    }
   ],
   "source": [
    "Resultado_100"
   ]
  },
  {
   "cell_type": "code",
   "execution_count": 143,
   "id": "c04d363c-ce5f-4f72-8b18-a7ad232fa7ee",
   "metadata": {},
   "outputs": [
    {
     "data": {
      "text/html": [
       "<div>\n",
       "<style scoped>\n",
       "    .dataframe tbody tr th:only-of-type {\n",
       "        vertical-align: middle;\n",
       "    }\n",
       "\n",
       "    .dataframe tbody tr th {\n",
       "        vertical-align: top;\n",
       "    }\n",
       "\n",
       "    .dataframe thead th {\n",
       "        text-align: right;\n",
       "    }\n",
       "</style>\n",
       "<table border=\"1\" class=\"dataframe\">\n",
       "  <thead>\n",
       "    <tr style=\"text-align: right;\">\n",
       "      <th></th>\n",
       "      <th>Número de caixas</th>\n",
       "      <th>Acertos</th>\n",
       "    </tr>\n",
       "  </thead>\n",
       "  <tbody>\n",
       "    <tr>\n",
       "      <th>0</th>\n",
       "      <td>4</td>\n",
       "      <td>8</td>\n",
       "    </tr>\n",
       "    <tr>\n",
       "      <th>1</th>\n",
       "      <td>5</td>\n",
       "      <td>3</td>\n",
       "    </tr>\n",
       "    <tr>\n",
       "      <th>2</th>\n",
       "      <td>6</td>\n",
       "      <td>3</td>\n",
       "    </tr>\n",
       "    <tr>\n",
       "      <th>3</th>\n",
       "      <td>7</td>\n",
       "      <td>1</td>\n",
       "    </tr>\n",
       "    <tr>\n",
       "      <th>4</th>\n",
       "      <td>8</td>\n",
       "      <td>0</td>\n",
       "    </tr>\n",
       "    <tr>\n",
       "      <th>5</th>\n",
       "      <td>9</td>\n",
       "      <td>0</td>\n",
       "    </tr>\n",
       "    <tr>\n",
       "      <th>6</th>\n",
       "      <td>10</td>\n",
       "      <td>1</td>\n",
       "    </tr>\n",
       "    <tr>\n",
       "      <th>7</th>\n",
       "      <td>11</td>\n",
       "      <td>0</td>\n",
       "    </tr>\n",
       "    <tr>\n",
       "      <th>8</th>\n",
       "      <td>12</td>\n",
       "      <td>0</td>\n",
       "    </tr>\n",
       "    <tr>\n",
       "      <th>9</th>\n",
       "      <td>13</td>\n",
       "      <td>0</td>\n",
       "    </tr>\n",
       "    <tr>\n",
       "      <th>10</th>\n",
       "      <td>14</td>\n",
       "      <td>0</td>\n",
       "    </tr>\n",
       "    <tr>\n",
       "      <th>11</th>\n",
       "      <td>15</td>\n",
       "      <td>0</td>\n",
       "    </tr>\n",
       "    <tr>\n",
       "      <th>12</th>\n",
       "      <td>16</td>\n",
       "      <td>0</td>\n",
       "    </tr>\n",
       "    <tr>\n",
       "      <th>13</th>\n",
       "      <td>17</td>\n",
       "      <td>0</td>\n",
       "    </tr>\n",
       "    <tr>\n",
       "      <th>14</th>\n",
       "      <td>18</td>\n",
       "      <td>0</td>\n",
       "    </tr>\n",
       "    <tr>\n",
       "      <th>15</th>\n",
       "      <td>19</td>\n",
       "      <td>0</td>\n",
       "    </tr>\n",
       "    <tr>\n",
       "      <th>16</th>\n",
       "      <td>20</td>\n",
       "      <td>0</td>\n",
       "    </tr>\n",
       "  </tbody>\n",
       "</table>\n",
       "</div>"
      ],
      "text/plain": [
       "    Número de caixas  Acertos\n",
       "0                  4        8\n",
       "1                  5        3\n",
       "2                  6        3\n",
       "3                  7        1\n",
       "4                  8        0\n",
       "5                  9        0\n",
       "6                 10        1\n",
       "7                 11        0\n",
       "8                 12        0\n",
       "9                 13        0\n",
       "10                14        0\n",
       "11                15        0\n",
       "12                16        0\n",
       "13                17        0\n",
       "14                18        0\n",
       "15                19        0\n",
       "16                20        0"
      ]
     },
     "execution_count": 143,
     "metadata": {},
     "output_type": "execute_result"
    }
   ],
   "source": [
    "df = pd.DataFrame({\n",
    "    'Número de caixas': NUM_CAIXAS,\n",
    "    'Acertos': Resultado_100\n",
    "})\n",
    "\n",
    "df"
   ]
  },
  {
   "cell_type": "code",
   "execution_count": 144,
   "id": "40d90555-4cb1-423d-833a-92aee593ead1",
   "metadata": {},
   "outputs": [],
   "source": [
    "tempo_execucao = tm.timeit(lambda: calcular_resultados_ba(NUM_CAIXAS, NUM_SORTEIOS), number=1)"
   ]
  },
  {
   "cell_type": "markdown",
   "id": "c0422e8a-4ee7-4cb2-8b78-73ca9d217a7c",
   "metadata": {},
   "source": [
    "Estabelecemos como métrica, a taxa de acerto do nosso algoritmo em achar a melhor resposta com relação ao número de sorteios e com isso, fazemos a média desses resultados. O valor dessa média (taxa de acerto) será estabelecido como parâmetro para comparação com outros resultados. "
   ]
  },
  {
   "cell_type": "code",
   "execution_count": 145,
   "id": "0d71771c-6219-4b13-b207-4e5b2e4050c3",
   "metadata": {},
   "outputs": [
    {
     "name": "stdout",
     "output_type": "stream",
     "text": [
      "A Taxa de acerto para a busca aleatória 100 é 0.009411764705882356\n"
     ]
    }
   ],
   "source": [
    "x_div = [x/NUM_SORTEIOS for x in Resultado_100]\n",
    "\n",
    "taxa_acerto_ba = sum(x_div)/len(x_div)\n",
    "\n",
    "print(f\"A Taxa de acerto para a busca aleatória {NUM_SORTEIOS} é {taxa_acerto_ba}\")"
   ]
  },
  {
   "cell_type": "code",
   "execution_count": 165,
   "id": "4a00fa94-f9b3-432e-9274-a5d483a403b3",
   "metadata": {},
   "outputs": [
    {
     "data": {
      "image/png": "[encoded data removed]",
      "text/plain": [
       "<Figure size 640x480 with 1 Axes>"
      ]
     },
     "metadata": {},
     "output_type": "display_data"
    }
   ],
   "source": [
    "plt.bar(NUM_CAIXAS, Resultado_100, align='center', alpha=0.7)\n",
    "plt.xlabel('Número de Caixas')\n",
    "plt.ylabel('Número de Resultados')\n",
    "plt.title('Número de Caixas vs Número de Resultados')\n",
    "plt.show()"
   ]
  },
  {
   "cell_type": "markdown",
   "id": "db578a87-c95f-4389-b498-430303df3bf5",
   "metadata": {},
   "source": [
    "Ao plotarmos o gráfico de barras, percebemos que com um número relativamente baixo escolhido para o número de sorteios, os resultado máximos que objetivamos no problema das caixas binárias fica concentrado na região esquerda do gráfico onde os valores escolhidos para o número de caixa são menores. Isso ocorre, pois, a medida que aumentamos nosso \"espaço de busca\" (de 4 possibilidade para 50 possibilidades por exemplo) a tendência de nosso algoritmo de achar os valores exatos que solucionem nosso problema diminui gradativamente. Um experimento interessante que podemos fazer é variar também o número de sorteio que fazemos e observar o resultado"
   ]
  },
  {
   "cell_type": "markdown",
   "id": "e11c92e5-d1a9-4aab-ab2c-444968a454a5",
   "metadata": {},
   "source": [
    "#### 3.2 Busca em grade"
   ]
  },
  {
   "cell_type": "markdown",
   "id": "7f105b32-99a4-4701-bba3-0f07fc38638c",
   "metadata": {},
   "source": [
    "Esse algoritmo que é muito conhecido também como \"Busca exaustiva\" é uma estratégia de otimização que testa todas as combinações possíveis dos parâmetros de interesse. O exaustiva em seu nome não é por acaso, já que esse algoritmo é conhecido por ter um alto custo computacional "
   ]
  },
  {
   "cell_type": "code",
   "execution_count": 147,
   "id": "c83530b4-8c6f-4455-8e38-5a092d9a58c9",
   "metadata": {},
   "outputs": [
    {
     "data": {
      "text/plain": [
       "[4, 5, 6, 7, 8, 9, 10, 11, 12, 13, 14, 15, 16, 17, 18, 19, 20]"
      ]
     },
     "execution_count": 147,
     "metadata": {},
     "output_type": "execute_result"
    }
   ],
   "source": [
    "NUM_CAIXAS"
   ]
  },
  {
   "cell_type": "code",
   "execution_count": 148,
   "id": "b9ac23ca-73f6-4252-87b2-436b7b2a8abc",
   "metadata": {},
   "outputs": [],
   "source": [
    "def calcular_resultados_bg(NUM_CAIXAS):\n",
    "    Resultados = []\n",
    "    for valor in NUM_CAIXAS:\n",
    "        a = []\n",
    "        for candidato in product([0, 1], repeat=valor):\n",
    "            fobj = sum(candidato)\n",
    "            if valor == fobj:\n",
    "                a.append(1)\n",
    "        Resultados.append(len(a))\n",
    "    return Resultados"
   ]
  },
  {
   "cell_type": "code",
   "execution_count": 149,
   "id": "c420fecf-4837-4228-9577-13a640a32c6d",
   "metadata": {},
   "outputs": [],
   "source": [
    "Resultados = calcular_resultados_bg(NUM_CAIXAS)"
   ]
  },
  {
   "cell_type": "code",
   "execution_count": 150,
   "id": "d13b7a34-43c7-414d-81f2-8815454d550b",
   "metadata": {},
   "outputs": [],
   "source": [
    "tempo_execucao = tm.timeit(lambda: calcular_resultados_bg(NUM_CAIXAS), number=1)"
   ]
  },
  {
   "cell_type": "code",
   "execution_count": 151,
   "id": "9b938cd9-9e15-4d5b-983a-df568f8a44cd",
   "metadata": {},
   "outputs": [
    {
     "data": {
      "text/plain": [
       "1.0402891999692656"
      ]
     },
     "execution_count": 151,
     "metadata": {},
     "output_type": "execute_result"
    }
   ],
   "source": [
    "tempo_execucao"
   ]
  },
  {
   "cell_type": "code",
   "execution_count": 166,
   "id": "d82a2952-b750-48b8-8f68-dce373251501",
   "metadata": {},
   "outputs": [
    {
     "data": {
      "image/png": "[encoded data removed]",
      "text/plain": [
       "<Figure size 640x480 with 1 Axes>"
      ]
     },
     "metadata": {},
     "output_type": "display_data"
    }
   ],
   "source": [
    "plt.bar(NUM_CAIXAS, Resultados, align='center', alpha=0.7)\n",
    "plt.xlabel('Número de Caixas')\n",
    "plt.ylabel('Número de Resultados')\n",
    "plt.title('Número de Caixas vs Número de Resultados')\n",
    "plt.show()"
   ]
  },
  {
   "cell_type": "code",
   "execution_count": 153,
   "id": "0ae04f0d-cfc0-4c02-8c00-4d12f241f372",
   "metadata": {},
   "outputs": [
    {
     "name": "stdout",
     "output_type": "stream",
     "text": [
      "A Taxa de acerto da busca em grade é de 1.0\n"
     ]
    }
   ],
   "source": [
    "x_div = [x/1 for x in Resultados]\n",
    "\n",
    "taxa_acerto_bg = sum(x_div)/len(x_div)\n",
    "\n",
    "print(f\"A Taxa de acerto da busca em grade é de {taxa_acerto_bg}\")"
   ]
  },
  {
   "cell_type": "code",
   "execution_count": 154,
   "id": "8885aa29-eee4-4fac-972c-a789e3c62140",
   "metadata": {},
   "outputs": [
    {
     "data": {
      "text/html": [
       "<div>\n",
       "<style scoped>\n",
       "    .dataframe tbody tr th:only-of-type {\n",
       "        vertical-align: middle;\n",
       "    }\n",
       "\n",
       "    .dataframe tbody tr th {\n",
       "        vertical-align: top;\n",
       "    }\n",
       "\n",
       "    .dataframe thead th {\n",
       "        text-align: right;\n",
       "    }\n",
       "</style>\n",
       "<table border=\"1\" class=\"dataframe\">\n",
       "  <thead>\n",
       "    <tr style=\"text-align: right;\">\n",
       "      <th></th>\n",
       "      <th>Número de caixas</th>\n",
       "      <th>Acertos</th>\n",
       "    </tr>\n",
       "  </thead>\n",
       "  <tbody>\n",
       "    <tr>\n",
       "      <th>0</th>\n",
       "      <td>4</td>\n",
       "      <td>1</td>\n",
       "    </tr>\n",
       "    <tr>\n",
       "      <th>1</th>\n",
       "      <td>5</td>\n",
       "      <td>1</td>\n",
       "    </tr>\n",
       "    <tr>\n",
       "      <th>2</th>\n",
       "      <td>6</td>\n",
       "      <td>1</td>\n",
       "    </tr>\n",
       "    <tr>\n",
       "      <th>3</th>\n",
       "      <td>7</td>\n",
       "      <td>1</td>\n",
       "    </tr>\n",
       "    <tr>\n",
       "      <th>4</th>\n",
       "      <td>8</td>\n",
       "      <td>1</td>\n",
       "    </tr>\n",
       "    <tr>\n",
       "      <th>5</th>\n",
       "      <td>9</td>\n",
       "      <td>1</td>\n",
       "    </tr>\n",
       "    <tr>\n",
       "      <th>6</th>\n",
       "      <td>10</td>\n",
       "      <td>1</td>\n",
       "    </tr>\n",
       "    <tr>\n",
       "      <th>7</th>\n",
       "      <td>11</td>\n",
       "      <td>1</td>\n",
       "    </tr>\n",
       "    <tr>\n",
       "      <th>8</th>\n",
       "      <td>12</td>\n",
       "      <td>1</td>\n",
       "    </tr>\n",
       "    <tr>\n",
       "      <th>9</th>\n",
       "      <td>13</td>\n",
       "      <td>1</td>\n",
       "    </tr>\n",
       "    <tr>\n",
       "      <th>10</th>\n",
       "      <td>14</td>\n",
       "      <td>1</td>\n",
       "    </tr>\n",
       "    <tr>\n",
       "      <th>11</th>\n",
       "      <td>15</td>\n",
       "      <td>1</td>\n",
       "    </tr>\n",
       "    <tr>\n",
       "      <th>12</th>\n",
       "      <td>16</td>\n",
       "      <td>1</td>\n",
       "    </tr>\n",
       "    <tr>\n",
       "      <th>13</th>\n",
       "      <td>17</td>\n",
       "      <td>1</td>\n",
       "    </tr>\n",
       "    <tr>\n",
       "      <th>14</th>\n",
       "      <td>18</td>\n",
       "      <td>1</td>\n",
       "    </tr>\n",
       "    <tr>\n",
       "      <th>15</th>\n",
       "      <td>19</td>\n",
       "      <td>1</td>\n",
       "    </tr>\n",
       "    <tr>\n",
       "      <th>16</th>\n",
       "      <td>20</td>\n",
       "      <td>1</td>\n",
       "    </tr>\n",
       "  </tbody>\n",
       "</table>\n",
       "</div>"
      ],
      "text/plain": [
       "    Número de caixas  Acertos\n",
       "0                  4        1\n",
       "1                  5        1\n",
       "2                  6        1\n",
       "3                  7        1\n",
       "4                  8        1\n",
       "5                  9        1\n",
       "6                 10        1\n",
       "7                 11        1\n",
       "8                 12        1\n",
       "9                 13        1\n",
       "10                14        1\n",
       "11                15        1\n",
       "12                16        1\n",
       "13                17        1\n",
       "14                18        1\n",
       "15                19        1\n",
       "16                20        1"
      ]
     },
     "execution_count": 154,
     "metadata": {},
     "output_type": "execute_result"
    }
   ],
   "source": [
    "df = pd.DataFrame({\n",
    "    'Número de caixas': NUM_CAIXAS,\n",
    "    'Acertos': Resultados\n",
    "})\n",
    "\n",
    "df"
   ]
  },
  {
   "cell_type": "markdown",
   "id": "f269e9f4-4214-4da5-9e22-84ad362cea22",
   "metadata": {},
   "source": [
    "Por ser o único algoritimo determinístico dos três, a busca em grade terá sempre probabilidade máxima de encontrar o melhor candidato para a resolução do problema. Essa característica decorre justamente de sua capacidade de testar todos os possíveis resultados dentre os conjuntos de itens de interesse. Nesse experimento, optamos por não executar o algoritmo mais de uma vez, pois, além de o mesmo ter um alto custo computacional (se comparado aos demais) demandando um alto tempo de execução, é claramente intuitivo que a porcentagem de acertos será mantida em 100%"
   ]
  },
  {
   "cell_type": "markdown",
   "id": "e458bcf2-4173-4d6f-a85a-16494572998e",
   "metadata": {},
   "source": [
    "#### 3.3 Algoritmo Genético"
   ]
  },
  {
   "cell_type": "markdown",
   "id": "43edd901-fa92-4946-a926-57db7911998e",
   "metadata": {},
   "source": [
    "Algoritmos genéticos é uma das principais e mais básicas ferramentas computacionais bioinspiradas, nesse caso, na teoria da evolução de Darwim e são muito usados em problemas de otimização. O método do algoritmo consiste em gerar populações aleatórias e evolui-las através de três principais etapas\n",
    "\n",
    "<ul>\n",
    "    <li>Seleção</li>\n",
    "     <li>Cruzamento</li>\n",
    "     <li>Mutação</li>\n",
    "</ul>\n",
    "\n",
    "Para nosso experimento, permanecemos com o mesmo \"range\" de número de caixas usado com os algoritmos anteriores e mantemos fixas as outras constantes necessárias para a execução do algoritmo. Uma constante interessante para esse experimento é o número de gerações, todas as vezes que uma nova população é criada, uma nova geração surge"
   ]
  },
  {
   "cell_type": "code",
   "execution_count": 155,
   "id": "1febf683-a18d-4608-92f0-94e202cc2169",
   "metadata": {},
   "outputs": [],
   "source": [
    "#NUM_CAIXAS = 5\n",
    "TAMANHO_POPULACAO = 10\n",
    "NUM_GERACOES = 100 #Ciclos de evolução\n",
    "CHANCE_DE_CRUZAMENTO = 0.5\n",
    "CHANCE_DE_MUTACAO = 0.05"
   ]
  },
  {
   "cell_type": "code",
   "execution_count": 156,
   "id": "ef82a032-493b-4847-b6c7-b64917725b0e",
   "metadata": {},
   "outputs": [],
   "source": [
    "def calcular_resultados_ga(NUM_CAIXAS, TAMANHO_POPULACAO, NUM_GERACOES, CHANCE_DE_CRUZAMENTO, CHANCE_DE_MUTACAO):\n",
    "    hall_da_fama = []\n",
    "    Resultados = []\n",
    "\n",
    "    for valor in NUM_CAIXAS:\n",
    "        populacao = cria_populacao(TAMANHO_POPULACAO, valor)\n",
    "        for n in range(NUM_GERACOES):\n",
    "            # Seleção\n",
    "            fitness = funcao_objetivo_pop_cb(populacao)        \n",
    "            selecionados = selecao_roleta_max(populacao, fitness)\n",
    "\n",
    "            # Cruzamento\n",
    "            proxima_geracao = []\n",
    "            for pai, mae in zip(selecionados[::2], selecionados[1::2]):\n",
    "                individuo1, individuo2 = cruzamento_ponto_simples(pai, mae, CHANCE_DE_CRUZAMENTO)\n",
    "                proxima_geracao.append(individuo1)\n",
    "                proxima_geracao.append(individuo2)\n",
    "\n",
    "            # Mutação\n",
    "            mutacao_simples_cb(proxima_geracao, CHANCE_DE_MUTACAO)\n",
    "\n",
    "            # Atualização do hall da fama\n",
    "            fitness = funcao_objetivo_pop_cb(proxima_geracao)\n",
    "            maior_fitness = max(fitness)\n",
    "            indice = fitness.index(maior_fitness)\n",
    "            hall_da_fama.append(proxima_geracao[indice])    \n",
    "\n",
    "            # Encerramento\n",
    "            populacao = proxima_geracao\n",
    "\n",
    "        fitness = funcao_objetivo_pop_cb(hall_da_fama)\n",
    "        maior_fitness = max(fitness)\n",
    "        indice = fitness.index(maior_fitness)\n",
    "        melhor_individuo_observado = hall_da_fama[indice]\n",
    "\n",
    "        result = fitness.count(valor)\n",
    "        Resultados.append(result)\n",
    "\n",
    "    return Resultados, hall_da_fama"
   ]
  },
  {
   "cell_type": "code",
   "execution_count": 157,
   "id": "351b4018-0687-454c-bddb-7612de0944c0",
   "metadata": {},
   "outputs": [],
   "source": [
    "resultados, hall_da_fama = calcular_resultados_ga(NUM_CAIXAS, TAMANHO_POPULACAO, 100, CHANCE_DE_CRUZAMENTO, CHANCE_DE_MUTACAO)"
   ]
  },
  {
   "cell_type": "code",
   "execution_count": 167,
   "id": "dd35c89c-576c-47f0-8d8c-601ba445e57a",
   "metadata": {},
   "outputs": [
    {
     "data": {
      "image/png": "[encoded data removed]",
      "text/plain": [
       "<Figure size 640x480 with 1 Axes>"
      ]
     },
     "metadata": {},
     "output_type": "display_data"
    }
   ],
   "source": [
    "plt.bar(NUM_CAIXAS, resultados, align='center', alpha=0.7)\n",
    "plt.xlabel('Número de Caixas')\n",
    "plt.ylabel('Número de Resultados')\n",
    "plt.title('Número de Caixas vs Número de Resultados')\n",
    "plt.show()"
   ]
  },
  {
   "cell_type": "code",
   "execution_count": 159,
   "id": "8a8ea987-138d-4f70-9652-704d013fa850",
   "metadata": {},
   "outputs": [
    {
     "name": "stdout",
     "output_type": "stream",
     "text": [
      "A Taxa de acerto do algoritmo genético é de 0.19\n"
     ]
    }
   ],
   "source": [
    "x_div = [x/NUM_GERACOES for x in resultados]\n",
    "\n",
    "taxa_acerto_ga = sum(x_div)/len(x_div)\n",
    "\n",
    "print(f\"A Taxa de acerto do algoritmo genético é de {taxa_acerto_ga}\")\n"
   ]
  },
  {
   "cell_type": "code",
   "execution_count": 160,
   "id": "e5ed826e-d663-472f-8ff2-0a3b58194e0e",
   "metadata": {},
   "outputs": [
    {
     "data": {
      "text/html": [
       "<div>\n",
       "<style scoped>\n",
       "    .dataframe tbody tr th:only-of-type {\n",
       "        vertical-align: middle;\n",
       "    }\n",
       "\n",
       "    .dataframe tbody tr th {\n",
       "        vertical-align: top;\n",
       "    }\n",
       "\n",
       "    .dataframe thead th {\n",
       "        text-align: right;\n",
       "    }\n",
       "</style>\n",
       "<table border=\"1\" class=\"dataframe\">\n",
       "  <thead>\n",
       "    <tr style=\"text-align: right;\">\n",
       "      <th></th>\n",
       "      <th>Número de caixas</th>\n",
       "      <th>Acertos</th>\n",
       "    </tr>\n",
       "  </thead>\n",
       "  <tbody>\n",
       "    <tr>\n",
       "      <th>0</th>\n",
       "      <td>4</td>\n",
       "      <td>83</td>\n",
       "    </tr>\n",
       "    <tr>\n",
       "      <th>1</th>\n",
       "      <td>5</td>\n",
       "      <td>80</td>\n",
       "    </tr>\n",
       "    <tr>\n",
       "      <th>2</th>\n",
       "      <td>6</td>\n",
       "      <td>83</td>\n",
       "    </tr>\n",
       "    <tr>\n",
       "      <th>3</th>\n",
       "      <td>7</td>\n",
       "      <td>66</td>\n",
       "    </tr>\n",
       "    <tr>\n",
       "      <th>4</th>\n",
       "      <td>8</td>\n",
       "      <td>2</td>\n",
       "    </tr>\n",
       "    <tr>\n",
       "      <th>5</th>\n",
       "      <td>9</td>\n",
       "      <td>0</td>\n",
       "    </tr>\n",
       "    <tr>\n",
       "      <th>6</th>\n",
       "      <td>10</td>\n",
       "      <td>0</td>\n",
       "    </tr>\n",
       "    <tr>\n",
       "      <th>7</th>\n",
       "      <td>11</td>\n",
       "      <td>6</td>\n",
       "    </tr>\n",
       "    <tr>\n",
       "      <th>8</th>\n",
       "      <td>12</td>\n",
       "      <td>3</td>\n",
       "    </tr>\n",
       "    <tr>\n",
       "      <th>9</th>\n",
       "      <td>13</td>\n",
       "      <td>0</td>\n",
       "    </tr>\n",
       "    <tr>\n",
       "      <th>10</th>\n",
       "      <td>14</td>\n",
       "      <td>0</td>\n",
       "    </tr>\n",
       "    <tr>\n",
       "      <th>11</th>\n",
       "      <td>15</td>\n",
       "      <td>0</td>\n",
       "    </tr>\n",
       "    <tr>\n",
       "      <th>12</th>\n",
       "      <td>16</td>\n",
       "      <td>0</td>\n",
       "    </tr>\n",
       "    <tr>\n",
       "      <th>13</th>\n",
       "      <td>17</td>\n",
       "      <td>0</td>\n",
       "    </tr>\n",
       "    <tr>\n",
       "      <th>14</th>\n",
       "      <td>18</td>\n",
       "      <td>0</td>\n",
       "    </tr>\n",
       "    <tr>\n",
       "      <th>15</th>\n",
       "      <td>19</td>\n",
       "      <td>0</td>\n",
       "    </tr>\n",
       "    <tr>\n",
       "      <th>16</th>\n",
       "      <td>20</td>\n",
       "      <td>0</td>\n",
       "    </tr>\n",
       "  </tbody>\n",
       "</table>\n",
       "</div>"
      ],
      "text/plain": [
       "    Número de caixas  Acertos\n",
       "0                  4       83\n",
       "1                  5       80\n",
       "2                  6       83\n",
       "3                  7       66\n",
       "4                  8        2\n",
       "5                  9        0\n",
       "6                 10        0\n",
       "7                 11        6\n",
       "8                 12        3\n",
       "9                 13        0\n",
       "10                14        0\n",
       "11                15        0\n",
       "12                16        0\n",
       "13                17        0\n",
       "14                18        0\n",
       "15                19        0\n",
       "16                20        0"
      ]
     },
     "execution_count": 160,
     "metadata": {},
     "output_type": "execute_result"
    }
   ],
   "source": [
    "df = pd.DataFrame({\n",
    "    'Número de caixas': NUM_CAIXAS,\n",
    "    'Acertos': resultados\n",
    "})\n",
    "\n",
    "df"
   ]
  },
  {
   "cell_type": "markdown",
   "id": "62cf1a3b-5cdc-46d4-92fb-fc7b48f30fde",
   "metadata": {},
   "source": [
    "### 4. Tempo de execução"
   ]
  },
  {
   "cell_type": "markdown",
   "id": "9c36aec2-d052-4274-aa01-e18ba27edf53",
   "metadata": {},
   "source": [
    "Porém, para uma análise bem sucedida da performance do algoritmo devemos não apenas levar em conta a capacidade do mesmo de nos retonar os resultados adequados, mas também seu custo computacional. Para isso, fizemos testes com os diferentes algoritmos em prova e registrar em quanto tempo os mesmos executam suas tarefas, para isso, utilizamos a biblioteca \"timeit\"."
   ]
  },
  {
   "cell_type": "code",
   "execution_count": 161,
   "id": "0c52d4e8-00d0-48ce-809d-47cceb1b57a2",
   "metadata": {},
   "outputs": [
    {
     "name": "stdout",
     "output_type": "stream",
     "text": [
      "O tempo de execução da busca aleatória é de 0.0002269999822601676s\n"
     ]
    }
   ],
   "source": [
    "tempo_execucao_ba = tm.timeit(lambda: calcular_resultados_ba(NUM_CAIXAS, 1), number=1)\n",
    "\n",
    "print(f\"O tempo de execução da busca aleatória é de {tempo_execucao_ba}s\")"
   ]
  },
  {
   "cell_type": "code",
   "execution_count": 162,
   "id": "c8df0c86-ae75-4a35-aeab-90038f67f8b4",
   "metadata": {},
   "outputs": [
    {
     "name": "stdout",
     "output_type": "stream",
     "text": [
      "O tempo de execução da busca em grade é de 1.0402891999692656s\n"
     ]
    }
   ],
   "source": [
    "tempo_execucao_bg = tm.timeit(lambda: calcular_resultados_bg(NUM_CAIXAS), number=1)\n",
    "\n",
    "tempo_execucao\n",
    "\n",
    "print(f\"O tempo de execução da busca em grade é de {tempo_execucao}s\")"
   ]
  },
  {
   "cell_type": "code",
   "execution_count": 163,
   "id": "f98f342e-fddb-4489-a51f-0fbf32707497",
   "metadata": {},
   "outputs": [
    {
     "name": "stdout",
     "output_type": "stream",
     "text": [
      "O tempo de execução do algoritmo genético é de 0.005912599968723953s\n"
     ]
    }
   ],
   "source": [
    "tempo_execucao_ga = tm.timeit(lambda: calcular_resultados_ga(NUM_CAIXAS, TAMANHO_POPULACAO, 1, CHANCE_DE_CRUZAMENTO, CHANCE_DE_MUTACAO), number=1)\n",
    "\n",
    "print(f\"O tempo de execução do algoritmo genético é de {tempo_execucao_ga}s\")"
   ]
  },
  {
   "cell_type": "code",
   "execution_count": 164,
   "id": "3a1a948f-61c7-4717-98f7-630c135bf9f7",
   "metadata": {},
   "outputs": [
    {
     "data": {
      "text/html": [
       "<div>\n",
       "<style scoped>\n",
       "    .dataframe tbody tr th:only-of-type {\n",
       "        vertical-align: middle;\n",
       "    }\n",
       "\n",
       "    .dataframe tbody tr th {\n",
       "        vertical-align: top;\n",
       "    }\n",
       "\n",
       "    .dataframe thead th {\n",
       "        text-align: right;\n",
       "    }\n",
       "</style>\n",
       "<table border=\"1\" class=\"dataframe\">\n",
       "  <thead>\n",
       "    <tr style=\"text-align: right;\">\n",
       "      <th></th>\n",
       "      <th>Algoritmo</th>\n",
       "      <th>Tempo de Execução (s)</th>\n",
       "      <th>Taxa de Acerto (%)</th>\n",
       "    </tr>\n",
       "  </thead>\n",
       "  <tbody>\n",
       "    <tr>\n",
       "      <th>0</th>\n",
       "      <td>Busca Aleatória</td>\n",
       "      <td>0.000227</td>\n",
       "      <td>0.009412</td>\n",
       "    </tr>\n",
       "    <tr>\n",
       "      <th>1</th>\n",
       "      <td>Busca em Grade</td>\n",
       "      <td>1.126597</td>\n",
       "      <td>1.000000</td>\n",
       "    </tr>\n",
       "    <tr>\n",
       "      <th>2</th>\n",
       "      <td>Algoritmo Genético</td>\n",
       "      <td>0.005913</td>\n",
       "      <td>0.190000</td>\n",
       "    </tr>\n",
       "  </tbody>\n",
       "</table>\n",
       "</div>"
      ],
      "text/plain": [
       "            Algoritmo  Tempo de Execução (s)  Taxa de Acerto (%)\n",
       "0     Busca Aleatória               0.000227            0.009412\n",
       "1      Busca em Grade               1.126597            1.000000\n",
       "2  Algoritmo Genético               0.005913            0.190000"
      ]
     },
     "execution_count": 164,
     "metadata": {},
     "output_type": "execute_result"
    }
   ],
   "source": [
    "data = {\n",
    "    'Algoritmo': ['Busca Aleatória', 'Busca em Grade', 'Algoritmo Genético'],\n",
    "    'Tempo de Execução (s)': [tempo_execucao_ba, tempo_execucao_bg, tempo_execucao_ga],\n",
    "    'Taxa de Acerto (%)': [taxa_acerto_ba, taxa_acerto_bg, taxa_acerto_ga]\n",
    "}\n",
    "\n",
    "# Criar o DataFrame\n",
    "df = pd.DataFrame(data)\n",
    "\n",
    "# Exibir o DataFrame\n",
    "df"
   ]
  },
  {
   "cell_type": "markdown",
   "id": "3eff011c-713d-4f11-b933-d940d6ee5f02",
   "metadata": {},
   "source": [
    "### 5. Resultados"
   ]
  },
  {
   "cell_type": "markdown",
   "id": "93b15c3c-36a0-4841-a0f6-092021786e36",
   "metadata": {},
   "source": [
    "Sabemos que a análise de performance de um algoritmo não é dada apenas por sua capacidade de se encontrar a melhor resposta para o problema, mas também seu custo computacional. Em nosso caso, consideramos como parâmetro para o custo computacional o tempo de execução de cada algoritimo. Em nossa etapa inicial da análise, consideramos apenas os \"acertos\" dos algoritimos, e nessa fase, o algorimo de Busca em grade se sai claramente melhor que seus adversários, pois, em todas as possibilidades propostas, o mesmo sempre encontrou a melhor resposta. (Novamente) essa característica deve-se a sua natureza determinística, exaustivamente testando todas as possibilidades com o intuito de encontrar a melhor. Em segundo lugar, o algoritmo genético e em último a busca aleatória. Porém, se passarmos a considerar o custo computacional que cada um demanda em sua execução, a busca em grade perde em comparação com seus adversários, sendo a busca aleatória o algoritmo com o menor tempo de execução e o algoritmo genético em segundo. Se elencarmos os algoritmos com base nesses dois parâmetros:\n",
    "\n",
    "</h4> Taxa de acerto\n",
    "<ol>\n",
    "    <li> Busca em Grade </li>\n",
    "    <li> Algoritmo Genético </li>\n",
    "    <li> Busca aleatória </li>\n",
    "</ol>\n",
    "    \n",
    "</h4> Tempo de execução\n",
    "<ol>\n",
    "    <li>Busca aleatória</li>\n",
    "    <li>Algoritmo Genético</li>\n",
    "    <li>Busca em Grade</li>\n",
    "</ol>\n",
    "\n",
    "Percebemos com isso que não necessariamente o código com a melhor taxa de acertos será o mais eficiente quanto ao custo computacional envolvivo (e vice-versa). Por exemplo, a vantagem que a busca em grade nos dá ao termos certeza de que sempre obteremos a melhor resposta possível é mitigada pelo fato de que a mesma exige alto custo computacional. Em nossa análise, Concluimos que o algoritmo genético manteve-se sempre na média entre os outros dois algoritmos testados, não demandando tanto tempo de execução e entregando uma taxa de acertos consideravelmente boa."
   ]
  },
  {
   "cell_type": "markdown",
   "id": "9060eabc-abe2-4571-af14-de93b75fc54b",
   "metadata": {},
   "source": [
    "### 5. Referências"
   ]
  },
  {
   "cell_type": "markdown",
   "id": "6e783490-2d1a-4ef9-bad4-ff1a52d90ca4",
   "metadata": {},
   "source": [
    "[1] statistics — Mathematical statistics functions. Disponível em: <https://docs.python.org/3/library/statistics.html#statistics.mean>. <br>\n",
    "[2] Cassar, D. R. ATP-303 GA 1.3 - Notebook busca aleatória.ipynb <br>\n",
    "[3] Cassar, D. R. ATP-303 GA 1.5 - Notebook busca em grade.ipynb <br>\n",
    "[4] Cassar, D. R. ATP-303 GA 2.3 - Notebook algoritmo genético.ipynb <br>\n",
    "[5] timeit — Measure execution time of small code snippets — Python 3.9.0 documentation. Disponível em: <https://docs.python.org/3/library/timeit.html>.\n",
    "\n",
    "‌\n",
    "\n"
   ]
  }
 ],
 "metadata": {
  "kernelspec": {
   "display_name": "ilumpy",
   "language": "python",
   "name": "ilumpy"
  },
  "language_info": {
   "codemirror_mode": {
    "name": "ipython",
    "version": 3
   },
   "file_extension": ".py",
   "mimetype": "text/x-python",
   "name": "python",
   "nbconvert_exporter": "python",
   "pygments_lexer": "ipython3",
   "version": "3.10.8"
  }
 },
 "nbformat": 4,
 "nbformat_minor": 5
}
