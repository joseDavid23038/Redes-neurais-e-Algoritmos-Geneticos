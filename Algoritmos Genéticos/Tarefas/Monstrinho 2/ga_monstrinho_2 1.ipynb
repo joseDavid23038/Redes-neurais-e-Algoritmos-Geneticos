{
 "cells": [
  {
   "cell_type": "markdown",
   "metadata": {},
   "source": [
    "<h2><b><p style=\"text-align: center;\">Algoritmos Genéticos, Monstrinho 2: A Senha de Tamanho Variável</p></b></h2>\n",
    "\n",
    "<h4>\n",
    "<b>Doscente:</b> Daniel Roberto Cassar<br>\n",
    "<b>Disciplina:</b> Redes Neurais e Algoritmos Genéticos<br>\n",
    "<b>Discentes:</b> Diogo Carvalho, José David e Mayllon Emmanoel</h4> \n",
    "\n",
    "## Introdução \n",
    "\n",
    "<div style=\"text-align: justify;\">\n",
    "    <p>Este caderno consiste na resolução do monstrinho 2 de algoritmos genéticos, tratando-se na resolução do problema da senha sem fornecer a informação do tamanho da senha para a função que gera a população, podendo a senha ser qualquer string de 1 até 30 caracteres. Para isso, todo o código utilizado se baseou no elaborado pelo professor Daniel Roberto Cassar, sendo realizado algumas mudanças necessárias para que seja utilizada em uma senha de tamanho variável <sup>[1]</sup>. Nesse sentido, deve-se notar que as funções da resolução deste mostrinho encontram-se no arquivo <code>funcoes.py</code>.</p> \n",
    "    <p> Em relação à criação da população inicial, as funções de <code>cria_candidato_senha()</code> e de <code>populacao_senha()</code> foram modificadas, recebendo os números mínimo e máximo do tamanho que a senha possa ter, sendo o tamanho de cada índividuo definido de forma aleatório dentro desses números. Ademais, a função <code>funcao_objetivo_senha()</code> sofreu alteração na forma que se determina a pontuação de um indivíduo, sendo a soma de <code>distancia</code> com o quadrado da diferença dos tamanhos entre a senha e o candidato.</p> \n",
    "    <p> Para a etapa de seleção, utilizou a seleção por torneios por menor <i>fitness</i>, função já criada pelo professor Daniel Cassar sem alteração alguma no código <sup>[1]</sup>. Para a etapa de mutação, utilizou-se as funções de <code>mutacao_salto()</code> e <code>mutacao_simples_valor()</code>, também criados pelo professor sem alteração algumas; porém havendo ainda a criação e a adição da função <code>mutacao_simples_tamanho()</code>, o qual permite a adição ou remoção de um gene de cada candidato <sup>[1]</sup>.</p>\n",
    "    <p> O algotimo foi então testado para strings de diferentes tamanhos, com 1, 5, 10, 20 e 30 caracteres.</p>\n",
    "</div>\n",
    "\n",
    "### Bibliotecas Utilizadas e Constantes Universais"
   ]
  },
  {
   "cell_type": "code",
   "execution_count": 59,
   "metadata": {},
   "outputs": [],
   "source": [
    "import random\n",
    "from string import ascii_lowercase, ascii_uppercase, digits\n",
    "from functools import partial\n",
    "\n",
    "from funcoes import populacao_senha as cria_populacao\n",
    "from funcoes import funcao_objetivo_pop_senha as funcao_objetivo\n",
    "from funcoes import selecao_torneio_min as funcao_selecao\n",
    "from funcoes import cruzamento_ponto_simples_variavel as funcao_cruzamento\n",
    "from funcoes import mutacao_salto as funcao_mutacao1\n",
    "from funcoes import mutacao_simples_valor as funcao_mutacao2\n",
    "from funcoes import mutacao_simples_tamanho as funcao_mutacao_simples_tamanho"
   ]
  },
  {
   "cell_type": "code",
   "execution_count": 60,
   "metadata": {},
   "outputs": [],
   "source": [
    "TAMANHAO_MIN_SENHA = 1\n",
    "TAMANHAO_MAX_SENHA = 30\n",
    "CARACTERES_POSSIVEIS = ascii_lowercase + ascii_uppercase + digits\n",
    "\n",
    "TAMANHO_POPULACAO = 100\n",
    "CHANCE_DE_CRUZAMENTO = 0.5\n",
    "CHANCE_DE_MUTACAO = 0.025\n",
    "TAMANHO_TORNEIO = 5\n",
    "\n",
    "funcao_mutacao3 = partial(funcao_mutacao_simples_tamanho, tamanho_min_senha=TAMANHAO_MIN_SENHA, tamanho_max_senha=TAMANHAO_MAX_SENHA)"
   ]
  },
  {
   "cell_type": "code",
   "execution_count": 61,
   "metadata": {},
   "outputs": [
    {
     "name": "stdout",
     "output_type": "stream",
     "text": [
      "Os caracteres possíveis são: abcdefghijklmnopqrstuvwxyzABCDEFGHIJKLMNOPQRSTUVWXYZ0123456789, o que são 62 caracteres possíveis.\n"
     ]
    }
   ],
   "source": [
    "print(f'Os caracteres possíveis são: {CARACTERES_POSSIVEIS}, o que são {len(CARACTERES_POSSIVEIS)} caracteres possíveis.')"
   ]
  },
  {
   "cell_type": "markdown",
   "metadata": {},
   "source": [
    "### Senha com 1 carácter: <i>7</i>"
   ]
  },
  {
   "cell_type": "code",
   "execution_count": 62,
   "metadata": {},
   "outputs": [],
   "source": [
    "SENHA = list('7')"
   ]
  },
  {
   "cell_type": "code",
   "execution_count": 63,
   "metadata": {
    "tags": []
   },
   "outputs": [],
   "source": [
    "populacao = cria_populacao(TAMANHO_POPULACAO, TAMANHAO_MIN_SENHA, TAMANHAO_MAX_SENHA, CARACTERES_POSSIVEIS)"
   ]
  },
  {
   "cell_type": "code",
   "execution_count": 64,
   "metadata": {},
   "outputs": [
    {
     "name": "stdout",
     "output_type": "stream",
     "text": [
      "1 3V\n",
      "2 6\n",
      "6 7\n"
     ]
    }
   ],
   "source": [
    "menor_fitness_geral = float(\"inf\")\n",
    "geracao = 0\n",
    "\n",
    "while menor_fitness_geral != 0:\n",
    "    \n",
    "    # Seleção\n",
    "    fitness = funcao_objetivo(populacao, SENHA)        \n",
    "    selecionados = funcao_selecao(populacao, fitness, TAMANHO_TORNEIO)\n",
    "    \n",
    "    # Cruzamento\n",
    "    proxima_geracao = []\n",
    "    for pai, mae in zip(selecionados[::2], selecionados[1::2]):\n",
    "        individuo1, individuo2 = funcao_cruzamento(pai, mae, CHANCE_DE_CRUZAMENTO)\n",
    "        proxima_geracao.append(individuo1)\n",
    "        proxima_geracao.append(individuo2)\n",
    "    \n",
    "    # Mutação\n",
    "    funcao_mutacao1(proxima_geracao, CHANCE_DE_MUTACAO, list(CARACTERES_POSSIVEIS))\n",
    "    funcao_mutacao2(proxima_geracao, CHANCE_DE_MUTACAO, list(CARACTERES_POSSIVEIS))\n",
    "    funcao_mutacao3(proxima_geracao, CHANCE_DE_MUTACAO, list(CARACTERES_POSSIVEIS))\n",
    "    \n",
    "    # Encerramento\n",
    "    populacao = proxima_geracao\n",
    "    geracao += 1\n",
    "    \n",
    "    fitness = funcao_objetivo(populacao, SENHA)\n",
    "    menor_fitness_observado = min(fitness)\n",
    "    \n",
    "    if menor_fitness_observado < menor_fitness_geral:\n",
    "        menor_fitness_geral = menor_fitness_observado\n",
    "        indice = fitness.index(menor_fitness_observado)\n",
    "        candidato = populacao[indice]\n",
    "        print(geracao, \"\".join(candidato))"
   ]
  },
  {
   "cell_type": "markdown",
   "metadata": {},
   "source": [
    "### Senha com 10 caracteres: <i>CNPq1</i>"
   ]
  },
  {
   "cell_type": "code",
   "execution_count": 65,
   "metadata": {},
   "outputs": [],
   "source": [
    "SENHA = list('CNPq1')"
   ]
  },
  {
   "cell_type": "code",
   "execution_count": 66,
   "metadata": {
    "tags": []
   },
   "outputs": [],
   "source": [
    "populacao = cria_populacao(TAMANHO_POPULACAO, TAMANHAO_MIN_SENHA, TAMANHAO_MAX_SENHA, CARACTERES_POSSIVEIS)"
   ]
  },
  {
   "cell_type": "code",
   "execution_count": 67,
   "metadata": {},
   "outputs": [
    {
     "name": "stdout",
     "output_type": "stream",
     "text": [
      "1 KK\n",
      "2 DVD\n",
      "4 DKD\n",
      "5 DOX\n",
      "8 DOW\n",
      "11 DNW\n",
      "14 DNWm\n",
      "15 DNWr\n",
      "17 CNWr\n",
      "19 CNWq\n",
      "22 CNVq\n",
      "26 CNUq\n",
      "34 CNTq\n",
      "39 CNOq\n",
      "45 CNPq\n",
      "85 CNPq1\n"
     ]
    }
   ],
   "source": [
    "menor_fitness_geral = float(\"inf\")\n",
    "geracao = 0\n",
    "\n",
    "while menor_fitness_geral != 0:\n",
    "    \n",
    "    # Seleção\n",
    "    fitness = funcao_objetivo(populacao, SENHA)        \n",
    "    selecionados = funcao_selecao(populacao, fitness, TAMANHO_TORNEIO)\n",
    "    \n",
    "    # Cruzamento\n",
    "    proxima_geracao = []\n",
    "    for pai, mae in zip(selecionados[::2], selecionados[1::2]):\n",
    "        individuo1, individuo2 = funcao_cruzamento(pai, mae, CHANCE_DE_CRUZAMENTO)\n",
    "        proxima_geracao.append(individuo1)\n",
    "        proxima_geracao.append(individuo2)\n",
    "    \n",
    "    # Mutação\n",
    "    funcao_mutacao1(proxima_geracao, CHANCE_DE_MUTACAO, list(CARACTERES_POSSIVEIS))\n",
    "    funcao_mutacao2(proxima_geracao, CHANCE_DE_MUTACAO, list(CARACTERES_POSSIVEIS))\n",
    "    funcao_mutacao3(proxima_geracao, CHANCE_DE_MUTACAO, list(CARACTERES_POSSIVEIS))\n",
    "    \n",
    "    # Encerramento\n",
    "    populacao = proxima_geracao\n",
    "    geracao += 1\n",
    "    \n",
    "    fitness = funcao_objetivo(populacao, SENHA)\n",
    "    menor_fitness_observado = min(fitness)\n",
    "    \n",
    "    if menor_fitness_observado < menor_fitness_geral:\n",
    "        menor_fitness_geral = menor_fitness_observado\n",
    "        indice = fitness.index(menor_fitness_observado)\n",
    "        candidato = populacao[indice]\n",
    "        print(geracao, \"\".join(candidato))"
   ]
  },
  {
   "cell_type": "markdown",
   "metadata": {},
   "source": [
    "### Senha com 10 caracteres: <i>Senha12345</i>"
   ]
  },
  {
   "cell_type": "code",
   "execution_count": 68,
   "metadata": {},
   "outputs": [],
   "source": [
    "SENHA = list('Senha12345')"
   ]
  },
  {
   "cell_type": "code",
   "execution_count": 69,
   "metadata": {
    "tags": []
   },
   "outputs": [],
   "source": [
    "populacao = cria_populacao(TAMANHO_POPULACAO, TAMANHAO_MIN_SENHA, TAMANHAO_MAX_SENHA, CARACTERES_POSSIVEIS)"
   ]
  },
  {
   "cell_type": "code",
   "execution_count": 70,
   "metadata": {},
   "outputs": [
    {
     "name": "stdout",
     "output_type": "stream",
     "text": [
      "1 Cpsgf3PG\n",
      "2 mpsgf3AG\n",
      "3 Ppsgf3AG\n",
      "4 Gcsgf3AE6\n",
      "5 Pcsgf3AG\n",
      "6 Pcsgf3AE6\n",
      "8 Pcrgf3AE6\n",
      "10 Ucrgf3AE6\n",
      "14 Ucrge3AE6\n",
      "15 Ucrhe3AE6\n",
      "16 Pcrgf1A96\n",
      "17 Ucrgf1A96\n",
      "18 Ucrge1A96\n",
      "19 Qdrge1A96\n",
      "22 Qdrge1A86\n",
      "24 Qdrgd1A86\n",
      "26 Tdrgd1A86\n",
      "27 Tdrgd1A85\n",
      "30 Tdrgd1A75\n",
      "31 Tergd1A75\n",
      "33 Tdrgd1285\n",
      "34 Tergd1285\n",
      "36 Tergd1275\n",
      "38 Sergd1275\n",
      "41 Sergc1275\n",
      "42 Sergc1274\n",
      "48 Serhc1274\n",
      "51 Serhc1264\n",
      "54 Serhc1254\n",
      "57 Serhc1244\n",
      "59 Seqhb1254\n",
      "60 Seqhb1244\n",
      "68 Seqhb1234\n",
      "72 Seqha1234\n",
      "76 Semha1234\n",
      "81 Senha1234\n",
      "89 Senha12345\n"
     ]
    }
   ],
   "source": [
    "menor_fitness_geral = float(\"inf\")\n",
    "geracao = 0\n",
    "\n",
    "while menor_fitness_geral != 0:\n",
    "    \n",
    "    # Seleção\n",
    "    fitness = funcao_objetivo(populacao, SENHA)        \n",
    "    selecionados = funcao_selecao(populacao, fitness, TAMANHO_TORNEIO)\n",
    "    \n",
    "    # Cruzamento\n",
    "    proxima_geracao = []\n",
    "    for pai, mae in zip(selecionados[::2], selecionados[1::2]):\n",
    "        individuo1, individuo2 = funcao_cruzamento(pai, mae, CHANCE_DE_CRUZAMENTO)\n",
    "        proxima_geracao.append(individuo1)\n",
    "        proxima_geracao.append(individuo2)\n",
    "    \n",
    "    # Mutação\n",
    "    funcao_mutacao1(proxima_geracao, CHANCE_DE_MUTACAO, list(CARACTERES_POSSIVEIS))\n",
    "    funcao_mutacao2(proxima_geracao, CHANCE_DE_MUTACAO, list(CARACTERES_POSSIVEIS))\n",
    "    funcao_mutacao3(proxima_geracao, CHANCE_DE_MUTACAO, list(CARACTERES_POSSIVEIS))\n",
    "    \n",
    "    # Encerramento\n",
    "    populacao = proxima_geracao\n",
    "    geracao += 1\n",
    "    \n",
    "    fitness = funcao_objetivo(populacao, SENHA)\n",
    "    menor_fitness_observado = min(fitness)\n",
    "    \n",
    "    if menor_fitness_observado < menor_fitness_geral:\n",
    "        menor_fitness_geral = menor_fitness_observado\n",
    "        indice = fitness.index(menor_fitness_observado)\n",
    "        candidato = populacao[indice]\n",
    "        print(geracao, \"\".join(candidato))"
   ]
  },
  {
   "cell_type": "markdown",
   "metadata": {},
   "source": [
    "### Senha com 20 caracteres: <i>TorresmoPururuca2005</i>"
   ]
  },
  {
   "cell_type": "code",
   "execution_count": 71,
   "metadata": {},
   "outputs": [],
   "source": [
    "SENHA = list('TorresmoPururuca2005')"
   ]
  },
  {
   "cell_type": "code",
   "execution_count": 72,
   "metadata": {
    "tags": []
   },
   "outputs": [],
   "source": [
    "populacao = cria_populacao(TAMANHO_POPULACAO, TAMANHAO_MIN_SENHA, TAMANHAO_MAX_SENHA, CARACTERES_POSSIVEIS)"
   ]
  },
  {
   "cell_type": "code",
   "execution_count": 73,
   "metadata": {},
   "outputs": [
    {
     "name": "stdout",
     "output_type": "stream",
     "text": [
      "1 aboYnqtmjhwtyEYx\n",
      "2 fwoibnGo7oJwcWru1\n",
      "3 fwoibqtmjhwtyEYx\n",
      "4 fwoibqtmjhwtyhXQP\n",
      "5 fwoibqtmjhwtiopn7\n",
      "6 fwoibqtmjhwtiopn1\n",
      "7 Wwoibqtmjhwtiopn7\n",
      "8 WwoibqtmHhwtiopn1\n",
      "10 WwoibqtmShwtiopn1\n",
      "11 WwoibqtmHhwtiopn74\n",
      "12 WwoibqtmHhwtiopn14\n",
      "13 WwoibqtmShvtiopn74\n",
      "14 WwoibqtmShvtiopn14\n",
      "16 VwoibqtmShvtiopn14\n",
      "20 VwoibqtmSnvtiopn14\n",
      "21 VwoibrtmSnvtiopn14\n",
      "22 VwoxbrtmSnvtiopn14\n",
      "24 VwoxbrtmSnvtioon14\n",
      "25 UwoxbrtmSnvtioon14\n",
      "28 UwoxbrtmSnvuioon14\n",
      "30 VwpxbrtmSnvtioon10\n",
      "31 UwpxbrtmSnvtwoon14\n",
      "32 UwpxbrtmSnvuioon10\n",
      "34 UwpxbrtmSnvtwoon10\n",
      "35 UwpxbrtmSoutwoon10\n",
      "36 UwpxbrtmStvtwoon10\n",
      "37 UwpxbrnmSoutwoon10\n",
      "38 UwpxbrtmStvtwoon100\n",
      "40 UwpxbrnmStvtwoon100\n",
      "41 UwpxbrnmStvtwonn100\n",
      "43 UwpxbrnmStutwonn100\n",
      "45 UwpxbrnnStutwonn100\n",
      "47 UvpxbrmnRtvtwoon100\n",
      "48 UvpxcrmnRtvtwonn100\n",
      "50 UvpxcrmnRtutwonn100\n",
      "52 UvpxcrmnRtutwpnn100\n",
      "54 UvpncrmnRtutwpnn100\n",
      "55 UvpxcrmnRtutwogn100\n",
      "56 UvpncrmnRtutwogn100\n",
      "57 TvpncrmnRtutwogn100\n",
      "58 TupncrmnRtutwogn100\n",
      "59 TupncrmnRtutvogn100\n",
      "62 TupncsmnRtutvogn100\n",
      "64 TupncsmnRtutvogn200\n",
      "65 TupncsmoRtutvogn200\n",
      "68 TtpndsmnRuutvogn200\n",
      "70 TtpndsmnRuutvogn2005\n",
      "71 TtpndsmnRuuuvogn2005\n",
      "73 TtpndsmoRtttvogW2005\n",
      "75 TtpndsmoRttuvogW2005\n",
      "77 TtpndsmoRutuvogW2005\n",
      "85 TtpndsmoRutuvofW2005\n",
      "87 TtpnesmoRutuvofW2005\n",
      "91 TtpnesmoRutuvofc2005\n",
      "94 TspnesmoRutuvofc2005\n",
      "97 TspoesmoRutuvofc2005\n",
      "100 TspnesmoRutuvufc2005\n",
      "101 TspoesmoRutuvufc2005\n",
      "103 TspoesmoRutuvuec2005\n",
      "105 TsppesmoRutuvuec2005\n",
      "107 TrpoesmoQutuvuec2005\n",
      "109 TsqpesmoQutuvuec2005\n",
      "113 TrqpesmoQutuvuec2005\n",
      "118 TrqpesmoPutuvuec2005\n",
      "121 TrqpesmoPutuvubc2005\n",
      "123 TrqqesmoPusuvuec2005\n",
      "125 TrqqesmoPusuvubc2005\n",
      "126 TrqqesmoPusuuubc2005\n",
      "129 TrrqesmoPusuuubc2005\n",
      "134 TqqqesmoPusuuucc2005\n",
      "142 TqqqesmoPusutucc2005\n",
      "146 TpqqesmoPusutucc2005\n",
      "150 TprqesmoPusutucc2005\n",
      "155 TprqesmoPurutucc2005\n",
      "157 TprqesmoPurutucb2005\n",
      "159 TorqesmoPurutucb2005\n",
      "162 TorqesmoPurutuca2005\n",
      "179 TorresmoPurutuca2005\n",
      "182 TorresmoPurusuca2005\n",
      "195 TorresmoPururuca2005\n"
     ]
    }
   ],
   "source": [
    "menor_fitness_geral = float(\"inf\")\n",
    "geracao = 0\n",
    "\n",
    "while menor_fitness_geral != 0:\n",
    "    \n",
    "    # Seleção\n",
    "    fitness = funcao_objetivo(populacao, SENHA)        \n",
    "    selecionados = funcao_selecao(populacao, fitness, TAMANHO_TORNEIO)\n",
    "    \n",
    "    # Cruzamento\n",
    "    proxima_geracao = []\n",
    "    for pai, mae in zip(selecionados[::2], selecionados[1::2]):\n",
    "        individuo1, individuo2 = funcao_cruzamento(pai, mae, CHANCE_DE_CRUZAMENTO)\n",
    "        proxima_geracao.append(individuo1)\n",
    "        proxima_geracao.append(individuo2)\n",
    "    \n",
    "    # Mutação\n",
    "    funcao_mutacao1(proxima_geracao, CHANCE_DE_MUTACAO, list(CARACTERES_POSSIVEIS))\n",
    "    funcao_mutacao2(proxima_geracao, CHANCE_DE_MUTACAO, list(CARACTERES_POSSIVEIS))\n",
    "    funcao_mutacao3(proxima_geracao, CHANCE_DE_MUTACAO, list(CARACTERES_POSSIVEIS))\n",
    "    \n",
    "    # Encerramento\n",
    "    populacao = proxima_geracao\n",
    "    geracao += 1\n",
    "    \n",
    "    fitness = funcao_objetivo(populacao, SENHA)\n",
    "    menor_fitness_observado = min(fitness)\n",
    "    \n",
    "    if menor_fitness_observado < menor_fitness_geral:\n",
    "        menor_fitness_geral = menor_fitness_observado\n",
    "        indice = fitness.index(menor_fitness_observado)\n",
    "        candidato = populacao[indice]\n",
    "        print(geracao, \"\".join(candidato))"
   ]
  },
  {
   "cell_type": "markdown",
   "metadata": {},
   "source": [
    "### Senha com 30 caracteres: <i>xXUn1c0rnL0v3sP1zzaAndCh33s3Xx</i>"
   ]
  },
  {
   "cell_type": "code",
   "execution_count": 74,
   "metadata": {},
   "outputs": [],
   "source": [
    "SENHA = list('xXUn1c0rnL0v3sP1zzaAndCh33s3Xx')"
   ]
  },
  {
   "cell_type": "code",
   "execution_count": 75,
   "metadata": {
    "tags": []
   },
   "outputs": [],
   "source": [
    "populacao = cria_populacao(TAMANHO_POPULACAO, TAMANHAO_MIN_SENHA, TAMANHAO_MAX_SENHA, CARACTERES_POSSIVEIS)"
   ]
  },
  {
   "cell_type": "code",
   "execution_count": 76,
   "metadata": {},
   "outputs": [
    {
     "name": "stdout",
     "output_type": "stream",
     "text": [
      "1 XQ9xJgBxC3G90F2LIwWDl5maLK\n",
      "2 eu0g3P5xvl2v3qVm6rCTJ7RoVF\n",
      "4 m77xDD5xvl2v3qVOo3dCeaUyZpq\n",
      "5 XQ9xJgBxvP7rHJwAxgvKYKeS8Nq\n",
      "6 eu0g3P5xvl2v3qCAxgvKYKeS8Nq\n",
      "7 XQ9g3P5xvl2v3qCAxhvKYKeS8Nq\n",
      "8 m77xDD5xvl2v3qi2kidCeaUoVFo\n",
      "9 vCGY3gbsvl2v3qV2oldCeaRoVFo\n",
      "10 zpXqGgbjdl2v3qV2kidCeaUy8Nq\n",
      "11 vCGY3P5xvl2v3qV2oldCeaRoVGo\n",
      "12 vCGY3P5svl2v3qV2oldCeaUy8Nq\n",
      "14 zpXq3P5xvl2v3qV2okdCeaRoVGo\n",
      "15 vCGY3P5svL2v3qV2oldCeaUy8Nq\n",
      "16 zpXq3P5svl2v3pV2okdCeaUy8Nq8\n",
      "17 zpXq3P5svL2v3qV2oldCeaUy8Nq\n",
      "18 zpXq3P5svL2v3pV2okdCeaUy8Nq8\n",
      "19 zpXq3P5svL2v3qV2okdCeaUy8Nq8Y\n",
      "20 zpXq3P5svL2v3qV2oldCeaRo8Nq8Y\n",
      "22 zQXq3P5svL2v3qV2oldCegUy8Nq8Y\n",
      "23 zQXq3P5svL2v3qV2oldCeaRo8Nq8Y\n",
      "25 zQXq3P4svL2v3qV2oldCeaRo8Nq8Y\n",
      "26 zQXq3P4svL2v3qV2oldCeaRo8Mq8Y\n",
      "28 zQXq3f4svL2v3qV2oldCeaRo8Nq8Y\n",
      "29 zQXq3f4svL2v3qV2oldCeaRo8Mq8Y\n",
      "30 zQXq3f4svL2v3qV2oldCeaRn8Mq8Y\n",
      "32 zQXq3f4svL2v3qU2oldCeaRn8Mq8Y\n",
      "34 zYXq3f4svL2v3rV2oldCeaRo8Mq8Y\n",
      "35 zYXq3f4svL2v3rV2oldCeaRn8Mq8Y\n",
      "36 zYXq3f4suL2v3qU2oldCeaRn8Mq8Y\n",
      "37 zYXm3f4suL2v3qV2oldCeaRn8Mq8Y\n",
      "38 zYXq3f4svL1v3rV2vldCeaRo8Mq8Y\n",
      "39 zYXq3f4suL1v3rV2vldCeaRo8Mq8Y\n",
      "40 zYXm3f4suL2v3qU2vldCeaRo8Mq8Y\n",
      "41 zYXm3f4suL2v3rV2vldCeaRn8Mq8Y\n",
      "42 zYXm3f4suL1v3rV2vldCeaRn8Mq8Y\n",
      "43 zYXm3f4suL2v3rV2vldCebRm8Mq8Y\n",
      "44 zYXm3f4suL1v3rV2vlcCebRm8Mq8Y\n",
      "46 zYXm3e4suL1v3rU2vldCebRm8Mq8Y\n",
      "47 zYXm3e4suL1v3rV2vmdCebRm8Mr8Y\n",
      "48 zXXm3e4suL1v3rV2vldCebRm81r8Y\n",
      "51 zXXm3e4ruL1v3rV2vldCebRm81r8Y\n",
      "52 yXXm3e4suL1v3rU2vldCebRm81r8Y\n",
      "54 yXXm3e4suL1v3rU2vldCebRe81r8Y\n",
      "56 yXXm3e3svL1v3rP2vldCebRe81r8Y\n",
      "57 yXXm3e3svL1v3rP2vldCfbRe81r8Y\n",
      "58 yXXm3d3svL1v3rP2vldCfbRe81r8Y\n",
      "60 yXXm3d3svL1v3rP2vldCfbQe81r8Y\n",
      "62 yXXm3d3svL1v3rP2vldBfbQe81r8Y\n",
      "64 yXWm3d3svL1v3rP2vldBfbQe81r8Y\n",
      "66 yXXm2c3svL1v3rP2vldBfbQe81r8Y\n",
      "68 yXXm2c3svL1v3rP2wldBfbQe81r8Y\n",
      "69 yXWm3c3svL1v3rP2xldBfbQe81r8Y\n",
      "71 yXWm2c3svL1v3rP2xldBfbQe81r8Y\n",
      "73 yXWm2c3svL1v3rP1xldBfbQe81r8Y\n",
      "77 yXWm1c3svL1v3rP1xldBfbQe81r8Y\n",
      "78 yXWm2c3svL1v3rP1xldBfbQe81r2Y\n",
      "79 yXWm1c3svL1v3rP1xldBfbQe81r2Y\n",
      "81 yXWn2c3svL1v3rP1xldBfbQf81r2Y\n",
      "84 yXWn1c3svL1v3rP1xldBfbQf81r2Y\n",
      "87 yXWn1c3svL1v3rP1yldBfbQf81r2Y\n",
      "90 yXWn1c3svL1v3rP1xmdBfbQf81r2X\n",
      "91 yXWn1c3svL1v3rP1yldBfbQf81r3X\n",
      "93 yXWn1c3svL1v3rP1xqdBfbQf81r2X\n",
      "94 yXWn1c3svL1v3rP1xqdBfbQf81r3X\n",
      "96 yXWn1c3svL1v3rP1xqdBtbQf81r2X\n",
      "98 yXWn1c3svL1v3rP1xqdBtbQf81r3X\n",
      "100 yXWn1c3svL1v3rP1yqdBtbQf81r3X\n",
      "102 yXVn1c3svL1v3rP1yqdBtbQf81r3X\n",
      "103 yXVn1c3svL1v3rP1yqdBtbQf81r3Xx\n",
      "104 yXVn1c3svL1v3rP1zqdBtbQf81r3Xx\n",
      "105 yXVn1c3svL1v3rP1zqdAtbQf81r3Xx\n",
      "109 yXVn1c3svL1v3rP1zqdBtbBf81s3Xx\n",
      "112 yXVn1c3svL1v3rP1zydBtbBf81s3Xx\n",
      "115 yXVn1c2svL1v3rP1zydBtbBf81s3Xx\n",
      "118 yXVn1c2svL0v3rP1zydBtbBf81s3Xx\n",
      "123 yXVn1c2suL0v3rP1zydBtbBf81s3Xx\n",
      "124 yXVn1c2svL0v3rP1zydBlbBf81s3Xx\n",
      "127 yXVn1c2suL0v3rP1zzdBlbBf81s3Xx\n",
      "130 yXUn1c2suL0v3rP1zzdBlbBf81s3Xx\n",
      "132 yXUn1c2suL0v3rP1zzdBlbBf71s3Xx\n",
      "134 yXUn1c2suL0v3rP1zzdBmbBf71s3Xx\n",
      "136 yXUn1c2slL0v3rP1zzdBmbBf71s3Xx\n",
      "138 yXUn1c2slL0v3sP1zzdBmbBf71s3Xx\n",
      "140 yXUn1c2slL0v3rP1zzcBmbCf71s3Xx\n",
      "143 xXUn1c2slL0v3rP1zzcBmbCf71s3Xx\n",
      "144 xXUn1c2slL0v3sP1zzcBmbCf71s3Xx\n",
      "150 xXUn1c2slL0v3sP1zzcBmbCf61s3Xx\n",
      "156 xXUn1c2slL0v3sP1zzcBmbCf51s3Xx\n",
      "158 xXUn1c2slL0v3sP1zzcBmbCg51s3Xx\n",
      "163 xXUn1c2slL0v3sP1zzcBnbCg51s3Xx\n",
      "169 xXUn1c2slL0v3sP1zzcBncCg51s3Xx\n",
      "172 xXUn1c2slL0v3sP1zzcAnbCh51s3Xx\n",
      "174 xXUn1c2slL0v3sP1zzbAnbCh51s3Xx\n",
      "177 xXUn1c2slL0v3sP1zzbAnbCh52s3Xx\n",
      "179 xXUn1c2slL0v3sP1zzaAnbCh52s3Xx\n",
      "184 xXUn1c2slL0v3sP1zzaAncCh52s3Xx\n",
      "192 xXUn1c2slL0v3sP1zzaAncCh42s3Xx\n",
      "194 xXUn1c2slL0v3sP1zzaAncCh43s3Xx\n",
      "196 xXUn1c2smL0v3sP1zzaAncCh43s3Xx\n",
      "200 xXUn1c2smL0v3sP1zzaAncCh33s3Xx\n",
      "214 xXUn1c2smL0v3sP1zzaAndCh33s3Xx\n",
      "216 xXUn1c2rmL0v3sP1zzaAndCh33s3Xx\n",
      "232 xXUn1c1rmL0v3sP1zzaAndCh33s3Xx\n",
      "242 xXUn1c1rnL0v3sP1zzaAndCh33s3Xx\n",
      "260 xXUn1c0rnL0v3sP1zzaAndCh33s3Xx\n"
     ]
    }
   ],
   "source": [
    "menor_fitness_geral = float(\"inf\")\n",
    "geracao = 0\n",
    "\n",
    "while menor_fitness_geral != 0:\n",
    "    \n",
    "    # Seleção\n",
    "    fitness = funcao_objetivo(populacao, SENHA)        \n",
    "    selecionados = funcao_selecao(populacao, fitness, TAMANHO_TORNEIO)\n",
    "    \n",
    "    # Cruzamento\n",
    "    proxima_geracao = []\n",
    "    for pai, mae in zip(selecionados[::2], selecionados[1::2]):\n",
    "        individuo1, individuo2 = funcao_cruzamento(pai, mae, CHANCE_DE_CRUZAMENTO)\n",
    "        proxima_geracao.append(individuo1)\n",
    "        proxima_geracao.append(individuo2)\n",
    "    \n",
    "    # Mutação\n",
    "    funcao_mutacao1(proxima_geracao, CHANCE_DE_MUTACAO, list(CARACTERES_POSSIVEIS))\n",
    "    funcao_mutacao2(proxima_geracao, CHANCE_DE_MUTACAO, list(CARACTERES_POSSIVEIS))\n",
    "    funcao_mutacao3(proxima_geracao, CHANCE_DE_MUTACAO, list(CARACTERES_POSSIVEIS))\n",
    "    \n",
    "    # Encerramento\n",
    "    populacao = proxima_geracao\n",
    "    geracao += 1\n",
    "    \n",
    "    fitness = funcao_objetivo(populacao, SENHA)\n",
    "    menor_fitness_observado = min(fitness)\n",
    "    \n",
    "    if menor_fitness_observado < menor_fitness_geral:\n",
    "        menor_fitness_geral = menor_fitness_observado\n",
    "        indice = fitness.index(menor_fitness_observado)\n",
    "        candidato = populacao[indice]\n",
    "        print(geracao, \"\".join(candidato))"
   ]
  },
  {
   "cell_type": "markdown",
   "metadata": {},
   "source": [
    "### Discussão\n",
    "\n",
    "<p style=\"text-align: justify\"> Acima, note que o algoritmo genético criado foi capaz de determinar a senha mesmo variando o tamanho dessa, de 1 a 30 caracteres. Nesse contexto, já como esperado, notou-se que à medida que maior é o tamanho da senha, normalmente mais tentativas são necessárias para determinar a senha. Nisso, sabendo que há 62 caracteres possíveis, foi necessário menos de 10 tentativas para determinar a senha com um carácter, em que há 62 possibilidades; e menos de 300 tentativas para determinar a senha de 30 caracteres, em que há mais de 5,912 ⋅ 10<sup>53</sup> combinações possíveis.\n",
    "\n",
    "## Referências\n",
    "\n",
    "[1] Cassar, D. R. ATP-202 GA 4.2 - Notebook Descobrindo a Senha."
   ]
  }
 ],
 "metadata": {
  "kernelspec": {
   "display_name": "Python 3.10.8 ('ilumpy')",
   "language": "python",
   "name": "python3"
  },
  "language_info": {
   "codemirror_mode": {
    "name": "ipython",
    "version": 3
   },
   "file_extension": ".py",
   "mimetype": "text/x-python",
   "name": "python",
   "nbconvert_exporter": "python",
   "pygments_lexer": "ipython3",
   "version": "3.10.8"
  },
  "org": null,
  "vscode": {
   "interpreter": {
    "hash": "8529d5d23f5cbf0c063605dab2c59e7e62347018e6f532e027d68294076af1e8"
   }
  }
 },
 "nbformat": 4,
 "nbformat_minor": 4
}
